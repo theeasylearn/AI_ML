{
 "cells": [
  {
   "cell_type": "markdown",
   "id": "79b75748",
   "metadata": {},
   "source": [
    "# Introduction\n",
    "\n",
    "**Pandas series**\n"
   ]
  },
  {
   "cell_type": "code",
   "execution_count": 1,
   "id": "ab4fda47",
   "metadata": {},
   "outputs": [],
   "source": [
    "import pandas as pd\n",
    "import numpy as np"
   ]
  },
  {
   "cell_type": "code",
   "execution_count": 2,
   "id": "9bcf0317",
   "metadata": {},
   "outputs": [
    {
     "data": {
      "application/vnd.microsoft.datawrangler.viewer.v0+json": {
       "columns": [
        {
         "name": "index",
         "rawType": "object",
         "type": "string"
        },
        {
         "name": "0",
         "rawType": "int64",
         "type": "integer"
        }
       ],
       "ref": "1f41199f-deab-45cd-80fc-8f19ece72d44",
       "rows": [
        [
         "a",
         "10"
        ],
        [
         "b",
         "20"
        ],
        [
         "c",
         "30"
        ],
        [
         "d",
         "40"
        ]
       ],
       "shape": {
        "columns": 1,
        "rows": 4
       }
      },
      "text/plain": [
       "a    10\n",
       "b    20\n",
       "c    30\n",
       "d    40\n",
       "dtype: int64"
      ]
     },
     "execution_count": 2,
     "metadata": {},
     "output_type": "execute_result"
    }
   ],
   "source": [
    "data = pd.Series([10, 20, 30, 40], index=['a', 'b', 'c', 'd']) \n",
    "data"
   ]
  },
  {
   "cell_type": "code",
   "execution_count": 3,
   "id": "3051b4ce",
   "metadata": {},
   "outputs": [
    {
     "name": "stdout",
     "output_type": "stream",
     "text": [
      "0    10\n",
      "1    20\n",
      "2    30\n",
      "3    40\n",
      "dtype: int64\n"
     ]
    }
   ],
   "source": [
    "data = pd.Series([10, 20, 30, 40])\n",
    "print(data)"
   ]
  },
  {
   "cell_type": "markdown",
   "id": "fd472a70",
   "metadata": {},
   "source": [
    " **list to Series Convert**"
   ]
  },
  {
   "cell_type": "code",
   "execution_count": 4,
   "id": "cc03df3a",
   "metadata": {},
   "outputs": [
    {
     "data": {
      "text/plain": [
       "['a', 'b', 'c', 'd']"
      ]
     },
     "execution_count": 4,
     "metadata": {},
     "output_type": "execute_result"
    }
   ],
   "source": [
    "l1= [10,12,32, 1.1]   # this is list\n",
    "l1\n",
    "l2 = ['a','b','c','d']\n",
    "l2"
   ]
  },
  {
   "cell_type": "code",
   "execution_count": 5,
   "id": "5392bd4c",
   "metadata": {},
   "outputs": [
    {
     "data": {
      "application/vnd.microsoft.datawrangler.viewer.v0+json": {
       "columns": [
        {
         "name": "index",
         "rawType": "object",
         "type": "string"
        },
        {
         "name": "list to series",
         "rawType": "float64",
         "type": "float"
        }
       ],
       "ref": "3a8a0753-30c8-4e47-bf75-87d9453e155b",
       "rows": [
        [
         "a",
         "10.0"
        ],
        [
         "b",
         "12.0"
        ],
        [
         "c",
         "32.0"
        ],
        [
         "d",
         "1.1"
        ]
       ],
       "shape": {
        "columns": 1,
        "rows": 4
       }
      },
      "text/plain": [
       "a    10.0\n",
       "b    12.0\n",
       "c    32.0\n",
       "d     1.1\n",
       "Name: list to series, dtype: float64"
      ]
     },
     "execution_count": 5,
     "metadata": {},
     "output_type": "execute_result"
    }
   ],
   "source": [
    "s1 = pd.Series(l1, index=l2, name='list to series')\n",
    "s1"
   ]
  },
  {
   "cell_type": "markdown",
   "id": "f6f76b83",
   "metadata": {},
   "source": [
    "**dictionary to series**"
   ]
  },
  {
   "cell_type": "code",
   "execution_count": 6,
   "id": "fd0e2fd9",
   "metadata": {},
   "outputs": [],
   "source": [
    "d1= {\n",
    "    'a':2,\n",
    "    'b':3,\n",
    "}"
   ]
  },
  {
   "cell_type": "code",
   "execution_count": 7,
   "id": "43a81099",
   "metadata": {},
   "outputs": [
    {
     "data": {
      "application/vnd.microsoft.datawrangler.viewer.v0+json": {
       "columns": [
        {
         "name": "index",
         "rawType": "object",
         "type": "string"
        },
        {
         "name": "dic to series",
         "rawType": "int64",
         "type": "integer"
        }
       ],
       "ref": "3a1dce9b-704f-43ca-a010-ea93c2bdd55d",
       "rows": [
        [
         "a",
         "2"
        ],
        [
         "b",
         "3"
        ]
       ],
       "shape": {
        "columns": 1,
        "rows": 2
       }
      },
      "text/plain": [
       "a    2\n",
       "b    3\n",
       "Name: dic to series, dtype: int64"
      ]
     },
     "execution_count": 7,
     "metadata": {},
     "output_type": "execute_result"
    }
   ],
   "source": [
    "s2 = pd.Series(d1, name= 'dic to series')\n",
    "s2"
   ]
  },
  {
   "cell_type": "code",
   "execution_count": 8,
   "id": "d11e3c12",
   "metadata": {},
   "outputs": [
    {
     "data": {
      "text/plain": [
       "'dic to series'"
      ]
     },
     "execution_count": 8,
     "metadata": {},
     "output_type": "execute_result"
    }
   ],
   "source": [
    "s2.name"
   ]
  },
  {
   "cell_type": "code",
   "execution_count": 9,
   "id": "3f136fdd",
   "metadata": {},
   "outputs": [
    {
     "data": {
      "text/plain": [
       "pandas.core.series.Series"
      ]
     },
     "execution_count": 9,
     "metadata": {},
     "output_type": "execute_result"
    }
   ],
   "source": [
    "type(s2)"
   ]
  },
  {
   "cell_type": "code",
   "execution_count": null,
   "id": "79d5e14c",
   "metadata": {},
   "outputs": [],
   "source": []
  },
  {
   "cell_type": "code",
   "execution_count": 10,
   "id": "c31760c7",
   "metadata": {},
   "outputs": [
    {
     "name": "stdout",
     "output_type": "stream",
     "text": [
      "        Rank                                              Name Platform  \\\n",
      "0          1                                        Wii Sports      Wii   \n",
      "1          2                                 Super Mario Bros.      NES   \n",
      "2          3                                    Mario Kart Wii      Wii   \n",
      "3          4                                 Wii Sports Resort      Wii   \n",
      "4          5                          Pokemon Red/Pokemon Blue       GB   \n",
      "...      ...                                               ...      ...   \n",
      "16593  16596                Woody Woodpecker in Crazy Castle 5      GBA   \n",
      "16594  16597                     Men in Black II: Alien Escape       GC   \n",
      "16595  16598  SCORE International Baja 1000: The Official Game      PS2   \n",
      "16596  16599                                        Know How 2       DS   \n",
      "16597  16600                                  Spirits & Spells      GBA   \n",
      "\n",
      "         Year         Genre   Publisher  NA_Sales  EU_Sales  JP_Sales  \\\n",
      "0      2006.0        Sports    Nintendo     41.49     29.02      3.77   \n",
      "1      1985.0      Platform    Nintendo     29.08      3.58      6.81   \n",
      "2      2008.0        Racing    Nintendo     15.85     12.88      3.79   \n",
      "3      2009.0        Sports    Nintendo     15.75     11.01      3.28   \n",
      "4      1996.0  Role-Playing    Nintendo     11.27      8.89     10.22   \n",
      "...       ...           ...         ...       ...       ...       ...   \n",
      "16593  2002.0      Platform       Kemco      0.01      0.00      0.00   \n",
      "16594  2003.0       Shooter  Infogrames      0.01      0.00      0.00   \n",
      "16595  2008.0        Racing  Activision      0.00      0.00      0.00   \n",
      "16596  2010.0        Puzzle    7G//AMES      0.00      0.01      0.00   \n",
      "16597  2003.0      Platform     Wanadoo      0.01      0.00      0.00   \n",
      "\n",
      "       Other_Sales  Global_Sales  \n",
      "0             8.46         82.74  \n",
      "1             0.77         40.24  \n",
      "2             3.31         35.82  \n",
      "3             2.96         33.00  \n",
      "4             1.00         31.37  \n",
      "...            ...           ...  \n",
      "16593         0.00          0.01  \n",
      "16594         0.00          0.01  \n",
      "16595         0.00          0.01  \n",
      "16596         0.00          0.01  \n",
      "16597         0.00          0.01  \n",
      "\n",
      "[16598 rows x 11 columns]\n"
     ]
    }
   ],
   "source": [
    "import pandas as pd\n",
    "s = pd.read_csv('../../dataset/vgsales.csv')\n",
    "print(s)"
   ]
  },
  {
   "cell_type": "code",
   "execution_count": 11,
   "id": "508e8d86",
   "metadata": {},
   "outputs": [
    {
     "data": {
      "text/plain": [
       "pandas.core.frame.DataFrame"
      ]
     },
     "execution_count": 11,
     "metadata": {},
     "output_type": "execute_result"
    }
   ],
   "source": [
    "type(s)"
   ]
  },
  {
   "cell_type": "code",
   "execution_count": 12,
   "id": "6d5bcf7c",
   "metadata": {},
   "outputs": [
    {
     "name": "stdout",
     "output_type": "stream",
     "text": [
      "                       Name Platform\n",
      "0                Wii Sports      Wii\n",
      "1         Super Mario Bros.      NES\n",
      "2            Mario Kart Wii      Wii\n",
      "3         Wii Sports Resort      Wii\n",
      "4  Pokemon Red/Pokemon Blue       GB\n"
     ]
    },
    {
     "data": {
      "text/plain": [
       "pandas.core.frame.DataFrame"
      ]
     },
     "execution_count": 12,
     "metadata": {},
     "output_type": "execute_result"
    }
   ],
   "source": [
    "s1 = pd.read_csv('../../dataset/vgsales.csv', usecols=['Name','Platform'] )\n",
    "print(s1.head())\n",
    "type(s1)"
   ]
  },
  {
   "cell_type": "code",
   "execution_count": 13,
   "id": "14cc8a45",
   "metadata": {},
   "outputs": [
    {
     "name": "stdout",
     "output_type": "stream",
     "text": [
      "                       Name\n",
      "0                Wii Sports\n",
      "1         Super Mario Bros.\n",
      "2            Mario Kart Wii\n",
      "3         Wii Sports Resort\n",
      "4  Pokemon Red/Pokemon Blue\n",
      "<class 'pandas.core.frame.DataFrame'>\n"
     ]
    }
   ],
   "source": [
    "s2 = pd.read_csv('../../dataset/vgsales.csv', usecols=['Name'])\n",
    "print(s2.head())\n",
    "print(type(s2))"
   ]
  },
  {
   "cell_type": "code",
   "execution_count": 14,
   "id": "ae8a7e31",
   "metadata": {},
   "outputs": [
    {
     "name": "stdout",
     "output_type": "stream",
     "text": [
      "0    Wii\n",
      "1    NES\n",
      "2    Wii\n",
      "3    Wii\n",
      "4     GB\n",
      "Name: Platform, dtype: object\n",
      "<class 'pandas.core.series.Series'>\n"
     ]
    }
   ],
   "source": [
    "s3 = pd.read_csv('../../dataset/vgsales.csv', usecols=['Platform']).squeeze()\n",
    "print(s3.head())\n",
    "print(type(s3))"
   ]
  },
  {
   "cell_type": "markdown",
   "id": "e7fb10cb",
   "metadata": {},
   "source": [
    "# attributes of series"
   ]
  },
  {
   "cell_type": "code",
   "execution_count": 15,
   "id": "5e7fd9c8",
   "metadata": {},
   "outputs": [
    {
     "data": {
      "text/plain": [
       "'Platform'"
      ]
     },
     "execution_count": 15,
     "metadata": {},
     "output_type": "execute_result"
    }
   ],
   "source": [
    "s3.name"
   ]
  },
  {
   "cell_type": "code",
   "execution_count": 16,
   "id": "9d093dea",
   "metadata": {},
   "outputs": [
    {
     "data": {
      "text/plain": [
       "RangeIndex(start=0, stop=16598, step=1)"
      ]
     },
     "execution_count": 16,
     "metadata": {},
     "output_type": "execute_result"
    }
   ],
   "source": [
    "s3.index"
   ]
  },
  {
   "cell_type": "code",
   "execution_count": 17,
   "id": "7a83a24d",
   "metadata": {},
   "outputs": [
    {
     "data": {
      "text/plain": [
       "array(['Wii', 'NES', 'Wii', ..., 'PS2', 'DS', 'GBA'],\n",
       "      shape=(16598,), dtype=object)"
      ]
     },
     "execution_count": 17,
     "metadata": {},
     "output_type": "execute_result"
    }
   ],
   "source": [
    "s3.values  # values of series"
   ]
  },
  {
   "cell_type": "code",
   "execution_count": 18,
   "id": "79783d75",
   "metadata": {},
   "outputs": [
    {
     "data": {
      "text/plain": [
       "array([['Wii Sports', 'Wii'],\n",
       "       ['Super Mario Bros.', 'NES'],\n",
       "       ['Mario Kart Wii', 'Wii'],\n",
       "       ...,\n",
       "       ['SCORE International Baja 1000: The Official Game', 'PS2'],\n",
       "       ['Know How 2', 'DS'],\n",
       "       ['Spirits & Spells', 'GBA']], shape=(16598, 2), dtype=object)"
      ]
     },
     "execution_count": 18,
     "metadata": {},
     "output_type": "execute_result"
    }
   ],
   "source": [
    "s1.values   # s1 is Dataframe with 2 columns"
   ]
  },
  {
   "cell_type": "code",
   "execution_count": 19,
   "id": "5fdb543b",
   "metadata": {},
   "outputs": [
    {
     "data": {
      "text/plain": [
       "array([[1, 'Wii Sports', 'Wii', ..., 3.77, 8.46, 82.74],\n",
       "       [2, 'Super Mario Bros.', 'NES', ..., 6.81, 0.77, 40.24],\n",
       "       [3, 'Mario Kart Wii', 'Wii', ..., 3.79, 3.31, 35.82],\n",
       "       ...,\n",
       "       [16598, 'SCORE International Baja 1000: The Official Game', 'PS2',\n",
       "        ..., 0.0, 0.0, 0.01],\n",
       "       [16599, 'Know How 2', 'DS', ..., 0.0, 0.0, 0.01],\n",
       "       [16600, 'Spirits & Spells', 'GBA', ..., 0.0, 0.0, 0.01]],\n",
       "      shape=(16598, 11), dtype=object)"
      ]
     },
     "execution_count": 19,
     "metadata": {},
     "output_type": "execute_result"
    }
   ],
   "source": [
    "s.values   #  s is dataframe "
   ]
  },
  {
   "cell_type": "code",
   "execution_count": 20,
   "id": "a4594bd7",
   "metadata": {},
   "outputs": [
    {
     "name": "stdout",
     "output_type": "stream",
     "text": [
      "object\n"
     ]
    }
   ],
   "source": [
    "print(s3.dtype)"
   ]
  },
  {
   "cell_type": "code",
   "execution_count": 21,
   "id": "8e469061",
   "metadata": {},
   "outputs": [
    {
     "name": "stdout",
     "output_type": "stream",
     "text": [
      "(16598,)\n",
      "1\n"
     ]
    }
   ],
   "source": [
    "print(s3.shape)  # for return the shape of series in form tuple()\n",
    "print(s3.ndim)  # for return the dimensions of series"
   ]
  },
  {
   "cell_type": "code",
   "execution_count": 22,
   "id": "d8bc4995",
   "metadata": {},
   "outputs": [
    {
     "name": "stdout",
     "output_type": "stream",
     "text": [
      "16598\n"
     ]
    }
   ],
   "source": [
    "print(s3.size) # size of series"
   ]
  },
  {
   "cell_type": "code",
   "execution_count": 23,
   "id": "8889b2fe",
   "metadata": {},
   "outputs": [
    {
     "name": "stdout",
     "output_type": "stream",
     "text": [
      "False\n",
      "True\n",
      "False\n"
     ]
    }
   ],
   "source": [
    "print(s3.is_unique)  # return false because value is repeat \n",
    "s4 = pd.Series([10, 20, 30, 40], index=['a', 'b', 'c', 'd'])\n",
    "print(s4.is_unique)     #return true because value is not repeat \n",
    "s5 = pd.Series([10, 20, 30, 30], index=['a', 'b', 'c', 'd'])\n",
    "print(s5.is_unique)  #return false because value is repeat "
   ]
  },
  {
   "cell_type": "code",
   "execution_count": null,
   "id": "d611c946",
   "metadata": {},
   "outputs": [],
   "source": []
  },
  {
   "cell_type": "code",
   "execution_count": 24,
   "id": "ee8c8e8d",
   "metadata": {},
   "outputs": [
    {
     "data": {
      "text/plain": [
       "True"
      ]
     },
     "execution_count": 24,
     "metadata": {},
     "output_type": "execute_result"
    }
   ],
   "source": [
    "s6 = pd.read_csv('../../dataset/vgsales.csv', usecols=['Rank']).squeeze()\n",
    "s6.is_unique\n"
   ]
  },
  {
   "cell_type": "code",
   "execution_count": 25,
   "id": "c9bb6721",
   "metadata": {},
   "outputs": [
    {
     "name": "stdout",
     "output_type": "stream",
     "text": [
      "False\n",
      "True\n",
      "False\n"
     ]
    }
   ],
   "source": [
    "print(s3.hasnans)  # return false because not have any null/None value \n",
    "#if data have value 0 than it is not calculate null record \n",
    "s4 = pd.Series([10, 20, 30, None], index=['a', 'b', 'c', 'd'])\n",
    "print(s4.hasnans)     #return true because data have null/none value \n",
    "s5 = pd.Series([10, 20, 30, 0], index=['a', 'b', 'c', 'd'])\n",
    "print(s5.hasnans)  #return false because not have any null/None value "
   ]
  },
  {
   "cell_type": "code",
   "execution_count": null,
   "id": "7e5b04ca",
   "metadata": {},
   "outputs": [],
   "source": []
  },
  {
   "cell_type": "markdown",
   "id": "ecbd8450",
   "metadata": {},
   "source": [
    "# method of series"
   ]
  },
  {
   "cell_type": "code",
   "execution_count": 26,
   "id": "f4eb6602",
   "metadata": {},
   "outputs": [
    {
     "data": {
      "application/vnd.microsoft.datawrangler.viewer.v0+json": {
       "columns": [
        {
         "name": "index",
         "rawType": "int64",
         "type": "integer"
        },
        {
         "name": "Platform",
         "rawType": "object",
         "type": "string"
        }
       ],
       "ref": "464a3d34-81ea-4759-bdf1-7705eb57f2c3",
       "rows": [
        [
         "6783",
         "DS"
        ],
        [
         "12592",
         "SAT"
        ],
        [
         "2085",
         "DS"
        ],
        [
         "12024",
         "PSV"
        ],
        [
         "10826",
         "GC"
        ],
        [
         "218",
         "PS3"
        ],
        [
         "5483",
         "GC"
        ],
        [
         "7234",
         "DS"
        ],
        [
         "11077",
         "PS3"
        ],
        [
         "7822",
         "GBA"
        ],
        [
         "11750",
         "PS3"
        ],
        [
         "2466",
         "NES"
        ],
        [
         "8352",
         "PS"
        ],
        [
         "6272",
         "GBA"
        ],
        [
         "5843",
         "PS2"
        ],
        [
         "11062",
         "PSP"
        ],
        [
         "5609",
         "X360"
        ],
        [
         "12691",
         "DS"
        ],
        [
         "12171",
         "DS"
        ],
        [
         "10048",
         "X360"
        ]
       ],
       "shape": {
        "columns": 1,
        "rows": 20
       }
      },
      "text/plain": [
       "6783       DS\n",
       "12592     SAT\n",
       "2085       DS\n",
       "12024     PSV\n",
       "10826      GC\n",
       "218       PS3\n",
       "5483       GC\n",
       "7234       DS\n",
       "11077     PS3\n",
       "7822      GBA\n",
       "11750     PS3\n",
       "2466      NES\n",
       "8352       PS\n",
       "6272      GBA\n",
       "5843      PS2\n",
       "11062     PSP\n",
       "5609     X360\n",
       "12691      DS\n",
       "12171      DS\n",
       "10048    X360\n",
       "Name: Platform, dtype: object"
      ]
     },
     "execution_count": 26,
     "metadata": {},
     "output_type": "execute_result"
    }
   ],
   "source": [
    "s3.sample(20)  # return random 20 rows from database"
   ]
  },
  {
   "cell_type": "code",
   "execution_count": 27,
   "id": "1131241e",
   "metadata": {},
   "outputs": [
    {
     "data": {
      "text/plain": [
       "pandas.core.series.Series"
      ]
     },
     "execution_count": 27,
     "metadata": {},
     "output_type": "execute_result"
    }
   ],
   "source": [
    "type(s3)"
   ]
  },
  {
   "cell_type": "code",
   "execution_count": 28,
   "id": "e2238205",
   "metadata": {},
   "outputs": [
    {
     "name": "stdout",
     "output_type": "stream",
     "text": [
      "0    Wii\n",
      "1    NES\n",
      "2    Wii\n",
      "3    Wii\n",
      "4     GB\n",
      "Name: Platform, dtype: object\n",
      "0    Wii\n",
      "1    NES\n",
      "2    Wii\n",
      "Name: Platform, dtype: object\n"
     ]
    }
   ],
   "source": [
    "print(s3.head()) # take defult value is 5\n",
    "print(s3.head(3))"
   ]
  },
  {
   "cell_type": "code",
   "execution_count": 29,
   "id": "11be52c3",
   "metadata": {},
   "outputs": [
    {
     "name": "stdout",
     "output_type": "stream",
     "text": [
      "16593    GBA\n",
      "16594     GC\n",
      "16595    PS2\n",
      "16596     DS\n",
      "16597    GBA\n",
      "Name: Platform, dtype: object\n",
      "16595    PS2\n",
      "16596     DS\n",
      "16597    GBA\n",
      "Name: Platform, dtype: object\n"
     ]
    }
   ],
   "source": [
    "print(s3.tail()) # take defult value is 5\n",
    "print(s3.tail(3))"
   ]
  },
  {
   "cell_type": "code",
   "execution_count": 30,
   "id": "12b57732",
   "metadata": {},
   "outputs": [
    {
     "name": "stdout",
     "output_type": "stream",
     "text": [
      "<class 'pandas.core.frame.DataFrame'>\n",
      "RangeIndex: 16598 entries, 0 to 16597\n",
      "Data columns (total 11 columns):\n",
      " #   Column        Non-Null Count  Dtype  \n",
      "---  ------        --------------  -----  \n",
      " 0   Rank          16598 non-null  int64  \n",
      " 1   Name          16598 non-null  object \n",
      " 2   Platform      16598 non-null  object \n",
      " 3   Year          16327 non-null  float64\n",
      " 4   Genre         16598 non-null  object \n",
      " 5   Publisher     16540 non-null  object \n",
      " 6   NA_Sales      16598 non-null  float64\n",
      " 7   EU_Sales      16598 non-null  float64\n",
      " 8   JP_Sales      16598 non-null  float64\n",
      " 9   Other_Sales   16598 non-null  float64\n",
      " 10  Global_Sales  16598 non-null  float64\n",
      "dtypes: float64(6), int64(1), object(4)\n",
      "memory usage: 1.4+ MB\n",
      "None\n"
     ]
    }
   ],
   "source": [
    "print(s.info())  # return information about Database\n",
    "# print(s3.info()) # do not write like this"
   ]
  },
  {
   "cell_type": "code",
   "execution_count": 31,
   "id": "e2ae02ef",
   "metadata": {},
   "outputs": [
    {
     "name": "stdout",
     "output_type": "stream",
     "text": [
      "<class 'pandas.core.series.Series'>\n",
      "RangeIndex: 16598 entries, 0 to 16597\n",
      "Series name: Platform\n",
      "Non-Null Count  Dtype \n",
      "--------------  ----- \n",
      "16598 non-null  object\n",
      "dtypes: object(1)\n",
      "memory usage: 129.8+ KB\n",
      "None\n"
     ]
    }
   ],
   "source": [
    "print(s3.info())"
   ]
  },
  {
   "cell_type": "code",
   "execution_count": 32,
   "id": "a1ad9394",
   "metadata": {},
   "outputs": [
    {
     "data": {
      "application/vnd.microsoft.datawrangler.viewer.v0+json": {
       "columns": [
        {
         "name": "Name",
         "rawType": "object",
         "type": "string"
        },
        {
         "name": "Global_Sales",
         "rawType": "float64",
         "type": "float"
        }
       ],
       "ref": "daeea4e4-0494-4c8b-89f9-49b038ae5d04",
       "rows": [
        [
         "Wii Sports",
         "82.74"
        ],
        [
         "Super Mario Bros.",
         "40.24"
        ],
        [
         "Mario Kart Wii",
         "35.82"
        ],
        [
         "Wii Sports Resort",
         "33.0"
        ],
        [
         "Pokemon Red/Pokemon Blue",
         "31.37"
        ]
       ],
       "shape": {
        "columns": 1,
        "rows": 5
       }
      },
      "text/plain": [
       "Name\n",
       "Wii Sports                  82.74\n",
       "Super Mario Bros.           40.24\n",
       "Mario Kart Wii              35.82\n",
       "Wii Sports Resort           33.00\n",
       "Pokemon Red/Pokemon Blue    31.37\n",
       "Name: Global_Sales, dtype: float64"
      ]
     },
     "execution_count": 32,
     "metadata": {},
     "output_type": "execute_result"
    }
   ],
   "source": [
    "s6 =pd.read_csv('../../dataset/vgsales.csv', usecols=['Name','Global_Sales'], index_col='Name').squeeze()\n",
    "s6.head()"
   ]
  },
  {
   "cell_type": "code",
   "execution_count": 33,
   "id": "80532bc7",
   "metadata": {},
   "outputs": [
    {
     "data": {
      "text/plain": [
       "pandas.core.series.Series"
      ]
     },
     "execution_count": 33,
     "metadata": {},
     "output_type": "execute_result"
    }
   ],
   "source": [
    "type(s6)"
   ]
  },
  {
   "cell_type": "code",
   "execution_count": 34,
   "id": "acbe62ae",
   "metadata": {},
   "outputs": [
    {
     "data": {
      "application/vnd.microsoft.datawrangler.viewer.v0+json": {
       "columns": [
        {
         "name": "Name",
         "rawType": "object",
         "type": "string"
        },
        {
         "name": "Global_Sales",
         "rawType": "int64",
         "type": "integer"
        }
       ],
       "ref": "08e5895e-0073-4afd-b2a8-8d62fd12a953",
       "rows": [
        [
         "Wii Sports",
         "82"
        ],
        [
         "Super Mario Bros.",
         "40"
        ],
        [
         "Mario Kart Wii",
         "35"
        ],
        [
         "Wii Sports Resort",
         "33"
        ],
        [
         "Pokemon Red/Pokemon Blue",
         "31"
        ],
        [
         "Tetris",
         "30"
        ],
        [
         "New Super Mario Bros.",
         "30"
        ],
        [
         "Wii Play",
         "29"
        ],
        [
         "New Super Mario Bros. Wii",
         "28"
        ],
        [
         "Duck Hunt",
         "28"
        ],
        [
         "Nintendogs",
         "24"
        ],
        [
         "Mario Kart DS",
         "23"
        ],
        [
         "Pokemon Gold/Pokemon Silver",
         "23"
        ],
        [
         "Wii Fit",
         "22"
        ],
        [
         "Wii Fit Plus",
         "22"
        ],
        [
         "Kinect Adventures!",
         "21"
        ],
        [
         "Grand Theft Auto V",
         "21"
        ],
        [
         "Grand Theft Auto: San Andreas",
         "20"
        ],
        [
         "Super Mario World",
         "20"
        ],
        [
         "Brain Age: Train Your Brain in Minutes a Day",
         "20"
        ],
        [
         "Pokemon Diamond/Pokemon Pearl",
         "18"
        ],
        [
         "Super Mario Land",
         "18"
        ],
        [
         "Super Mario Bros. 3",
         "17"
        ],
        [
         "Grand Theft Auto V",
         "16"
        ],
        [
         "Grand Theft Auto: Vice City",
         "16"
        ],
        [
         "Pokemon Ruby/Pokemon Sapphire",
         "15"
        ],
        [
         "Pokemon Black/Pokemon White",
         "15"
        ],
        [
         "Brain Age 2: More Training in Minutes a Day",
         "15"
        ],
        [
         "Gran Turismo 3: A-Spec",
         "14"
        ],
        [
         "Call of Duty: Modern Warfare 3",
         "14"
        ],
        [
         "Pokémon Yellow: Special Pikachu Edition",
         "14"
        ],
        [
         "Call of Duty: Black Ops",
         "14"
        ],
        [
         "Pokemon X/Pokemon Y",
         "14"
        ],
        [
         "Call of Duty: Black Ops 3",
         "14"
        ],
        [
         "Call of Duty: Black Ops II",
         "14"
        ],
        [
         "Call of Duty: Black Ops II",
         "13"
        ],
        [
         "Call of Duty: Modern Warfare 2",
         "13"
        ],
        [
         "Call of Duty: Modern Warfare 3",
         "13"
        ],
        [
         "Grand Theft Auto III",
         "13"
        ],
        [
         "Super Smash Bros. Brawl",
         "13"
        ],
        [
         "Call of Duty: Black Ops",
         "12"
        ],
        [
         "Animal Crossing: Wild World",
         "12"
        ],
        [
         "Mario Kart 7",
         "12"
        ],
        [
         "Halo 3",
         "12"
        ],
        [
         "Grand Theft Auto V",
         "11"
        ],
        [
         "Pokemon HeartGold/Pokemon SoulSilver",
         "11"
        ],
        [
         "Super Mario 64",
         "11"
        ],
        [
         "Gran Turismo 4",
         "11"
        ],
        [
         "Super Mario Galaxy",
         "11"
        ],
        [
         "Pokemon Omega Ruby/Pokemon Alpha Sapphire",
         "11"
        ]
       ],
       "shape": {
        "columns": 1,
        "rows": 16598
       }
      },
      "text/plain": [
       "Name\n",
       "Wii Sports                                          82\n",
       "Super Mario Bros.                                   40\n",
       "Mario Kart Wii                                      35\n",
       "Wii Sports Resort                                   33\n",
       "Pokemon Red/Pokemon Blue                            31\n",
       "                                                    ..\n",
       "Woody Woodpecker in Crazy Castle 5                   0\n",
       "Men in Black II: Alien Escape                        0\n",
       "SCORE International Baja 1000: The Official Game     0\n",
       "Know How 2                                           0\n",
       "Spirits & Spells                                     0\n",
       "Name: Global_Sales, Length: 16598, dtype: int64"
      ]
     },
     "execution_count": 34,
     "metadata": {},
     "output_type": "execute_result"
    }
   ],
   "source": [
    "s6.astype('int64')"
   ]
  },
  {
   "cell_type": "code",
   "execution_count": 35,
   "id": "7affea95",
   "metadata": {},
   "outputs": [
    {
     "data": {
      "application/vnd.microsoft.datawrangler.viewer.v0+json": {
       "columns": [
        {
         "name": "Name",
         "rawType": "object",
         "type": "string"
        },
        {
         "name": "Global_Sales",
         "rawType": "float64",
         "type": "float"
        }
       ],
       "ref": "76f28779-5035-4438-8463-87e5182e6671",
       "rows": [
        [
         "Woody Woodpecker in Crazy Castle 5",
         "0.01"
        ],
        [
         "Men in Black II: Alien Escape",
         "0.01"
        ],
        [
         "SCORE International Baja 1000: The Official Game",
         "0.01"
        ],
        [
         "Know How 2",
         "0.01"
        ],
        [
         "Spirits & Spells",
         "0.01"
        ]
       ],
       "shape": {
        "columns": 1,
        "rows": 5
       }
      },
      "text/plain": [
       "Name\n",
       "Woody Woodpecker in Crazy Castle 5                  0.01\n",
       "Men in Black II: Alien Escape                       0.01\n",
       "SCORE International Baja 1000: The Official Game    0.01\n",
       "Know How 2                                          0.01\n",
       "Spirits & Spells                                    0.01\n",
       "Name: Global_Sales, dtype: float64"
      ]
     },
     "execution_count": 35,
     "metadata": {},
     "output_type": "execute_result"
    }
   ],
   "source": [
    "s6.tail()"
   ]
  },
  {
   "cell_type": "code",
   "execution_count": 36,
   "id": "fe69c210",
   "metadata": {},
   "outputs": [
    {
     "data": {
      "text/plain": [
       "[82.74,\n",
       " 40.24,\n",
       " 35.82,\n",
       " 33.0,\n",
       " 31.37,\n",
       " 30.26,\n",
       " 30.01,\n",
       " 29.02,\n",
       " 28.62,\n",
       " 28.31,\n",
       " 24.76,\n",
       " 23.42,\n",
       " 23.1,\n",
       " 22.72,\n",
       " 22.0,\n",
       " 21.82,\n",
       " 21.4,\n",
       " 20.81,\n",
       " 20.61,\n",
       " 20.22,\n",
       " 18.36,\n",
       " 18.14,\n",
       " 17.28,\n",
       " 16.38,\n",
       " 16.15,\n",
       " 15.85,\n",
       " 15.32,\n",
       " 15.3,\n",
       " 14.98,\n",
       " 14.76,\n",
       " 14.64,\n",
       " 14.64,\n",
       " 14.35,\n",
       " 14.24,\n",
       " 14.03,\n",
       " 13.73,\n",
       " 13.51,\n",
       " 13.46,\n",
       " 13.1,\n",
       " 13.04,\n",
       " 12.73,\n",
       " 12.27,\n",
       " 12.21,\n",
       " 12.14,\n",
       " 11.98,\n",
       " 11.9,\n",
       " 11.89,\n",
       " 11.66,\n",
       " 11.52,\n",
       " 11.33,\n",
       " 11.18,\n",
       " 11.02,\n",
       " 10.95,\n",
       " 10.79,\n",
       " 10.77,\n",
       " 10.69,\n",
       " 10.57,\n",
       " 10.55,\n",
       " 10.49,\n",
       " 10.42,\n",
       " 10.26,\n",
       " 10.21,\n",
       " 9.88,\n",
       " 9.87,\n",
       " 9.82,\n",
       " 9.76,\n",
       " 9.72,\n",
       " 9.59,\n",
       " 9.52,\n",
       " 9.49,\n",
       " 9.32,\n",
       " 9.3,\n",
       " 9.2,\n",
       " 9.09,\n",
       " 9.02,\n",
       " 8.84,\n",
       " 8.76,\n",
       " 8.49,\n",
       " 8.49,\n",
       " 8.49,\n",
       " 8.42,\n",
       " 8.33,\n",
       " 8.24,\n",
       " 8.11,\n",
       " 8.09,\n",
       " 8.06,\n",
       " 8.05,\n",
       " 7.86,\n",
       " 7.84,\n",
       " 7.81,\n",
       " 7.72,\n",
       " 7.69,\n",
       " 7.67,\n",
       " 7.6,\n",
       " 7.6,\n",
       " 7.58,\n",
       " 7.46,\n",
       " 7.45,\n",
       " 7.37,\n",
       " 7.34,\n",
       " 7.31,\n",
       " 7.3,\n",
       " 7.27,\n",
       " 7.23,\n",
       " 7.2,\n",
       " 7.16,\n",
       " 7.13,\n",
       " 7.07,\n",
       " 6.96,\n",
       " 6.96,\n",
       " 6.95,\n",
       " 6.91,\n",
       " 6.9,\n",
       " 6.9,\n",
       " 6.83,\n",
       " 6.83,\n",
       " 6.82,\n",
       " 6.81,\n",
       " 6.76,\n",
       " 6.73,\n",
       " 6.72,\n",
       " 6.69,\n",
       " 6.67,\n",
       " 6.6,\n",
       " 6.59,\n",
       " 6.59,\n",
       " 6.56,\n",
       " 6.51,\n",
       " 6.5,\n",
       " 6.43,\n",
       " 6.41,\n",
       " 6.4,\n",
       " 6.39,\n",
       " 6.36,\n",
       " 6.34,\n",
       " 6.31,\n",
       " 6.3,\n",
       " 6.28,\n",
       " 6.27,\n",
       " 6.24,\n",
       " 6.24,\n",
       " 6.11,\n",
       " 6.05,\n",
       " 6.03,\n",
       " 6.03,\n",
       " 6.03,\n",
       " 5.99,\n",
       " 5.95,\n",
       " 5.92,\n",
       " 5.84,\n",
       " 5.83,\n",
       " 5.82,\n",
       " 5.74,\n",
       " 5.72,\n",
       " 5.65,\n",
       " 5.58,\n",
       " 5.57,\n",
       " 5.55,\n",
       " 5.55,\n",
       " 5.53,\n",
       " 5.51,\n",
       " 5.5,\n",
       " 5.49,\n",
       " 5.47,\n",
       " 5.46,\n",
       " 5.45,\n",
       " 5.43,\n",
       " 5.42,\n",
       " 5.42,\n",
       " 5.36,\n",
       " 5.34,\n",
       " 5.31,\n",
       " 5.3,\n",
       " 5.3,\n",
       " 5.29,\n",
       " 5.27,\n",
       " 5.27,\n",
       " 5.26,\n",
       " 5.24,\n",
       " 5.23,\n",
       " 5.21,\n",
       " 5.2,\n",
       " 5.2,\n",
       " 5.19,\n",
       " 5.19,\n",
       " 5.18,\n",
       " 5.17,\n",
       " 5.15,\n",
       " 5.15,\n",
       " 5.14,\n",
       " 5.13,\n",
       " 5.13,\n",
       " 5.13,\n",
       " 5.13,\n",
       " 5.12,\n",
       " 5.12,\n",
       " 5.11,\n",
       " 5.08,\n",
       " 5.08,\n",
       " 5.08,\n",
       " 5.07,\n",
       " 5.05,\n",
       " 5.02,\n",
       " 5.02,\n",
       " 5.01,\n",
       " 5.0,\n",
       " 5.0,\n",
       " 4.98,\n",
       " 4.96,\n",
       " 4.96,\n",
       " 4.94,\n",
       " 4.91,\n",
       " 4.9,\n",
       " 4.88,\n",
       " 4.87,\n",
       " 4.85,\n",
       " 4.84,\n",
       " 4.83,\n",
       " 4.83,\n",
       " 4.82,\n",
       " 4.79,\n",
       " 4.77,\n",
       " 4.76,\n",
       " 4.73,\n",
       " 4.7,\n",
       " 4.68,\n",
       " 4.68,\n",
       " 4.67,\n",
       " 4.64,\n",
       " 4.63,\n",
       " 4.62,\n",
       " 4.61,\n",
       " 4.6,\n",
       " 4.58,\n",
       " 4.58,\n",
       " 4.57,\n",
       " 4.55,\n",
       " 4.53,\n",
       " 4.53,\n",
       " 4.5,\n",
       " 4.49,\n",
       " 4.48,\n",
       " 4.47,\n",
       " 4.47,\n",
       " 4.45,\n",
       " 4.45,\n",
       " 4.44,\n",
       " 4.42,\n",
       " 4.41,\n",
       " 4.39,\n",
       " 4.39,\n",
       " 4.38,\n",
       " 4.37,\n",
       " 4.35,\n",
       " 4.34,\n",
       " 4.33,\n",
       " 4.31,\n",
       " 4.31,\n",
       " 4.31,\n",
       " 4.31,\n",
       " 4.26,\n",
       " 4.25,\n",
       " 4.25,\n",
       " 4.24,\n",
       " 4.24,\n",
       " 4.23,\n",
       " 4.22,\n",
       " 4.21,\n",
       " 4.21,\n",
       " 4.21,\n",
       " 4.2,\n",
       " 4.2,\n",
       " 4.2,\n",
       " 4.19,\n",
       " 4.19,\n",
       " 4.19,\n",
       " 4.17,\n",
       " 4.16,\n",
       " 4.16,\n",
       " 4.14,\n",
       " 4.14,\n",
       " 4.12,\n",
       " 4.12,\n",
       " 4.11,\n",
       " 4.1,\n",
       " 4.1,\n",
       " 4.1,\n",
       " 4.09,\n",
       " 4.09,\n",
       " 4.08,\n",
       " 4.07,\n",
       " 4.06,\n",
       " 4.06,\n",
       " 4.05,\n",
       " 4.05,\n",
       " 4.03,\n",
       " 4.03,\n",
       " 4.02,\n",
       " 4.01,\n",
       " 4.01,\n",
       " 4.0,\n",
       " 3.99,\n",
       " 3.98,\n",
       " 3.92,\n",
       " 3.92,\n",
       " 3.91,\n",
       " 3.9,\n",
       " 3.89,\n",
       " 3.89,\n",
       " 3.88,\n",
       " 3.88,\n",
       " 3.87,\n",
       " 3.87,\n",
       " 3.87,\n",
       " 3.85,\n",
       " 3.85,\n",
       " 3.84,\n",
       " 3.84,\n",
       " 3.83,\n",
       " 3.83,\n",
       " 3.82,\n",
       " 3.81,\n",
       " 3.79,\n",
       " 3.78,\n",
       " 3.78,\n",
       " 3.77,\n",
       " 3.77,\n",
       " 3.76,\n",
       " 3.76,\n",
       " 3.76,\n",
       " 3.73,\n",
       " 3.73,\n",
       " 3.72,\n",
       " 3.71,\n",
       " 3.7,\n",
       " 3.7,\n",
       " 3.69,\n",
       " 3.69,\n",
       " 3.67,\n",
       " 3.67,\n",
       " 3.66,\n",
       " 3.65,\n",
       " 3.65,\n",
       " 3.65,\n",
       " 3.64,\n",
       " 3.64,\n",
       " 3.63,\n",
       " 3.63,\n",
       " 3.63,\n",
       " 3.63,\n",
       " 3.62,\n",
       " 3.61,\n",
       " 3.61,\n",
       " 3.61,\n",
       " 3.61,\n",
       " 3.61,\n",
       " 3.6,\n",
       " 3.59,\n",
       " 3.58,\n",
       " 3.56,\n",
       " 3.54,\n",
       " 3.54,\n",
       " 3.54,\n",
       " 3.53,\n",
       " 3.53,\n",
       " 3.53,\n",
       " 3.53,\n",
       " 3.52,\n",
       " 3.52,\n",
       " 3.52,\n",
       " 3.52,\n",
       " 3.51,\n",
       " 3.51,\n",
       " 3.5,\n",
       " 3.5,\n",
       " 3.5,\n",
       " 3.5,\n",
       " 3.49,\n",
       " 3.49,\n",
       " 3.48,\n",
       " 3.48,\n",
       " 3.46,\n",
       " 3.45,\n",
       " 3.44,\n",
       " 3.44,\n",
       " 3.44,\n",
       " 3.43,\n",
       " 3.42,\n",
       " 3.42,\n",
       " 3.42,\n",
       " 3.41,\n",
       " 3.41,\n",
       " 3.4,\n",
       " 3.39,\n",
       " 3.38,\n",
       " 3.38,\n",
       " 3.38,\n",
       " 3.36,\n",
       " 3.36,\n",
       " 3.36,\n",
       " 3.34,\n",
       " 3.34,\n",
       " 3.33,\n",
       " 3.33,\n",
       " 3.33,\n",
       " 3.32,\n",
       " 3.32,\n",
       " 3.31,\n",
       " 3.28,\n",
       " 3.28,\n",
       " 3.28,\n",
       " 3.27,\n",
       " 3.27,\n",
       " 3.27,\n",
       " 3.26,\n",
       " 3.24,\n",
       " 3.23,\n",
       " 3.23,\n",
       " 3.22,\n",
       " 3.22,\n",
       " 3.21,\n",
       " 3.2,\n",
       " 3.2,\n",
       " 3.2,\n",
       " 3.19,\n",
       " 3.19,\n",
       " 3.19,\n",
       " 3.19,\n",
       " 3.18,\n",
       " 3.18,\n",
       " 3.17,\n",
       " 3.17,\n",
       " 3.17,\n",
       " 3.17,\n",
       " 3.16,\n",
       " 3.15,\n",
       " 3.15,\n",
       " 3.15,\n",
       " 3.15,\n",
       " 3.15,\n",
       " 3.14,\n",
       " 3.13,\n",
       " 3.12,\n",
       " 3.12,\n",
       " 3.12,\n",
       " 3.12,\n",
       " 3.12,\n",
       " 3.12,\n",
       " 3.11,\n",
       " 3.11,\n",
       " 3.09,\n",
       " 3.08,\n",
       " 3.08,\n",
       " 3.07,\n",
       " 3.07,\n",
       " 3.07,\n",
       " 3.07,\n",
       " 3.07,\n",
       " 3.05,\n",
       " 3.04,\n",
       " 3.04,\n",
       " 3.03,\n",
       " 3.03,\n",
       " 3.02,\n",
       " 3.02,\n",
       " 3.02,\n",
       " 3.02,\n",
       " 3.0,\n",
       " 3.0,\n",
       " 3.0,\n",
       " 3.0,\n",
       " 2.99,\n",
       " 2.99,\n",
       " 2.99,\n",
       " 2.99,\n",
       " 2.99,\n",
       " 2.98,\n",
       " 2.97,\n",
       " 2.97,\n",
       " 2.97,\n",
       " 2.96,\n",
       " 2.96,\n",
       " 2.96,\n",
       " 2.95,\n",
       " 2.94,\n",
       " 2.94,\n",
       " 2.94,\n",
       " 2.94,\n",
       " 2.94,\n",
       " 2.93,\n",
       " 2.92,\n",
       " 2.91,\n",
       " 2.91,\n",
       " 2.9,\n",
       " 2.9,\n",
       " 2.9,\n",
       " 2.9,\n",
       " 2.9,\n",
       " 2.89,\n",
       " 2.89,\n",
       " 2.89,\n",
       " 2.88,\n",
       " 2.88,\n",
       " 2.88,\n",
       " 2.87,\n",
       " 2.86,\n",
       " 2.86,\n",
       " 2.86,\n",
       " 2.85,\n",
       " 2.85,\n",
       " 2.85,\n",
       " 2.85,\n",
       " 2.85,\n",
       " 2.85,\n",
       " 2.84,\n",
       " 2.83,\n",
       " 2.83,\n",
       " 2.83,\n",
       " 2.83,\n",
       " 2.82,\n",
       " 2.82,\n",
       " 2.81,\n",
       " 2.81,\n",
       " 2.81,\n",
       " 2.8,\n",
       " 2.8,\n",
       " 2.8,\n",
       " 2.79,\n",
       " 2.79,\n",
       " 2.79,\n",
       " 2.79,\n",
       " 2.79,\n",
       " 2.79,\n",
       " 2.79,\n",
       " 2.79,\n",
       " 2.79,\n",
       " 2.79,\n",
       " 2.78,\n",
       " 2.78,\n",
       " 2.78,\n",
       " 2.78,\n",
       " 2.77,\n",
       " 2.77,\n",
       " 2.77,\n",
       " 2.76,\n",
       " 2.75,\n",
       " 2.74,\n",
       " 2.73,\n",
       " 2.73,\n",
       " 2.72,\n",
       " 2.71,\n",
       " 2.7,\n",
       " 2.7,\n",
       " 2.7,\n",
       " 2.7,\n",
       " 2.69,\n",
       " 2.69,\n",
       " 2.69,\n",
       " 2.69,\n",
       " 2.68,\n",
       " 2.68,\n",
       " 2.68,\n",
       " 2.68,\n",
       " 2.68,\n",
       " 2.67,\n",
       " 2.67,\n",
       " 2.67,\n",
       " 2.67,\n",
       " 2.66,\n",
       " 2.65,\n",
       " 2.65,\n",
       " 2.65,\n",
       " 2.65,\n",
       " 2.65,\n",
       " 2.65,\n",
       " 2.64,\n",
       " 2.63,\n",
       " 2.63,\n",
       " 2.63,\n",
       " 2.63,\n",
       " 2.62,\n",
       " 2.62,\n",
       " 2.62,\n",
       " 2.62,\n",
       " 2.62,\n",
       " 2.61,\n",
       " 2.61,\n",
       " 2.6,\n",
       " 2.6,\n",
       " 2.59,\n",
       " 2.59,\n",
       " 2.59,\n",
       " 2.58,\n",
       " 2.58,\n",
       " 2.58,\n",
       " 2.58,\n",
       " 2.58,\n",
       " 2.57,\n",
       " 2.57,\n",
       " 2.57,\n",
       " 2.57,\n",
       " 2.56,\n",
       " 2.56,\n",
       " 2.56,\n",
       " 2.54,\n",
       " 2.54,\n",
       " 2.54,\n",
       " 2.53,\n",
       " 2.52,\n",
       " 2.52,\n",
       " 2.52,\n",
       " 2.52,\n",
       " 2.51,\n",
       " 2.5,\n",
       " 2.5,\n",
       " 2.5,\n",
       " 2.49,\n",
       " 2.49,\n",
       " 2.49,\n",
       " 2.49,\n",
       " 2.48,\n",
       " 2.48,\n",
       " 2.48,\n",
       " 2.48,\n",
       " 2.48,\n",
       " 2.47,\n",
       " 2.47,\n",
       " 2.46,\n",
       " 2.45,\n",
       " 2.45,\n",
       " 2.45,\n",
       " 2.44,\n",
       " 2.44,\n",
       " 2.44,\n",
       " 2.43,\n",
       " 2.43,\n",
       " 2.42,\n",
       " 2.42,\n",
       " 2.42,\n",
       " 2.42,\n",
       " 2.41,\n",
       " 2.41,\n",
       " 2.41,\n",
       " 2.41,\n",
       " 2.41,\n",
       " 2.4,\n",
       " 2.4,\n",
       " 2.4,\n",
       " 2.4,\n",
       " 2.39,\n",
       " 2.39,\n",
       " 2.39,\n",
       " 2.39,\n",
       " 2.39,\n",
       " 2.39,\n",
       " 2.39,\n",
       " 2.38,\n",
       " 2.38,\n",
       " 2.38,\n",
       " 2.38,\n",
       " 2.38,\n",
       " 2.38,\n",
       " 2.38,\n",
       " 2.38,\n",
       " 2.37,\n",
       " 2.37,\n",
       " 2.37,\n",
       " 2.37,\n",
       " 2.37,\n",
       " 2.36,\n",
       " 2.36,\n",
       " 2.35,\n",
       " 2.35,\n",
       " 2.35,\n",
       " 2.35,\n",
       " 2.34,\n",
       " 2.34,\n",
       " 2.34,\n",
       " 2.34,\n",
       " 2.33,\n",
       " 2.32,\n",
       " 2.32,\n",
       " 2.32,\n",
       " 2.32,\n",
       " 2.32,\n",
       " 2.31,\n",
       " 2.31,\n",
       " 2.31,\n",
       " 2.31,\n",
       " 2.31,\n",
       " 2.3,\n",
       " 2.3,\n",
       " 2.3,\n",
       " 2.29,\n",
       " 2.29,\n",
       " 2.29,\n",
       " 2.28,\n",
       " 2.28,\n",
       " 2.28,\n",
       " 2.28,\n",
       " 2.28,\n",
       " 2.28,\n",
       " 2.28,\n",
       " 2.28,\n",
       " 2.28,\n",
       " 2.27,\n",
       " 2.27,\n",
       " 2.27,\n",
       " 2.27,\n",
       " 2.26,\n",
       " 2.26,\n",
       " 2.26,\n",
       " 2.26,\n",
       " 2.25,\n",
       " 2.25,\n",
       " 2.25,\n",
       " 2.25,\n",
       " 2.25,\n",
       " 2.25,\n",
       " 2.25,\n",
       " 2.24,\n",
       " 2.23,\n",
       " 2.23,\n",
       " 2.23,\n",
       " 2.23,\n",
       " 2.22,\n",
       " 2.22,\n",
       " 2.22,\n",
       " 2.22,\n",
       " 2.22,\n",
       " 2.21,\n",
       " 2.21,\n",
       " 2.21,\n",
       " 2.2,\n",
       " 2.2,\n",
       " 2.2,\n",
       " 2.2,\n",
       " 2.2,\n",
       " 2.2,\n",
       " 2.2,\n",
       " 2.19,\n",
       " 2.19,\n",
       " 2.19,\n",
       " 2.19,\n",
       " 2.19,\n",
       " 2.19,\n",
       " 2.18,\n",
       " 2.18,\n",
       " 2.18,\n",
       " 2.18,\n",
       " 2.18,\n",
       " 2.17,\n",
       " 2.17,\n",
       " 2.17,\n",
       " 2.17,\n",
       " 2.16,\n",
       " 2.16,\n",
       " 2.15,\n",
       " 2.15,\n",
       " 2.15,\n",
       " 2.15,\n",
       " 2.14,\n",
       " 2.14,\n",
       " 2.14,\n",
       " 2.14,\n",
       " 2.14,\n",
       " 2.13,\n",
       " 2.13,\n",
       " 2.13,\n",
       " 2.13,\n",
       " 2.13,\n",
       " 2.12,\n",
       " 2.12,\n",
       " 2.12,\n",
       " 2.12,\n",
       " 2.12,\n",
       " 2.11,\n",
       " 2.11,\n",
       " 2.11,\n",
       " 2.11,\n",
       " 2.11,\n",
       " 2.11,\n",
       " 2.11,\n",
       " 2.11,\n",
       " 2.11,\n",
       " 2.1,\n",
       " 2.1,\n",
       " 2.1,\n",
       " 2.1,\n",
       " 2.1,\n",
       " 2.09,\n",
       " 2.09,\n",
       " 2.09,\n",
       " 2.09,\n",
       " 2.09,\n",
       " 2.09,\n",
       " 2.09,\n",
       " 2.09,\n",
       " 2.09,\n",
       " 2.08,\n",
       " 2.08,\n",
       " 2.08,\n",
       " 2.08,\n",
       " 2.08,\n",
       " 2.08,\n",
       " 2.08,\n",
       " 2.08,\n",
       " 2.08,\n",
       " 2.07,\n",
       " 2.07,\n",
       " 2.07,\n",
       " 2.07,\n",
       " 2.07,\n",
       " 2.06,\n",
       " 2.06,\n",
       " 2.06,\n",
       " 2.06,\n",
       " 2.06,\n",
       " 2.06,\n",
       " 2.06,\n",
       " 2.06,\n",
       " 2.05,\n",
       " 2.05,\n",
       " 2.05,\n",
       " 2.05,\n",
       " 2.05,\n",
       " 2.05,\n",
       " 2.05,\n",
       " 2.05,\n",
       " 2.04,\n",
       " 2.04,\n",
       " 2.04,\n",
       " 2.04,\n",
       " 2.04,\n",
       " 2.04,\n",
       " 2.04,\n",
       " 2.03,\n",
       " 2.03,\n",
       " 2.03,\n",
       " 2.03,\n",
       " 2.02,\n",
       " 2.02,\n",
       " 2.02,\n",
       " 2.02,\n",
       " 2.01,\n",
       " 2.01,\n",
       " 2.0,\n",
       " 2.0,\n",
       " 2.0,\n",
       " 2.0,\n",
       " 2.0,\n",
       " 1.99,\n",
       " 1.99,\n",
       " 1.99,\n",
       " 1.98,\n",
       " 1.98,\n",
       " 1.98,\n",
       " 1.98,\n",
       " 1.97,\n",
       " 1.97,\n",
       " 1.97,\n",
       " 1.97,\n",
       " 1.97,\n",
       " 1.97,\n",
       " 1.97,\n",
       " 1.96,\n",
       " 1.96,\n",
       " 1.96,\n",
       " 1.96,\n",
       " 1.96,\n",
       " 1.96,\n",
       " 1.95,\n",
       " 1.95,\n",
       " 1.95,\n",
       " 1.95,\n",
       " 1.95,\n",
       " 1.94,\n",
       " 1.94,\n",
       " 1.94,\n",
       " 1.94,\n",
       " 1.94,\n",
       " 1.94,\n",
       " 1.94,\n",
       " 1.94,\n",
       " 1.93,\n",
       " 1.93,\n",
       " 1.93,\n",
       " 1.93,\n",
       " 1.93,\n",
       " 1.93,\n",
       " 1.93,\n",
       " 1.93,\n",
       " 1.93,\n",
       " 1.92,\n",
       " 1.92,\n",
       " 1.92,\n",
       " 1.92,\n",
       " 1.92,\n",
       " 1.92,\n",
       " 1.92,\n",
       " 1.92,\n",
       " 1.92,\n",
       " 1.91,\n",
       " 1.91,\n",
       " 1.91,\n",
       " 1.91,\n",
       " 1.91,\n",
       " 1.9,\n",
       " 1.9,\n",
       " 1.89,\n",
       " 1.89,\n",
       " 1.89,\n",
       " 1.88,\n",
       " 1.88,\n",
       " 1.88,\n",
       " 1.88,\n",
       " 1.88,\n",
       " 1.88,\n",
       " 1.87,\n",
       " 1.87,\n",
       " 1.87,\n",
       " 1.87,\n",
       " 1.87,\n",
       " 1.86,\n",
       " 1.86,\n",
       " 1.86,\n",
       " 1.86,\n",
       " 1.86,\n",
       " 1.86,\n",
       " 1.86,\n",
       " 1.86,\n",
       " 1.86,\n",
       " 1.86,\n",
       " 1.86,\n",
       " 1.85,\n",
       " 1.85,\n",
       " 1.85,\n",
       " 1.85,\n",
       " 1.85,\n",
       " 1.85,\n",
       " 1.84,\n",
       " 1.84,\n",
       " 1.84,\n",
       " 1.83,\n",
       " 1.83,\n",
       " 1.83,\n",
       " 1.83,\n",
       " 1.83,\n",
       " 1.83,\n",
       " 1.83,\n",
       " 1.83,\n",
       " 1.82,\n",
       " 1.82,\n",
       " 1.82,\n",
       " 1.82,\n",
       " 1.82,\n",
       " 1.81,\n",
       " 1.81,\n",
       " 1.81,\n",
       " 1.81,\n",
       " 1.81,\n",
       " 1.81,\n",
       " 1.8,\n",
       " 1.8,\n",
       " 1.8,\n",
       " 1.8,\n",
       " 1.8,\n",
       " 1.79,\n",
       " 1.79,\n",
       " 1.79,\n",
       " 1.78,\n",
       " 1.78,\n",
       " 1.78,\n",
       " 1.78,\n",
       " 1.78,\n",
       " 1.78,\n",
       " 1.78,\n",
       " 1.78,\n",
       " 1.77,\n",
       " 1.77,\n",
       " 1.77,\n",
       " 1.77,\n",
       " 1.77,\n",
       " 1.77,\n",
       " 1.77,\n",
       " 1.77,\n",
       " 1.77,\n",
       " 1.76,\n",
       " 1.76,\n",
       " 1.76,\n",
       " 1.76,\n",
       " 1.76,\n",
       " 1.76,\n",
       " 1.76,\n",
       " 1.76,\n",
       " 1.76,\n",
       " 1.76,\n",
       " 1.76,\n",
       " 1.76,\n",
       " 1.76,\n",
       " ...]"
      ]
     },
     "execution_count": 36,
     "metadata": {},
     "output_type": "execute_result"
    }
   ],
   "source": [
    "s6.to_list()"
   ]
  },
  {
   "cell_type": "code",
   "execution_count": 37,
   "id": "46fbea59",
   "metadata": {},
   "outputs": [
    {
     "data": {
      "text/plain": [
       "{'Wii Sports': 82.74,\n",
       " 'Super Mario Bros.': 5.07,\n",
       " 'Mario Kart Wii': 35.82,\n",
       " 'Wii Sports Resort': 33.0,\n",
       " 'Pokemon Red/Pokemon Blue': 31.37,\n",
       " 'Tetris': 5.58,\n",
       " 'New Super Mario Bros.': 30.01,\n",
       " 'Wii Play': 29.02,\n",
       " 'New Super Mario Bros. Wii': 28.62,\n",
       " 'Duck Hunt': 28.31,\n",
       " 'Nintendogs': 24.76,\n",
       " 'Mario Kart DS': 23.42,\n",
       " 'Pokemon Gold/Pokemon Silver': 23.1,\n",
       " 'Wii Fit': 22.72,\n",
       " 'Wii Fit Plus': 22.0,\n",
       " 'Kinect Adventures!': 21.82,\n",
       " 'Grand Theft Auto V': 1.08,\n",
       " 'Grand Theft Auto: San Andreas': 0.12,\n",
       " 'Super Mario World': 5.46,\n",
       " 'Brain Age: Train Your Brain in Minutes a Day': 20.22,\n",
       " 'Pokemon Diamond/Pokemon Pearl': 18.36,\n",
       " 'Super Mario Land': 18.14,\n",
       " 'Super Mario Bros. 3': 5.2,\n",
       " 'Grand Theft Auto: Vice City': 0.04,\n",
       " 'Pokemon Ruby/Pokemon Sapphire': 15.85,\n",
       " 'Pokemon Black/Pokemon White': 15.32,\n",
       " 'Brain Age 2: More Training in Minutes a Day': 15.3,\n",
       " 'Gran Turismo 3: A-Spec': 14.98,\n",
       " 'Call of Duty: Modern Warfare 3': 0.89,\n",
       " 'Pokémon Yellow: Special Pikachu Edition': 14.64,\n",
       " 'Call of Duty: Black Ops': 0.63,\n",
       " 'Pokemon X/Pokemon Y': 14.35,\n",
       " 'Call of Duty: Black Ops 3': 0.23,\n",
       " 'Call of Duty: Black Ops II': 0.43,\n",
       " 'Call of Duty: Modern Warfare 2': 0.89,\n",
       " 'Grand Theft Auto III': 0.01,\n",
       " 'Super Smash Bros. Brawl': 13.04,\n",
       " 'Animal Crossing: Wild World': 12.27,\n",
       " 'Mario Kart 7': 12.21,\n",
       " 'Halo 3': 12.14,\n",
       " 'Pokemon HeartGold/Pokemon SoulSilver': 11.9,\n",
       " 'Super Mario 64': 10.42,\n",
       " 'Gran Turismo 4': 11.66,\n",
       " 'Super Mario Galaxy': 11.52,\n",
       " 'Pokemon Omega Ruby/Pokemon Alpha Sapphire': 11.33,\n",
       " 'Super Mario Land 2: 6 Golden Coins': 11.18,\n",
       " 'Grand Theft Auto IV': 0.88,\n",
       " 'Gran Turismo': 10.95,\n",
       " 'Super Mario 3D Land': 10.79,\n",
       " 'Gran Turismo 5': 10.77,\n",
       " 'Super Mario All-Stars': 10.55,\n",
       " 'Pokemon FireRed/Pokemon LeafGreen': 10.49,\n",
       " 'Just Dance 3': 0.63,\n",
       " 'Call of Duty: Ghosts': 0.36,\n",
       " 'Halo: Reach': 9.88,\n",
       " 'Mario Kart 64': 9.87,\n",
       " 'New Super Mario Bros. 2': 9.82,\n",
       " 'Halo 4': 9.76,\n",
       " 'Final Fantasy VII': 9.72,\n",
       " 'Just Dance 2': 9.52,\n",
       " 'Gran Turismo 2': 9.49,\n",
       " 'Call of Duty 4: Modern Warfare': 1.06,\n",
       " 'Donkey Kong Country': 2.04,\n",
       " 'Minecraft': 0.43,\n",
       " 'Animal Crossing: New Leaf': 9.09,\n",
       " 'Mario Party DS': 9.02,\n",
       " 'The Elder Scrolls V: Skyrim': 3.88,\n",
       " 'Super Mario Kart': 8.76,\n",
       " 'FIFA 16': 0.18,\n",
       " 'Wii Party': 8.49,\n",
       " 'Halo 2': 0.1,\n",
       " 'Mario Party 8': 8.42,\n",
       " 'Pokemon Black 2/Pokemon White 2': 8.33,\n",
       " 'FIFA Soccer 13': 0.29,\n",
       " 'The Sims 3': 0.7,\n",
       " 'GoldenEye 007': 8.09,\n",
       " 'Mario & Sonic at the Olympic Games': 5.14,\n",
       " 'Final Fantasy X': 8.05,\n",
       " 'Final Fantasy VIII': 7.86,\n",
       " 'Pokémon Platinum Version': 7.84,\n",
       " 'Pac-Man': 1.22,\n",
       " 'Grand Theft Auto: Liberty City Stories': 3.54,\n",
       " 'Super Mario Galaxy 2': 7.69,\n",
       " 'Star Wars Battlefront (2015)': 0.54,\n",
       " 'Call of Duty: Advanced Warfare': 0.41,\n",
       " 'The Legend of Zelda: Ocarina of Time': 4.21,\n",
       " 'Crash Bandicoot 2: Cortex Strikes Back': 7.58,\n",
       " 'Super Mario Bros. 2': 7.46,\n",
       " 'Super Smash Bros. for Wii U and 3DS': 5.02,\n",
       " 'Call of Duty: World at War': 0.19,\n",
       " 'Battlefield 3': 2.79,\n",
       " 'The Legend of Zelda: Twilight Princess': 1.59,\n",
       " 'Just Dance': 7.27,\n",
       " 'Need for Speed Underground': 0.05,\n",
       " 'Tekken 3': 7.16,\n",
       " 'Crash Bandicoot 3: Warped': 7.13,\n",
       " 'Super Smash Bros. Melee': 7.07,\n",
       " 'Mario Kart 8': 6.96,\n",
       " 'Fallout 4': 1.23,\n",
       " 'Mario Kart: Double Dash!!': 6.95,\n",
       " 'Just Dance 4': 0.39,\n",
       " 'FIFA 14': 0.23,\n",
       " 'Need for Speed Underground 2': 0.08,\n",
       " 'Medal of Honor: Frontline': 0.59,\n",
       " \"Uncharted 3: Drake's Deception\": 6.83,\n",
       " 'Crash Bandicoot': 6.82,\n",
       " 'Zumba Fitness': 0.59,\n",
       " 'Gears of War 2': 6.76,\n",
       " 'Uncharted 2: Among Thieves': 6.73,\n",
       " 'FIFA 12': 0.09,\n",
       " 'Big Brain Academy': 6.67,\n",
       " 'Red Dead Redemption': 6.34,\n",
       " 'FIFA 15': 0.3,\n",
       " 'Donkey Kong Country Returns': 1.87,\n",
       " 'The Legend of Zelda': 6.51,\n",
       " \"Assassin's Creed III\": 0.36,\n",
       " 'Halo: Combat Evolved': 0.04,\n",
       " 'Pokémon Emerald Version': 6.41,\n",
       " 'Kingdom Hearts': 1.75,\n",
       " 'Pokémon Crystal Version': 6.39,\n",
       " 'Halo 3: ODST': 6.36,\n",
       " 'Super Mario Sunshine': 6.31,\n",
       " 'Street Fighter II: The World Warrior': 6.3,\n",
       " 'World of Warcraft': 6.28,\n",
       " 'Driver': 6.27,\n",
       " 'Kinect Sports': 6.24,\n",
       " 'Gears of War 3': 6.24,\n",
       " 'Gears of War': 0.02,\n",
       " 'Metal Gear Solid 2: Sons of Liberty': 6.05,\n",
       " 'Sonic the Hedgehog 2': 6.03,\n",
       " 'Metal Gear Solid 4: Guns of the Patriots': 6.03,\n",
       " 'Metal Gear Solid': 0.07,\n",
       " 'The Last of Us': 4.55,\n",
       " 'Final Fantasy XII': 5.95,\n",
       " 'LittleBigPlanet': 2.58,\n",
       " 'Dragon Quest IX: Sentinels of the Starry Skies': 5.84,\n",
       " 'LEGO Star Wars: The Complete Saga': 2.38,\n",
       " 'Resident Evil 2': 0.06,\n",
       " 'Tekken 2': 5.74,\n",
       " 'Cooking Mama': 5.72,\n",
       " 'Destiny': 1.73,\n",
       " \"Assassin's Creed II\": 0.57,\n",
       " 'Super Smash Bros.': 5.55,\n",
       " \"Assassin's Creed\": 0.92,\n",
       " 'Batman: Arkham City': 0.38,\n",
       " 'Forza Motorsport 3': 5.51,\n",
       " 'Monster Hunter Freedom Unite': 5.5,\n",
       " 'Super Mario Advance': 5.49,\n",
       " 'Mario Kart: Super Circuit': 5.47,\n",
       " 'Pokemon Stadium': 5.45,\n",
       " 'Crash Bandicoot: The Wrath of Cortex': 0.59,\n",
       " 'Final Fantasy XIII': 2.17,\n",
       " 'Dr. Mario': 4.85,\n",
       " 'Pokemon Pinball': 5.31,\n",
       " 'Final Fantasy IX': 5.3,\n",
       " 'Final Fantasy X-2': 5.29,\n",
       " 'Donkey Kong 64': 5.27,\n",
       " 'Professor Layton and the Curious Village': 5.26,\n",
       " 'Tomb Raider II': 2.29,\n",
       " 'Madden NFL 2004': 0.31,\n",
       " 'Dragon Quest VIII: Journey of the Cursed King': 0.86,\n",
       " 'Diablo III': 0.64,\n",
       " 'New Super Mario Bros. U': 5.19,\n",
       " 'Super Mario Land 3: Wario Land': 5.19,\n",
       " 'The Legend of Zelda: Phantom Hourglass': 5.17,\n",
       " \"Donkey Kong Country 2: Diddy's Kong Quest\": 5.15,\n",
       " 'Tomodachi Life': 5.15,\n",
       " 'Medal of Honor: Rising Sun': 0.42,\n",
       " \"Kirby's Dream Land\": 5.13,\n",
       " 'Fable III': 0.32,\n",
       " 'Microsoft Flight Simulator': 5.12,\n",
       " 'Guitar Hero II': 2.2,\n",
       " 'Resident Evil 5': 0.07,\n",
       " 'Grand Theft Auto: Vice City Stories': 0.97,\n",
       " 'FIFA Soccer 11': 0.18,\n",
       " 'Resident Evil': 0.12,\n",
       " \"Tony Hawk's Pro Skater\": 1.33,\n",
       " 'Warzone 2100': 5.01,\n",
       " 'Spyro the Dragon': 5.0,\n",
       " \"Link's Crossbow Training\": 5.0,\n",
       " 'Guitar Hero III: Legends of Rock': 0.01,\n",
       " 'Fallout 3': 0.99,\n",
       " 'Pokemon Mystery Dungeon: Explorers of Time/Explorers of Darkness': 4.96,\n",
       " \"Uncharted: Drake's Fortune\": 4.94,\n",
       " 'Madden NFL 06': 0.12,\n",
       " 'Diddy Kong Racing': 4.88,\n",
       " 'Monster Hunter Freedom 3': 4.87,\n",
       " 'God of War III': 0.63,\n",
       " 'StarCraft II: Wings of Liberty': 4.83,\n",
       " 'Crash Team Racing': 4.79,\n",
       " 'FIFA 17': 0.05,\n",
       " 'Driver 2': 4.73,\n",
       " 'The Simpsons: Hit & Run': 0.99,\n",
       " \"Tony Hawk's Pro Skater 2\": 0.76,\n",
       " 'Animal Crossing: City Folk': 4.68,\n",
       " 'The Lord of the Rings: The Two Towers': 0.53,\n",
       " 'Forza Motorsport 4': 4.64,\n",
       " 'Tomb Raider': 1.03,\n",
       " 'The Legend of Zelda: A Link to the Past': 2.7,\n",
       " 'The Legend of Zelda: The Wind Waker': 1.77,\n",
       " 'Mario & Sonic at the Olympic Winter Games': 3.52,\n",
       " \"Luigi's Mansion: Dark Moon\": 4.58,\n",
       " 'Splatoon': 4.57,\n",
       " 'Madden NFL 2005': 0.26,\n",
       " 'Pitfall!': 4.5,\n",
       " 'Madden NFL 07': 0.03,\n",
       " 'Spider-Man: The Movie': 1.19,\n",
       " 'Dragon Quest VII: Warriors of Eden': 1.42,\n",
       " 'Uncharted: The Nathan Drake Collection': 4.47,\n",
       " 'God of War': 4.45,\n",
       " 'Nintendo Land': 4.44,\n",
       " 'Michael Jackson: The Experience': 0.11,\n",
       " \"Tony Hawk's Pro Skater 3\": 0.08,\n",
       " 'Winning Eleven: Pro Evolution Soccer 2007': 0.01,\n",
       " 'The Elder Scrolls IV: Oblivion': 0.26,\n",
       " 'Zelda II: The Adventure of Link': 4.38,\n",
       " 'Need for Speed: Most Wanted': 0.08,\n",
       " 'Resistance: Fall of Man': 4.35,\n",
       " 'Sonic the Hedgehog': 0.48,\n",
       " 'Kingdom Hearts II': 1.32,\n",
       " 'Asteroids': 1.15,\n",
       " 'Fable II': 4.31,\n",
       " 'Halo 5: Guardians': 4.26,\n",
       " 'Super Mario 3D World': 4.25,\n",
       " 'Batman: Arkham Asylum': 0.32,\n",
       " \"Assassin's Creed: Revelations\": 0.76,\n",
       " 'Namco Museum': 0.63,\n",
       " 'Metal Gear Solid 3: Snake Eater': 4.23,\n",
       " 'Daxter': 4.22,\n",
       " 'Warcraft II: Tides of Darkness': 4.21,\n",
       " 'FIFA Soccer 06': 0.06,\n",
       " 'EyeToy Play': 4.2,\n",
       " \"Uncharted 4: A Thief's End\": 4.2,\n",
       " 'Gran Turismo 5 Prologue': 4.2,\n",
       " 'Street Fighter IV': 0.13,\n",
       " 'Teenage Mutant Ninja Turtles': 0.01,\n",
       " 'Excitebike': 4.16,\n",
       " 'Frogger': 2.2,\n",
       " 'Madden NFL 2003': 0.43,\n",
       " 'Watch Dogs': 0.14,\n",
       " 'Half-Life': 0.6,\n",
       " \"Super Mario World 2: Yoshi's Island\": 2.91,\n",
       " 'FIFA Soccer 07': 0.06,\n",
       " 'The Legend of Zelda: Skyward Sword': 4.1,\n",
       " 'Street Fighter II Turbo': 4.1,\n",
       " 'Carnival Games': 2.05,\n",
       " 'World of Warcraft: The Burning Crusade': 4.09,\n",
       " 'Fallout: New Vegas': 1.16,\n",
       " 'God of War II': 4.07,\n",
       " 'Forza Motorsport 2': 4.06,\n",
       " 'World Soccer Winning Eleven 9': 0.44,\n",
       " 'Namco Museum Vol.3': 4.05,\n",
       " 'Tekken Tag Tournament': 4.05,\n",
       " 'Far Cry 4': 0.62,\n",
       " 'Star Fox 64': 4.03,\n",
       " 'Golf': 2.12,\n",
       " 'Professor Layton and the Diabolical Box': 4.0,\n",
       " 'Left 4 Dead 2': 0.37,\n",
       " 'Namco Museum: 50th Anniversary': 0.18,\n",
       " 'EA Sports Active': 3.92,\n",
       " \"Assassin's Creed: Unity\": 0.55,\n",
       " 'Donkey Kong Land': 3.91,\n",
       " \"Tony Hawk's Underground\": 0.6,\n",
       " \"Assassin's Creed IV: Black Flag\": 0.29,\n",
       " 'Monster Hunter 4 Ultimate': 3.89,\n",
       " 'MotorStorm': 3.88,\n",
       " 'Tekken 5': 3.87,\n",
       " 'Dragon Warrior III': 0.81,\n",
       " 'Sports Champions': 3.87,\n",
       " 'NBA 2K16': 0.09,\n",
       " 'World Soccer Winning Eleven 8 International': 0.09,\n",
       " 'Flash Focus: Vision Training in Minutes a Day': 3.84,\n",
       " 'Namco Museum Vol.1': 3.84,\n",
       " \"The Legend of Zelda: Link's Awakening\": 3.83,\n",
       " \"Mario & Luigi: Bowser's Inside Story\": 3.83,\n",
       " 'Big Brain Academy: Wii Degree': 3.82,\n",
       " 'Nintendogs + cats': 3.81,\n",
       " 'Batman: Arkham Knight': 0.13,\n",
       " 'Mario & Sonic at the London 2012 Olympic Games': 1.19,\n",
       " 'LEGO Indiana Jones: The Original Adventures': 0.04,\n",
       " \"Resident Evil Director's Cut\": 0.04,\n",
       " 'Ratchet & Clank: Size Matters': 0.29,\n",
       " 'Just Dance 2014': 0.39,\n",
       " 'The Sims: Unleashed': 3.76,\n",
       " 'Super Paper Mario': 3.76,\n",
       " \"Harry Potter and the Sorcerer's Stone\": 0.06,\n",
       " 'The Witcher 3: Wild Hunt': 0.67,\n",
       " 'Resident Evil 3: Nemesis': 0.08,\n",
       " 'Spyro: Year of the Dragon': 3.71,\n",
       " 'FIFA Soccer 2005': 0.08,\n",
       " 'Pokémon Trading Card Game': 3.7,\n",
       " 'Battlefield 4': 1.4,\n",
       " 'MySims': 0.03,\n",
       " 'Friend Collection': 3.67,\n",
       " \"Tony Hawk's Pro Skater 4\": 0.57,\n",
       " 'Midnight Club 3: DUB Edition': 0.74,\n",
       " 'Banjo-Kazooie': 0.01,\n",
       " 'SOCOM: U.S. Navy SEALs': 3.65,\n",
       " 'Guitar Hero: World Tour': 0.03,\n",
       " 'Gran Turismo 6': 3.64,\n",
       " 'Jak and Daxter: The Precursor Legacy': 3.64,\n",
       " 'Pokemon Snap': 3.63,\n",
       " 'FIFA Soccer 10': 0.05,\n",
       " 'Pro Evolution Soccer 2008': 0.01,\n",
       " 'Resident Evil 4': 0.03,\n",
       " \"Tom Clancy's The Division\": 0.37,\n",
       " 'Star Wars: Battlefront': 0.2,\n",
       " 'Doom II: Hell on Earth': 0.04,\n",
       " 'The Simpsons: Road Rage': 0.24,\n",
       " 'Cooking Mama 2: Dinner With Friends': 3.61,\n",
       " \"Luigi's Mansion\": 3.6,\n",
       " 'Star Wars: Battlefront II': 0.18,\n",
       " 'WWF SmackDown!': 3.58,\n",
       " 'Croc: Legend of the Gobbos': 3.56,\n",
       " 'The Getaway': 3.54,\n",
       " 'Tomb Raider III: Adventures of Lara Croft': 0.62,\n",
       " 'James Bond 007: Agent Under Fire': 0.72,\n",
       " 'LEGO Star Wars: The Video Game': 0.02,\n",
       " 'Rugrats in Paris: The Movie': 0.5,\n",
       " \"Spyro 2: Ripto's Rage!\": 3.52,\n",
       " 'Left 4 Dead': 0.02,\n",
       " \"Donkey Kong Country 3: Dixie Kong's Double Trouble!\": 3.51,\n",
       " \"Assassin's Creed: Brotherhood\": 0.59,\n",
       " 'Kung Fu': 3.5,\n",
       " 'Clubhouse Games': 3.5,\n",
       " 'FIFA Soccer 2004': 0.05,\n",
       " 'Battlefield: Bad Company 2': 0.71,\n",
       " 'Guitar Hero: On Tour': 3.48,\n",
       " 'Far Cry 3': 0.98,\n",
       " 'Monster Hunter 4': 3.44,\n",
       " 'Borderlands': 0.18,\n",
       " 'Tekken 4': 3.44,\n",
       " 'LittleBigPlanet 2': 3.42,\n",
       " 'Grand Theft Auto 2': 3.42,\n",
       " 'Final Fantasy III': 0.11,\n",
       " 'Spider-Man 2': 0.5,\n",
       " 'F-1 Race': 3.41,\n",
       " 'FIFA Soccer 2003': 0.05,\n",
       " 'Crash Bash': 3.39,\n",
       " 'LEGO Batman: The Videogame': 0.06,\n",
       " 'Metal Gear Solid V: The Phantom Pain': 0.08,\n",
       " 'The Legend of Zelda: Spirit Tracks': 3.38,\n",
       " 'WWF War Zone': 1.33,\n",
       " \"The Legend of Zelda: Majora's Mask\": 3.36,\n",
       " 'Professor Layton and the Unwound Future': 3.36,\n",
       " 'Rugrats: Search For Reptar': 3.34,\n",
       " 'English Training: Have Fun Improving Your Skills!': 3.33,\n",
       " 'James Bond 007: Nightfire': 0.13,\n",
       " 'Ratchet & Clank': 3.33,\n",
       " 'Mario Party 9': 3.32,\n",
       " 'Star Wars Episode III: Revenge of the Sith': 0.31,\n",
       " 'Max Payne': 0.02,\n",
       " 'The Lord of the Rings: The Return of the King': 0.56,\n",
       " \"Assassin's Creed Syndicate\": 0.2,\n",
       " 'True Crime: Streets of LA': 0.56,\n",
       " 'Wii Music': 3.27,\n",
       " 'Gran Turismo (PSP)': 3.27,\n",
       " 'Monster Hunter X': 3.26,\n",
       " 'Tekken': 3.24,\n",
       " 'L.A. Noire': 2.72,\n",
       " 'Madden NFL 16': 0.82,\n",
       " 'Yokai Watch 2 Ganso/Honke': 3.22,\n",
       " '007: Tomorrow Never Dies': 3.21,\n",
       " 'Baseball': 1.61,\n",
       " 'Killer Instinct': 3.2,\n",
       " 'WWF SmackDown! 2: Know Your Role': 3.2,\n",
       " 'Crisis Core: Final Fantasy VII': 3.19,\n",
       " 'God of War: Chains of Olympus': 3.19,\n",
       " 'Dragon Quest VI: Maboroshi no Daichi': 3.19,\n",
       " 'Dance Central': 3.19,\n",
       " 'Enter the Matrix': 0.45,\n",
       " 'Super Mario Maker': 3.18,\n",
       " 'Rhythm Heaven': 0.9,\n",
       " 'Ace Combat 04: Shattered Skies': 3.17,\n",
       " 'Club Penguin: Elite Penguin Force': 3.16,\n",
       " 'Animal Crossing': 3.15,\n",
       " 'Sonic Rush': 3.15,\n",
       " 'Resident Evil 6': 0.04,\n",
       " 'Halo: The Master Chief Collection': 3.15,\n",
       " 'FIFA Soccer 08': 0.02,\n",
       " 'Spider-Man': 0.53,\n",
       " 'Need for Speed III: Hot Pursuit': 3.12,\n",
       " 'Star Wars Episode I Racer': 3.12,\n",
       " 'Personal Trainer: Cooking': 3.12,\n",
       " 'Dragon Warrior IV': 3.12,\n",
       " 'Heavy Rain': 3.12,\n",
       " 'Mass Effect 2': 0.4,\n",
       " 'Dragon Ball Z: Budokai': 0.69,\n",
       " 'Madden NFL 2002': 0.32,\n",
       " 'World Class Track Meet': 3.08,\n",
       " 'Borderlands 2': 0.83,\n",
       " 'The Legend of Zelda: A Link Between Worlds': 3.07,\n",
       " 'Donkey Kong': 1.13,\n",
       " 'The Sims: Vacation': 3.07,\n",
       " 'Mass Effect 3': 0.28,\n",
       " 'Kung Fu Panda': 0.02,\n",
       " 'Epic Mickey': 3.04,\n",
       " 'Saints Row 2': 0.04,\n",
       " 'Rayman': 3.03,\n",
       " 'Killzone 2': 3.02,\n",
       " \"Tom Clancy's Splinter Cell\": 0.1,\n",
       " \"Mike Tyson's Punch-Out!!\": 3.02,\n",
       " 'WWE SmackDown! Shut Your Mouth': 3.02,\n",
       " 'Gears of War: Ultimate Edition': 3.0,\n",
       " 'NBA 2K13': 0.03,\n",
       " 'Dragon Ball Z: Budokai Tenkaichi 3': 1.04,\n",
       " 'wwe Smackdown vs. Raw 2006': 3.0,\n",
       " 'Middle-Earth: Shadow of Mordor': 0.36,\n",
       " 'Star Fox': 2.99,\n",
       " 'The Sims: Livin Large': 2.99,\n",
       " 'World Soccer Winning Eleven 6 International': 2.99,\n",
       " 'Devil May Cry': 2.99,\n",
       " 'Animal Crossing: Happy Home Designer': 2.98,\n",
       " 'The Sims 4': 2.97,\n",
       " 'Star Wars: The Old Republic': 2.97,\n",
       " 'Sonic Heroes': 0.9,\n",
       " 'Kirby Super Star Ultra': 2.96,\n",
       " 'Hitman 2: Silent Assassin': 0.13,\n",
       " 'Wave Race 64': 2.94,\n",
       " 'SOCOM II: U.S. Navy SEALs': 2.94,\n",
       " 'WWE SmackDown! vs. RAW 2006': 0.4,\n",
       " 'inFAMOUS': 2.94,\n",
       " 'Pac-Man Collection': 2.94,\n",
       " 'Mass Effect': 0.68,\n",
       " 'WarioWare: Smooth Moves': 2.92,\n",
       " 'Cooking Mama: Cook Off': 2.91,\n",
       " 'Titanfall': 0.58,\n",
       " 'Sonic Mega Collection Plus': 0.91,\n",
       " 'Sega Superstars Tennis': 0.38,\n",
       " 'World Soccer Winning Eleven 7 International': 2.9,\n",
       " 'Hot Shots Golf 3': 2.89,\n",
       " 'Call of Duty: Finest Hour': 0.4,\n",
       " 'Zumba Fitness 2': 2.88,\n",
       " 'Syphon Filter': 2.88,\n",
       " 'Imagine: Babyz': 2.88,\n",
       " 'Colin McRae Rally': 2.87,\n",
       " 'Madden NFL 13': 0.01,\n",
       " 'The Elder Scrolls III: Morrowind': 2.86,\n",
       " 'Mortal Kombat': 0.01,\n",
       " 'F-Zero': 2.85,\n",
       " \"Yoshi's Story\": 2.85,\n",
       " 'Command & Conquer: Red Alert': 0.41,\n",
       " \"Skylanders: Spyro's Adventure\": 0.1,\n",
       " 'BioShock': 0.41,\n",
       " 'Madden NFL 10': 0.66,\n",
       " 'Medal of Honor': 0.49,\n",
       " 'WWE SmackDown! vs. Raw': 2.83,\n",
       " 'Metroid Prime': 2.82,\n",
       " 'Finding Nemo': 0.66,\n",
       " 'Myst': 0.02,\n",
       " 'Need for Speed: Hot Pursuit': 0.38,\n",
       " 'Imagine: Fashion Designer': 0.13,\n",
       " 'WWE SmackDown! Here Comes the Pain': 2.8,\n",
       " 'Star Wars: The Force Unleashed': 0.9,\n",
       " \"Yoshi's Island DS\": 2.8,\n",
       " 'Hot Shots Golf': 2.79,\n",
       " 'Killzone 3': 2.79,\n",
       " \"A Bug's Life\": 0.63,\n",
       " 'WWF SmackDown! Just Bring It': 2.79,\n",
       " 'Dragon Quest V: Tenkuu no Hanayome': 1.65,\n",
       " 'Mortal Kombat Trilogy': 0.96,\n",
       " 'NBA Street': 0.42,\n",
       " 'Professor Layton and the Last Specter': 2.79,\n",
       " 'Monster Hunter Tri': 0.72,\n",
       " 'Jak II': 2.78,\n",
       " 'inFAMOUS: Second Son': 2.78,\n",
       " 'Ratchet & Clank: Going Commando': 2.78,\n",
       " 'Tekken 6': 0.32,\n",
       " 'The Sims': 0.05,\n",
       " 'Sonic and the Secret Rings': 2.77,\n",
       " 'Saints Row: The Third': 0.38,\n",
       " 'Missile Command': 0.45,\n",
       " 'Mario Paint': 2.75,\n",
       " 'Pokémon Stadium 2': 2.73,\n",
       " 'Metroid': 2.73,\n",
       " 'Call of Duty 3': 1.07,\n",
       " 'Onimusha: Warlords': 2.7,\n",
       " 'Mortal Kombat X': 0.05,\n",
       " 'Mario Party': 2.7,\n",
       " 'Madden NFL 12': 0.22,\n",
       " 'LEGO Star Wars II: The Original Trilogy': 0.02,\n",
       " 'Madden NFL 11': 0.37,\n",
       " 'Mario vs. Donkey Kong: Mini-Land Mayhem!': 2.69,\n",
       " 'Skate 3': 2.08,\n",
       " 'Burnout 3: Takedown': 1.31,\n",
       " 'Yokai Watch 2 Shinuchi': 2.68,\n",
       " 'Need for Speed: Shift': 0.06,\n",
       " 'Final Fantasy XIII-2': 0.74,\n",
       " 'Call Of Duty 2: Big Red One': 0.33,\n",
       " 'Fable': 0.48,\n",
       " 'Hannah Montana': 2.65,\n",
       " 'Skylanders Giants': 0.14,\n",
       " 'Medal of Honor Heroes': 2.65,\n",
       " 'Super Mario Bros.: The Lost Levels': 2.65,\n",
       " 'Star Wars: Shadows of the Empire': 2.65,\n",
       " 'Midnight Club: Street Racing': 0.48,\n",
       " 'Pac-Man: Adventures in Time': 2.63,\n",
       " 'Halo Wars': 2.63,\n",
       " 'God of War Collection': 0.33,\n",
       " 'ESPN NFL 2K5': 1.63,\n",
       " 'Mario Strikers Charged': 2.62,\n",
       " 'NBA 2K12': 0.16,\n",
       " 'Style Savvy': 2.61,\n",
       " 'Harry Potter and the Chamber of Secrets': 0.01,\n",
       " 'Super Mario All-Stars: Limited Edition': 2.6,\n",
       " 'Streets of Rage': 2.6,\n",
       " 'FIFA Soccer 09': 0.02,\n",
       " 'Ratchet & Clank Future: Tools of Destruction': 2.59,\n",
       " 'NBA Live 2005': 0.45,\n",
       " 'Killzone: Shadow Fall': 2.58,\n",
       " 'Ghostbusters: The Video Game (DS Version)': 0.09,\n",
       " 'Monster Hunter Freedom 2': 0.5,\n",
       " 'WWE SmackDown vs. RAW 2007': 0.51,\n",
       " 'Ratchet & Clank: Up Your Arsenal': 2.57,\n",
       " 'Art Academy': 2.57,\n",
       " 'Dragon Age: Origins': 0.51,\n",
       " 'Madden NFL 08': 0.08,\n",
       " 'Sonic Adventure 2 Battle': 2.56,\n",
       " 'Dragon Warrior II': 2.56,\n",
       " 'Pokémon Colosseum': 2.54,\n",
       " 'Deca Sports': 2.54,\n",
       " 'Madden NFL 09': 0.18,\n",
       " 'Space Invaders': 0.11,\n",
       " 'Crazy Taxi': 0.49,\n",
       " 'Perfect Dark': 2.52,\n",
       " 'Game Party': 2.52,\n",
       " 'Dragon Warrior': 2.52,\n",
       " 'Tomb Raider (2013)': 0.36,\n",
       " 'Marvel: Ultimate Alliance': 0.01,\n",
       " 'PES 2009: Pro Evolution Soccer': 0.45,\n",
       " 'Mario Party 2': 2.5,\n",
       " 'Rockstar Games Double Pack: Grand Theft Auto III & Grand Theft Auto Vice City': 1.72,\n",
       " 'LEGO Harry Potter: Years 1-4': 0.02,\n",
       " 'Mortal Kombat: Deadly Alliance': 0.01,\n",
       " 'Resistance 2': 2.48,\n",
       " 'Pure': 0.9,\n",
       " 'Tomb Raider: The Last Revelation': 0.41,\n",
       " 'Rock Band': 1.11,\n",
       " 'NBA 2K14': 0.87,\n",
       " 'Mario Party 4': 2.47,\n",
       " 'uDraw Studio': 2.46,\n",
       " 'Midnight Club: Los Angeles': 2.35,\n",
       " 'Final Fantasy V': 0.17,\n",
       " 'Final Fantasy Tactics': 2.45,\n",
       " 'Twisted Metal 2': 2.44,\n",
       " 'Halo: Combat Evolved Anniversary': 2.44,\n",
       " 'Need for Speed Carbon: Own the City': 0.21,\n",
       " \"The Sims: Bustin' Out\": 0.56,\n",
       " 'Riven: The Sequel to Myst': 0.32,\n",
       " \"Tom Clancy's Rainbow Six: Vegas 2\": 0.02,\n",
       " 'Sonic Adventure': 2.42,\n",
       " 'Ice Hockey': 0.49,\n",
       " 'pro evolution soccer 2011': 0.06,\n",
       " 'Dragon Ball Z: Budokai 2': 0.27,\n",
       " 'ATV Offroad Fury': 2.41,\n",
       " 'Dino Crisis': 2.41,\n",
       " 'Need for Speed: ProStreet': 0.04,\n",
       " 'Tetris Plus': 2.4,\n",
       " 'Pro Wrestling': 2.4,\n",
       " 'Theme Hospital': 0.09,\n",
       " \"Frogger's Adventures: Temple of the Frog\": 2.39,\n",
       " 'Need for Speed (2015)': 0.03,\n",
       " 'Monopoly': 0.21,\n",
       " 'Batman: Arkham Origins': 0.32,\n",
       " 'Dead Island': 0.22,\n",
       " 'Guitar Hero': 2.38,\n",
       " 'Kinect: Disneyland Adventures': 2.38,\n",
       " 'WCW/nWo Revenge': 2.38,\n",
       " 'Bloodborne': 2.38,\n",
       " 'NBA 2K15': 1.36,\n",
       " 'Yu-Gi-Oh! The Duelists of the Roses': 2.38,\n",
       " 'Half-Life 2': 0.61,\n",
       " 'The Incredibles': 0.84,\n",
       " \"Tony Hawk's Underground 2\": 0.49,\n",
       " 'Kinect Sports: Season Two': 2.36,\n",
       " \"Kirby's Dream Land 2\": 2.36,\n",
       " 'Donkey Kong Land II': 2.35,\n",
       " 'Dragon Warrior Monsters': 2.35,\n",
       " 'Skylanders SWAP Force': 0.24,\n",
       " 'WWE SmackDown vs Raw 2008': 0.12,\n",
       " 'My Fitness Coach': 2.34,\n",
       " 'Resident Evil - Code: Veronica X': 0.06,\n",
       " \"The Legend of Zelda: Majora's Mask 3D\": 2.32,\n",
       " 'Just Dance Kids': 2.32,\n",
       " 'Mario Tennis': 0.02,\n",
       " 'Grand Theft Auto': 0.24,\n",
       " 'James Bond 007: Everything or Nothing': 0.17,\n",
       " 'WarioWare Touched!': 2.31,\n",
       " 'Need For Speed: High Stakes': 2.31,\n",
       " 'Chrono Trigger': 1.47,\n",
       " 'Cool Boarders 3': 2.31,\n",
       " 'LEGO Marvel Super Heroes': 0.18,\n",
       " 'Guild Wars 2': 2.3,\n",
       " 'Pokemon Ranger: Shadows of Almia': 2.3,\n",
       " 'God of War: Ascension': 2.29,\n",
       " 'Pro Evolution Soccer 2010': 0.01,\n",
       " 'Just Dance 2015': 0.28,\n",
       " 'Yokai Watch Busters': 2.28,\n",
       " 'Mario Bros.': 1.59,\n",
       " 'TOCA Touring Car Championship': 2.28,\n",
       " 'Paper Mario: Sticker Star': 2.27,\n",
       " \"Sonic's Ultimate Genesis Collection\": 1.43,\n",
       " 'Super Monkey Ball: Banana Blitz': 2.27,\n",
       " 'Kirby: Nightmare in Dream Land': 2.27,\n",
       " 'Wario Land 4': 2.26,\n",
       " \"Onimusha 2: Samurai's Destiny\": 2.25,\n",
       " 'Cool Boarders 2': 2.25,\n",
       " 'Paper Mario: The Thousand-Year Door': 2.25,\n",
       " 'Dissidia: Final Fantasy': 2.25,\n",
       " 'Sonic Advance': 2.24,\n",
       " 'Spyro: Season of Ice': 2.23,\n",
       " 'Teenage Mutant Ninja Turtles II: The Arcade Game': 2.23,\n",
       " 'Dance Dance Revolution X2': 2.23,\n",
       " 'New Super Luigi U': 2.22,\n",
       " 'Prince of Persia: The Sands of Time': 0.15,\n",
       " 'Scribblenauts': 2.22,\n",
       " \"The Legend of Zelda: Link's Awakening DX\": 2.22,\n",
       " 'BioShock 2': 0.24,\n",
       " \"Devil May Cry 3: Dante's Awakening Special Edition\": 2.21,\n",
       " 'Rock Band 2': 0.59,\n",
       " 'Wario Land 3': 2.2,\n",
       " 'Pro Yakyuu Family Stadium': 0.03,\n",
       " 'Sonic Unleashed': 0.76,\n",
       " \"High School Musical: Makin' the Cut!\": 2.2,\n",
       " 'Pro Evolution Soccer 2012': 0.03,\n",
       " 'Saints Row': 2.19,\n",
       " 'Star Wars: Knights of the Old Republic': 0.14,\n",
       " \"Kirby's Pinball Land\": 2.19,\n",
       " 'Hitman: Absolution': 0.25,\n",
       " 'Yu-Gi-Oh: Duel Monsters 4': 2.18,\n",
       " 'ATV Offroad Fury 2': 2.18,\n",
       " 'Forza Motorsport 5': 2.18,\n",
       " 'Madden NFL 25': 0.77,\n",
       " 'Pokemon Ranger': 2.18,\n",
       " 'Mario & Luigi: Superstar Saga': 2.17,\n",
       " 'Star Wars: Rogue Squadron': 2.17,\n",
       " 'Tennis': 1.99,\n",
       " 'The Sims: House Party': 2.16,\n",
       " 'Your Shape featuring Jenny McCarthy': 2.16,\n",
       " 'Syphon Filter 2': 2.15,\n",
       " \"Tom Clancy's Rainbow Six: Siege\": 0.22,\n",
       " 'Volleyball': 2.15,\n",
       " 'Call of Duty: Roads to Victory': 2.14,\n",
       " 'Super Mario RPG: Legend of the Seven Stars': 2.14,\n",
       " 'Mahjong': 2.14,\n",
       " 'R.C. Pro-Am': 2.14,\n",
       " 'SimCity 2000': 0.11,\n",
       " 'Demon Attack': 2.13,\n",
       " 'Dance Dance Revolution Extreme': 2.13,\n",
       " 'Tetris DS': 2.13,\n",
       " 'Final Fantasy Tactics Advance': 2.13,\n",
       " 'Far Cry: Primal': 0.14,\n",
       " 'Toy Story 3: The Video Game': 0.66,\n",
       " \"Kirby's Epic Yarn\": 2.12,\n",
       " 'Project Gotham Racing': 2.12,\n",
       " 'Need for Speed: Hot Pursuit 2': 0.8,\n",
       " 'Mario Sports Mix': 2.11,\n",
       " 'Dynasty Warriors 4': 0.16,\n",
       " 'Parasite Eve': 2.1,\n",
       " 'Scooby-Doo! Night of 100 Frights': 0.14,\n",
       " 'Project Gotham Racing (JP weekly sales)': 2.1,\n",
       " 'Need for Speed: Most Wanted 5-1-0': 2.1,\n",
       " 'Portal 2': 0.76,\n",
       " \"Devil May Cry 3: Dante's Awakening\": 2.09,\n",
       " 'Derby Stallion': 0.09,\n",
       " 'Dead Rising': 0.02,\n",
       " 'NBA 2K11': 0.19,\n",
       " 'Wipeout: The Game': 0.62,\n",
       " 'The Sims 2: Pets': 0.04,\n",
       " 'Battlefield: Hardline': 0.14,\n",
       " 'Metal Gear Solid: Peace Walker': 2.09,\n",
       " 'World of Warcraft: Cataclysm': 2.08,\n",
       " 'Tetris Worlds': 0.22,\n",
       " 'Need For Speed: Undercover': 0.08,\n",
       " 'Dance Dance Revolution: Hottest Party': 2.08,\n",
       " 'Mario Party 5': 2.08,\n",
       " 'Sim Theme Park': 0.63,\n",
       " 'Warcraft: Orcs & Humans': 2.08,\n",
       " 'Spec Ops: Airborne Commando': 2.07,\n",
       " 'Kingdom Hearts: Birth by Sleep': 2.07,\n",
       " 'UFC 2009 Undisputed': 1.77,\n",
       " 'Dark Souls': 0.07,\n",
       " 'Yu-Gi-Oh! The Eternal Duelist Soul': 2.07,\n",
       " \"Tom Clancy's Splinter Cell: Conviction\": 0.11,\n",
       " 'Pokemon Mystery Dungeon: Red/Blue Rescue Team': 2.06,\n",
       " 'R4: Ridge Racer Type 4': 2.06,\n",
       " 'SoulCalibur II': 1.0,\n",
       " 'Mario & Luigi: Dream Team': 2.06,\n",
       " 'Pokémon Mystery Dungeon: Blue Rescue Team': 2.05,\n",
       " 'Sonic Mega Collection': 2.05,\n",
       " 'NBA Jam': 0.14,\n",
       " 'PGR4 - Project Gotham Racing 4': 2.05,\n",
       " 'Kingdom Hearts 358/2 Days': 2.04,\n",
       " 'Dance Central 2': 2.04,\n",
       " 'Rayman Raving Rabbids: TV Party': 0.49,\n",
       " 'SOCOM: U.S. Navy SEALs: Combined Assault': 2.04,\n",
       " \"Peter Jackson's King Kong: The Official Game of the Movie\": 0.13,\n",
       " 'Need for Speed: The Run': 0.19,\n",
       " 'Madden NFL 15': 1.41,\n",
       " '1080°: TenEighty Snowboarding': 2.03,\n",
       " 'NBA Live 2004': 0.27,\n",
       " 'Dead Space': 0.59,\n",
       " 'Call of Duty 2': 0.06,\n",
       " 'Forza Horizon': 2.02,\n",
       " 'TouchMaster': 2.01,\n",
       " 'Fire Emblem: Awakening': 2.0,\n",
       " 'DriveClub': 2.0,\n",
       " 'Super Street Fighter II': 0.15,\n",
       " 'Mortal Kombat vs. DC Universe': 1.93,\n",
       " 'Tenchu: Stealth Assassins': 1.99,\n",
       " 'SimCity': 0.03,\n",
       " 'Dragon Age: Inquisition': 0.55,\n",
       " 'Sonic Classic Collection': 1.97,\n",
       " 'Spyro: Enter the Dragonfly': 0.71,\n",
       " 'Devil May Cry 2': 1.97,\n",
       " 'Burnout Paradise': 1.36,\n",
       " 'E.T.: The Extra Terrestrial': 1.97,\n",
       " 'BioShock Infinite': 0.67,\n",
       " 'Hot Shots Golf: Open Tee': 1.96,\n",
       " 'Rad Racer': 1.96,\n",
       " 'Soccer': 1.96,\n",
       " 'Kirby Squeak Squad': 1.96,\n",
       " \"Tom Clancy's Rainbow Six: Vegas\": 0.74,\n",
       " 'Crash Nitro Kart': 0.26,\n",
       " 'Star Wars: Dark Forces': 0.55,\n",
       " 'NBA Street Vol. 2': 0.54,\n",
       " 'Def Jam Vendetta': 0.25,\n",
       " 'Who wants to be a millionaire': 0.8,\n",
       " 'Scooby Doo and the Cyber Chase': 1.94,\n",
       " 'Alleyway': 1.94,\n",
       " 'Dragon Ball Z: Budokai 3': 1.94,\n",
       " 'Jet Moto 2': 1.94,\n",
       " \"Tom Clancy's Ghost Recon\": 0.14,\n",
       " 'X-Men Legends': 0.53,\n",
       " 'Mortal Kombat II': 1.93,\n",
       " 'Virtua Fighter 2': 1.93,\n",
       " 'Tetris DX': 1.93,\n",
       " 'Mario Super Sluggers': 1.93,\n",
       " 'The Legend of Zelda: Oracle of Ages': 1.92,\n",
       " 'Red Faction': 1.92,\n",
       " \"The Sims: Makin' Magic\": 1.92,\n",
       " 'MX Unleashed': 0.44,\n",
       " 'PaRappa The Rapper': 0.14,\n",
       " 'Toy Story Mania!': 1.92,\n",
       " 'Mario Party 3': 1.91,\n",
       " 'Game Party 2': 1.91,\n",
       " 'Destiny: The Taken King': 0.38,\n",
       " 'LEGO Star Wars III: The Clone Wars': 0.26,\n",
       " 'Star Wars Rogue Leader: Rogue Squadron II': 1.9,\n",
       " 'Max Payne 3': 0.43,\n",
       " 'Need for Speed Rivals': 0.27,\n",
       " 'Yokai Watch': 1.89,\n",
       " 'Ratchet & Clank Future: A Crack in Time': 1.88,\n",
       " 'Yu-Gi-Oh! Forbidden Memories': 1.88,\n",
       " 'Mortal Kombat: Deception': 0.11,\n",
       " 'Hot Shots Golf 2': 1.88,\n",
       " 'Medal of Honor: European Assault (All Region sales)': 1.88,\n",
       " 'WCW Nitro': 0.21,\n",
       " 'High School Musical: Sing It!': 1.77,\n",
       " 'Star Fox Adventures': 1.87,\n",
       " 'FIFA 2000': 1.87,\n",
       " 'Dynasty Warriors 3': 0.08,\n",
       " 'The Legend of Zelda: Oracle of Seasons': 1.86,\n",
       " 'Shrek 2': 0.55,\n",
       " 'The Legend of Dragoon': 1.86,\n",
       " 'Turok 2: Seeds of Evil': 1.86,\n",
       " 'SingStar': 1.16,\n",
       " 'LittleBigPlanet 3': 0.75,\n",
       " 'NBA Live 2002': 0.4,\n",
       " 'Phineas and Ferb': 1.86,\n",
       " 'Chrono Cross': 1.86,\n",
       " 'GoldenEye 007 (2010)': 0.15,\n",
       " 'Mario Party: Island Tour': 1.85,\n",
       " 'Jak 3': 1.85,\n",
       " 'Rayman Raving Rabbids 2': 0.8,\n",
       " 'Kingdom Hearts: Chain of Memories': 1.85,\n",
       " 'Pinball': 1.85,\n",
       " 'inFAMOUS 2': 1.85,\n",
       " 'Gran Turismo Concept 2001 Tokyo': 1.84,\n",
       " \"Demon's Souls\": 1.84,\n",
       " 'NCAA Football 06': 0.97,\n",
       " 'Hey You, Pikachu!': 1.83,\n",
       " '2 Games in 1: Sonic Advance & ChuChu Rocket!': 1.83,\n",
       " 'World of Warcraft: Mists of Pandaria': 1.83,\n",
       " 'Jet Moto': 1.83,\n",
       " 'Just Cause 3': 0.14,\n",
       " 'Secret of Mana': 1.83,\n",
       " 'The Orange Box': 0.14,\n",
       " 'Air Combat': 1.83,\n",
       " 'Kirby: Triple Deluxe': 1.82,\n",
       " 'Sonic & Knuckles': 1.82,\n",
       " 'The Sims: Hot Date': 1.82,\n",
       " 'Metroid Prime 3: Corruption': 1.82,\n",
       " 'Dragon Quest VI: Realms of Revelation': 1.81,\n",
       " 'The Evil Within': 0.27,\n",
       " 'DDRMAX2: Dance Dance Revolution': 1.81,\n",
       " 'Virtua Fighter 4': 1.81,\n",
       " 'Sly 2: Band of Thieves': 0.07,\n",
       " 'Sonic Advance 2': 1.8,\n",
       " 'NFL GameDay 2000': 1.8,\n",
       " \"Disney's The Lion King\": 1.41,\n",
       " 'Beyond: Two Souls': 1.79,\n",
       " 'Kinect Star Wars': 1.78,\n",
       " 'Midnight Club II': 0.5,\n",
       " 'Dragon Quest Monsters: Joker': 1.78,\n",
       " 'SpongeBob SquarePants: SuperSponge': 0.55,\n",
       " 'The Getaway: Black Monday': 1.78,\n",
       " 'Professor Layton and the Mask of Miracle': 1.78,\n",
       " 'Just Cause 2': 0.13,\n",
       " \"Dragon's Dogma\": 0.8,\n",
       " '50 Cent: Bulletproof': 0.09,\n",
       " 'Wii Party U': 1.77,\n",
       " 'Final Fantasy II': 0.25,\n",
       " 'Kirby 64: The Crystal Shards': 1.77,\n",
       " 'Dead or Alive 3': 1.77,\n",
       " 'Metroid II: Return of Samus': 1.76,\n",
       " 'WWF Attitude': 0.71,\n",
       " 'The SpongeBob SquarePants Movie': 0.54,\n",
       " 'Golden Sun': 1.76,\n",
       " 'Sonic the Hedgehog 3': 1.76,\n",
       " 'Kid Icarus': 1.76,\n",
       " 'Def Jam: Fight for NY': 0.22,\n",
       " 'State of Emergency': 0.17,\n",
       " '2 Games in 1 Double Pack: The Incredibles / Finding Nemo: The Continuing Adventures': 1.76,\n",
       " 'The Urbz: Sims in the City': 0.34,\n",
       " 'Star Wars: Starfighter': 1.76,\n",
       " 'Madden NFL 2000': 0.61,\n",
       " 'Pro Evolution Soccer': 1.75,\n",
       " 'Crackdown': 1.75,\n",
       " 'Yoshi': 0.73,\n",
       " \"Disney's Aladdin\": 0.03,\n",
       " \"Kirby's Adventure\": 1.75,\n",
       " 'Cooking Mama 3: Shop & Chop': 1.75,\n",
       " 'Dance Dance Revolution X': 1.75,\n",
       " '2 Games in 1: Disney Princess & The Lion King': 1.75,\n",
       " 'Star Wars Episode I: The Phantom Menace': 1.74,\n",
       " 'Xenosaga Episode I: Der Wille zur Macht': 1.74,\n",
       " 'The Beatles: Rock Band': 1.13,\n",
       " 'Forza Motorsport 6': 1.74,\n",
       " 'Sonic Colors': 1.37,\n",
       " \"Cruis'n USA\": 1.74,\n",
       " 'Madden NFL 99': 0.9,\n",
       " 'Uncharted: Golden Abyss': 1.74,\n",
       " 'SSX Tricky': 0.19,\n",
       " 'Overwatch': 0.43,\n",
       " 'Twisted Metal III': 1.73,\n",
       " 'Disney Infinity': 0.07,\n",
       " 'Crash Bandicoot: The Huge Adventure': 1.73,\n",
       " 'Dishonored': 0.14,\n",
       " 'The Order: 1886': 1.72,\n",
       " 'The Elder Scrolls Online': 0.9,\n",
       " 'Call of Duty: World at War Final Fronts': 1.72,\n",
       " 'Imagine: Teacher': 1.72,\n",
       " 'Star Ocean: Till The End of Time': 1.72,\n",
       " 'The Sims 3: Late Night Expansion Pack': 1.71,\n",
       " 'Game Party 3': 1.71,\n",
       " 'Toy Story 2: Buzz Lightyear to the Rescue!': 0.93,\n",
       " 'Deal or No Deal': 0.01,\n",
       " 'Ace Combat 5: The Unsung War': 1.71,\n",
       " 'Kanshuu Nippon Joushikiryoku Kentei Kyoukai: Imasara Hito ni wa Kikenai Otona no Joushikiryoku Training DS': 1.71,\n",
       " \"Cabela's Big Game Hunter 2010\": 0.27,\n",
       " 'The Crew': 0.16,\n",
       " 'We Ski': 1.7,\n",
       " 'Personal Trainer: Math': 1.7,\n",
       " \"Kirby's Return to Dreamland\": 1.7,\n",
       " 'Super Puyo Puyo': 1.7,\n",
       " 'Ben 10: Protector of Earth': 0.72,\n",
       " 'NCAA Football 07': 0.37,\n",
       " 'SOCOM 3: U.S. Navy SEALs': 1.69,\n",
       " 'Saints Row IV': 0.19,\n",
       " \"Jampack Winter '99\": 1.69,\n",
       " 'WCW vs. nWo: World Tour': 1.69,\n",
       " 'WCW/NWO Thunder': 1.69,\n",
       " 'Dragon Ball Z: The Legacy of Goku': 1.69,\n",
       " \"Sid Meier's Civilization V\": 1.69,\n",
       " 'Call of Duty Black Ops: Declassified': 1.69,\n",
       " 'Star Wars Battlefront: Renegade Squadron': 1.68,\n",
       " 'World Championship Poker: Featuring Howard Lederer - All In': 0.05,\n",
       " 'NFL GameDay 98': 1.68,\n",
       " 'LEGO Batman 2: DC Super Heroes': 0.13,\n",
       " \"Yoshi's Cookie\": 1.12,\n",
       " 'Time Crisis': 1.68,\n",
       " 'The Sims: Superstar': 1.68,\n",
       " 'Star Wars The Clone Wars: Lightsaber Duels': 1.68,\n",
       " 'Metroid Fusion': 1.68,\n",
       " 'Shaun White Snowboarding: Road Trip': 1.67,\n",
       " 'SSX 3': 0.12,\n",
       " 'Big Beach Sports': 1.67,\n",
       " 'Madden NFL 2001': 0.64,\n",
       " 'Fight Night Round 3': 0.33,\n",
       " 'Knack': 1.67,\n",
       " \"Disney's DuckTales\": 1.43,\n",
       " 'Monsters, Inc.': 0.32,\n",
       " 'StarCraft II: Heart of the Swarm': 1.67,\n",
       " 'PGR: Project Gotham Racing 2': 1.67,\n",
       " 'Spy Hunter': 0.2,\n",
       " 'NCAA Football 2004': 0.15,\n",
       " 'SpongeBob SquarePants: Battle for Bikini Bottom': 0.57,\n",
       " 'Dying Light': 0.18,\n",
       " 'Heavenly Sword': 1.66,\n",
       " \"Street Fighter II': Special Champion Edition\": 1.66,\n",
       " 'SSX': 0.72,\n",
       " 'NBA Ballers': 0.51,\n",
       " 'Need for Speed Carbon': 0.05,\n",
       " 'NBA Live 2003': 0.3,\n",
       " 'Dragon Ball Z: Budokai Tenkaichi': 1.66,\n",
       " 'Ms. Pac-Man': 1.65,\n",
       " 'Mario Party 6': 1.65,\n",
       " 'Super Scope 6': 1.65,\n",
       " 'Go Vacation': 1.65,\n",
       " 'Army of Two': 1.17,\n",
       " 'Dragon Quest IV: Chapters of the Chosen': 1.64,\n",
       " 'Kirby & the Amazing Mirror': 1.64,\n",
       " 'LEGO Pirates of the Caribbean: The Video Game': 0.03,\n",
       " 'Dig Dug': 0.41,\n",
       " \"Tom Clancy's Rainbow Six\": 0.64,\n",
       " \"Ghosts 'n Goblins\": 1.64,\n",
       " 'Tiger Woods PGA Tour 2003': 0.23,\n",
       " 'NBA Live 06 (All region sales)': 1.64,\n",
       " 'Prince of Persia: Warrior Within': 0.2,\n",
       " 'Kinectimals': 1.64,\n",
       " 'Until Dawn': 1.64,\n",
       " 'Viva Pinata': 0.02,\n",
       " 'Pikmin': 1.63,\n",
       " 'Sonic Generations': 0.11,\n",
       " 'Tiger Woods PGA Tour 2004': 0.16,\n",
       " 'Ape Escape': 0.05,\n",
       " 'NCAA Football 2005': 0.22,\n",
       " \"Tony Hawk's American Wasteland (Old all region sales)\": 1.62,\n",
       " 'Rage': 0.37,\n",
       " 'Mario Hoops 3 on 3': 1.62,\n",
       " 'Kirby Air Ride': 1.62,\n",
       " 'Sled Storm': 0.45,\n",
       " 'Pokemon Battle Revolution': 1.61,\n",
       " 'NFL Street 2': 0.2,\n",
       " 'Gears of War: Judgment': 1.61,\n",
       " 'Yu-Gi-Oh! Duel Monsters': 1.61,\n",
       " 'Super Mario Strikers': 1.61,\n",
       " 'Buzz! The Music Quiz': 1.61,\n",
       " \"SpongeBob's Atlantis SquarePantis\": 0.44,\n",
       " 'Dance Dance Revolution: Hottest Party 2': 1.6,\n",
       " 'Moshi Monsters: Moshling Zoo': 1.6,\n",
       " 'Dollar Dash': 1.6,\n",
       " 'Far Cry 2': 0.49,\n",
       " 'F-1 World Grand Prix': 1.6,\n",
       " 'River Raid': 1.6,\n",
       " 'Silent Hill': 1.6,\n",
       " 'Dragon Quest V: Hand of the Heavenly Bride': 1.6,\n",
       " \"No Man's Sky\": 1.6,\n",
       " 'ESPN NBA 2K5': 0.95,\n",
       " 'Diablo': 0.58,\n",
       " 'Soul Edge': 1.59,\n",
       " 'Devil May Cry 4': 0.04,\n",
       " 'SoulCalibur IV': 1.47,\n",
       " 'NASCAR 2000': 0.53,\n",
       " 'Wolfenstein: The New Order': 0.41,\n",
       " 'Carnival Games: Mini Golf': 1.58,\n",
       " 'Guitar Hero: On Tour Decades': 1.58,\n",
       " 'MySims Kingdom': 1.53,\n",
       " 'Jampack Summer 2K': 1.58,\n",
       " 'Guitar Hero 5': 1.1,\n",
       " 'High School Musical 3: Senior Year': 1.58,\n",
       " 'Kingdom Hearts 3D: Dream Drop Distance': 1.58,\n",
       " 'Hannah Montana: Music Jam': 1.58,\n",
       " 'Pokemon Mystery Dungeon: Explorers of Sky': 1.58,\n",
       " 'Spyro 2: Season of Flame': 1.58,\n",
       " 'NCAA Football 2002': 1.57,\n",
       " 'Conflict: Desert Storm': 0.08,\n",
       " 'Mario Party 7': 1.57,\n",
       " 'Pro Evolution Soccer 2013': 0.09,\n",
       " \"Smuggler's Run\": 0.01,\n",
       " 'Donkey Kong Classics': 1.56,\n",
       " 'Twisted Metal': 1.56,\n",
       " 'Dark Souls III': 0.05,\n",
       " 'Final Fight': 1.56,\n",
       " 'Dragon Quest Monsters 2': 0.79,\n",
       " 'Pokemon Pinball: Ruby & Sapphire': 1.56,\n",
       " 'Mafia II': 0.4,\n",
       " 'Stuntman': 0.04,\n",
       " \"Tom Clancy's Rainbow Six 3\": 0.06,\n",
       " 'Active Life: Outdoor Challenge': 1.55,\n",
       " '007: The World is not Enough': 0.92,\n",
       " 'Spider-Man 2: Enter: Electro': 1.55,\n",
       " 'Star Wars: The Force Unleashed II': 0.03,\n",
       " 'Ni no Kuni: Wrath of the White Witch': 1.55,\n",
       " 'Command & Conquer: Tiberian Sun': 1.55,\n",
       " 'LEGO Battles: Ninjago': 1.55,\n",
       " 'Mario Party 10': 1.55,\n",
       " 'Dead Rising 3': 1.54,\n",
       " 'Resident Evil: The Umbrella Chronicles': 1.54,\n",
       " 'Fire Emblem Fates': 1.54,\n",
       " 'Dark Cloud': 1.54,\n",
       " 'Warcraft III: The Frozen Throne': 1.54,\n",
       " \"Tom Clancy's Ghost Recon Advanced Warfighter\": 0.33,\n",
       " 'Disney Fairies: Tinker Bell': 1.54,\n",
       " 'MVP Baseball 2005': 0.33,\n",
       " 'Die Hard Trilogy': 1.54,\n",
       " 'Fight Night Round 4': 1.41,\n",
       " 'The Simpsons Game': 0.91,\n",
       " 'Mortal Kombat 3': 0.55,\n",
       " ...}"
      ]
     },
     "execution_count": 37,
     "metadata": {},
     "output_type": "execute_result"
    }
   ],
   "source": [
    "s6.to_dict()"
   ]
  },
  {
   "cell_type": "code",
   "execution_count": 38,
   "id": "c270c6b3",
   "metadata": {},
   "outputs": [
    {
     "data": {
      "application/vnd.microsoft.datawrangler.viewer.v0+json": {
       "columns": [
        {
         "name": "index",
         "rawType": "object",
         "type": "string"
        },
        {
         "name": "Global_Sales",
         "rawType": "float64",
         "type": "float"
        }
       ],
       "ref": "7d2b04f1-485a-46f6-87c0-74afc76c1578",
       "rows": [
        [
         "count",
         "16598.0"
        ],
        [
         "mean",
         "0.5374406555006628"
        ],
        [
         "std",
         "1.5550279355699124"
        ],
        [
         "min",
         "0.01"
        ],
        [
         "25%",
         "0.06"
        ],
        [
         "50%",
         "0.17"
        ],
        [
         "75%",
         "0.47"
        ],
        [
         "max",
         "82.74"
        ]
       ],
       "shape": {
        "columns": 1,
        "rows": 8
       }
      },
      "text/plain": [
       "count    16598.000000\n",
       "mean         0.537441\n",
       "std          1.555028\n",
       "min          0.010000\n",
       "25%          0.060000\n",
       "50%          0.170000\n",
       "75%          0.470000\n",
       "max         82.740000\n",
       "Name: Global_Sales, dtype: float64"
      ]
     },
     "execution_count": 38,
     "metadata": {},
     "output_type": "execute_result"
    }
   ],
   "source": [
    "s6.describe()"
   ]
  },
  {
   "cell_type": "code",
   "execution_count": null,
   "id": "d043cccb",
   "metadata": {},
   "outputs": [],
   "source": []
  },
  {
   "cell_type": "code",
   "execution_count": 39,
   "id": "e418d6e2",
   "metadata": {},
   "outputs": [
    {
     "name": "stdout",
     "output_type": "stream",
     "text": [
      "1\n",
      "None\n"
     ]
    }
   ],
   "source": [
    "import pandas as pd\n",
    "s = pd.Series([1, 2, 3, 4], index=['a', 'b', 'c','d'])\n",
    "result = s.get('a', 0) # 0 is default if do not have index in data\n",
    "print(result)  # prints 1\n",
    "result = s.get('e')\n",
    "print(result)"
   ]
  },
  {
   "cell_type": "code",
   "execution_count": null,
   "id": "20a398d6",
   "metadata": {},
   "outputs": [],
   "source": []
  },
  {
   "cell_type": "code",
   "execution_count": null,
   "id": "25f5e2ff",
   "metadata": {},
   "outputs": [],
   "source": []
  },
  {
   "cell_type": "code",
   "execution_count": null,
   "id": "17960786",
   "metadata": {},
   "outputs": [],
   "source": []
  },
  {
   "cell_type": "code",
   "execution_count": null,
   "id": "fb4a1bf2",
   "metadata": {},
   "outputs": [],
   "source": []
  },
  {
   "cell_type": "code",
   "execution_count": null,
   "id": "0db09a50",
   "metadata": {},
   "outputs": [],
   "source": []
  },
  {
   "cell_type": "code",
   "execution_count": null,
   "id": "d9736317",
   "metadata": {},
   "outputs": [],
   "source": []
  }
 ],
 "metadata": {
  "kernelspec": {
   "display_name": "Python 3",
   "language": "python",
   "name": "python3"
  },
  "language_info": {
   "codemirror_mode": {
    "name": "ipython",
    "version": 3
   },
   "file_extension": ".py",
   "mimetype": "text/x-python",
   "name": "python",
   "nbconvert_exporter": "python",
   "pygments_lexer": "ipython3",
   "version": "3.13.3"
  }
 },
 "nbformat": 4,
 "nbformat_minor": 5
}

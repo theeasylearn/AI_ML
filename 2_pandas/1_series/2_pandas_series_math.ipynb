{
 "cells": [
  {
   "cell_type": "code",
   "execution_count": 99,
   "id": "67ac1f50",
   "metadata": {},
   "outputs": [],
   "source": [
    "import numpy as np\n",
    "import pandas as pd"
   ]
  },
  {
   "cell_type": "code",
   "execution_count": 100,
   "id": "d5bce367",
   "metadata": {},
   "outputs": [
    {
     "data": {
      "application/vnd.microsoft.datawrangler.viewer.v0+json": {
       "columns": [
        {
         "name": "index",
         "rawType": "object",
         "type": "string"
        },
        {
         "name": "0",
         "rawType": "int64",
         "type": "integer"
        }
       ],
       "ref": "29769767-1c05-4b06-a0d1-66746fcbadfd",
       "rows": [
        [
         "a",
         "10"
        ],
        [
         "b",
         "20"
        ],
        [
         "c",
         "30"
        ],
        [
         "d",
         "40"
        ]
       ],
       "shape": {
        "columns": 1,
        "rows": 4
       }
      },
      "text/plain": [
       "a    10\n",
       "b    20\n",
       "c    30\n",
       "d    40\n",
       "dtype: int64"
      ]
     },
     "execution_count": 100,
     "metadata": {},
     "output_type": "execute_result"
    }
   ],
   "source": [
    "data = pd.Series([10, 20, 30, 40], index=['a', 'b', 'c', 'd']) \n",
    "data"
   ]
  },
  {
   "cell_type": "code",
   "execution_count": 101,
   "id": "80da8dc6",
   "metadata": {},
   "outputs": [
    {
     "name": "stdout",
     "output_type": "stream",
     "text": [
      "a    20\n",
      "b   -10\n",
      "c    40\n",
      "d   -50\n",
      "dtype: int64\n"
     ]
    }
   ],
   "source": [
    "data = pd.Series([ 20,-10, 40, -50], index=['a', 'b', 'c', 'd']) \n",
    "print(data)"
   ]
  },
  {
   "cell_type": "code",
   "execution_count": 102,
   "id": "eb28e67e",
   "metadata": {},
   "outputs": [
    {
     "name": "stdout",
     "output_type": "stream",
     "text": [
      "<class 'pandas.core.frame.DataFrame'>\n",
      "RangeIndex: 16324 entries, 0 to 16323\n",
      "Data columns (total 11 columns):\n",
      " #   Column        Non-Null Count  Dtype  \n",
      "---  ------        --------------  -----  \n",
      " 0   Rank          16324 non-null  int64  \n",
      " 1   Name          16324 non-null  object \n",
      " 2   Platform      16324 non-null  object \n",
      " 3   Year          16324 non-null  int64  \n",
      " 4   Genre         16324 non-null  object \n",
      " 5   Publisher     16288 non-null  object \n",
      " 6   NA_Sales      16324 non-null  float64\n",
      " 7   EU_Sales      16324 non-null  float64\n",
      " 8   JP_Sales      16324 non-null  float64\n",
      " 9   Other_Sales   16324 non-null  float64\n",
      " 10  Global_Sales  16324 non-null  float64\n",
      "dtypes: float64(5), int64(2), object(4)\n",
      "memory usage: 1.4+ MB\n"
     ]
    }
   ],
   "source": [
    "demo =pd.read_csv('../../dataset/vgsales.csv')\n",
    "demo.info()"
   ]
  },
  {
   "cell_type": "code",
   "execution_count": 103,
   "id": "f7a69c9e",
   "metadata": {},
   "outputs": [
    {
     "data": {
      "text/plain": [
       "pandas.core.series.Series"
      ]
     },
     "execution_count": 103,
     "metadata": {},
     "output_type": "execute_result"
    }
   ],
   "source": [
    "s = pd.read_csv('../../dataset/vgsales.csv', usecols=['Name','Global_Sales'], index_col='Name').squeeze()\n",
    "type(s)"
   ]
  },
  {
   "cell_type": "code",
   "execution_count": 104,
   "id": "7b83d399",
   "metadata": {},
   "outputs": [
    {
     "name": "stdout",
     "output_type": "stream",
     "text": [
      "a    20\n",
      "b    10\n",
      "c    40\n",
      "d    50\n",
      "dtype: int64\n",
      "Name\n",
      "Asteroids                                                  4.31\n",
      "Missile Command                                            2.76\n",
      "Kaboom!                                                    1.15\n",
      "Defender                                                   1.05\n",
      "Boxing                                                     0.77\n",
      "                                                           ... \n",
      "Mighty No. 9                                               0.01\n",
      "Resident Evil 4 HD                                         0.01\n",
      "Farming 2017 - The Simulation                              0.01\n",
      "Rugby Challenge 3                                          0.01\n",
      "Chou Ezaru wa Akai Hana: Koi wa Tsuki ni Shirube Kareru    0.01\n",
      "Name: Global_Sales, Length: 16324, dtype: float64\n"
     ]
    }
   ],
   "source": [
    "print(data.abs())\n",
    "print(s.abs())"
   ]
  },
  {
   "cell_type": "code",
   "execution_count": 105,
   "id": "579356ea",
   "metadata": {},
   "outputs": [
    {
     "name": "stdout",
     "output_type": "stream",
     "text": [
      "a    20\n",
      "b   -10\n",
      "c    40\n",
      "d    50\n",
      "dtype: int64\n",
      "d\n"
     ]
    }
   ],
   "source": [
    "data = pd.Series([ 20,-10, 40, 50], index=['a', 'b', 'c', 'd']) \n",
    "print(data)\n",
    "print(data.idxmax())\n"
   ]
  },
  {
   "cell_type": "code",
   "execution_count": 106,
   "id": "e9c952bc",
   "metadata": {},
   "outputs": [
    {
     "name": "stdout",
     "output_type": "stream",
     "text": [
      "Wii Sports 82.74\n"
     ]
    }
   ],
   "source": [
    "print(s.idxmax(),s.max())"
   ]
  },
  {
   "cell_type": "code",
   "execution_count": 107,
   "id": "64288733",
   "metadata": {},
   "outputs": [
    {
     "name": "stdout",
     "output_type": "stream",
     "text": [
      "b -10\n",
      "Empire Deluxe 0.01\n"
     ]
    }
   ],
   "source": [
    "print(data.idxmin(),data.min())\n",
    "print(s.idxmin(),s.min())"
   ]
  },
  {
   "cell_type": "code",
   "execution_count": 108,
   "id": "38a51a77",
   "metadata": {},
   "outputs": [
    {
     "name": "stdout",
     "output_type": "stream",
     "text": [
      "50\n"
     ]
    }
   ],
   "source": [
    "print(data.max())"
   ]
  },
  {
   "cell_type": "code",
   "execution_count": 109,
   "id": "759449dc",
   "metadata": {},
   "outputs": [
    {
     "name": "stdout",
     "output_type": "stream",
     "text": [
      "-10\n"
     ]
    }
   ],
   "source": [
    "print(data.min())"
   ]
  },
  {
   "cell_type": "code",
   "execution_count": 110,
   "id": "4b1711d8",
   "metadata": {},
   "outputs": [
    {
     "name": "stdout",
     "output_type": "stream",
     "text": [
      "4\n",
      "16324\n"
     ]
    }
   ],
   "source": [
    "print(len(data))\n",
    "print(len(s))"
   ]
  },
  {
   "cell_type": "code",
   "execution_count": 111,
   "id": "1c6e4bab",
   "metadata": {},
   "outputs": [
    {
     "name": "stdout",
     "output_type": "stream",
     "text": [
      "a    20\n",
      "b   -10\n",
      "c    40\n",
      "d    50\n",
      "dtype: int64\n",
      "None\n",
      "Name\n",
      "pro evolution soccer 2011       0.41\n",
      "pro evolution soccer 2011       0.06\n",
      "th!nk Logic Trainer             0.01\n",
      "thinkSMART                      0.10\n",
      "thinkSMART FAMILY!              0.03\n",
      "thinkSMART: Chess for Kids      0.01\n",
      "uDraw Studio                    2.46\n",
      "uDraw Studio: Instant Artist    0.19\n",
      "uDraw Studio: Instant Artist    0.02\n",
      "¡Shin Chan Flipa en colores!    0.14\n",
      "Name: Global_Sales, dtype: float64\n"
     ]
    }
   ],
   "source": [
    "print(data.sort_index())\n",
    "print(s.sort_index(inplace=True))\n",
    "print(s.sort_index().tail(10))"
   ]
  },
  {
   "cell_type": "code",
   "execution_count": 112,
   "id": "239eb4d0",
   "metadata": {},
   "outputs": [
    {
     "name": "stdout",
     "output_type": "stream",
     "text": [
      "b   -10\n",
      "a    20\n",
      "c    40\n",
      "d    50\n",
      "dtype: int64\n",
      "Name\n",
      "Assetto Corsa                                              0.01\n",
      "Legoland                                                   0.01\n",
      "Jewel Quest II                                             0.01\n",
      "Young Justice: Legacy                                      0.01\n",
      "STORM: Frontline Nation                                    0.01\n",
      "Jan Sangoku Musou                                          0.01\n",
      "The Rise of the Argonauts                                  0.01\n",
      "Shutsugeki! Otometachi no Senjou 2: Ikusabana no Kizuna    0.01\n",
      "Azure Striker Gunvolt: Striker Pack                        0.01\n",
      "Assassin's Creed Chronicles                                0.01\n",
      "Name: Global_Sales, dtype: float64\n",
      "Name\n",
      "Duck Hunt                    28.31\n",
      "New Super Mario Bros. Wii    28.62\n",
      "Wii Play                     29.02\n",
      "New Super Mario Bros.        30.01\n",
      "Tetris                       30.26\n",
      "Pokemon Red/Pokemon Blue     31.37\n",
      "Wii Sports Resort            33.00\n",
      "Mario Kart Wii               35.82\n",
      "Super Mario Bros.            40.24\n",
      "Wii Sports                   82.74\n",
      "Name: Global_Sales, dtype: float64\n"
     ]
    }
   ],
   "source": [
    "print(data.sort_values())\n",
    "print(s.sort_values().head(10))\n",
    "print(s.sort_values().tail(10))"
   ]
  },
  {
   "cell_type": "code",
   "execution_count": 113,
   "id": "4d49e1af",
   "metadata": {},
   "outputs": [
    {
     "name": "stdout",
     "output_type": "stream",
     "text": [
      "a    5.0\n",
      "b    7.0\n",
      "c    6.0\n",
      "dtype: float64\n"
     ]
    }
   ],
   "source": [
    "import pandas as pd\n",
    "s1 = pd.Series([1, 2, None], index=['a', 'b', 'c'])\n",
    "s2 = pd.Series([4, 5, 6], index=['a', 'b', 'c'])\n",
    "result = s1.add(s2, fill_value=0)\n",
    "print(result)"
   ]
  },
  {
   "cell_type": "code",
   "execution_count": 114,
   "id": "a2e89ed3",
   "metadata": {},
   "outputs": [
    {
     "name": "stdout",
     "output_type": "stream",
     "text": [
      "Name\n",
      "'98 Koshien                                0.41\n",
      ".hack//G.U. Vol.1//Rebirth                 0.17\n",
      ".hack//G.U. Vol.2//Reminisce               0.23\n",
      ".hack//G.U. Vol.2//Reminisce (jp sales)    0.16\n",
      ".hack//G.U. Vol.3//Redemption              0.17\n",
      "Name: Global_Sales, dtype: float64\n"
     ]
    }
   ],
   "source": [
    "print(s.head())"
   ]
  },
  {
   "cell_type": "code",
   "execution_count": 115,
   "id": "fe7a2efd",
   "metadata": {},
   "outputs": [
    {
     "name": "stdout",
     "output_type": "stream",
     "text": [
      "Name\n",
      "'98 Koshien                                10.41\n",
      ".hack//G.U. Vol.1//Rebirth                 10.17\n",
      ".hack//G.U. Vol.2//Reminisce               10.23\n",
      ".hack//G.U. Vol.2//Reminisce (jp sales)    10.16\n",
      ".hack//G.U. Vol.3//Redemption              10.17\n",
      "Name: Global_Sales, dtype: float64\n"
     ]
    }
   ],
   "source": [
    "print(s.add(10).head())"
   ]
  },
  {
   "cell_type": "code",
   "execution_count": 116,
   "id": "8e04c039",
   "metadata": {},
   "outputs": [
    {
     "data": {
      "application/vnd.microsoft.datawrangler.viewer.v0+json": {
       "columns": [
        {
         "name": "Name",
         "rawType": "object",
         "type": "string"
        },
        {
         "name": "Global_Sales",
         "rawType": "float64",
         "type": "float"
        }
       ],
       "ref": "53bd2aac-41e8-4296-b4ea-d7794c27a820",
       "rows": [
        [
         "'98 Koshien",
         "0.41"
        ],
        [
         ".hack//G.U. Vol.1//Rebirth",
         "0.17"
        ],
        [
         ".hack//G.U. Vol.2//Reminisce",
         "0.23"
        ],
        [
         ".hack//G.U. Vol.2//Reminisce (jp sales)",
         "0.16"
        ],
        [
         ".hack//G.U. Vol.3//Redemption",
         "0.17"
        ]
       ],
       "shape": {
        "columns": 1,
        "rows": 5
       }
      },
      "text/plain": [
       "Name\n",
       "'98 Koshien                                0.41\n",
       ".hack//G.U. Vol.1//Rebirth                 0.17\n",
       ".hack//G.U. Vol.2//Reminisce               0.23\n",
       ".hack//G.U. Vol.2//Reminisce (jp sales)    0.16\n",
       ".hack//G.U. Vol.3//Redemption              0.17\n",
       "Name: Global_Sales, dtype: float64"
      ]
     },
     "execution_count": 116,
     "metadata": {},
     "output_type": "execute_result"
    }
   ],
   "source": [
    "s.head()"
   ]
  },
  {
   "cell_type": "code",
   "execution_count": 117,
   "id": "43264113",
   "metadata": {},
   "outputs": [
    {
     "name": "stdout",
     "output_type": "stream",
     "text": [
      "a   -3.0\n",
      "b   -3.0\n",
      "c   -6.0\n",
      "dtype: float64\n"
     ]
    }
   ],
   "source": [
    "import pandas as pd\n",
    "s1 = pd.Series([1, 2, None], index=['a', 'b', 'c'])\n",
    "s2 = pd.Series([4, 5, 6], index=['a', 'b', 'c'])\n",
    "result = s1.sub(s2, fill_value=0)\n",
    "print(result)"
   ]
  },
  {
   "cell_type": "code",
   "execution_count": 118,
   "id": "d20bd787",
   "metadata": {},
   "outputs": [
    {
     "name": "stdout",
     "output_type": "stream",
     "text": [
      "Name\n",
      "'98 Koshien                                10.41\n",
      ".hack//G.U. Vol.1//Rebirth                 10.17\n",
      ".hack//G.U. Vol.2//Reminisce               10.23\n",
      ".hack//G.U. Vol.2//Reminisce (jp sales)    10.16\n",
      ".hack//G.U. Vol.3//Redemption              10.17\n",
      "Name: Global_Sales, dtype: float64\n",
      "Name\n",
      "'98 Koshien                                0.41\n",
      ".hack//G.U. Vol.1//Rebirth                 0.17\n",
      ".hack//G.U. Vol.2//Reminisce               0.23\n",
      ".hack//G.U. Vol.2//Reminisce (jp sales)    0.16\n",
      ".hack//G.U. Vol.3//Redemption              0.17\n",
      "Name: Global_Sales, dtype: float64\n"
     ]
    }
   ],
   "source": [
    "sa = s.add(10).head()\n",
    "print(sa)\n",
    "ss = sa.sub(10).head()\n",
    "print(ss)"
   ]
  },
  {
   "cell_type": "code",
   "execution_count": 119,
   "id": "a25d984f",
   "metadata": {},
   "outputs": [
    {
     "name": "stdout",
     "output_type": "stream",
     "text": [
      "a     4\n",
      "b    10\n",
      "c     0\n",
      "dtype: int64\n"
     ]
    }
   ],
   "source": [
    "import pandas as pd\n",
    "s1 = pd.Series([1, 2, None], index=['a', 'b', 'c'])\n",
    "s2 = pd.Series([4, 5, 6], index=['a', 'b', 'c'])\n",
    "result = s1.mul(s2, fill_value=0)\n",
    "result = result.astype('int')\n",
    "print(result)"
   ]
  },
  {
   "cell_type": "code",
   "execution_count": 120,
   "id": "6b556797",
   "metadata": {},
   "outputs": [
    {
     "data": {
      "application/vnd.microsoft.datawrangler.viewer.v0+json": {
       "columns": [
        {
         "name": "Name",
         "rawType": "object",
         "type": "string"
        },
        {
         "name": "Global_Sales",
         "rawType": "float64",
         "type": "float"
        }
       ],
       "ref": "ddd3c3a8-04cd-4a19-9714-76be10dc9e14",
       "rows": [
        [
         "'98 Koshien",
         "0.41"
        ],
        [
         ".hack//G.U. Vol.1//Rebirth",
         "0.17"
        ],
        [
         ".hack//G.U. Vol.2//Reminisce",
         "0.23"
        ]
       ],
       "shape": {
        "columns": 1,
        "rows": 3
       }
      },
      "text/plain": [
       "Name\n",
       "'98 Koshien                     0.41\n",
       ".hack//G.U. Vol.1//Rebirth      0.17\n",
       ".hack//G.U. Vol.2//Reminisce    0.23\n",
       "Name: Global_Sales, dtype: float64"
      ]
     },
     "execution_count": 120,
     "metadata": {},
     "output_type": "execute_result"
    }
   ],
   "source": [
    "s.mul(1).head(3)"
   ]
  },
  {
   "cell_type": "code",
   "execution_count": 121,
   "id": "fe06ca88",
   "metadata": {},
   "outputs": [
    {
     "name": "stdout",
     "output_type": "stream",
     "text": [
      "a    0.25\n",
      "b    0.40\n",
      "c    0.00\n",
      "dtype: float64\n"
     ]
    }
   ],
   "source": [
    "import pandas as pd\n",
    "s1 = pd.Series([1, 2, None], index=['a', 'b', 'c'])\n",
    "s2 = pd.Series([4, 5, 6], index=['a', 'b', 'c'])\n",
    "result = s1.div(s2, fill_value=0)\n",
    "print(result)"
   ]
  },
  {
   "cell_type": "code",
   "execution_count": null,
   "id": "79306d64",
   "metadata": {},
   "outputs": [],
   "source": []
  },
  {
   "cell_type": "code",
   "execution_count": 122,
   "id": "9c17670f",
   "metadata": {},
   "outputs": [
    {
     "data": {
      "application/vnd.microsoft.datawrangler.viewer.v0+json": {
       "columns": [
        {
         "name": "Name",
         "rawType": "object",
         "type": "string"
        },
        {
         "name": "Global_Sales",
         "rawType": "float64",
         "type": "float"
        }
       ],
       "ref": "710dff53-c120-4e9b-bbee-b564f71b6613",
       "rows": [
        [
         "thinkSMART: Chess for Kids",
         "0.01"
        ],
        [
         "uDraw Studio",
         "2.46"
        ],
        [
         "uDraw Studio: Instant Artist",
         "0.19"
        ],
        [
         "uDraw Studio: Instant Artist",
         "0.02"
        ],
        [
         "¡Shin Chan Flipa en colores!",
         "0.14"
        ]
       ],
       "shape": {
        "columns": 1,
        "rows": 5
       }
      },
      "text/plain": [
       "Name\n",
       "thinkSMART: Chess for Kids      0.01\n",
       "uDraw Studio                    2.46\n",
       "uDraw Studio: Instant Artist    0.19\n",
       "uDraw Studio: Instant Artist    0.02\n",
       "¡Shin Chan Flipa en colores!    0.14\n",
       "Name: Global_Sales, dtype: float64"
      ]
     },
     "execution_count": 122,
     "metadata": {},
     "output_type": "execute_result"
    }
   ],
   "source": [
    "s.div(1).tail()"
   ]
  },
  {
   "cell_type": "code",
   "execution_count": 123,
   "id": "45a96966",
   "metadata": {},
   "outputs": [
    {
     "name": "stdout",
     "output_type": "stream",
     "text": [
      "a    1.0\n",
      "b    4.0\n",
      "c    0.0\n",
      "dtype: float64\n"
     ]
    }
   ],
   "source": [
    "import pandas as pd\n",
    "s1 = pd.Series([1, 2, None], index=['a', 'b', 'c'])\n",
    "result = s1.pow(2, fill_value=0)\n",
    "print(result)  # Output: a    1.0, b    4.0"
   ]
  },
  {
   "cell_type": "code",
   "execution_count": 124,
   "id": "f0c45dc2",
   "metadata": {},
   "outputs": [
    {
     "name": "stdout",
     "output_type": "stream",
     "text": [
      "3.0\n"
     ]
    }
   ],
   "source": [
    "import pandas as pd\n",
    "s1 = pd.Series([1, 2, None], index=['a', 'b', 'c'])\n",
    "result = s1.sum()\n",
    "print(result)  # Output: a    1.0, b    4.0"
   ]
  },
  {
   "cell_type": "code",
   "execution_count": null,
   "id": "b45b125d",
   "metadata": {},
   "outputs": [
    {
     "name": "stdout",
     "output_type": "stream",
     "text": [
      "8820.310000000001\n"
     ]
    }
   ],
   "source": [
    "print(s.sum(skipna=False))"
   ]
  },
  {
   "cell_type": "code",
   "execution_count": null,
   "id": "64f0437d",
   "metadata": {},
   "outputs": [
    {
     "data": {
      "application/vnd.microsoft.datawrangler.viewer.v0+json": {
       "columns": [
        {
         "name": "index",
         "rawType": "object",
         "type": "string"
        },
        {
         "name": "Global_Sales",
         "rawType": "float64",
         "type": "float"
        }
       ],
       "ref": "ba0e6a8f-49be-4fe3-8722-19289d592a1b",
       "rows": [
        [
         "count",
         "16324.0"
        ],
        [
         "mean",
         "0.5403277382994365"
        ],
        [
         "std",
         "1.5658596703325405"
        ],
        [
         "min",
         "0.01"
        ],
        [
         "25%",
         "0.06"
        ],
        [
         "50%",
         "0.17"
        ],
        [
         "75%",
         "0.48"
        ],
        [
         "max",
         "82.74"
        ]
       ],
       "shape": {
        "columns": 1,
        "rows": 8
       }
      },
      "text/plain": [
       "count    16324.000000\n",
       "mean         0.540328\n",
       "std          1.565860\n",
       "min          0.010000\n",
       "25%          0.060000\n",
       "50%          0.170000\n",
       "75%          0.480000\n",
       "max         82.740000\n",
       "Name: Global_Sales, dtype: float64"
      ]
     },
     "execution_count": 126,
     "metadata": {},
     "output_type": "execute_result"
    }
   ],
   "source": [
    "s.describe()"
   ]
  },
  {
   "cell_type": "code",
   "execution_count": null,
   "id": "3401f3a5",
   "metadata": {},
   "outputs": [
    {
     "name": "stdout",
     "output_type": "stream",
     "text": [
      "<class 'pandas.core.series.Series'>\n",
      "Index: 16324 entries, '98 Koshien to ¡Shin Chan Flipa en colores!\n",
      "Series name: Global_Sales\n",
      "Non-Null Count  Dtype\n",
      "--------------  -----\n",
      "16324 non-null  int64\n",
      "dtypes: int64(1)\n",
      "memory usage: 255.1+ KB\n"
     ]
    }
   ],
   "source": [
    "s1=s.astype('int')\n",
    "s1.info()"
   ]
  },
  {
   "cell_type": "code",
   "execution_count": null,
   "id": "4c139102",
   "metadata": {},
   "outputs": [
    {
     "data": {
      "text/plain": [
       "np.int64(16324)"
      ]
     },
     "execution_count": 128,
     "metadata": {},
     "output_type": "execute_result"
    }
   ],
   "source": [
    "s.count()"
   ]
  },
  {
   "cell_type": "code",
   "execution_count": null,
   "id": "c1499973",
   "metadata": {},
   "outputs": [
    {
     "data": {
      "application/vnd.microsoft.datawrangler.viewer.v0+json": {
       "columns": [
        {
         "name": "Name",
         "rawType": "object",
         "type": "string"
        },
        {
         "name": "Global_Sales",
         "rawType": "bool",
         "type": "boolean"
        }
       ],
       "ref": "565f6760-c1a5-4ff6-98c9-d553cf0d4b23",
       "rows": [
        [
         "'98 Koshien",
         "False"
        ],
        [
         ".hack//G.U. Vol.1//Rebirth",
         "False"
        ],
        [
         ".hack//G.U. Vol.2//Reminisce",
         "False"
        ],
        [
         ".hack//G.U. Vol.2//Reminisce (jp sales)",
         "False"
        ],
        [
         ".hack//G.U. Vol.3//Redemption",
         "False"
        ],
        [
         ".hack//Infection Part 1",
         "False"
        ],
        [
         ".hack//Link",
         "False"
        ],
        [
         ".hack//Mutation Part 2",
         "False"
        ],
        [
         ".hack//Outbreak Part 3",
         "False"
        ],
        [
         ".hack//Quarantine Part 4: The Final Chapter",
         "False"
        ],
        [
         ".hack: Sekai no Mukou ni + Versus",
         "False"
        ],
        [
         "007 Racing",
         "False"
        ],
        [
         "007: Quantum of Solace",
         "False"
        ],
        [
         "007: Quantum of Solace",
         "False"
        ],
        [
         "007: Quantum of Solace",
         "False"
        ],
        [
         "007: Quantum of Solace",
         "False"
        ],
        [
         "007: Quantum of Solace",
         "False"
        ],
        [
         "007: Quantum of Solace",
         "False"
        ],
        [
         "007: The World is not Enough",
         "False"
        ],
        [
         "007: The World is not Enough",
         "False"
        ],
        [
         "007: Tomorrow Never Dies",
         "False"
        ],
        [
         "1 vs. 100",
         "False"
        ],
        [
         "1/2 Summer +",
         "False"
        ],
        [
         "10 Minute Solution",
         "False"
        ],
        [
         "100 All-Time Favorites",
         "False"
        ],
        [
         "100 Classic Books",
         "False"
        ],
        [
         "100 Classic Games",
         "False"
        ],
        [
         "1000 Cooking Recipes from ELLE à table",
         "False"
        ],
        [
         "1001 Touch Games",
         "False"
        ],
        [
         "101-in-1 Explosive Megamix",
         "False"
        ],
        [
         "101-in-1 Party Megamix Wii",
         "False"
        ],
        [
         "101-in-1 Sports Megamix",
         "False"
        ],
        [
         "101-in-1 Sports Party Megamix",
         "False"
        ],
        [
         "1080°: TenEighty Snowboarding",
         "False"
        ],
        [
         "11eyes: CrossOver",
         "False"
        ],
        [
         "11eyes: CrossOver",
         "False"
        ],
        [
         "12-Sai. Honto no Kimochi",
         "False"
        ],
        [
         "12-Sai. Koisuru Diary",
         "False"
        ],
        [
         "12Riven: The Psi-Climinal of Integral",
         "False"
        ],
        [
         "15 Days",
         "False"
        ],
        [
         "1701 A.D.",
         "False"
        ],
        [
         "18 Wheeler: American Pro Trucker",
         "False"
        ],
        [
         "18 Wheeler: American Pro Trucker",
         "False"
        ],
        [
         "18 Wheels of Steel: Extreme Trucker",
         "False"
        ],
        [
         "18 Wheels of Steel: Extreme Trucker 2",
         "False"
        ],
        [
         "187: Ride or Die",
         "False"
        ],
        [
         "187: Ride or Die",
         "False"
        ],
        [
         "1942",
         "False"
        ],
        [
         "2 Games in 1 Double Pack: Hot Wheels Velocity X / Hot Wheels World Race",
         "False"
        ],
        [
         "2 Games in 1 Double Pack: The Incredibles / Finding Nemo: The Continuing Adventures",
         "False"
        ]
       ],
       "shape": {
        "columns": 1,
        "rows": 16324
       }
      },
      "text/plain": [
       "Name\n",
       "'98 Koshien                                False\n",
       ".hack//G.U. Vol.1//Rebirth                 False\n",
       ".hack//G.U. Vol.2//Reminisce               False\n",
       ".hack//G.U. Vol.2//Reminisce (jp sales)    False\n",
       ".hack//G.U. Vol.3//Redemption              False\n",
       "                                           ...  \n",
       "thinkSMART: Chess for Kids                 False\n",
       "uDraw Studio                               False\n",
       "uDraw Studio: Instant Artist               False\n",
       "uDraw Studio: Instant Artist               False\n",
       "¡Shin Chan Flipa en colores!               False\n",
       "Name: Global_Sales, Length: 16324, dtype: bool"
      ]
     },
     "execution_count": 129,
     "metadata": {},
     "output_type": "execute_result"
    }
   ],
   "source": [
    "s.isnull()"
   ]
  },
  {
   "cell_type": "code",
   "execution_count": null,
   "id": "28a82569",
   "metadata": {},
   "outputs": [
    {
     "name": "stdout",
     "output_type": "stream",
     "text": [
      "0    False\n",
      "1     True\n",
      "2    False\n",
      "dtype: bool\n",
      "0    False\n",
      "1     True\n",
      "2    False\n",
      "dtype: bool\n"
     ]
    }
   ],
   "source": [
    "sd = pd.Series([1, None, 3])\n",
    "result = sd.isnull()\n",
    "print(result)  # Output: [False, True, False]\n",
    "result1 = sd.isna()\n",
    "print(result1)  # Output: [False, True, False]"
   ]
  },
  {
   "cell_type": "code",
   "execution_count": null,
   "id": "cd7367df",
   "metadata": {},
   "outputs": [
    {
     "data": {
      "application/vnd.microsoft.datawrangler.viewer.v0+json": {
       "columns": [
        {
         "name": "Name",
         "rawType": "object",
         "type": "string"
        },
        {
         "name": "Global_Sales",
         "rawType": "bool",
         "type": "boolean"
        }
       ],
       "ref": "46ee3521-b315-43f1-b787-9fdead53ae6b",
       "rows": [
        [
         "'98 Koshien",
         "False"
        ],
        [
         ".hack//G.U. Vol.1//Rebirth",
         "False"
        ],
        [
         ".hack//G.U. Vol.2//Reminisce",
         "False"
        ],
        [
         ".hack//G.U. Vol.2//Reminisce (jp sales)",
         "False"
        ],
        [
         ".hack//G.U. Vol.3//Redemption",
         "False"
        ],
        [
         ".hack//Infection Part 1",
         "False"
        ],
        [
         ".hack//Link",
         "False"
        ],
        [
         ".hack//Mutation Part 2",
         "False"
        ],
        [
         ".hack//Outbreak Part 3",
         "False"
        ],
        [
         ".hack//Quarantine Part 4: The Final Chapter",
         "False"
        ],
        [
         ".hack: Sekai no Mukou ni + Versus",
         "False"
        ],
        [
         "007 Racing",
         "False"
        ],
        [
         "007: Quantum of Solace",
         "False"
        ],
        [
         "007: Quantum of Solace",
         "False"
        ],
        [
         "007: Quantum of Solace",
         "False"
        ],
        [
         "007: Quantum of Solace",
         "False"
        ],
        [
         "007: Quantum of Solace",
         "False"
        ],
        [
         "007: Quantum of Solace",
         "False"
        ],
        [
         "007: The World is not Enough",
         "False"
        ],
        [
         "007: The World is not Enough",
         "False"
        ],
        [
         "007: Tomorrow Never Dies",
         "False"
        ],
        [
         "1 vs. 100",
         "False"
        ],
        [
         "1/2 Summer +",
         "False"
        ],
        [
         "10 Minute Solution",
         "False"
        ],
        [
         "100 All-Time Favorites",
         "False"
        ],
        [
         "100 Classic Books",
         "False"
        ],
        [
         "100 Classic Games",
         "False"
        ],
        [
         "1000 Cooking Recipes from ELLE à table",
         "False"
        ],
        [
         "1001 Touch Games",
         "False"
        ],
        [
         "101-in-1 Explosive Megamix",
         "False"
        ],
        [
         "101-in-1 Party Megamix Wii",
         "False"
        ],
        [
         "101-in-1 Sports Megamix",
         "False"
        ],
        [
         "101-in-1 Sports Party Megamix",
         "False"
        ],
        [
         "1080°: TenEighty Snowboarding",
         "False"
        ],
        [
         "11eyes: CrossOver",
         "False"
        ],
        [
         "11eyes: CrossOver",
         "False"
        ],
        [
         "12-Sai. Honto no Kimochi",
         "False"
        ],
        [
         "12-Sai. Koisuru Diary",
         "False"
        ],
        [
         "12Riven: The Psi-Climinal of Integral",
         "False"
        ],
        [
         "15 Days",
         "False"
        ],
        [
         "1701 A.D.",
         "False"
        ],
        [
         "18 Wheeler: American Pro Trucker",
         "False"
        ],
        [
         "18 Wheeler: American Pro Trucker",
         "False"
        ],
        [
         "18 Wheels of Steel: Extreme Trucker",
         "False"
        ],
        [
         "18 Wheels of Steel: Extreme Trucker 2",
         "False"
        ],
        [
         "187: Ride or Die",
         "False"
        ],
        [
         "187: Ride or Die",
         "False"
        ],
        [
         "1942",
         "False"
        ],
        [
         "2 Games in 1 Double Pack: Hot Wheels Velocity X / Hot Wheels World Race",
         "False"
        ],
        [
         "2 Games in 1 Double Pack: The Incredibles / Finding Nemo: The Continuing Adventures",
         "False"
        ]
       ],
       "shape": {
        "columns": 1,
        "rows": 16324
       }
      },
      "text/plain": [
       "Name\n",
       "'98 Koshien                                False\n",
       ".hack//G.U. Vol.1//Rebirth                 False\n",
       ".hack//G.U. Vol.2//Reminisce               False\n",
       ".hack//G.U. Vol.2//Reminisce (jp sales)    False\n",
       ".hack//G.U. Vol.3//Redemption              False\n",
       "                                           ...  \n",
       "thinkSMART: Chess for Kids                 False\n",
       "uDraw Studio                               False\n",
       "uDraw Studio: Instant Artist               False\n",
       "uDraw Studio: Instant Artist               False\n",
       "¡Shin Chan Flipa en colores!               False\n",
       "Name: Global_Sales, Length: 16324, dtype: bool"
      ]
     },
     "execution_count": 131,
     "metadata": {},
     "output_type": "execute_result"
    }
   ],
   "source": [
    "s.isna()"
   ]
  },
  {
   "cell_type": "code",
   "execution_count": null,
   "id": "d907033c",
   "metadata": {},
   "outputs": [
    {
     "data": {
      "application/vnd.microsoft.datawrangler.viewer.v0+json": {
       "columns": [
        {
         "name": "Name",
         "rawType": "object",
         "type": "string"
        },
        {
         "name": "Global_Sales",
         "rawType": "bool",
         "type": "boolean"
        }
       ],
       "ref": "219f4271-97c9-4fb4-8a1c-5c58ac46e402",
       "rows": [
        [
         "'98 Koshien",
         "True"
        ],
        [
         ".hack//G.U. Vol.1//Rebirth",
         "True"
        ],
        [
         ".hack//G.U. Vol.2//Reminisce",
         "True"
        ],
        [
         ".hack//G.U. Vol.2//Reminisce (jp sales)",
         "True"
        ],
        [
         ".hack//G.U. Vol.3//Redemption",
         "True"
        ],
        [
         ".hack//Infection Part 1",
         "True"
        ],
        [
         ".hack//Link",
         "True"
        ],
        [
         ".hack//Mutation Part 2",
         "True"
        ],
        [
         ".hack//Outbreak Part 3",
         "True"
        ],
        [
         ".hack//Quarantine Part 4: The Final Chapter",
         "True"
        ],
        [
         ".hack: Sekai no Mukou ni + Versus",
         "True"
        ],
        [
         "007 Racing",
         "True"
        ],
        [
         "007: Quantum of Solace",
         "True"
        ],
        [
         "007: Quantum of Solace",
         "True"
        ],
        [
         "007: Quantum of Solace",
         "True"
        ],
        [
         "007: Quantum of Solace",
         "True"
        ],
        [
         "007: Quantum of Solace",
         "True"
        ],
        [
         "007: Quantum of Solace",
         "True"
        ],
        [
         "007: The World is not Enough",
         "True"
        ],
        [
         "007: The World is not Enough",
         "True"
        ],
        [
         "007: Tomorrow Never Dies",
         "True"
        ],
        [
         "1 vs. 100",
         "True"
        ],
        [
         "1/2 Summer +",
         "True"
        ],
        [
         "10 Minute Solution",
         "True"
        ],
        [
         "100 All-Time Favorites",
         "True"
        ],
        [
         "100 Classic Books",
         "True"
        ],
        [
         "100 Classic Games",
         "True"
        ],
        [
         "1000 Cooking Recipes from ELLE à table",
         "True"
        ],
        [
         "1001 Touch Games",
         "True"
        ],
        [
         "101-in-1 Explosive Megamix",
         "True"
        ],
        [
         "101-in-1 Party Megamix Wii",
         "True"
        ],
        [
         "101-in-1 Sports Megamix",
         "True"
        ],
        [
         "101-in-1 Sports Party Megamix",
         "True"
        ],
        [
         "1080°: TenEighty Snowboarding",
         "True"
        ],
        [
         "11eyes: CrossOver",
         "True"
        ],
        [
         "11eyes: CrossOver",
         "True"
        ],
        [
         "12-Sai. Honto no Kimochi",
         "True"
        ],
        [
         "12-Sai. Koisuru Diary",
         "True"
        ],
        [
         "12Riven: The Psi-Climinal of Integral",
         "True"
        ],
        [
         "15 Days",
         "True"
        ],
        [
         "1701 A.D.",
         "True"
        ],
        [
         "18 Wheeler: American Pro Trucker",
         "True"
        ],
        [
         "18 Wheeler: American Pro Trucker",
         "True"
        ],
        [
         "18 Wheels of Steel: Extreme Trucker",
         "True"
        ],
        [
         "18 Wheels of Steel: Extreme Trucker 2",
         "True"
        ],
        [
         "187: Ride or Die",
         "True"
        ],
        [
         "187: Ride or Die",
         "True"
        ],
        [
         "1942",
         "True"
        ],
        [
         "2 Games in 1 Double Pack: Hot Wheels Velocity X / Hot Wheels World Race",
         "True"
        ],
        [
         "2 Games in 1 Double Pack: The Incredibles / Finding Nemo: The Continuing Adventures",
         "True"
        ]
       ],
       "shape": {
        "columns": 1,
        "rows": 16324
       }
      },
      "text/plain": [
       "Name\n",
       "'98 Koshien                                True\n",
       ".hack//G.U. Vol.1//Rebirth                 True\n",
       ".hack//G.U. Vol.2//Reminisce               True\n",
       ".hack//G.U. Vol.2//Reminisce (jp sales)    True\n",
       ".hack//G.U. Vol.3//Redemption              True\n",
       "                                           ... \n",
       "thinkSMART: Chess for Kids                 True\n",
       "uDraw Studio                               True\n",
       "uDraw Studio: Instant Artist               True\n",
       "uDraw Studio: Instant Artist               True\n",
       "¡Shin Chan Flipa en colores!               True\n",
       "Name: Global_Sales, Length: 16324, dtype: bool"
      ]
     },
     "execution_count": 132,
     "metadata": {},
     "output_type": "execute_result"
    }
   ],
   "source": [
    "s.notnull()\n",
    "s.notna()"
   ]
  }
 ],
 "metadata": {
  "kernelspec": {
   "display_name": "Python 3",
   "language": "python",
   "name": "python3"
  },
  "language_info": {
   "codemirror_mode": {
    "name": "ipython",
    "version": 3
   },
   "file_extension": ".py",
   "mimetype": "text/x-python",
   "name": "python",
   "nbconvert_exporter": "python",
   "pygments_lexer": "ipython3",
   "version": "3.13.3"
  }
 },
 "nbformat": 4,
 "nbformat_minor": 5
}

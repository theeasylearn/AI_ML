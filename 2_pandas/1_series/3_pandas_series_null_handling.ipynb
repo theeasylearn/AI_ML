{
 "cells": [
  {
   "cell_type": "markdown",
   "id": "fc532c5b",
   "metadata": {},
   "source": [
    "# this is null handling"
   ]
  },
  {
   "cell_type": "code",
   "execution_count": 21,
   "id": "9f3a39d8",
   "metadata": {},
   "outputs": [
    {
     "name": "stdout",
     "output_type": "stream",
     "text": [
      "0      abc\n",
      "1      efg\n",
      "2     hijk\n",
      "3     1230\n",
      "4     12.3\n",
      "5     None\n",
      "6     True\n",
      "7     1258\n",
      "8    False\n",
      "dtype: object\n"
     ]
    }
   ],
   "source": [
    "import pandas as pd\n",
    "data = [\"abc\", 'efg','hijk',1230,12.3,None,True,1258,False]\n",
    "s1 = pd.Series(data)\n",
    "print(s1)"
   ]
  },
  {
   "cell_type": "code",
   "execution_count": 22,
   "id": "fe967256",
   "metadata": {},
   "outputs": [
    {
     "data": {
      "application/vnd.microsoft.datawrangler.viewer.v0+json": {
       "columns": [
        {
         "name": "index",
         "rawType": "int64",
         "type": "integer"
        },
        {
         "name": "0",
         "rawType": "bool",
         "type": "boolean"
        }
       ],
       "ref": "079e1a5d-16ae-4a23-b4be-9691929909f4",
       "rows": [
        [
         "0",
         "False"
        ],
        [
         "1",
         "False"
        ],
        [
         "2",
         "False"
        ],
        [
         "3",
         "False"
        ],
        [
         "4",
         "False"
        ],
        [
         "5",
         "True"
        ],
        [
         "6",
         "False"
        ],
        [
         "7",
         "False"
        ],
        [
         "8",
         "False"
        ]
       ],
       "shape": {
        "columns": 1,
        "rows": 9
       }
      },
      "text/plain": [
       "0    False\n",
       "1    False\n",
       "2    False\n",
       "3    False\n",
       "4    False\n",
       "5     True\n",
       "6    False\n",
       "7    False\n",
       "8    False\n",
       "dtype: bool"
      ]
     },
     "execution_count": 22,
     "metadata": {},
     "output_type": "execute_result"
    }
   ],
   "source": [
    "s1.isnull()  # isna()"
   ]
  },
  {
   "cell_type": "code",
   "execution_count": 23,
   "id": "68d05c4f",
   "metadata": {},
   "outputs": [
    {
     "data": {
      "application/vnd.microsoft.datawrangler.viewer.v0+json": {
       "columns": [
        {
         "name": "index",
         "rawType": "int64",
         "type": "integer"
        },
        {
         "name": "0",
         "rawType": "bool",
         "type": "boolean"
        }
       ],
       "ref": "0481a30b-fa08-4763-ba2a-b21edef04bce",
       "rows": [
        [
         "0",
         "True"
        ],
        [
         "1",
         "True"
        ],
        [
         "2",
         "True"
        ],
        [
         "3",
         "True"
        ],
        [
         "4",
         "True"
        ],
        [
         "5",
         "False"
        ],
        [
         "6",
         "True"
        ],
        [
         "7",
         "True"
        ],
        [
         "8",
         "True"
        ]
       ],
       "shape": {
        "columns": 1,
        "rows": 9
       }
      },
      "text/plain": [
       "0     True\n",
       "1     True\n",
       "2     True\n",
       "3     True\n",
       "4     True\n",
       "5    False\n",
       "6     True\n",
       "7     True\n",
       "8     True\n",
       "dtype: bool"
      ]
     },
     "execution_count": 23,
     "metadata": {},
     "output_type": "execute_result"
    }
   ],
   "source": [
    "s1.notnull() # notna()"
   ]
  },
  {
   "cell_type": "code",
   "execution_count": 24,
   "id": "b69b489e",
   "metadata": {},
   "outputs": [
    {
     "data": {
      "application/vnd.microsoft.datawrangler.viewer.v0+json": {
       "columns": [
        {
         "name": "product",
         "rawType": "object",
         "type": "string"
        },
        {
         "name": "rating",
         "rawType": "float64",
         "type": "float"
        }
       ],
       "ref": "7ac9fb17-d45b-4247-8d74-61d1ca1019c7",
       "rows": [
        [
         "Garlic Oil - Vegetarian Capsule 500 mg",
         "4.1"
        ],
        [
         "Water Bottle - Orange",
         "2.3"
        ],
        [
         "Brass Angle Deep - Plain, No.2",
         "3.4"
        ],
        [
         "Cereal Flip Lid Container/Storage Jar - Assorted Colour",
         "3.7"
        ],
        [
         "Creme Soft Soap - For Hands & Body",
         "4.4"
        ]
       ],
       "shape": {
        "columns": 1,
        "rows": 5
       }
      },
      "text/plain": [
       "product\n",
       "Garlic Oil - Vegetarian Capsule 500 mg                     4.1\n",
       "Water Bottle - Orange                                      2.3\n",
       "Brass Angle Deep - Plain, No.2                             3.4\n",
       "Cereal Flip Lid Container/Storage Jar - Assorted Colour    3.7\n",
       "Creme Soft Soap - For Hands & Body                         4.4\n",
       "Name: rating, dtype: float64"
      ]
     },
     "execution_count": 24,
     "metadata": {},
     "output_type": "execute_result"
    }
   ],
   "source": [
    "s = pd.read_csv('../../dataset/Bigbasket/BigBasket_Products.csv',usecols=['product','rating'], index_col='product').squeeze()\n",
    "s.head()"
   ]
  },
  {
   "cell_type": "code",
   "execution_count": 25,
   "id": "fd585441",
   "metadata": {},
   "outputs": [
    {
     "data": {
      "application/vnd.microsoft.datawrangler.viewer.v0+json": {
       "columns": [
        {
         "name": "product",
         "rawType": "object",
         "type": "unknown"
        },
        {
         "name": "rating",
         "rawType": "bool",
         "type": "boolean"
        }
       ],
       "ref": "65500809-8878-458c-9318-4a29a568c7ba",
       "rows": [
        [
         "Garlic Oil - Vegetarian Capsule 500 mg",
         "True"
        ],
        [
         "Water Bottle - Orange",
         "True"
        ],
        [
         "Brass Angle Deep - Plain, No.2",
         "True"
        ],
        [
         "Cereal Flip Lid Container/Storage Jar - Assorted Colour",
         "True"
        ],
        [
         "Creme Soft Soap - For Hands & Body",
         "True"
        ],
        [
         "Germ - Removal Multipurpose Wipes",
         "True"
        ],
        [
         "Multani Mati",
         "True"
        ],
        [
         "Hand Sanitizer - 70% Alcohol Base",
         "True"
        ],
        [
         "Biotin & Collagen Volumizing Hair Shampoo + Biotin & Collagen Hair Conditioner",
         "True"
        ],
        [
         "Scrub Pad - Anti- Bacterial, Regular",
         "True"
        ],
        [
         "Wheat Grass Powder - Raw",
         "True"
        ],
        [
         "Butter Cookies Gold Collection",
         "True"
        ],
        [
         "Face Wash - Oil Control, Active",
         "True"
        ],
        [
         "Mold & Mildew Remover with Bleach",
         "True"
        ],
        [
         "Just Spray - Mosquito Repellent Room Spray",
         "True"
        ],
        [
         "Dove Plastic Soap Case - Assorted Colour",
         "True"
        ],
        [
         "Smooth Skin Oil - For Dry Skin",
         "True"
        ],
        [
         "Salted Pumpkin",
         "True"
        ],
        [
         "Flax Seeds - Roasted",
         "True"
        ],
        [
         "Organic Tofu - Soy Paneer",
         "True"
        ],
        [
         "Ceramic Barrel Brush - Colour May Vary",
         "True"
        ],
        [
         "Instant Noodles - Chicken Satay Flavor",
         "True"
        ],
        [
         "Chia Seeds",
         "True"
        ],
        [
         "Cleanse Green Tea - Whole Leaf Loose Tea",
         "True"
        ],
        [
         "Veggie Cutter",
         "True"
        ],
        [
         "Insulated Hot Fresh Casserole For Roti/Chapati - White",
         "True"
        ],
        [
         "Granola - Happy Berries",
         "True"
        ],
        [
         "Flaxseed - Pesticide Free",
         "True"
        ],
        [
         "Paratha Puff",
         "True"
        ],
        [
         "Lip Butter - Rose",
         "True"
        ],
        [
         "Fruit Power - Masala Sugarcane",
         "True"
        ],
        [
         "Chocobakes Choc Filled Cookies",
         "True"
        ],
        [
         "Amber - Deodorant Body Spray",
         "True"
        ],
        [
         "Green Tea - Tulsi Loose Leaf",
         "True"
        ],
        [
         "Pet Solitaire Container Set - Silver",
         "True"
        ],
        [
         "Dhania - Dal",
         "True"
        ],
        [
         "Pudina Chutney Masala",
         "True"
        ],
        [
         "Bodylicious Deodorant Spray - Mate (For Men)",
         "True"
        ],
        [
         "Sport Deo Spray - Fresh, for Men",
         "True"
        ],
        [
         "Choco Deck - Mini Delights",
         "True"
        ],
        [
         "Eau De Toilette - Homme Green",
         "True"
        ],
        [
         "Lemon & Tea Tree Oil Soap",
         "True"
        ],
        [
         "Flavoured Cream Wafer Roll - Strawberry",
         "True"
        ],
        [
         "Storage/Lunch Steel Container with PP Lid - Red",
         "True"
        ],
        [
         "Plain Green Olives",
         "True"
        ],
        [
         "Quinoa - Organic",
         "True"
        ],
        [
         "After Shave Splash - Arctic Ice",
         "True"
        ],
        [
         "Colour Catcher Sheets",
         "True"
        ],
        [
         "Sauce - Sweet & Sour",
         "True"
        ],
        [
         "Super Hot and Sweet Mango Chutney",
         "True"
        ]
       ],
       "shape": {
        "columns": 1,
        "rows": 27555
       }
      },
      "text/plain": [
       "product\n",
       "Garlic Oil - Vegetarian Capsule 500 mg                     True\n",
       "Water Bottle - Orange                                      True\n",
       "Brass Angle Deep - Plain, No.2                             True\n",
       "Cereal Flip Lid Container/Storage Jar - Assorted Colour    True\n",
       "Creme Soft Soap - For Hands & Body                         True\n",
       "                                                           ... \n",
       "Wottagirl! Perfume Spray - Heaven, Classic                 True\n",
       "Rosemary                                                   True\n",
       "Peri-Peri Sweet Potato Chips                               True\n",
       "Green Tea - Pure Original                                  True\n",
       "United Dreams Go Far Deodorant                             True\n",
       "Name: rating, Length: 27555, dtype: bool"
      ]
     },
     "execution_count": 25,
     "metadata": {},
     "output_type": "execute_result"
    }
   ],
   "source": [
    "mask= s.notna()\n",
    "mask"
   ]
  },
  {
   "cell_type": "code",
   "execution_count": null,
   "id": "4334bb2a",
   "metadata": {},
   "outputs": [],
   "source": [
    "s.fillna(0)# use inplace=True if you to change in database"
   ]
  },
  {
   "cell_type": "code",
   "execution_count": null,
   "id": "413d01ca",
   "metadata": {},
   "outputs": [],
   "source": [
    "s.dropna()# use inplace=True if you to change in database"
   ]
  },
  {
   "cell_type": "code",
   "execution_count": 31,
   "id": "ad3602f6",
   "metadata": {},
   "outputs": [
    {
     "data": {
      "text/plain": [
       "Index([                                        'Garlic Oil - Vegetarian Capsule 500 mg',\n",
       "                                                                'Water Bottle - Orange',\n",
       "                                                       'Brass Angle Deep - Plain, No.2',\n",
       "                              'Cereal Flip Lid Container/Storage Jar - Assorted Colour',\n",
       "                                                   'Creme Soft Soap - For Hands & Body',\n",
       "                                                    'Germ - Removal Multipurpose Wipes',\n",
       "                                                                         'Multani Mati',\n",
       "                                                    'Hand Sanitizer - 70% Alcohol Base',\n",
       "       'Biotin & Collagen Volumizing Hair Shampoo + Biotin & Collagen Hair Conditioner',\n",
       "                                                 'Scrub Pad - Anti- Bacterial, Regular',\n",
       "       ...\n",
       "                                      'Toilet Cleaning Brush - Round With Holder (Big)',\n",
       "                                                        'Organic Powder - Garam Masala',\n",
       "                                                                      'Powder - Baking',\n",
       "                                                          'Apple Cider Vinegar Shampoo',\n",
       "                                                                 'Papad - Garlic Disco',\n",
       "                                           'Wottagirl! Perfume Spray - Heaven, Classic',\n",
       "                                                                             'Rosemary',\n",
       "                                                         'Peri-Peri Sweet Potato Chips',\n",
       "                                                            'Green Tea - Pure Original',\n",
       "                                                       'United Dreams Go Far Deodorant'],\n",
       "      dtype='object', name='product', length=18929)"
      ]
     },
     "execution_count": 31,
     "metadata": {},
     "output_type": "execute_result"
    }
   ],
   "source": [
    "s.index"
   ]
  },
  {
   "cell_type": "code",
   "execution_count": 32,
   "id": "a689d149",
   "metadata": {},
   "outputs": [
    {
     "data": {
      "application/vnd.microsoft.datawrangler.viewer.v0+json": {
       "columns": [
        {
         "name": "index",
         "rawType": "int64",
         "type": "integer"
        },
        {
         "name": "0",
         "rawType": "int64",
         "type": "integer"
        }
       ],
       "ref": "3cc20843-c503-4636-86bd-ea3197e6d1f6",
       "rows": [
        [
         "0",
         "1"
        ],
        [
         "1",
         "2"
        ],
        [
         "2",
         "3"
        ],
        [
         "3",
         "4"
        ],
        [
         "4",
         "3"
        ],
        [
         "5",
         "2"
        ],
        [
         "6",
         "1"
        ],
        [
         "7",
         "34"
        ]
       ],
       "shape": {
        "columns": 1,
        "rows": 8
       }
      },
      "text/plain": [
       "0     1\n",
       "1     2\n",
       "2     3\n",
       "3     4\n",
       "4     3\n",
       "5     2\n",
       "6     1\n",
       "7    34\n",
       "dtype: int64"
      ]
     },
     "execution_count": 32,
     "metadata": {},
     "output_type": "execute_result"
    }
   ],
   "source": [
    "data = [1,2,3,4,3,2,1,34]\n",
    "s2= pd.Series(data)\n",
    "s2"
   ]
  },
  {
   "cell_type": "code",
   "execution_count": null,
   "id": "e6496356",
   "metadata": {},
   "outputs": [
    {
     "data": {
      "application/vnd.microsoft.datawrangler.viewer.v0+json": {
       "columns": [
        {
         "name": "index",
         "rawType": "int64",
         "type": "integer"
        },
        {
         "name": "0",
         "rawType": "bool",
         "type": "boolean"
        }
       ],
       "ref": "59b1e197-0163-489f-8cf9-334373c66f33",
       "rows": [
        [
         "0",
         "True"
        ],
        [
         "1",
         "True"
        ],
        [
         "2",
         "True"
        ],
        [
         "3",
         "False"
        ],
        [
         "4",
         "False"
        ],
        [
         "5",
         "False"
        ],
        [
         "6",
         "False"
        ],
        [
         "7",
         "False"
        ]
       ],
       "shape": {
        "columns": 1,
        "rows": 8
       }
      },
      "text/plain": [
       "0     True\n",
       "1     True\n",
       "2     True\n",
       "3    False\n",
       "4    False\n",
       "5    False\n",
       "6    False\n",
       "7    False\n",
       "dtype: bool"
      ]
     },
     "execution_count": 43,
     "metadata": {},
     "output_type": "execute_result"
    }
   ],
   "source": [
    "s2.duplicated(keep='last')# use inplace=True if you to change in database"
   ]
  },
  {
   "cell_type": "code",
   "execution_count": null,
   "id": "02b55aab",
   "metadata": {},
   "outputs": [
    {
     "data": {
      "application/vnd.microsoft.datawrangler.viewer.v0+json": {
       "columns": [
        {
         "name": "index",
         "rawType": "int64",
         "type": "integer"
        },
        {
         "name": "0",
         "rawType": "int64",
         "type": "integer"
        }
       ],
       "ref": "49e15090-033d-4c09-836e-d1dc6a5adac3",
       "rows": [
        [
         "3",
         "4"
        ],
        [
         "4",
         "3"
        ],
        [
         "5",
         "2"
        ],
        [
         "6",
         "1"
        ],
        [
         "7",
         "34"
        ]
       ],
       "shape": {
        "columns": 1,
        "rows": 5
       }
      },
      "text/plain": [
       "3     4\n",
       "4     3\n",
       "5     2\n",
       "6     1\n",
       "7    34\n",
       "dtype: int64"
      ]
     },
     "execution_count": 42,
     "metadata": {},
     "output_type": "execute_result"
    }
   ],
   "source": [
    "s2.drop_duplicates(keep='last')# use inplace=True if you to change in database"
   ]
  },
  {
   "cell_type": "code",
   "execution_count": 46,
   "id": "3fd5aece",
   "metadata": {},
   "outputs": [
    {
     "data": {
      "application/vnd.microsoft.datawrangler.viewer.v0+json": {
       "columns": [
        {
         "name": "product",
         "rawType": "object",
         "type": "string"
        },
        {
         "name": "rating",
         "rawType": "float64",
         "type": "float"
        }
       ],
       "ref": "a992c04b-7991-4d57-a875-2fb3a1bb45b2",
       "rows": [
        [
         "Garlic Oil - Vegetarian Capsule 500 mg",
         "4.1"
        ],
        [
         "Water Bottle - Orange",
         "2.3"
        ],
        [
         "Brass Angle Deep - Plain, No.2",
         "3.4"
        ],
        [
         "Cereal Flip Lid Container/Storage Jar - Assorted Colour",
         "3.7"
        ],
        [
         "Creme Soft Soap - For Hands & Body",
         "4.4"
        ],
        [
         "Germ - Removal Multipurpose Wipes",
         "3.3"
        ],
        [
         "Multani Mati",
         "3.6"
        ],
        [
         "Hand Sanitizer - 70% Alcohol Base",
         "4.0"
        ],
        [
         "Biotin & Collagen Volumizing Hair Shampoo + Biotin & Collagen Hair Conditioner",
         "3.5"
        ],
        [
         "Scrub Pad - Anti- Bacterial, Regular",
         "4.3"
        ],
        [
         "Butter Cookies Gold Collection",
         "2.2"
        ],
        [
         "Face Wash - Oil Control, Active",
         "5.0"
        ],
        [
         "Mold & Mildew Remover with Bleach",
         "3.8"
        ],
        [
         "Just Spray - Mosquito Repellent Room Spray",
         "4.2"
        ],
        [
         "Salted Pumpkin",
         "4.9"
        ],
        [
         "Organic Tofu - Soy Paneer",
         "3.9"
        ],
        [
         "Lip Butter - Rose",
         "1.5"
        ],
        [
         "Fruit Power - Masala Sugarcane",
         "2.9"
        ],
        [
         "Storage/Lunch Steel Container with PP Lid - Red",
         "2.6"
        ],
        [
         "Super Hot and Sweet Mango Chutney",
         "3.0"
        ],
        [
         "Extra Fine Green Peas",
         "4.5"
        ],
        [
         "Aqua Halo Rejuvenating Conditioner",
         "1.0"
        ],
        [
         "& Moms Bathing Soap - Jasmine",
         "4.6"
        ],
        [
         "Fructis Serum - Long & Strong",
         "4.8"
        ],
        [
         "Skin Cream",
         "3.1"
        ],
        [
         "Bath & Body Oil - Oriental Spicy Rose",
         "2.0"
        ],
        [
         "OvenOrg Multi Millet Rusk",
         "1.8"
        ],
        [
         "Sour Cream & Onion",
         "2.8"
        ],
        [
         "Salt & Peeper Shaker Masala Dabbi With Window",
         "3.2"
        ],
        [
         "Aeda Glycerine Bathing Bar - Natural Green",
         "4.7"
        ],
        [
         "Ashwagandha Powder",
         "2.5"
        ],
        [
         "Copper Water Fliptop Bottle - Stripes",
         "2.4"
        ],
        [
         "Argan Oil - Body Butter",
         "2.7"
        ],
        [
         "Herbal Gold Peel Off Mask",
         "2.1"
        ],
        [
         "Candy Slice In Lemon Sorbet Flavour",
         "1.7"
        ],
        [
         "Organic Ambemohar Rice/Akki",
         "1.9"
        ],
        [
         "Deltoid Turbo Face Masks In Navy Mesh With Blue, Grey & Navy Bindings - Assorted, 3C2003, Large",
         "1.2"
        ],
        [
         "Hair Spa For Dandruff Free Hair",
         "1.3"
        ],
        [
         "Marvel Avengers Double Wall Insulated Kids Sipper Bottle",
         "1.4"
        ],
        [
         "Dexter V6 Manual Razor For Men With Flexblade Technology",
         "1.6"
        ]
       ],
       "shape": {
        "columns": 1,
        "rows": 40
       }
      },
      "text/plain": [
       "product\n",
       "Garlic Oil - Vegetarian Capsule 500 mg                                                             4.1\n",
       "Water Bottle - Orange                                                                              2.3\n",
       "Brass Angle Deep - Plain, No.2                                                                     3.4\n",
       "Cereal Flip Lid Container/Storage Jar - Assorted Colour                                            3.7\n",
       "Creme Soft Soap - For Hands & Body                                                                 4.4\n",
       "Germ - Removal Multipurpose Wipes                                                                  3.3\n",
       "Multani Mati                                                                                       3.6\n",
       "Hand Sanitizer - 70% Alcohol Base                                                                  4.0\n",
       "Biotin & Collagen Volumizing Hair Shampoo + Biotin & Collagen Hair Conditioner                     3.5\n",
       "Scrub Pad - Anti- Bacterial, Regular                                                               4.3\n",
       "Butter Cookies Gold Collection                                                                     2.2\n",
       "Face Wash - Oil Control, Active                                                                    5.0\n",
       "Mold & Mildew Remover with Bleach                                                                  3.8\n",
       "Just Spray - Mosquito Repellent Room Spray                                                         4.2\n",
       "Salted Pumpkin                                                                                     4.9\n",
       "Organic Tofu - Soy Paneer                                                                          3.9\n",
       "Lip Butter - Rose                                                                                  1.5\n",
       "Fruit Power - Masala Sugarcane                                                                     2.9\n",
       "Storage/Lunch Steel Container with PP Lid - Red                                                    2.6\n",
       "Super Hot and Sweet Mango Chutney                                                                  3.0\n",
       "Extra Fine Green Peas                                                                              4.5\n",
       "Aqua Halo Rejuvenating Conditioner                                                                 1.0\n",
       "& Moms Bathing Soap - Jasmine                                                                      4.6\n",
       "Fructis Serum - Long & Strong                                                                      4.8\n",
       "Skin Cream                                                                                         3.1\n",
       "Bath & Body Oil - Oriental Spicy Rose                                                              2.0\n",
       "OvenOrg Multi Millet Rusk                                                                          1.8\n",
       "Sour Cream & Onion                                                                                 2.8\n",
       "Salt & Peeper Shaker Masala Dabbi With Window                                                      3.2\n",
       "Aeda Glycerine Bathing Bar - Natural Green                                                         4.7\n",
       "Ashwagandha Powder                                                                                 2.5\n",
       "Copper Water Fliptop Bottle - Stripes                                                              2.4\n",
       "Argan Oil - Body Butter                                                                            2.7\n",
       "Herbal Gold Peel Off Mask                                                                          2.1\n",
       "Candy Slice In Lemon Sorbet Flavour                                                                1.7\n",
       "Organic Ambemohar Rice/Akki                                                                        1.9\n",
       "Deltoid Turbo Face Masks In Navy Mesh With Blue, Grey & Navy Bindings - Assorted, 3C2003, Large    1.2\n",
       "Hair Spa For Dandruff Free Hair                                                                    1.3\n",
       "Marvel Avengers Double Wall Insulated Kids Sipper Bottle                                           1.4\n",
       "Dexter V6 Manual Razor For Men With Flexblade Technology                                           1.6\n",
       "Name: rating, dtype: float64"
      ]
     },
     "execution_count": 46,
     "metadata": {},
     "output_type": "execute_result"
    }
   ],
   "source": [
    "s.drop_duplicates()"
   ]
  },
  {
   "cell_type": "code",
   "execution_count": 48,
   "id": "a67faa48",
   "metadata": {},
   "outputs": [
    {
     "name": "stdout",
     "output_type": "stream",
     "text": [
      "0    10\n",
      "1     2\n",
      "2     3\n",
      "dtype: int64\n",
      "0    1\n",
      "1    2\n",
      "2    3\n",
      "dtype: int64\n"
     ]
    }
   ],
   "source": [
    "sc = pd.Series([1, 2, 3])\n",
    "s_copy = sc.copy()\n",
    "s_copy[0] = 10\n",
    "print(s_copy)\n",
    "print(sc)"
   ]
  },
  {
   "cell_type": "code",
   "execution_count": 49,
   "id": "bfa8d16f",
   "metadata": {},
   "outputs": [
    {
     "name": "stdout",
     "output_type": "stream",
     "text": [
      "0    10\n",
      "1     2\n",
      "2     3\n",
      "dtype: int64\n",
      "0    1\n",
      "1    2\n",
      "2    3\n",
      "dtype: int64\n"
     ]
    }
   ],
   "source": [
    "sc = pd.Series([1, 2, 3])\n",
    "s_copy = sc.copy(deep=True)\n",
    "s_copy[0] = 10\n",
    "print(s_copy)\n",
    "print(sc)"
   ]
  },
  {
   "cell_type": "code",
   "execution_count": null,
   "id": "78d39f02",
   "metadata": {},
   "outputs": [
    {
     "name": "stdout",
     "output_type": "stream",
     "text": [
      "a    10\n",
      "b     2\n",
      "c     3\n",
      "dtype: int64\n"
     ]
    }
   ],
   "source": [
    "sc = pd.Series([1, 2, 3],index=['a','b','c'])\n",
    "print(sc.replace(1,10))# use inplace=True if you to change in database"
   ]
  }
 ],
 "metadata": {
  "kernelspec": {
   "display_name": "Python 3",
   "language": "python",
   "name": "python3"
  },
  "language_info": {
   "codemirror_mode": {
    "name": "ipython",
    "version": 3
   },
   "file_extension": ".py",
   "mimetype": "text/x-python",
   "name": "python",
   "nbconvert_exporter": "python",
   "pygments_lexer": "ipython3",
   "version": "3.13.3"
  }
 },
 "nbformat": 4,
 "nbformat_minor": 5
}

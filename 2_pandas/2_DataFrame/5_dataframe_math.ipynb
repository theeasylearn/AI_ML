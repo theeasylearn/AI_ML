{
 "cells": [
  {
   "cell_type": "code",
   "execution_count": 11,
   "id": "081779c5",
   "metadata": {},
   "outputs": [
    {
     "name": "stdout",
     "output_type": "stream",
     "text": [
      "      Name   Age   Salary\n",
      "0    Alice  25.0  50000.0\n",
      "1      Bob   NaN  60000.0\n",
      "2  Charlie  35.0  75000.0\n",
      "3    Alice  30.0      NaN\n",
      "\n",
      " Age          30.000000\n",
      "Salary    61666.666667\n",
      "dtype: float64\n",
      "\n",
      " 0    25012.5\n",
      "1    60000.0\n",
      "2    37517.5\n",
      "3       30.0\n",
      "dtype: float64\n",
      "\n",
      " Age          30.000000\n",
      "Salary    61666.666667\n",
      "dtype: float64\n"
     ]
    }
   ],
   "source": [
    "import pandas as pd\n",
    "import numpy as np\n",
    "data = {\n",
    "    \t'Name': ['Alice', 'Bob', 'Charlie','Alice'],\n",
    " \t 'Age': [25,np.nan, 35,30],\n",
    "\t 'Salary': [50000, 60000, 75000,np.nan]\n",
    "\t}\n",
    "df = pd.DataFrame(data)\n",
    "print(df)\n",
    "print('\\n',df.mean(numeric_only=True, skipna=True, axis=0))\n",
    "\n",
    "print('\\n',df.mean(numeric_only=True, skipna=True, axis=1))\n",
    "\n",
    "print('\\n',df.mean(numeric_only=True, skipna=True))\n"
   ]
  },
  {
   "cell_type": "code",
   "execution_count": 12,
   "id": "82288d89",
   "metadata": {},
   "outputs": [
    {
     "name": "stdout",
     "output_type": "stream",
     "text": [
      "Age          30.0\n",
      "Salary    60000.0\n",
      "dtype: float64\n"
     ]
    }
   ],
   "source": [
    "print(df.median(numeric_only=True))"
   ]
  },
  {
   "cell_type": "code",
   "execution_count": 13,
   "id": "55406338",
   "metadata": {},
   "outputs": [
    {
     "data": {
      "application/vnd.microsoft.datawrangler.viewer.v0+json": {
       "columns": [
        {
         "name": "index",
         "rawType": "object",
         "type": "string"
        },
        {
         "name": "Age",
         "rawType": "float64",
         "type": "float"
        },
        {
         "name": "Salary",
         "rawType": "float64",
         "type": "float"
        }
       ],
       "ref": "44cdf114-1671-4668-a246-f51c328ac794",
       "rows": [
        [
         "count",
         "3.0",
         "3.0"
        ],
        [
         "mean",
         "30.0",
         "61666.666666666664"
        ],
        [
         "std",
         "5.0",
         "12583.057392117915"
        ],
        [
         "min",
         "25.0",
         "50000.0"
        ],
        [
         "25%",
         "27.5",
         "55000.0"
        ],
        [
         "50%",
         "30.0",
         "60000.0"
        ],
        [
         "75%",
         "32.5",
         "67500.0"
        ],
        [
         "max",
         "35.0",
         "75000.0"
        ]
       ],
       "shape": {
        "columns": 2,
        "rows": 8
       }
      },
      "text/html": [
       "<div>\n",
       "<style scoped>\n",
       "    .dataframe tbody tr th:only-of-type {\n",
       "        vertical-align: middle;\n",
       "    }\n",
       "\n",
       "    .dataframe tbody tr th {\n",
       "        vertical-align: top;\n",
       "    }\n",
       "\n",
       "    .dataframe thead th {\n",
       "        text-align: right;\n",
       "    }\n",
       "</style>\n",
       "<table border=\"1\" class=\"dataframe\">\n",
       "  <thead>\n",
       "    <tr style=\"text-align: right;\">\n",
       "      <th></th>\n",
       "      <th>Age</th>\n",
       "      <th>Salary</th>\n",
       "    </tr>\n",
       "  </thead>\n",
       "  <tbody>\n",
       "    <tr>\n",
       "      <th>count</th>\n",
       "      <td>3.0</td>\n",
       "      <td>3.000000</td>\n",
       "    </tr>\n",
       "    <tr>\n",
       "      <th>mean</th>\n",
       "      <td>30.0</td>\n",
       "      <td>61666.666667</td>\n",
       "    </tr>\n",
       "    <tr>\n",
       "      <th>std</th>\n",
       "      <td>5.0</td>\n",
       "      <td>12583.057392</td>\n",
       "    </tr>\n",
       "    <tr>\n",
       "      <th>min</th>\n",
       "      <td>25.0</td>\n",
       "      <td>50000.000000</td>\n",
       "    </tr>\n",
       "    <tr>\n",
       "      <th>25%</th>\n",
       "      <td>27.5</td>\n",
       "      <td>55000.000000</td>\n",
       "    </tr>\n",
       "    <tr>\n",
       "      <th>50%</th>\n",
       "      <td>30.0</td>\n",
       "      <td>60000.000000</td>\n",
       "    </tr>\n",
       "    <tr>\n",
       "      <th>75%</th>\n",
       "      <td>32.5</td>\n",
       "      <td>67500.000000</td>\n",
       "    </tr>\n",
       "    <tr>\n",
       "      <th>max</th>\n",
       "      <td>35.0</td>\n",
       "      <td>75000.000000</td>\n",
       "    </tr>\n",
       "  </tbody>\n",
       "</table>\n",
       "</div>"
      ],
      "text/plain": [
       "        Age        Salary\n",
       "count   3.0      3.000000\n",
       "mean   30.0  61666.666667\n",
       "std     5.0  12583.057392\n",
       "min    25.0  50000.000000\n",
       "25%    27.5  55000.000000\n",
       "50%    30.0  60000.000000\n",
       "75%    32.5  67500.000000\n",
       "max    35.0  75000.000000"
      ]
     },
     "execution_count": 13,
     "metadata": {},
     "output_type": "execute_result"
    }
   ],
   "source": [
    "df.describe()"
   ]
  },
  {
   "cell_type": "code",
   "execution_count": 14,
   "id": "86d70540",
   "metadata": {},
   "outputs": [
    {
     "name": "stdout",
     "output_type": "stream",
     "text": [
      "    Age   Salary\n",
      "0  25.0  50000.0\n",
      "1  30.0  60000.0\n",
      "2  35.0  75000.0\n"
     ]
    }
   ],
   "source": [
    "print(df.mode(axis=0,numeric_only=True,dropna=True))"
   ]
  },
  {
   "cell_type": "code",
   "execution_count": 15,
   "id": "0ab9315a",
   "metadata": {},
   "outputs": [
    {
     "name": "stdout",
     "output_type": "stream",
     "text": [
      "Age           90.0\n",
      "Salary    185000.0\n",
      "dtype: float64\n"
     ]
    }
   ],
   "source": [
    "print(df.sum(axis=0,numeric_only=True,skipna= True))"
   ]
  },
  {
   "cell_type": "code",
   "execution_count": 22,
   "id": "e4caf92e",
   "metadata": {},
   "outputs": [
    {
     "name": "stdout",
     "output_type": "stream",
     "text": [
      "Age       2.625000e+04\n",
      "Salary    2.250000e+14\n",
      "dtype: float64\n"
     ]
    }
   ],
   "source": [
    "print(df.prod(axis=0,skipna= True,numeric_only=True,min_count=3))"
   ]
  },
  {
   "cell_type": "code",
   "execution_count": 23,
   "id": "cc0cbd87",
   "metadata": {},
   "outputs": [
    {
     "name": "stdout",
     "output_type": "stream",
     "text": [
      "Age          25.0\n",
      "Salary    50000.0\n",
      "dtype: float64\n"
     ]
    }
   ],
   "source": [
    "print(df.min(axis=0,numeric_only=True))"
   ]
  },
  {
   "cell_type": "code",
   "execution_count": 25,
   "id": "7d7b8d22",
   "metadata": {},
   "outputs": [
    {
     "name": "stdout",
     "output_type": "stream",
     "text": [
      "Age          35.0\n",
      "Salary    75000.0\n",
      "dtype: float64\n"
     ]
    }
   ],
   "source": [
    "print(df.max(numeric_only=True))"
   ]
  },
  {
   "cell_type": "code",
   "execution_count": 26,
   "id": "ea8e197d",
   "metadata": {},
   "outputs": [
    {
     "name": "stdout",
     "output_type": "stream",
     "text": [
      "Age           5.000000\n",
      "Salary    12583.057392\n",
      "dtype: float64\n"
     ]
    }
   ],
   "source": [
    "print(df.std(axis=0,numeric_only=True))"
   ]
  },
  {
   "cell_type": "code",
   "execution_count": null,
   "id": "17186988",
   "metadata": {},
   "outputs": [
    {
     "name": "stdout",
     "output_type": "stream",
     "text": [
      "Age       2.500000e+01\n",
      "Salary    1.583333e+08\n",
      "dtype: float64\n"
     ]
    }
   ],
   "source": [
    "print(df.var(axis=0,numeric_only=True,skipna=True))"
   ]
  },
  {
   "cell_type": "code",
   "execution_count": 30,
   "id": "00284871",
   "metadata": {},
   "outputs": [
    {
     "name": "stdout",
     "output_type": "stream",
     "text": [
      "      Name  Age  Salary\n",
      "0    Alice   25   50000\n",
      "1      Bob   30   60000\n",
      "2  Charlie   35   75000\n",
      "Variance of Age: 25.0\n",
      "Variance of Salary: 158333333.3333333\n"
     ]
    }
   ],
   "source": [
    "import pandas as pd\n",
    "data = {\n",
    "    \t'Name': ['Alice', 'Bob', 'Charlie'],\n",
    " \t 'Age': [25, 30, 35],\n",
    "\t 'Salary': [50000, 60000, 75000]}\n",
    "df = pd.DataFrame(data)\n",
    "var_age = df['Age'].var()\n",
    "print(df);print(\"Variance of Age:\", var_age)\n",
    "var_salary = df['Salary'].var()\n",
    "print(\"Variance of Salary:\", var_salary)"
   ]
  },
  {
   "cell_type": "code",
   "execution_count": 35,
   "id": "cebf6669",
   "metadata": {},
   "outputs": [
    {
     "name": "stdout",
     "output_type": "stream",
     "text": [
      "      Name  Age  Salary\n",
      "0    Alice   25   50000\n",
      "1      Bob   30   60000\n",
      "2  Charlie   35   75000\n",
      "Covariance between Age and Salary: 62500.0\n"
     ]
    }
   ],
   "source": [
    "import pandas as pd\n",
    "data = {\n",
    "    \t'Name': ['Alice', 'Bob', 'Charlie'],\n",
    " \t    'Age': [25, 30, 35],\n",
    "\t    'Salary': [50000, 60000, 75000]\n",
    "\t}\n",
    "df = pd.DataFrame(data)\n",
    "print(df)\n",
    "cov_age_salary = df['Age'].cov(df['Salary'],min_periods=3)\n",
    "print(\"Covariance between Age and Salary:\", cov_age_salary)"
   ]
  },
  {
   "cell_type": "code",
   "execution_count": 36,
   "id": "7202e74a",
   "metadata": {},
   "outputs": [
    {
     "name": "stdout",
     "output_type": "stream",
     "text": [
      "      Name  Age  Salary\n",
      "0    Alice   25   50000\n",
      "1      Bob   30   60000\n",
      "2  Charlie   35   75000\n",
      "Correlation between Age and Salary: 0.993399267798783\n"
     ]
    }
   ],
   "source": [
    "import pandas as pd\n",
    "data = {\n",
    "    \t'Name': ['Alice', 'Bob', 'Charlie'],\n",
    " \t 'Age': [25, 30, 35],\n",
    "\t 'Salary': [50000, 60000, 75000]\n",
    "\t}\n",
    "df = pd.DataFrame(data)\n",
    "print(df)\n",
    "corr_age_salary = df['Age'].corr(df['Salary'])\n",
    "print(\"Correlation between Age and Salary:\", corr_age_salary)\n"
   ]
  },
  {
   "cell_type": "code",
   "execution_count": 43,
   "id": "f38b88d0",
   "metadata": {},
   "outputs": [
    {
     "name": "stdout",
     "output_type": "stream",
     "text": [
      "      Name  Age  Salary\n",
      "0    Alice   25   50000\n",
      "1      Bob   30   60000\n",
      "2  Charlie   35   75000\n",
      "quantile\n",
      " Age          30.0\n",
      "Salary    60000.0\n",
      "Name: 0.5, dtype: float64\n",
      "Age          30.0\n",
      "Salary    60000.0\n",
      "dtype: float64\n"
     ]
    }
   ],
   "source": [
    "import pandas as pd\n",
    "data = {\n",
    "    \t'Name': ['Alice', 'Bob', 'Charlie'],\n",
    " \t 'Age': [25, 30, 35],\n",
    "\t 'Salary': [50000, 60000, 75000]  }\n",
    "df = pd.DataFrame(data)\n",
    "print(df)\n",
    "median_values = df.quantile(q=0.5, axis=0, numeric_only=True)\n",
    "print(\"quantile\\n\",median_values)\n",
    "print(df.median(axis=0,numeric_only=True))"
   ]
  },
  {
   "cell_type": "code",
   "execution_count": 54,
   "id": "fd3d37f6",
   "metadata": {},
   "outputs": [
    {
     "name": "stdout",
     "output_type": "stream",
     "text": [
      "      Name  Age  Salary\n",
      "0    Blice   25   50000\n",
      "1      Aob   35  600000\n",
      "2  Charlie   30   75000\n",
      "      Name  Age  Salary\n",
      "0    Blice   25   50000\n",
      "1    Blice   35  600000\n",
      "2  Charlie   35  600000\n"
     ]
    }
   ],
   "source": [
    "import pandas as pd\n",
    "data = {\n",
    "    \t'Name': ['Blice', 'Aob', 'Charlie'],\n",
    " \t 'Age': [25, 35, 30],\n",
    "\t 'Salary': [50000, 600000, 75000]}\n",
    "df = pd.DataFrame(data)\n",
    "print(df)\n",
    "print(df.cummax(axis=0,skipna=True))"
   ]
  },
  {
   "cell_type": "code",
   "execution_count": 55,
   "id": "5d7ce95f",
   "metadata": {},
   "outputs": [
    {
     "name": "stdout",
     "output_type": "stream",
     "text": [
      "    Name  Age  Salary\n",
      "0  Blice   25   50000\n",
      "1    Aob   25   50000\n",
      "2    Aob   25   50000\n"
     ]
    }
   ],
   "source": [
    "print(df.cummin(axis=0,skipna=True))"
   ]
  },
  {
   "cell_type": "code",
   "execution_count": 2,
   "id": "492b86a3",
   "metadata": {},
   "outputs": [
    {
     "name": "stdout",
     "output_type": "stream",
     "text": [
      "Cumulative sum of Age:\n",
      " 0    25\n",
      "1    55\n",
      "2    90\n",
      "Name: Age, dtype: int64\n",
      "Cumulative sum of Salary:\n",
      " 0     50000\n",
      "1    110000\n",
      "2    185000\n",
      "Name: Salary, dtype: int64\n",
      "              Name  Age  Salary\n",
      "0            Alice   25   50000\n",
      "1         AliceBob   55  110000\n",
      "2  AliceBobCharlie   90  185000\n"
     ]
    }
   ],
   "source": [
    "import pandas as pd\n",
    "data = {\n",
    "    \t'Name': ['Alice', 'Bob', 'Charlie'],\n",
    " \t 'Age': [25, 30, 35],\n",
    "\t 'Salary': [50000, 60000, 75000]\n",
    "\t}\n",
    "df = pd.DataFrame(data)\n",
    "c_sum_age = df['Age'].cumsum()\n",
    "print(\"Cumulative sum of Age:\\n\", c_sum_age)\n",
    "c_sum_salary = df['Salary'].cumsum()\n",
    "print(\"Cumulative sum of Salary:\\n\", c_sum_salary)\n",
    "print(df.cumsum(axis=0))\n"
   ]
  },
  {
   "cell_type": "code",
   "execution_count": 6,
   "id": "ca9918fa",
   "metadata": {},
   "outputs": [
    {
     "name": "stdout",
     "output_type": "stream",
     "text": [
      "Age                 26250\n",
      "Salary    225000000000000\n",
      "dtype: int64\n",
      "0              50000\n",
      "1         3000000000\n",
      "2    225000000000000\n",
      "Name: Salary, dtype: int64\n"
     ]
    }
   ],
   "source": [
    "print(df.prod(axis=0,numeric_only=True,skipna=True))\n",
    "print(df['Salary'].cumprod())"
   ]
  },
  {
   "cell_type": "code",
   "execution_count": 11,
   "id": "decb07da",
   "metadata": {},
   "outputs": [
    {
     "name": "stdout",
     "output_type": "stream",
     "text": [
      "      Name  Age  Salary\n",
      "0    Alice   25   50000\n",
      "1      Bob   30   60000\n",
      "2  Charlie   35   75000\n",
      "Difference of Age:\n",
      " 0     NaN\n",
      "1     NaN\n",
      "2    10.0\n",
      "Name: Age, dtype: float64\n",
      "Difference of Salary:\n",
      " 0        NaN\n",
      "1    10000.0\n",
      "2    15000.0\n",
      "Name: Salary, dtype: float64\n"
     ]
    }
   ],
   "source": [
    "print(df)\n",
    "difference_age = df['Age'].diff(2)\n",
    "print(\"Difference of Age:\\n\", difference_age)\n",
    "difference_salary = df['Salary'].diff()\n",
    "print(\"Difference of Salary:\\n\", difference_salary)\n"
   ]
  },
  {
   "cell_type": "code",
   "execution_count": 12,
   "id": "fe0e8c28",
   "metadata": {},
   "outputs": [
    {
     "name": "stdout",
     "output_type": "stream",
     "text": [
      "      Name  Age  Salary\n",
      "0    Alice   25   50000\n",
      "1      Bob   30   60000\n",
      "2  Charlie   35   75000\n",
      "Difference of Age:\n",
      " 0         NaN\n",
      "1    0.200000\n",
      "2    0.166667\n",
      "Name: Age, dtype: float64\n",
      "Difference of Salary:\n",
      " 0     NaN\n",
      "1    0.20\n",
      "2    0.25\n",
      "Name: Salary, dtype: float64\n"
     ]
    }
   ],
   "source": [
    "print(df)\n",
    "difference_age = df['Age'].pct_change()\n",
    "print(\"Difference of Age:\\n\", difference_age)\n",
    "difference_salary = df['Salary'].pct_change()\n",
    "print(\"Difference of Salary:\\n\", difference_salary)"
   ]
  },
  {
   "cell_type": "code",
   "execution_count": null,
   "id": "09aa5c55",
   "metadata": {},
   "outputs": [
    {
     "name": "stdout",
     "output_type": "stream",
     "text": [
      "Age Comparison (Age == 30): 0    False\n",
      "1     True\n",
      "2    False\n",
      "Name: Age, dtype: bool\n",
      "\n",
      "Salary Comparison (Salary == 60000): 0    False\n",
      "1     True\n",
      "2    False\n",
      "Name: Salary, dtype: bool\n"
     ]
    }
   ],
   "source": [
    "import pandas as pd\n",
    "data = {\n",
    "    \t'Name': ['Alice', 'Bob', 'Charlie'],\n",
    " \t 'Age': [25, 30, 35],\n",
    "\t 'Salary': [50000, 60000, 75000]}\n",
    "df = pd.DataFrame(data)\n",
    "age_comparison = df['Age'].eq(30)\n",
    "salary_comparison = df['Salary'].eq(60000)\n",
    "print(\"Age Comparison (Age == 30):\\n\",age_comparison)\n",
    "print(\"\\nSalary Comparison (Salary == 60000):\\n\",salary_comparison)"
   ]
  },
  {
   "cell_type": "code",
   "execution_count": 14,
   "id": "259d436c",
   "metadata": {},
   "outputs": [
    {
     "name": "stdout",
     "output_type": "stream",
     "text": [
      "Age Comparison (Age == 30):\n",
      " 0     True\n",
      "1    False\n",
      "2     True\n",
      "Name: Age, dtype: bool\n",
      "\n",
      "Salary Comparison (Salary == 60000):\n",
      " 0     True\n",
      "1    False\n",
      "2     True\n",
      "Name: Salary, dtype: bool\n"
     ]
    }
   ],
   "source": [
    "import pandas as pd\n",
    "data = {\n",
    "    \t'Name': ['Alice', 'Bob', 'Charlie'],\n",
    " \t 'Age': [25, 30, 35],\n",
    "\t 'Salary': [50000, 60000, 75000]\n",
    "    }\n",
    "df = pd.DataFrame(data)\n",
    "age_comparison = df['Age'].ne(30)\n",
    "salary_comparison = df['Salary'].ne(60000)\n",
    "print(\"Age Comparison (Age == 30):\\n\",age_comparison)\n",
    "print(\"\\nSalary Comparison (Salary == 60000):\\n\",salary_comparison)"
   ]
  },
  {
   "cell_type": "code",
   "execution_count": null,
   "id": "b9e5e7a5",
   "metadata": {},
   "outputs": [
    {
     "name": "stdout",
     "output_type": "stream",
     "text": [
      "Age Comparison (Age == 30): 0    False\n",
      "1    False\n",
      "2     True\n",
      "Name: Age, dtype: bool\n",
      "\n",
      "Salary Comparison (Salary == 60000): 0    False\n",
      "1    False\n",
      "2     True\n",
      "Name: Salary, dtype: bool\n"
     ]
    }
   ],
   "source": [
    "import pandas as pd\n",
    "data = {\n",
    "    \t'Name': ['Alice', 'Bob', 'Charlie'],\n",
    " \t 'Age': [25, 30, 35],\n",
    "\t 'Salary': [50000, 60000, 75000]}\n",
    "df = pd.DataFrame(data)\n",
    "age_comparison = df['Age'].gt(30)\n",
    "salary_comparison = df['Salary'].gt(60000)\n",
    "print(\"Age Comparison (Age == 30):\\n\",age_comparison)\n",
    "print(\"\\nSalary Comparison (Salary == 60000):\\n\",salary_comparison)"
   ]
  },
  {
   "cell_type": "code",
   "execution_count": 16,
   "id": "2cc92971",
   "metadata": {},
   "outputs": [
    {
     "name": "stdout",
     "output_type": "stream",
     "text": [
      "Age Comparison (Age == 30):\n",
      " 0    False\n",
      "1     True\n",
      "2     True\n",
      "Name: Age, dtype: bool\n",
      "\n",
      "Salary Comparison (Salary == 60000):\n",
      " 0    False\n",
      "1     True\n",
      "2     True\n",
      "Name: Salary, dtype: bool\n"
     ]
    }
   ],
   "source": [
    "import pandas as pd\n",
    "data = {\n",
    "    \t'Name': ['Alice', 'Bob', 'Charlie'],\n",
    " \t 'Age': [25, 30, 35],\n",
    "\t 'Salary': [50000, 60000, 75000]}\n",
    "df = pd.DataFrame(data)\n",
    "age_comparison = df['Age'].ge(30)\n",
    "salary_comparison = df['Salary'].ge(60000)\n",
    "print(\"Age Comparison (Age == 30):\\n\",age_comparison)\n",
    "print(\"\\nSalary Comparison (Salary == 60000):\\n\",salary_comparison)"
   ]
  },
  {
   "cell_type": "code",
   "execution_count": 17,
   "id": "e15f5526",
   "metadata": {},
   "outputs": [
    {
     "name": "stdout",
     "output_type": "stream",
     "text": [
      "Age Comparison (Age == 30):\n",
      " 0     True\n",
      "1    False\n",
      "2    False\n",
      "Name: Age, dtype: bool\n",
      "\n",
      "Salary Comparison (Salary == 60000):\n",
      " 0     True\n",
      "1    False\n",
      "2    False\n",
      "Name: Salary, dtype: bool\n"
     ]
    }
   ],
   "source": [
    "import pandas as pd\n",
    "data = {\n",
    "    \t'Name': ['Alice', 'Bob', 'Charlie'],\n",
    " \t 'Age': [25, 30, 35],\n",
    "\t 'Salary': [50000, 60000, 75000]}\n",
    "df = pd.DataFrame(data)\n",
    "age_comparison = df['Age'].lt(30)\n",
    "salary_comparison = df['Salary'].lt(60000)\n",
    "print(\"Age Comparison (Age == 30):\\n\",age_comparison)\n",
    "print(\"\\nSalary Comparison (Salary == 60000):\\n\",salary_comparison)"
   ]
  },
  {
   "cell_type": "code",
   "execution_count": 18,
   "id": "e1c9da67",
   "metadata": {},
   "outputs": [
    {
     "name": "stdout",
     "output_type": "stream",
     "text": [
      "Age Comparison (Age == 30):\n",
      " 0     True\n",
      "1     True\n",
      "2    False\n",
      "Name: Age, dtype: bool\n",
      "\n",
      "Salary Comparison (Salary == 60000):\n",
      " 0     True\n",
      "1     True\n",
      "2    False\n",
      "Name: Salary, dtype: bool\n"
     ]
    }
   ],
   "source": [
    "import pandas as pd\n",
    "data = {\n",
    "    \t'Name': ['Alice', 'Bob', 'Charlie'],\n",
    " \t 'Age': [25, 30, 35],\n",
    "\t 'Salary': [50000, 60000, 75000]}\n",
    "df = pd.DataFrame(data)\n",
    "age_comparison = df['Age'].le(30)\n",
    "salary_comparison = df['Salary'].le(60000)\n",
    "print(\"Age Comparison (Age == 30):\\n\",age_comparison)\n",
    "print(\"\\nSalary Comparison (Salary == 60000):\\n\",salary_comparison)"
   ]
  },
  {
   "cell_type": "code",
   "execution_count": 19,
   "id": "0fe9d076",
   "metadata": {},
   "outputs": [
    {
     "name": "stdout",
     "output_type": "stream",
     "text": [
      "      Name  Age  Salary\n",
      "0    Alice   25   50000\n",
      "1      Bob   30   60000\n",
      "2  Charlie   35   75000\n",
      "Age Comparison (Age < 30 or < 35): 0     True\n",
      "1     True\n",
      "2    False\n",
      "Name: Age, dtype: bool\n",
      "Salary Comparison (Salary < 50000 or < 60000): 0     True\n",
      "1    False\n",
      "2    False\n",
      "Name: Salary, dtype: bool\n"
     ]
    }
   ],
   "source": [
    "import pandas as pd\n",
    "data = {\n",
    "    \t'Name': ['Alice', 'Bob', 'Charlie'],\n",
    " \t 'Age': [25, 30, 35],\n",
    "\t 'Salary': [50000, 60000, 75000]}\n",
    "df = pd.DataFrame(data)\n",
    "print(df)\n",
    "age_comp_multiple = df['Age'].lt(30) | df['Age'].lt(35)\n",
    "salary_comp_multiple = df['Salary'].lt(50000) | df['Salary'].lt(60000)\n",
    "print(\"Age Comparison (Age < 30 or < 35):\",age_comp_multiple)\n",
    "print(\"Salary Comparison (Salary < 50000 or < 60000):\",salary_comp_multiple)\n"
   ]
  },
  {
   "cell_type": "markdown",
   "id": "9fa860c0",
   "metadata": {},
   "source": [
    "# Null Handling"
   ]
  },
  {
   "cell_type": "code",
   "execution_count": null,
   "id": "5fa9c830",
   "metadata": {},
   "outputs": [
    {
     "name": "stdout",
     "output_type": "stream",
     "text": [
      "      Name   Age   Salary\n",
      "0    Alice  25.0  50000.0\n",
      "1      Bob  30.0      NaN\n",
      "2      NaN   NaN      NaN\n",
      "3  Charlie  35.0  75000.0\n",
      "Name column isna():\n",
      " 0    False\n",
      "1    False\n",
      "2     True\n",
      "3    False\n",
      "Name: Name, dtype: bool\n"
     ]
    }
   ],
   "source": [
    "import pandas as pd\n",
    "import numpy as np\n",
    "data = {\n",
    "    'Name': ['Alice', 'Bob', np.nan, 'Charlie'],\n",
    "    'Age': [25, 30, np.nan, 35],\n",
    "    'Salary': [50000, np.nan, np.nan, 75000]\n",
    "}\n",
    "df = pd.DataFrame(data)\n",
    "print(df)\n",
    "print(\"Name column isna():\\n\", df['Name'].isna())\n",
    "\n"
   ]
  },
  {
   "cell_type": "code",
   "execution_count": 25,
   "id": "afbbaa87",
   "metadata": {},
   "outputs": [
    {
     "name": "stdout",
     "output_type": "stream",
     "text": [
      "\n",
      "Count of missing values per column:\n",
      "0    0\n",
      "1    1\n",
      "2    3\n",
      "3    0\n",
      "dtype: int64\n"
     ]
    }
   ],
   "source": [
    "# print(\"Age column isna():\\n\", df['Age'].isna())\n",
    "# print(\"Salary column isna():\\n\", df['Salary'].isna())\n",
    "# print(df.isna())\n",
    "print(\"\\nCount of missing values per column:\")\n",
    "print(df.isna().sum(axis=1))"
   ]
  },
  {
   "cell_type": "code",
   "execution_count": 26,
   "id": "28c87096",
   "metadata": {},
   "outputs": [
    {
     "name": "stdout",
     "output_type": "stream",
     "text": [
      "      Name   Age   Salary\n",
      "0    Alice  25.0  50000.0\n",
      "1      Bob  30.0      NaN\n",
      "2      NaN   NaN      NaN\n",
      "3  Charlie  35.0  75000.0\n",
      "Name column notna():\n",
      " 0     True\n",
      "1     True\n",
      "2    False\n",
      "3     True\n",
      "Name: Name, dtype: bool\n",
      "Age column notna():\n",
      " 0     True\n",
      "1     True\n",
      "2    False\n",
      "3     True\n",
      "Name: Age, dtype: bool\n",
      "Salary column notna():\n",
      " 0     True\n",
      "1    False\n",
      "2    False\n",
      "3     True\n",
      "Name: Salary, dtype: bool\n"
     ]
    }
   ],
   "source": [
    "import pandas as pd\n",
    "import numpy as np\n",
    "data = {\n",
    "    'Name': ['Alice', 'Bob', np.nan, 'Charlie'],\n",
    "    'Age': [25, 30, np.nan, 35],\n",
    "    'Salary': [50000, np.nan, np.nan, 75000]\n",
    "}\n",
    "df = pd.DataFrame(data)\n",
    "print(df)\n",
    "print(\"Name column notna():\\n\", df['Name'].notna())\n",
    "print(\"Age column notna():\\n\", df['Age'].notna())\n",
    "print(\"Salary column notna():\\n\", df['Salary'].notna())\n"
   ]
  }
 ],
 "metadata": {
  "kernelspec": {
   "display_name": "Python 3",
   "language": "python",
   "name": "python3"
  },
  "language_info": {
   "codemirror_mode": {
    "name": "ipython",
    "version": 3
   },
   "file_extension": ".py",
   "mimetype": "text/x-python",
   "name": "python",
   "nbconvert_exporter": "python",
   "pygments_lexer": "ipython3",
   "version": "3.13.3"
  }
 },
 "nbformat": 4,
 "nbformat_minor": 5
}

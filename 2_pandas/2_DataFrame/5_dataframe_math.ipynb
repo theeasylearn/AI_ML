{
 "cells": [
  {
   "cell_type": "code",
   "execution_count": 11,
   "id": "081779c5",
   "metadata": {},
   "outputs": [
    {
     "name": "stdout",
     "output_type": "stream",
     "text": [
      "      Name   Age   Salary\n",
      "0    Alice  25.0  50000.0\n",
      "1      Bob   NaN  60000.0\n",
      "2  Charlie  35.0  75000.0\n",
      "3    Alice  30.0      NaN\n",
      "\n",
      " Age          30.000000\n",
      "Salary    61666.666667\n",
      "dtype: float64\n",
      "\n",
      " 0    25012.5\n",
      "1    60000.0\n",
      "2    37517.5\n",
      "3       30.0\n",
      "dtype: float64\n",
      "\n",
      " Age          30.000000\n",
      "Salary    61666.666667\n",
      "dtype: float64\n"
     ]
    }
   ],
   "source": [
    "import pandas as pd\n",
    "import numpy as np\n",
    "data = {\n",
    "    \t'Name': ['Alice', 'Bob', 'Charlie','Alice'],\n",
    " \t 'Age': [25,np.nan, 35,30],\n",
    "\t 'Salary': [50000, 60000, 75000,np.nan]\n",
    "\t}\n",
    "df = pd.DataFrame(data)\n",
    "print(df)\n",
    "print('\\n',df.mean(numeric_only=True, skipna=True, axis=0))\n",
    "\n",
    "print('\\n',df.mean(numeric_only=True, skipna=True, axis=1))\n",
    "\n",
    "print('\\n',df.mean(numeric_only=True, skipna=True))\n"
   ]
  },
  {
   "cell_type": "code",
   "execution_count": 12,
   "id": "82288d89",
   "metadata": {},
   "outputs": [
    {
     "name": "stdout",
     "output_type": "stream",
     "text": [
      "Age          30.0\n",
      "Salary    60000.0\n",
      "dtype: float64\n"
     ]
    }
   ],
   "source": [
    "print(df.median(numeric_only=True))"
   ]
  },
  {
   "cell_type": "code",
   "execution_count": 13,
   "id": "55406338",
   "metadata": {},
   "outputs": [
    {
     "data": {
      "application/vnd.microsoft.datawrangler.viewer.v0+json": {
       "columns": [
        {
         "name": "index",
         "rawType": "object",
         "type": "string"
        },
        {
         "name": "Age",
         "rawType": "float64",
         "type": "float"
        },
        {
         "name": "Salary",
         "rawType": "float64",
         "type": "float"
        }
       ],
       "ref": "44cdf114-1671-4668-a246-f51c328ac794",
       "rows": [
        [
         "count",
         "3.0",
         "3.0"
        ],
        [
         "mean",
         "30.0",
         "61666.666666666664"
        ],
        [
         "std",
         "5.0",
         "12583.057392117915"
        ],
        [
         "min",
         "25.0",
         "50000.0"
        ],
        [
         "25%",
         "27.5",
         "55000.0"
        ],
        [
         "50%",
         "30.0",
         "60000.0"
        ],
        [
         "75%",
         "32.5",
         "67500.0"
        ],
        [
         "max",
         "35.0",
         "75000.0"
        ]
       ],
       "shape": {
        "columns": 2,
        "rows": 8
       }
      },
      "text/html": [
       "<div>\n",
       "<style scoped>\n",
       "    .dataframe tbody tr th:only-of-type {\n",
       "        vertical-align: middle;\n",
       "    }\n",
       "\n",
       "    .dataframe tbody tr th {\n",
       "        vertical-align: top;\n",
       "    }\n",
       "\n",
       "    .dataframe thead th {\n",
       "        text-align: right;\n",
       "    }\n",
       "</style>\n",
       "<table border=\"1\" class=\"dataframe\">\n",
       "  <thead>\n",
       "    <tr style=\"text-align: right;\">\n",
       "      <th></th>\n",
       "      <th>Age</th>\n",
       "      <th>Salary</th>\n",
       "    </tr>\n",
       "  </thead>\n",
       "  <tbody>\n",
       "    <tr>\n",
       "      <th>count</th>\n",
       "      <td>3.0</td>\n",
       "      <td>3.000000</td>\n",
       "    </tr>\n",
       "    <tr>\n",
       "      <th>mean</th>\n",
       "      <td>30.0</td>\n",
       "      <td>61666.666667</td>\n",
       "    </tr>\n",
       "    <tr>\n",
       "      <th>std</th>\n",
       "      <td>5.0</td>\n",
       "      <td>12583.057392</td>\n",
       "    </tr>\n",
       "    <tr>\n",
       "      <th>min</th>\n",
       "      <td>25.0</td>\n",
       "      <td>50000.000000</td>\n",
       "    </tr>\n",
       "    <tr>\n",
       "      <th>25%</th>\n",
       "      <td>27.5</td>\n",
       "      <td>55000.000000</td>\n",
       "    </tr>\n",
       "    <tr>\n",
       "      <th>50%</th>\n",
       "      <td>30.0</td>\n",
       "      <td>60000.000000</td>\n",
       "    </tr>\n",
       "    <tr>\n",
       "      <th>75%</th>\n",
       "      <td>32.5</td>\n",
       "      <td>67500.000000</td>\n",
       "    </tr>\n",
       "    <tr>\n",
       "      <th>max</th>\n",
       "      <td>35.0</td>\n",
       "      <td>75000.000000</td>\n",
       "    </tr>\n",
       "  </tbody>\n",
       "</table>\n",
       "</div>"
      ],
      "text/plain": [
       "        Age        Salary\n",
       "count   3.0      3.000000\n",
       "mean   30.0  61666.666667\n",
       "std     5.0  12583.057392\n",
       "min    25.0  50000.000000\n",
       "25%    27.5  55000.000000\n",
       "50%    30.0  60000.000000\n",
       "75%    32.5  67500.000000\n",
       "max    35.0  75000.000000"
      ]
     },
     "execution_count": 13,
     "metadata": {},
     "output_type": "execute_result"
    }
   ],
   "source": [
    "df.describe()"
   ]
  },
  {
   "cell_type": "code",
   "execution_count": 14,
   "id": "86d70540",
   "metadata": {},
   "outputs": [
    {
     "name": "stdout",
     "output_type": "stream",
     "text": [
      "    Age   Salary\n",
      "0  25.0  50000.0\n",
      "1  30.0  60000.0\n",
      "2  35.0  75000.0\n"
     ]
    }
   ],
   "source": [
    "print(df.mode(axis=0,numeric_only=True,dropna=True))"
   ]
  },
  {
   "cell_type": "code",
   "execution_count": 15,
   "id": "0ab9315a",
   "metadata": {},
   "outputs": [
    {
     "name": "stdout",
     "output_type": "stream",
     "text": [
      "Age           90.0\n",
      "Salary    185000.0\n",
      "dtype: float64\n"
     ]
    }
   ],
   "source": [
    "print(df.sum(axis=0,numeric_only=True,skipna= True))"
   ]
  },
  {
   "cell_type": "code",
   "execution_count": 22,
   "id": "e4caf92e",
   "metadata": {},
   "outputs": [
    {
     "name": "stdout",
     "output_type": "stream",
     "text": [
      "Age       2.625000e+04\n",
      "Salary    2.250000e+14\n",
      "dtype: float64\n"
     ]
    }
   ],
   "source": [
    "print(df.prod(axis=0,skipna= True,numeric_only=True,min_count=3))"
   ]
  },
  {
   "cell_type": "code",
   "execution_count": 23,
   "id": "cc0cbd87",
   "metadata": {},
   "outputs": [
    {
     "name": "stdout",
     "output_type": "stream",
     "text": [
      "Age          25.0\n",
      "Salary    50000.0\n",
      "dtype: float64\n"
     ]
    }
   ],
   "source": [
    "print(df.min(axis=0,numeric_only=True))"
   ]
  },
  {
   "cell_type": "code",
   "execution_count": 25,
   "id": "7d7b8d22",
   "metadata": {},
   "outputs": [
    {
     "name": "stdout",
     "output_type": "stream",
     "text": [
      "Age          35.0\n",
      "Salary    75000.0\n",
      "dtype: float64\n"
     ]
    }
   ],
   "source": [
    "print(df.max(numeric_only=True))"
   ]
  },
  {
   "cell_type": "code",
   "execution_count": 26,
   "id": "ea8e197d",
   "metadata": {},
   "outputs": [
    {
     "name": "stdout",
     "output_type": "stream",
     "text": [
      "Age           5.000000\n",
      "Salary    12583.057392\n",
      "dtype: float64\n"
     ]
    }
   ],
   "source": [
    "print(df.std(axis=0,numeric_only=True))"
   ]
  },
  {
   "cell_type": "code",
   "execution_count": null,
   "id": "17186988",
   "metadata": {},
   "outputs": [
    {
     "name": "stdout",
     "output_type": "stream",
     "text": [
      "Age       2.500000e+01\n",
      "Salary    1.583333e+08\n",
      "dtype: float64\n"
     ]
    }
   ],
   "source": [
    "print(df.var(axis=0,numeric_only=True,skipna=True))"
   ]
  },
  {
   "cell_type": "code",
   "execution_count": 30,
   "id": "00284871",
   "metadata": {},
   "outputs": [
    {
     "name": "stdout",
     "output_type": "stream",
     "text": [
      "      Name  Age  Salary\n",
      "0    Alice   25   50000\n",
      "1      Bob   30   60000\n",
      "2  Charlie   35   75000\n",
      "Variance of Age: 25.0\n",
      "Variance of Salary: 158333333.3333333\n"
     ]
    }
   ],
   "source": [
    "import pandas as pd\n",
    "data = {\n",
    "    \t'Name': ['Alice', 'Bob', 'Charlie'],\n",
    " \t 'Age': [25, 30, 35],\n",
    "\t 'Salary': [50000, 60000, 75000]}\n",
    "df = pd.DataFrame(data)\n",
    "var_age = df['Age'].var()\n",
    "print(df);print(\"Variance of Age:\", var_age)\n",
    "var_salary = df['Salary'].var()\n",
    "print(\"Variance of Salary:\", var_salary)"
   ]
  },
  {
   "cell_type": "code",
   "execution_count": 35,
   "id": "cebf6669",
   "metadata": {},
   "outputs": [
    {
     "name": "stdout",
     "output_type": "stream",
     "text": [
      "      Name  Age  Salary\n",
      "0    Alice   25   50000\n",
      "1      Bob   30   60000\n",
      "2  Charlie   35   75000\n",
      "Covariance between Age and Salary: 62500.0\n"
     ]
    }
   ],
   "source": [
    "import pandas as pd\n",
    "data = {\n",
    "    \t'Name': ['Alice', 'Bob', 'Charlie'],\n",
    " \t    'Age': [25, 30, 35],\n",
    "\t    'Salary': [50000, 60000, 75000]\n",
    "\t}\n",
    "df = pd.DataFrame(data)\n",
    "print(df)\n",
    "cov_age_salary = df['Age'].cov(df['Salary'],min_periods=3)\n",
    "print(\"Covariance between Age and Salary:\", cov_age_salary)"
   ]
  },
  {
   "cell_type": "code",
   "execution_count": 36,
   "id": "7202e74a",
   "metadata": {},
   "outputs": [
    {
     "name": "stdout",
     "output_type": "stream",
     "text": [
      "      Name  Age  Salary\n",
      "0    Alice   25   50000\n",
      "1      Bob   30   60000\n",
      "2  Charlie   35   75000\n",
      "Correlation between Age and Salary: 0.993399267798783\n"
     ]
    }
   ],
   "source": [
    "import pandas as pd\n",
    "data = {\n",
    "    \t'Name': ['Alice', 'Bob', 'Charlie'],\n",
    " \t 'Age': [25, 30, 35],\n",
    "\t 'Salary': [50000, 60000, 75000]\n",
    "\t}\n",
    "df = pd.DataFrame(data)\n",
    "print(df)\n",
    "corr_age_salary = df['Age'].corr(df['Salary'])\n",
    "print(\"Correlation between Age and Salary:\", corr_age_salary)\n"
   ]
  },
  {
   "cell_type": "code",
   "execution_count": 43,
   "id": "f38b88d0",
   "metadata": {},
   "outputs": [
    {
     "name": "stdout",
     "output_type": "stream",
     "text": [
      "      Name  Age  Salary\n",
      "0    Alice   25   50000\n",
      "1      Bob   30   60000\n",
      "2  Charlie   35   75000\n",
      "quantile\n",
      " Age          30.0\n",
      "Salary    60000.0\n",
      "Name: 0.5, dtype: float64\n",
      "Age          30.0\n",
      "Salary    60000.0\n",
      "dtype: float64\n"
     ]
    }
   ],
   "source": [
    "import pandas as pd\n",
    "data = {\n",
    "    \t'Name': ['Alice', 'Bob', 'Charlie'],\n",
    " \t 'Age': [25, 30, 35],\n",
    "\t 'Salary': [50000, 60000, 75000]  }\n",
    "df = pd.DataFrame(data)\n",
    "print(df)\n",
    "median_values = df.quantile(q=0.5, axis=0, numeric_only=True)\n",
    "print(\"quantile\\n\",median_values)\n",
    "print(df.median(axis=0,numeric_only=True))"
   ]
  },
  {
   "cell_type": "code",
   "execution_count": 54,
   "id": "fd3d37f6",
   "metadata": {},
   "outputs": [
    {
     "name": "stdout",
     "output_type": "stream",
     "text": [
      "      Name  Age  Salary\n",
      "0    Blice   25   50000\n",
      "1      Aob   35  600000\n",
      "2  Charlie   30   75000\n",
      "      Name  Age  Salary\n",
      "0    Blice   25   50000\n",
      "1    Blice   35  600000\n",
      "2  Charlie   35  600000\n"
     ]
    }
   ],
   "source": [
    "import pandas as pd\n",
    "data = {\n",
    "    \t'Name': ['Blice', 'Aob', 'Charlie'],\n",
    " \t 'Age': [25, 35, 30],\n",
    "\t 'Salary': [50000, 600000, 75000]}\n",
    "df = pd.DataFrame(data)\n",
    "print(df)\n",
    "print(df.cummax(axis=0,skipna=True))"
   ]
  },
  {
   "cell_type": "code",
   "execution_count": 55,
   "id": "5d7ce95f",
   "metadata": {},
   "outputs": [
    {
     "name": "stdout",
     "output_type": "stream",
     "text": [
      "    Name  Age  Salary\n",
      "0  Blice   25   50000\n",
      "1    Aob   25   50000\n",
      "2    Aob   25   50000\n"
     ]
    }
   ],
   "source": [
    "print(df.cummin(axis=0,skipna=True))"
   ]
  },
  {
   "cell_type": "code",
   "execution_count": null,
   "id": "492b86a3",
   "metadata": {},
   "outputs": [],
   "source": []
  }
 ],
 "metadata": {
  "kernelspec": {
   "display_name": "Python 3",
   "language": "python",
   "name": "python3"
  },
  "language_info": {
   "codemirror_mode": {
    "name": "ipython",
    "version": 3
   },
   "file_extension": ".py",
   "mimetype": "text/x-python",
   "name": "python",
   "nbconvert_exporter": "python",
   "pygments_lexer": "ipython3",
   "version": "3.13.3"
  }
 },
 "nbformat": 4,
 "nbformat_minor": 5
}

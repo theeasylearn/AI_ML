{
 "cells": [
  {
   "cell_type": "code",
   "execution_count": 1,
   "id": "38de5e51",
   "metadata": {},
   "outputs": [
    {
     "name": "stdout",
     "output_type": "stream",
     "text": [
      "      Name  Age  Salary\n",
      "0    Alice   25   50000\n",
      "1      Bob   30   60000\n",
      "2  Charlie   35   75000\n",
      "DataFrame with lowercase names:\n",
      "      Name  Age  Salary Name_Lower\n",
      "0    Alice   25   50000      alice\n",
      "1      Bob   30   60000        bob\n",
      "2  Charlie   35   75000    charlie\n"
     ]
    }
   ],
   "source": [
    "import pandas as pd\n",
    "data = {\n",
    "    \t'Name': ['Alice', 'Bob', 'Charlie'],'Age': [25, 30, 35],\n",
    "\t 'Salary': [50000, 60000, 75000]}\n",
    "df = pd.DataFrame(data)\n",
    "print(df)\n",
    "df['Name_Lower'] = df['Name'].str.lower()\n",
    "print(\"DataFrame with lowercase names:\")\n",
    "print(df)"
   ]
  },
  {
   "cell_type": "code",
   "execution_count": 2,
   "id": "63d7e2ca",
   "metadata": {},
   "outputs": [
    {
     "name": "stdout",
     "output_type": "stream",
     "text": [
      "\n",
      "Case-insensitive search for 'bob':\n",
      "  Name  Age  Salary Name_Lower\n",
      "1  Bob   30   60000        bob\n"
     ]
    }
   ],
   "source": [
    "# Case-insensitive filtering to find names containing 'bob'\n",
    "search_term = 'bOb'\n",
    "matches = df[df['Name'].str.lower().str.contains(search_term.lower())]\n",
    "print(\"\\nCase-insensitive search for 'bob':\")\n",
    "print(matches)"
   ]
  },
  {
   "cell_type": "code",
   "execution_count": 6,
   "id": "83a6c3db",
   "metadata": {},
   "outputs": [
    {
     "name": "stdout",
     "output_type": "stream",
     "text": [
      "      Name  Age  Salary\n",
      "0    Alice   25   50000\n",
      "1      Bob   30   60000\n",
      "2  Charlie   35   75000\n",
      "DataFrame with uppercase names:\n",
      "      Name  Age  Salary\n",
      "0    ALICE   25   50000\n",
      "1      BOB   30   60000\n",
      "2  CHARLIE   35   75000\n"
     ]
    }
   ],
   "source": [
    "import pandas as pd\n",
    "data = {\n",
    "    \t'Name': ['Alice', 'Bob', 'Charlie'],\n",
    " \t 'Age': [25, 30, 35],\n",
    "\t 'Salary': [50000, 60000, 75000]}\n",
    "df = pd.DataFrame(data)\n",
    "print(df)\n",
    "df['Name'] = df['Name'].str.upper()\n",
    "print(\"DataFrame with uppercase names:\")\n",
    "print(df)\n"
   ]
  },
  {
   "cell_type": "code",
   "execution_count": 7,
   "id": "ee0572af",
   "metadata": {},
   "outputs": [
    {
     "name": "stdout",
     "output_type": "stream",
     "text": [
      "\n",
      "Case-insensitive search for 'BOB':\n",
      "  Name  Age  Salary\n",
      "1  BOB   30   60000\n"
     ]
    }
   ],
   "source": [
    "# Case-insensitive filtering using uppercase\n",
    "search_term = 'bOb'\n",
    "matches = df[df['Name'].str.contains(search_term.upper())]\n",
    "print(\"\\nCase-insensitive search for 'BOB':\")\n",
    "print(matches)"
   ]
  },
  {
   "cell_type": "code",
   "execution_count": 13,
   "id": "ecb72dd4",
   "metadata": {},
   "outputs": [
    {
     "name": "stdout",
     "output_type": "stream",
     "text": [
      "        Name  Age  Salary  length\n",
      "0    Alice     25   50000       9\n",
      "1       Bob    30   60000       5\n",
      "2  Charlie     35   75000       9\n",
      "3      Diana   28   65000       7\n",
      "        Name  Age  Salary  length Name_clean  length_clean\n",
      "0    Alice     25   50000       9      Alice             5\n",
      "1       Bob    30   60000       5        Bob             3\n",
      "2  Charlie     35   75000       9    Charlie             7\n",
      "3      Diana   28   65000       7      Diana             5\n"
     ]
    }
   ],
   "source": [
    "import pandas as pd\n",
    "data = {\n",
    "   'Name': ['  Alice  ', ' Bob ', 'Charlie  ', '  Diana'],\n",
    "    'Age': [25, 30, 35, 28],\n",
    "    'Salary': [50000, 60000, 75000, 65000] }\n",
    "df = pd.DataFrame(data)\n",
    "df['length'] = df['Name'].str.len()\n",
    "print(df)\n",
    "df['Name_clean'] = df['Name'].str.strip(to_strip=', ')\n",
    "df['length_clean'] = df['Name_clean'].str.len()\n",
    "print(df)\n"
   ]
  },
  {
   "cell_type": "code",
   "execution_count": 14,
   "id": "7327a958",
   "metadata": {},
   "outputs": [
    {
     "name": "stdout",
     "output_type": "stream",
     "text": [
      "            Name  Age          Phone            Email\n",
      "0    Alice-Smith   25  (555)123-4567    alice@old.com\n",
      "1      Bob_Jones   30   555.789.1234      bob@old.com\n",
      "2  Charlie Brown   35   555 987 6543  charlie@old.com\n",
      "3   Diana.Miller   28   555-456-7890    diana@old.com\n"
     ]
    }
   ],
   "source": [
    "import pandas as pd\n",
    "data = {\n",
    "\t 'Name': ['Alice-Smith', 'Bob_Jones', 'Charlie Brown', 'Diana.Miller'],\n",
    "\t'Age': [25, 30, 35, 28],\n",
    "\t'Phone': ['(555)123-4567', '555.789.1234', '555 987 6543', '555-456-7890'],\n",
    "\t 'Email': ['alice@old.com', 'bob@old.com', 'charlie@old.com', 'diana@old.com']\n",
    "\t}\n",
    "df = pd.DataFrame(data)\n",
    "print(df)\n"
   ]
  },
  {
   "cell_type": "code",
   "execution_count": null,
   "id": "1fdb90ff",
   "metadata": {},
   "outputs": [
    {
     "name": "stdout",
     "output_type": "stream",
     "text": [
      "\n",
      "Replace special characters with spaces:\n",
      "            Name     Name_Clean\n",
      "0    Alice-Smith    Alice_Smith\n",
      "1      Bob_Jones      Bob_Jones\n",
      "2  Charlie Brown  Charlie_Brown\n",
      "3   Diana.Miller   Diana_Miller\n"
     ]
    }
   ],
   "source": [
    "df['Name_Clean'] = df['Name'].str.replace(r'[- .]', '_', regex=True)\n",
    "print(\"\\nReplace special characters with spaces:\")\n",
    "print(df[['Name', 'Name_Clean']])"
   ]
  },
  {
   "cell_type": "code",
   "execution_count": 19,
   "id": "b32c2973",
   "metadata": {},
   "outputs": [
    {
     "name": "stdout",
     "output_type": "stream",
     "text": [
      "\n",
      "Standardized phone numbers:\n",
      "           Phone Phone_Clean\n",
      "0  (555)123-4567  5551234567\n",
      "1   555.789.1234  5557891234\n",
      "2   555 987 6543  5559876543\n",
      "3   555-456-7890  5554567890\n"
     ]
    }
   ],
   "source": [
    "# Phone number standardization\n",
    "df['Phone_Clean'] = df['Phone'].str.replace(r'[()\\- .]', '', regex=True)\n",
    "print(\"\\nStandardized phone numbers:\")\n",
    "print(df[['Phone', 'Phone_Clean']])\n"
   ]
  },
  {
   "cell_type": "code",
   "execution_count": 20,
   "id": "84376c18",
   "metadata": {},
   "outputs": [
    {
     "name": "stdout",
     "output_type": "stream",
     "text": [
      "\n",
      "Updated email domains:\n",
      "             Email        Email_New\n",
      "0    alice@old.com    alice@new.org\n",
      "1      bob@old.com      bob@new.org\n",
      "2  charlie@old.com  charlie@new.org\n",
      "3    diana@old.com    diana@new.org\n"
     ]
    }
   ],
   "source": [
    "# Domain replacement in emails\n",
    "df['Email_New'] = df['Email'].str.replace('@old.com', '@new.org')\n",
    "print(\"\\nUpdated email domains:\")\n",
    "print(df[['Email', 'Email_New']])\n"
   ]
  },
  {
   "cell_type": "code",
   "execution_count": null,
   "id": "4d2de59a",
   "metadata": {},
   "outputs": [
    {
     "name": "stdout",
     "output_type": "stream",
     "text": [
      "\n",
      "Case-insensitive name replacement:\n",
      "\n",
      "            Name     Name_NoBob\n",
      "0    Alice-Smith    Alice-Smith\n",
      "1      Bob_Jones   Robert_Jones\n",
      "2  Charlie Brown  Charlie Brown\n",
      "3   Diana.Miller   Diana.Miller\n"
     ]
    }
   ],
   "source": [
    "# Case-insensitive replacement\n",
    "df['Name_NoBob'] = df['Name'].str.replace('bob', 'Robert', case=False)\n",
    "print(\"\\nCase-insensitive name replacement:\\n\")\n",
    "print(df[['Name', 'Name_NoBob']])\n"
   ]
  },
  {
   "cell_type": "code",
   "execution_count": 23,
   "id": "f4fe38f4",
   "metadata": {},
   "outputs": [
    {
     "name": "stdout",
     "output_type": "stream",
     "text": [
      "\n",
      "Multi-step name cleaning:\n",
      "            Name     Name_Final\n",
      "0    Alice-Smith    Alice Smith\n",
      "1      Bob_Jones      Bob Jones\n",
      "2  Charlie Brown  Charlie Brown\n",
      "3   Diana.Miller   Diana Miller\n"
     ]
    }
   ],
   "source": [
    "# Multi-pattern replacement\n",
    "df['Name_Final'] = (df['Name'].str.replace(r'[-_.]', ' ', regex=True)  # Replace separators\n",
    "        .str.replace(r'\\s+', ' ', regex=True)    # Collapse spaces\n",
    "        .str.title())                            # Title case\n",
    "print(\"\\nMulti-step name cleaning:\")\n",
    "print(df[['Name', 'Name_Final']])\n"
   ]
  },
  {
   "cell_type": "code",
   "execution_count": 24,
   "id": "8760a7d7",
   "metadata": {},
   "outputs": [
    {
     "name": "stdout",
     "output_type": "stream",
     "text": [
      "\n",
      "Last, First format:\n",
      "            Name      Last_First\n",
      "0    Alice-Smith    Smith, Alice\n",
      "1      Bob_Jones      Jones, Bob\n",
      "2  Charlie Brown  Brown, Charlie\n",
      "3   Diana.Miller    Diana.Miller\n"
     ]
    }
   ],
   "source": [
    "# Replacement with captured groups\n",
    "df['Last_First'] = df['Name'].str.replace(r'(\\w+)[-_ ](\\w+)', r'\\2, \\1', regex=True)\n",
    "print(\"\\nLast, First format:\")\n",
    "print(df[['Name', 'Last_First']])\n"
   ]
  },
  {
   "cell_type": "code",
   "execution_count": 25,
   "id": "fd730a70",
   "metadata": {},
   "outputs": [
    {
     "name": "stdout",
     "output_type": "stream",
     "text": [
      "             Name     Department                  Email\n",
      "0   Alice Johnson      Marketing    alice.j@company.com\n",
      "1       Bob Smith             HR  bob.smith@company.com\n",
      "2   Charlie Brown     IT Support    charlie@company.com\n",
      "3  Diana Williams        Finance    diana.w@company.org\n",
      "4    Eva Smithson  HR Management        eva@company.net\n"
     ]
    }
   ],
   "source": [
    "import pandas as pd\n",
    "data = {\n",
    "    \t'Name': ['Alice Johnson', 'Bob Smith', 'Charlie Brown', 'Diana Williams', 'Eva Smithson'],\n",
    "\t'Department': ['Marketing', 'HR', 'IT Support', 'Finance', 'HR Management'],\n",
    "\t 'Email': ['alice.j@company.com', 'bob.smith@company.com', \n",
    "\t  'charlie@company.com', 'diana.w@company.org', 'eva@company.net']\n",
    "\t}\n",
    "df = pd.DataFrame(data)\n",
    "print(df)\n"
   ]
  },
  {
   "cell_type": "code",
   "execution_count": 30,
   "id": "f78e56d9",
   "metadata": {},
   "outputs": [
    {
     "name": "stdout",
     "output_type": "stream",
     "text": [
      "\n",
      " Employees in HR departments:\n",
      "           Name     Department                  Email\n",
      "1     Bob Smith             HR  bob.smith@company.com\n",
      "4  Eva Smithson  HR Management        eva@company.net\n"
     ]
    }
   ],
   "source": [
    "# Basic contains check\n",
    "hr_employees = df[df['Department'].str.contains('HR')]\n",
    "print(\"\\n Employees in HR departments:\")\n",
    "print(hr_employees)\n"
   ]
  },
  {
   "cell_type": "code",
   "execution_count": 31,
   "id": "59df9459",
   "metadata": {},
   "outputs": [
    {
     "name": "stdout",
     "output_type": "stream",
     "text": [
      "\n",
      " Employees with 'smith' in name (case-insensitive):\n",
      "           Name     Department                  Email\n",
      "1     Bob Smith             HR  bob.smith@company.com\n",
      "4  Eva Smithson  HR Management        eva@company.net\n"
     ]
    }
   ],
   "source": [
    "# Case-insensitive search\n",
    "smith_employees = df[df['Name'].str.contains('smith', case=False)]\n",
    "print(\"\\n Employees with 'smith' in name (case-insensitive):\")\n",
    "print(smith_employees)\n"
   ]
  },
  {
   "cell_type": "code",
   "execution_count": null,
   "id": "f9af290e",
   "metadata": {},
   "outputs": [
    {
     "name": "stdout",
     "output_type": "stream",
     "text": [
      "\n",
      " Employees with .org email addresses:\n",
      "            Name  Department                  Email\n",
      "0  Alice Johnson   Marketing    alice.j@company.com\n",
      "1      Bob Smith          HR  bob.smith@company.com\n",
      "2  Charlie Brown  IT Support    charlie@company.com\n"
     ]
    }
   ],
   "source": [
    "# Regex pattern matching\n",
    "email_pattern = r'\\.com$'  # Ends with .org\n",
    "org_emails = df[df['Email'].str.contains(email_pattern, regex=True)]\n",
    "print(\"\\n Employees with .org email addresses:\")\n",
    "print(org_emails)\n"
   ]
  },
  {
   "cell_type": "code",
   "execution_count": 34,
   "id": "abb18ec1",
   "metadata": {},
   "outputs": [
    {
     "name": "stdout",
     "output_type": "stream",
     "text": [
      "\n",
      " Employees in management or support roles:\n",
      "            Name     Department                Email\n",
      "2  Charlie Brown     IT Support  charlie@company.com\n",
      "4   Eva Smithson  HR Management      eva@company.net\n"
     ]
    }
   ],
   "source": [
    "# Multiple patterns\n",
    "management_pattern = r'Management|Support'\n",
    "special_depts = df[df['Department'].str.contains(management_pattern)]\n",
    "print(\"\\n Employees in management or support roles:\")\n",
    "print(special_depts)\n"
   ]
  },
  {
   "cell_type": "code",
   "execution_count": 35,
   "id": "d4ff159e",
   "metadata": {},
   "outputs": [
    {
     "name": "stdout",
     "output_type": "stream",
     "text": [
      "\n",
      " DataFrame with new boolean columns:\n",
      "             Name     Department                  Email  Has_Middle_Initial  \\\n",
      "0   Alice Johnson      Marketing    alice.j@company.com               False   \n",
      "1       Bob Smith             HR  bob.smith@company.com               False   \n",
      "2   Charlie Brown     IT Support    charlie@company.com               False   \n",
      "3  Diana Williams        Finance    diana.w@company.org               False   \n",
      "4    Eva Smithson  HR Management        eva@company.net               False   \n",
      "\n",
      "   Uses_Company_Domain  \n",
      "0                 True  \n",
      "1                 True  \n",
      "2                 True  \n",
      "3                 True  \n",
      "4                 True  \n"
     ]
    }
   ],
   "source": [
    "# Creating new boolean columns\n",
    "df['Has_Middle_Initial'] = df['Name'].str.contains(r'\\w+ \\w+ \\w+')\n",
    "df['Uses_Company_Domain'] = df['Email'].str.contains(r'@company\\.')\n",
    "print(\"\\n DataFrame with new boolean columns:\")\n",
    "print(df)\n"
   ]
  }
 ],
 "metadata": {
  "kernelspec": {
   "display_name": "Python 3",
   "language": "python",
   "name": "python3"
  },
  "language_info": {
   "codemirror_mode": {
    "name": "ipython",
    "version": 3
   },
   "file_extension": ".py",
   "mimetype": "text/x-python",
   "name": "python",
   "nbconvert_exporter": "python",
   "pygments_lexer": "ipython3",
   "version": "3.13.3"
  }
 },
 "nbformat": 4,
 "nbformat_minor": 5
}

{
 "cells": [
  {
   "cell_type": "code",
   "execution_count": 41,
   "id": "38de5e51",
   "metadata": {},
   "outputs": [
    {
     "name": "stdout",
     "output_type": "stream",
     "text": [
      "      Name  Age  Salary\n",
      "0    Alice   25   50000\n",
      "1      Bob   30   60000\n",
      "2  Charlie   35   75000\n",
      "DataFrame with lowercase names:\n",
      "      Name  Age  Salary Name_Lower\n",
      "0    Alice   25   50000      alice\n",
      "1      Bob   30   60000        bob\n",
      "2  Charlie   35   75000    charlie\n"
     ]
    }
   ],
   "source": [
    "import pandas as pd\n",
    "data = {\n",
    "    \t'Name': ['Alice', 'Bob', 'Charlie'],'Age': [25, 30, 35],\n",
    "\t 'Salary': [50000, 60000, 75000]}\n",
    "df = pd.DataFrame(data)\n",
    "print(df)\n",
    "df['Name_Lower'] = df['Name'].str.lower()\n",
    "print(\"DataFrame with lowercase names:\")\n",
    "print(df)"
   ]
  },
  {
   "cell_type": "code",
   "execution_count": 42,
   "id": "63d7e2ca",
   "metadata": {},
   "outputs": [
    {
     "name": "stdout",
     "output_type": "stream",
     "text": [
      "\n",
      "Case-insensitive search for 'bob':\n",
      "  Name  Age  Salary Name_Lower\n",
      "1  Bob   30   60000        bob\n"
     ]
    }
   ],
   "source": [
    "# Case-insensitive filtering to find names containing 'bob'\n",
    "search_term = 'bOb'\n",
    "matches = df[df['Name'].str.lower().str.contains(search_term.lower())]\n",
    "print(\"\\nCase-insensitive search for 'bob':\")\n",
    "print(matches)"
   ]
  },
  {
   "cell_type": "code",
   "execution_count": 43,
   "id": "83a6c3db",
   "metadata": {},
   "outputs": [
    {
     "name": "stdout",
     "output_type": "stream",
     "text": [
      "      Name  Age  Salary\n",
      "0    Alice   25   50000\n",
      "1      Bob   30   60000\n",
      "2  Charlie   35   75000\n",
      "DataFrame with uppercase names:\n",
      "      Name  Age  Salary\n",
      "0    ALICE   25   50000\n",
      "1      BOB   30   60000\n",
      "2  CHARLIE   35   75000\n"
     ]
    }
   ],
   "source": [
    "import pandas as pd\n",
    "data = {\n",
    "    \t'Name': ['Alice', 'Bob', 'Charlie'],\n",
    " \t 'Age': [25, 30, 35],\n",
    "\t 'Salary': [50000, 60000, 75000]}\n",
    "df = pd.DataFrame(data)\n",
    "print(df)\n",
    "df['Name'] = df['Name'].str.upper()\n",
    "print(\"DataFrame with uppercase names:\")\n",
    "print(df)\n"
   ]
  },
  {
   "cell_type": "code",
   "execution_count": 44,
   "id": "ee0572af",
   "metadata": {},
   "outputs": [
    {
     "name": "stdout",
     "output_type": "stream",
     "text": [
      "\n",
      "Case-insensitive search for 'BOB':\n",
      "  Name  Age  Salary\n",
      "1  BOB   30   60000\n"
     ]
    }
   ],
   "source": [
    "# Case-insensitive filtering using uppercase\n",
    "search_term = 'bOb'\n",
    "matches = df[df['Name'].str.contains(search_term.upper())]\n",
    "print(\"\\nCase-insensitive search for 'BOB':\")\n",
    "print(matches)"
   ]
  },
  {
   "cell_type": "code",
   "execution_count": 45,
   "id": "ecb72dd4",
   "metadata": {},
   "outputs": [
    {
     "name": "stdout",
     "output_type": "stream",
     "text": [
      "        Name  Age  Salary  length\n",
      "0    Alice     25   50000       9\n",
      "1       Bob    30   60000       5\n",
      "2  Charlie     35   75000       9\n",
      "3      Diana   28   65000       7\n",
      "        Name  Age  Salary  length Name_clean  length_clean\n",
      "0    Alice     25   50000       9      Alice             5\n",
      "1       Bob    30   60000       5        Bob             3\n",
      "2  Charlie     35   75000       9    Charlie             7\n",
      "3      Diana   28   65000       7      Diana             5\n"
     ]
    }
   ],
   "source": [
    "import pandas as pd\n",
    "data = {\n",
    "   'Name': ['  Alice  ', ' Bob ', 'Charlie  ', '  Diana'],\n",
    "    'Age': [25, 30, 35, 28],\n",
    "    'Salary': [50000, 60000, 75000, 65000] }\n",
    "df = pd.DataFrame(data)\n",
    "df['length'] = df['Name'].str.len()\n",
    "print(df)\n",
    "df['Name_clean'] = df['Name'].str.strip(to_strip=', ')\n",
    "df['length_clean'] = df['Name_clean'].str.len()\n",
    "print(df)\n"
   ]
  },
  {
   "cell_type": "code",
   "execution_count": 46,
   "id": "7327a958",
   "metadata": {},
   "outputs": [
    {
     "name": "stdout",
     "output_type": "stream",
     "text": [
      "            Name  Age          Phone            Email\n",
      "0    Alice-Smith   25  (555)123-4567    alice@old.com\n",
      "1      Bob_Jones   30   555.789.1234      bob@old.com\n",
      "2  Charlie Brown   35   555 987 6543  charlie@old.com\n",
      "3   Diana.Miller   28   555-456-7890    diana@old.com\n"
     ]
    }
   ],
   "source": [
    "import pandas as pd\n",
    "data = {\n",
    "\t 'Name': ['Alice-Smith', 'Bob_Jones', 'Charlie Brown', 'Diana.Miller'],\n",
    "\t'Age': [25, 30, 35, 28],\n",
    "\t'Phone': ['(555)123-4567', '555.789.1234', '555 987 6543', '555-456-7890'],\n",
    "\t 'Email': ['alice@old.com', 'bob@old.com', 'charlie@old.com', 'diana@old.com']\n",
    "\t}\n",
    "df = pd.DataFrame(data)\n",
    "print(df)\n"
   ]
  },
  {
   "cell_type": "code",
   "execution_count": 47,
   "id": "1fdb90ff",
   "metadata": {},
   "outputs": [
    {
     "name": "stdout",
     "output_type": "stream",
     "text": [
      "\n",
      "Replace special characters with spaces:\n",
      "            Name     Name_Clean\n",
      "0    Alice-Smith    Alice_Smith\n",
      "1      Bob_Jones      Bob_Jones\n",
      "2  Charlie Brown  Charlie_Brown\n",
      "3   Diana.Miller   Diana_Miller\n"
     ]
    }
   ],
   "source": [
    "df['Name_Clean'] = df['Name'].str.replace(r'[- .]', '_', regex=True)\n",
    "print(\"\\nReplace special characters with spaces:\")\n",
    "print(df[['Name', 'Name_Clean']])"
   ]
  },
  {
   "cell_type": "code",
   "execution_count": 48,
   "id": "b32c2973",
   "metadata": {},
   "outputs": [
    {
     "name": "stdout",
     "output_type": "stream",
     "text": [
      "\n",
      "Standardized phone numbers:\n",
      "           Phone Phone_Clean\n",
      "0  (555)123-4567  5551234567\n",
      "1   555.789.1234  5557891234\n",
      "2   555 987 6543  5559876543\n",
      "3   555-456-7890  5554567890\n"
     ]
    }
   ],
   "source": [
    "# Phone number standardization\n",
    "df['Phone_Clean'] = df['Phone'].str.replace(r'[()\\- .]',\"\", regex=True)\n",
    "print(\"\\nStandardized phone numbers:\")\n",
    "print(df[['Phone', 'Phone_Clean']])\n"
   ]
  },
  {
   "cell_type": "code",
   "execution_count": 49,
   "id": "84376c18",
   "metadata": {},
   "outputs": [
    {
     "name": "stdout",
     "output_type": "stream",
     "text": [
      "\n",
      "Updated email domains:\n",
      "             Email        Email_New\n",
      "0    alice@old.com    alice@new.org\n",
      "1      bob@old.com      bob@new.org\n",
      "2  charlie@old.com  charlie@new.org\n",
      "3    diana@old.com    diana@new.org\n"
     ]
    }
   ],
   "source": [
    "# Domain replacement in emails\n",
    "df['Email_New'] = df['Email'].str.replace('@old.com', '@new.org')\n",
    "print(\"\\nUpdated email domains:\")\n",
    "print(df[['Email', 'Email_New']])\n"
   ]
  },
  {
   "cell_type": "code",
   "execution_count": 50,
   "id": "4d2de59a",
   "metadata": {},
   "outputs": [
    {
     "name": "stdout",
     "output_type": "stream",
     "text": [
      "\n",
      "Case-insensitive name replacement:\n",
      "\n",
      "            Name     Name_NoBob\n",
      "0    Alice-Smith    Alice-Smith\n",
      "1      Bob_Jones   Robert_Jones\n",
      "2  Charlie Brown  Charlie Brown\n",
      "3   Diana.Miller   Diana.Miller\n"
     ]
    }
   ],
   "source": [
    "# Case-insensitive replacement\n",
    "df['Name_NoBob'] = df['Name'].str.replace('bob', 'Robert', case=False)\n",
    "print(\"\\nCase-insensitive name replacement:\\n\")\n",
    "print(df[['Name', 'Name_NoBob']])\n"
   ]
  },
  {
   "cell_type": "code",
   "execution_count": 51,
   "id": "f4fe38f4",
   "metadata": {},
   "outputs": [
    {
     "name": "stdout",
     "output_type": "stream",
     "text": [
      "\n",
      "Multi-step name cleaning:\n",
      "            Name     Name_Final\n",
      "0    Alice-Smith    Alice Smith\n",
      "1      Bob_Jones      Bob Jones\n",
      "2  Charlie Brown  Charlie Brown\n",
      "3   Diana.Miller   Diana Miller\n"
     ]
    }
   ],
   "source": [
    "# Multi-pattern replacement\n",
    "df['Name_Final'] = (df['Name'].str.replace(r'[-_.]', ' ', regex=True)  # Replace separators\n",
    "        .str.replace(r'\\s+', ' ', regex=True)    # Collapse spaces\n",
    "        .str.title())                            # Title case\n",
    "print(\"\\nMulti-step name cleaning:\")\n",
    "print(df[['Name', 'Name_Final']])\n"
   ]
  },
  {
   "cell_type": "code",
   "execution_count": 52,
   "id": "8760a7d7",
   "metadata": {},
   "outputs": [
    {
     "name": "stdout",
     "output_type": "stream",
     "text": [
      "\n",
      "Last, First format:\n",
      "            Name      Last_First\n",
      "0    Alice-Smith    Smith, Alice\n",
      "1      Bob_Jones      Jones, Bob\n",
      "2  Charlie Brown  Brown, Charlie\n",
      "3   Diana.Miller    Diana.Miller\n"
     ]
    }
   ],
   "source": [
    "# Replacement with captured groups\n",
    "df['Last_First'] = df['Name'].str.replace(r'(\\w+)[-_ ](\\w+)', r'\\2, \\1', regex=True)\n",
    "print(\"\\nLast, First format:\")\n",
    "print(df[['Name', 'Last_First']])\n"
   ]
  },
  {
   "cell_type": "code",
   "execution_count": 53,
   "id": "fd730a70",
   "metadata": {},
   "outputs": [
    {
     "name": "stdout",
     "output_type": "stream",
     "text": [
      "             Name     Department                  Email\n",
      "0   Alice Johnson      Marketing    alice.j@company.com\n",
      "1       Bob Smith             HR  bob.smith@company.com\n",
      "2   Charlie Brown     IT Support    charlie@company.com\n",
      "3  Diana Williams        Finance    diana.w@company.org\n",
      "4    Eva Smithson  HR Management        eva@company.net\n"
     ]
    }
   ],
   "source": [
    "import pandas as pd\n",
    "data = {\n",
    "    \t'Name': ['Alice Johnson', 'Bob Smith', 'Charlie Brown', 'Diana Williams', 'Eva Smithson'],\n",
    "\t'Department': ['Marketing', 'HR', 'IT Support', 'Finance', 'HR Management'],\n",
    "\t 'Email': ['alice.j@company.com', 'bob.smith@company.com', \n",
    "\t  'charlie@company.com', 'diana.w@company.org', 'eva@company.net']\n",
    "\t}\n",
    "df = pd.DataFrame(data)\n",
    "print(df)\n"
   ]
  },
  {
   "cell_type": "code",
   "execution_count": 54,
   "id": "f78e56d9",
   "metadata": {},
   "outputs": [
    {
     "name": "stdout",
     "output_type": "stream",
     "text": [
      "\n",
      " Employees in HR departments:\n",
      "           Name     Department                  Email\n",
      "1     Bob Smith             HR  bob.smith@company.com\n",
      "4  Eva Smithson  HR Management        eva@company.net\n"
     ]
    }
   ],
   "source": [
    "# Basic contains check\n",
    "hr_employees = df[df['Department'].str.contains('HR')]\n",
    "print(\"\\n Employees in HR departments:\")\n",
    "print(hr_employees)\n"
   ]
  },
  {
   "cell_type": "code",
   "execution_count": 55,
   "id": "59df9459",
   "metadata": {},
   "outputs": [
    {
     "name": "stdout",
     "output_type": "stream",
     "text": [
      "\n",
      " Employees with 'smith' in name (case-insensitive):\n",
      "           Name     Department                  Email\n",
      "1     Bob Smith             HR  bob.smith@company.com\n",
      "4  Eva Smithson  HR Management        eva@company.net\n"
     ]
    }
   ],
   "source": [
    "# Case-insensitive search\n",
    "smith_employees = df[df['Name'].str.contains('smith', case=False)]\n",
    "print(\"\\n Employees with 'smith' in name (case-insensitive):\")\n",
    "print(smith_employees)\n"
   ]
  },
  {
   "cell_type": "code",
   "execution_count": 56,
   "id": "f9af290e",
   "metadata": {},
   "outputs": [
    {
     "name": "stdout",
     "output_type": "stream",
     "text": [
      "\n",
      " Employees with .org email addresses:\n",
      "            Name  Department                  Email\n",
      "0  Alice Johnson   Marketing    alice.j@company.com\n",
      "1      Bob Smith          HR  bob.smith@company.com\n",
      "2  Charlie Brown  IT Support    charlie@company.com\n"
     ]
    }
   ],
   "source": [
    "# Regex pattern matching\n",
    "email_pattern = r'\\.com$'  # Ends with .org\n",
    "org_emails = df[df['Email'].str.contains(email_pattern, regex=True)]\n",
    "print(\"\\n Employees with .org email addresses:\")\n",
    "print(org_emails)\n"
   ]
  },
  {
   "cell_type": "code",
   "execution_count": 57,
   "id": "abb18ec1",
   "metadata": {},
   "outputs": [
    {
     "name": "stdout",
     "output_type": "stream",
     "text": [
      "\n",
      " Employees in management or support roles:\n",
      "            Name     Department                Email\n",
      "2  Charlie Brown     IT Support  charlie@company.com\n",
      "4   Eva Smithson  HR Management      eva@company.net\n"
     ]
    }
   ],
   "source": [
    "# Multiple patterns\n",
    "management_pattern = r'Management|Support'\n",
    "special_depts = df[df['Department'].str.contains(management_pattern)]\n",
    "print(\"\\n Employees in management or support roles:\")\n",
    "print(special_depts)\n"
   ]
  },
  {
   "cell_type": "code",
   "execution_count": 58,
   "id": "d4ff159e",
   "metadata": {},
   "outputs": [
    {
     "name": "stdout",
     "output_type": "stream",
     "text": [
      "\n",
      " DataFrame with new boolean columns:\n",
      "             Name     Department                  Email  Has_Middle_Initial  \\\n",
      "0   Alice Johnson      Marketing    alice.j@company.com               False   \n",
      "1       Bob Smith             HR  bob.smith@company.com               False   \n",
      "2   Charlie Brown     IT Support    charlie@company.com               False   \n",
      "3  Diana Williams        Finance    diana.w@company.org               False   \n",
      "4    Eva Smithson  HR Management        eva@company.net               False   \n",
      "\n",
      "   Uses_Company_Domain  \n",
      "0                 True  \n",
      "1                 True  \n",
      "2                 True  \n",
      "3                 True  \n",
      "4                 True  \n"
     ]
    }
   ],
   "source": [
    "# Creating new boolean columns\n",
    "df['Has_Middle_Initial'] = df['Name'].str.contains(r'\\w+ \\w+ \\w+')\n",
    "df['Uses_Company_Domain'] = df['Email'].str.contains(r'@company\\.')\n",
    "print(\"\\n DataFrame with new boolean columns:\")\n",
    "print(df)\n"
   ]
  },
  {
   "cell_type": "code",
   "execution_count": 59,
   "id": "cdc73638",
   "metadata": {},
   "outputs": [
    {
     "data": {
      "application/vnd.microsoft.datawrangler.viewer.v0+json": {
       "columns": [
        {
         "name": "index",
         "rawType": "int64",
         "type": "integer"
        },
        {
         "name": "Full_Name",
         "rawType": "object",
         "type": "string"
        },
        {
         "name": "Department",
         "rawType": "object",
         "type": "string"
        },
        {
         "name": "Email",
         "rawType": "object",
         "type": "string"
        },
        {
         "name": "Address",
         "rawType": "object",
         "type": "string"
        }
       ],
       "ref": "0cc7eba9-386f-4cb8-9c93-6b21e721b07b",
       "rows": [
        [
         "0",
         "Alice Marie Johnson",
         "Marketing|Sales",
         "alice.j@company.com",
         "123 Main St, New York, NY"
        ],
        [
         "1",
         "Bob Lee Smith",
         "HR|Recruiting",
         "bob.smith@company.com",
         "456 Oak Ave, Boston, MA"
        ],
        [
         "2",
         "Charlie Brown",
         "IT Support",
         "charlie@company.com",
         "789 Pine Rd, Chicago, IL"
        ],
        [
         "3",
         "Diana Williams",
         "Finance|Accounting",
         "diana.w@company.org",
         "101 Elm St, San Francisco, CA"
        ],
        [
         "4",
         "Eva Grace Smithson",
         "HR Management",
         "eva@company.net",
         "202 Maple Dr, Seattle, WA"
        ]
       ],
       "shape": {
        "columns": 4,
        "rows": 5
       }
      },
      "text/html": [
       "<div>\n",
       "<style scoped>\n",
       "    .dataframe tbody tr th:only-of-type {\n",
       "        vertical-align: middle;\n",
       "    }\n",
       "\n",
       "    .dataframe tbody tr th {\n",
       "        vertical-align: top;\n",
       "    }\n",
       "\n",
       "    .dataframe thead th {\n",
       "        text-align: right;\n",
       "    }\n",
       "</style>\n",
       "<table border=\"1\" class=\"dataframe\">\n",
       "  <thead>\n",
       "    <tr style=\"text-align: right;\">\n",
       "      <th></th>\n",
       "      <th>Full_Name</th>\n",
       "      <th>Department</th>\n",
       "      <th>Email</th>\n",
       "      <th>Address</th>\n",
       "    </tr>\n",
       "  </thead>\n",
       "  <tbody>\n",
       "    <tr>\n",
       "      <th>0</th>\n",
       "      <td>Alice Marie Johnson</td>\n",
       "      <td>Marketing|Sales</td>\n",
       "      <td>alice.j@company.com</td>\n",
       "      <td>123 Main St, New York, NY</td>\n",
       "    </tr>\n",
       "    <tr>\n",
       "      <th>1</th>\n",
       "      <td>Bob Lee Smith</td>\n",
       "      <td>HR|Recruiting</td>\n",
       "      <td>bob.smith@company.com</td>\n",
       "      <td>456 Oak Ave, Boston, MA</td>\n",
       "    </tr>\n",
       "    <tr>\n",
       "      <th>2</th>\n",
       "      <td>Charlie Brown</td>\n",
       "      <td>IT Support</td>\n",
       "      <td>charlie@company.com</td>\n",
       "      <td>789 Pine Rd, Chicago, IL</td>\n",
       "    </tr>\n",
       "    <tr>\n",
       "      <th>3</th>\n",
       "      <td>Diana Williams</td>\n",
       "      <td>Finance|Accounting</td>\n",
       "      <td>diana.w@company.org</td>\n",
       "      <td>101 Elm St, San Francisco, CA</td>\n",
       "    </tr>\n",
       "    <tr>\n",
       "      <th>4</th>\n",
       "      <td>Eva Grace Smithson</td>\n",
       "      <td>HR Management</td>\n",
       "      <td>eva@company.net</td>\n",
       "      <td>202 Maple Dr, Seattle, WA</td>\n",
       "    </tr>\n",
       "  </tbody>\n",
       "</table>\n",
       "</div>"
      ],
      "text/plain": [
       "             Full_Name          Department                  Email  \\\n",
       "0  Alice Marie Johnson     Marketing|Sales    alice.j@company.com   \n",
       "1        Bob Lee Smith       HR|Recruiting  bob.smith@company.com   \n",
       "2        Charlie Brown          IT Support    charlie@company.com   \n",
       "3       Diana Williams  Finance|Accounting    diana.w@company.org   \n",
       "4   Eva Grace Smithson       HR Management        eva@company.net   \n",
       "\n",
       "                         Address  \n",
       "0      123 Main St, New York, NY  \n",
       "1        456 Oak Ave, Boston, MA  \n",
       "2       789 Pine Rd, Chicago, IL  \n",
       "3  101 Elm St, San Francisco, CA  \n",
       "4      202 Maple Dr, Seattle, WA  "
      ]
     },
     "execution_count": 59,
     "metadata": {},
     "output_type": "execute_result"
    }
   ],
   "source": [
    "import pandas as pd\n",
    "data = {\n",
    "   \t'Full_Name': ['Alice Marie Johnson', 'Bob Lee Smith', 'Charlie Brown', 'Diana Williams', 'Eva Grace Smithson'],\n",
    "   \t'Department': ['Marketing|Sales', 'HR|Recruiting', 'IT Support', 'Finance|Accounting', 'HR Management'],\n",
    "    \t'Email': ['alice.j@company.com', 'bob.smith@company.com', 'charlie@company.com', 'diana.w@company.org', \t'eva@company.net'],\n",
    "   \t'Address': ['123 Main St, New York, NY', '456 Oak Ave, Boston, MA', '789 Pine Rd, Chicago, IL','101 Elm St, San Francisco, CA', '202 Maple Dr, Seattle, WA'] }\n",
    "df = pd.DataFrame(data)\n",
    "df"
   ]
  },
  {
   "cell_type": "code",
   "execution_count": 60,
   "id": "723e238d",
   "metadata": {},
   "outputs": [
    {
     "name": "stdout",
     "output_type": "stream",
     "text": [
      "\n",
      "Name split into columns (default whitespace):\n",
      "             Full_Name    First            Last\n",
      "0  Alice Marie Johnson    Alice   Marie Johnson\n",
      "1        Bob Lee Smith      Bob       Lee Smith\n",
      "2        Charlie Brown  Charlie           Brown\n",
      "3       Diana Williams    Diana        Williams\n",
      "4   Eva Grace Smithson      Eva  Grace Smithson\n"
     ]
    }
   ],
   "source": [
    "df[['First', 'Last']] = df['Full_Name'].str.split(expand=True,n=1) \n",
    "print(\"\\nName split into columns (default whitespace):\")\n",
    "print(df[['Full_Name', 'First', 'Last']])\n"
   ]
  },
  {
   "cell_type": "code",
   "execution_count": 61,
   "id": "d6c8a057",
   "metadata": {},
   "outputs": [
    {
     "name": "stdout",
     "output_type": "stream",
     "text": [
      "\n",
      "Department split on pipe character:\n",
      "           Department          Dept1       Dept2\n",
      "0     Marketing|Sales      Marketing       Sales\n",
      "1       HR|Recruiting             HR  Recruiting\n",
      "2          IT Support     IT Support        None\n",
      "3  Finance|Accounting        Finance  Accounting\n",
      "4       HR Management  HR Management        None\n"
     ]
    }
   ],
   "source": [
    "# Split with specific delimiter\n",
    "df[['Dept1', 'Dept2']] = df['Department'].str.split('|', expand=True)\n",
    "print(\"\\nDepartment split on pipe character:\")\n",
    "print(df[['Department', 'Dept1', 'Dept2']])\n"
   ]
  },
  {
   "cell_type": "code",
   "execution_count": 62,
   "id": "1c406c3d",
   "metadata": {},
   "outputs": [
    {
     "name": "stdout",
     "output_type": "stream",
     "text": [
      "\n",
      " Address split with maxsplit=1:\n",
      "                         Address        Street          City_State\n",
      "0      123 Main St, New York, NY   123 Main St        New York, NY\n",
      "1        456 Oak Ave, Boston, MA   456 Oak Ave          Boston, MA\n",
      "2       789 Pine Rd, Chicago, IL   789 Pine Rd         Chicago, IL\n",
      "3  101 Elm St, San Francisco, CA    101 Elm St   San Francisco, CA\n",
      "4      202 Maple Dr, Seattle, WA  202 Maple Dr         Seattle, WA\n"
     ]
    }
   ],
   "source": [
    "# Split with max splits parameter\n",
    "df[['Street', 'City_State']] = df['Address'].str.split(',', n=1, expand=True)\n",
    "print(\"\\n Address split with maxsplit=1:\")\n",
    "print(df[['Address', 'Street', 'City_State']])\n"
   ]
  },
  {
   "cell_type": "code",
   "execution_count": 67,
   "id": "497becda",
   "metadata": {},
   "outputs": [
    {
     "name": "stdout",
     "output_type": "stream",
     "text": [
      "\n",
      " Name parts as list:\n",
      "             Full_Name               Name_Parts\n",
      "0  Alice Marie Johnson  [Alice, Marie, Johnson]\n",
      "1        Bob Lee Smith        [Bob, Lee, Smith]\n",
      "2        Charlie Brown         [Charlie, Brown]\n",
      "3       Diana Williams        [Diana, Williams]\n",
      "4   Eva Grace Smithson   [Eva, Grace, Smithson]\n"
     ]
    }
   ],
   "source": [
    "# Split and keep original column\n",
    "df['Name_Parts'] = df['Full_Name'].str.split()\n",
    "print(\"\\n Name parts as list:\")\n",
    "print(df[['Full_Name', 'Name_Parts']])\n"
   ]
  },
  {
   "cell_type": "code",
   "execution_count": 64,
   "id": "da06a837",
   "metadata": {},
   "outputs": [
    {
     "name": "stdout",
     "output_type": "stream",
     "text": [
      "\n",
      " Email split with regex pattern:\n",
      "                   Email                 Email_Parts\n",
      "0    alice.j@company.com    [alice, j, company, com]\n",
      "1  bob.smith@company.com  [bob, smith, company, com]\n",
      "2    charlie@company.com     [charlie, company, com]\n",
      "3    diana.w@company.org    [diana, w, company, org]\n",
      "4        eva@company.net         [eva, company, net]\n"
     ]
    }
   ],
   "source": [
    "# Split with regex pattern\n",
    "df['Email_Parts'] = df['Email'].str.split(r'[@\\.]', regex=True)\n",
    "print(\"\\n Email split with regex pattern:\")\n",
    "print(df[['Email', 'Email_Parts']])\n"
   ]
  },
  {
   "cell_type": "code",
   "execution_count": 65,
   "id": "d70da575",
   "metadata": {},
   "outputs": [
    {
     "name": "stdout",
     "output_type": "stream",
     "text": [
      "\n",
      " Extracted name components:\n",
      "             Full_Name First_Initial Last_Name\n",
      "0  Alice Marie Johnson             A   Johnson\n",
      "1        Bob Lee Smith             B     Smith\n",
      "2        Charlie Brown             C     Brown\n",
      "3       Diana Williams             D  Williams\n",
      "4   Eva Grace Smithson             E  Smithson\n"
     ]
    }
   ],
   "source": [
    "import pandas as pd\n",
    "data = {\n",
    "   \t'Full_Name': ['Alice Marie Johnson', 'Bob Lee Smith', 'Charlie Brown', 'Diana Williams', 'Eva Grace Smithson'],\n",
    "   \t'Department': ['Marketing|Sales', 'HR|Recruiting', 'IT Support', 'Finance|Accounting', 'HR Management'],\n",
    "    \t'Email': ['alice.j@company.com', 'bob.smith@company.com', 'charlie@company.com', 'diana.w@company.org', \t'eva@company.net'],\n",
    "   \t'Address': ['123 Main St, New York, NY', '456 Oak Ave, Boston, MA', '789 Pine Rd, Chicago, IL','101 Elm St, San Francisco, CA', '202 Maple Dr, Seattle, WA'] }\n",
    "df = pd.DataFrame(data)\n",
    "\n",
    "#  Accessing split elements directly\n",
    "df['First_Initial'] = df['Full_Name'].str.split().str[0].str[0]\n",
    "df['Last_Name'] = df['Full_Name'].str.split().str[-1]\n",
    "print(\"\\n Extracted name components:\")\n",
    "print(df[['Full_Name', 'First_Initial', 'Last_Name']])\n"
   ]
  },
  {
   "cell_type": "code",
   "execution_count": 68,
   "id": "1d46a7c2",
   "metadata": {},
   "outputs": [
    {
     "name": "stdout",
     "output_type": "stream",
     "text": [
      "\n",
      " Name word counts:\n",
      "             Full_Name  Name_Word_Count\n",
      "0  Alice Marie Johnson                3\n",
      "1        Bob Lee Smith                3\n",
      "2        Charlie Brown                2\n",
      "3       Diana Williams                2\n",
      "4   Eva Grace Smithson                3\n"
     ]
    }
   ],
   "source": [
    "# Split and count elements\n",
    "df['Name_Word_Count'] = df['Full_Name'].str.split().str.len()\n",
    "print(\"\\n Name word counts:\")\n",
    "print(df[['Full_Name', 'Name_Word_Count']])\n"
   ]
  },
  {
   "cell_type": "code",
   "execution_count": null,
   "id": "8ce0b501",
   "metadata": {},
   "outputs": [
    {
     "name": "stdout",
     "output_type": "stream",
     "text": [
      "Original DataFrame:\n",
      "            Sales  Expenses\n",
      "2025-01-01    440        78\n",
      "2025-01-02    256       215\n",
      "2025-01-03    233       147\n",
      "2025-01-04    386       233\n",
      "2025-01-05    202        72\n",
      "2025-01-06    460       211\n",
      "2025-01-07    237       237\n",
      "2025-01-08    323        86\n",
      "2025-01-09    217       178\n",
      "2025-01-10    468       288\n",
      "2025-01-11    167       297\n",
      "2025-01-12    121        66\n",
      "2025-01-13    211       272\n",
      "2025-01-14    156       119\n",
      "2025-01-15    175       269\n",
      "2025-01-16    451        58\n",
      "2025-01-17    235       231\n",
      "2025-01-18    201        80\n",
      "2025-01-19    442       132\n",
      "2025-01-20    449        81\n",
      "2025-01-21    368       184\n",
      "2025-01-22    224       235\n",
      "2025-01-23    372       186\n",
      "2025-01-24    311       199\n",
      "2025-01-25    146       210\n",
      "2025-01-26    122       262\n",
      "2025-01-27    121       116\n",
      "2025-01-28    448       201\n",
      "2025-01-29    490       127\n",
      "2025-01-30    494       124\n",
      "2025-01-31    288       159\n",
      "2025-02-01    177       142\n",
      "2025-02-02    206       148\n",
      "2025-02-03    445       270\n",
      "2025-02-04    318        95\n",
      "2025-02-05    117       275\n",
      "2025-02-06    387       127\n",
      "2025-02-07    416       146\n",
      "2025-02-08    183        77\n",
      "2025-02-09    315        64\n",
      "2025-02-10    331       267\n",
      "2025-02-11    118       117\n",
      "2025-02-12    278       280\n",
      "2025-02-13    342        91\n",
      "2025-02-14    270       115\n",
      "2025-02-15    412       198\n",
      "2025-02-16    149       231\n",
      "2025-02-17    302        56\n",
      "2025-02-18    137       280\n",
      "2025-02-19    234        51\n",
      "2025-02-20    147       224\n",
      "2025-02-21    451       109\n",
      "2025-02-22    490       278\n",
      "2025-02-23    115        58\n",
      "2025-02-24    366       271\n",
      "2025-02-25    199       183\n",
      "2025-02-26    367       207\n",
      "2025-02-27    222       196\n",
      "2025-02-28    212       208\n"
     ]
    }
   ],
   "source": [
    "import pandas as pd\n",
    "import numpy as np\n",
    "date_rng = pd.date_range(start='2025-01-01', end='2025-02-28', freq='D')\n",
    "data = {\n",
    "    'Sales': np.random.randint(100, 500, size=(len(date_rng))),\n",
    "    'Expenses': np.random.randint(50, 300, size=(len(date_rng)))   \n",
    "    }\n",
    "df = pd.DataFrame(data, index=date_rng)\n",
    "print(df)\n"
   ]
  },
  {
   "cell_type": "code",
   "execution_count": 75,
   "id": "ef8a315a",
   "metadata": {},
   "outputs": [
    {
     "name": "stdout",
     "output_type": "stream",
     "text": [
      "\n",
      "Weekly summary (sum of Sales and Expenses):\n",
      "            Sales  Expenses\n",
      "2025-01-05   1517       745\n",
      "2025-01-12   1993      1363\n",
      "2025-01-19   1871      1161\n",
      "2025-01-26   1992      1357\n",
      "2025-02-02   2224      1017\n",
      "2025-02-09   2181      1054\n",
      "2025-02-16   1900      1299\n",
      "2025-02-23   1876      1056\n",
      "2025-03-02   1366      1065\n"
     ]
    }
   ],
   "source": [
    "weekly_summary = df.resample('W').sum()\n",
    "print(\"\\nWeekly summary (sum of Sales and Expenses):\")\n",
    "print(weekly_summary)"
   ]
  },
  {
   "cell_type": "code",
   "execution_count": 77,
   "id": "4ccaa843",
   "metadata": {},
   "outputs": [
    {
     "name": "stdout",
     "output_type": "stream",
     "text": [
      "\n",
      "Monthly average (mean of Sales and Expenses):\n",
      "                 Sales    Expenses\n",
      "2025-01-31  297.225806  172.677419\n",
      "2025-02-28  275.214286  170.142857\n"
     ]
    }
   ],
   "source": [
    "# Resample to monthly frequency and calculate mean\n",
    "monthly_average = df.resample('ME').mean()\n",
    "print(\"\\nMonthly average (mean of Sales and Expenses):\")\n",
    "print(monthly_average)\n"
   ]
  },
  {
   "cell_type": "code",
   "execution_count": null,
   "id": "fc47209b",
   "metadata": {},
   "outputs": [],
   "source": [
    "import pandas as pd\n",
    "import numpy as np\n",
    "date_rng = pd.date_range(start='2025-01-01', end='2025-02-28', freq='D')\n",
    "data = {\n",
    "    'Sales': np.random.randint(100, 500, size=(len(date_rng))),\n",
    "    'Expenses': np.random.randint(50, 300, size=(len(date_rng)))   \n",
    "    }\n",
    "df = pd.DataFrame(data, index=date_rng)\n",
    "print(df)"
   ]
  }
 ],
 "metadata": {
  "kernelspec": {
   "display_name": "Python 3",
   "language": "python",
   "name": "python3"
  },
  "language_info": {
   "codemirror_mode": {
    "name": "ipython",
    "version": 3
   },
   "file_extension": ".py",
   "mimetype": "text/x-python",
   "name": "python",
   "nbconvert_exporter": "python",
   "pygments_lexer": "ipython3",
   "version": "3.13.3"
  }
 },
 "nbformat": 4,
 "nbformat_minor": 5
}

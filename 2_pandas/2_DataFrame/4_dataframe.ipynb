{
 "cells": [
  {
   "cell_type": "code",
   "execution_count": 3,
   "id": "e5c1fb0f",
   "metadata": {},
   "outputs": [
    {
     "name": "stdout",
     "output_type": "stream",
     "text": [
      "      Name  Age  Salary\n",
      "0    Alice   25   50000\n",
      "1      Bob   30   60000\n",
      "2  Charlie   35   75000\n",
      "      Name  Age  Salary  Expanding_Mean_Salary\n",
      "0    Alice   25   50000           50000.000000\n",
      "1      Bob   30   60000           55000.000000\n",
      "2  Charlie   35   75000           61666.666667\n",
      "      Name  Age  Salary  Expanding_Mean_Salary  Exp_Mean_Salary\n",
      "0    Alice   25   50000           50000.000000              NaN\n",
      "1      Bob   30   60000           55000.000000     55000.000000\n",
      "2  Charlie   35   75000           61666.666667     61666.666667\n"
     ]
    }
   ],
   "source": [
    "import pandas as pd\n",
    "data = {\n",
    "    \t'Name': ['Alice', 'Bob', 'Charlie'],\n",
    " \t 'Age': [25, 30, 35],\n",
    "\t 'Salary': [50000, 60000, 75000]\n",
    "\t}\n",
    "df = pd.DataFrame(data)\n",
    "print(df)\n",
    "df['Expanding_Mean_Salary'] = df['Salary'].expanding().mean()\n",
    "print(df)\n",
    "df['Exp_Mean_Salary'] = df['Salary'].expanding(2).mean()\n",
    "print(df)"
   ]
  },
  {
   "cell_type": "code",
   "execution_count": 4,
   "id": "3df24a48",
   "metadata": {},
   "outputs": [
    {
     "name": "stdout",
     "output_type": "stream",
     "text": [
      "      Name  Age  Salary\n",
      "0    Alice   25   50000\n",
      "1      Bob   30   60000\n",
      "2  Charlie   35   75000\n",
      "\n",
      "DataFrame with Exponentially Weighted Moving Average Salary:\n",
      "      Name  Age  Salary    EWM_Salary\n",
      "0    Alice   25   50000  50000.000000\n",
      "1      Bob   30   60000  57500.000000\n",
      "2  Charlie   35   75000  69615.384615\n"
     ]
    }
   ],
   "source": [
    "import pandas as pd\n",
    "data = {\n",
    "    'Name': ['Alice', 'Bob', 'Charlie'],\n",
    "    'Age': [25, 30, 35],\n",
    "    'Salary': [50000, 60000, 75000]\n",
    "}\n",
    "df = pd.DataFrame(data)\n",
    "print(df)\n",
    "# Calculate exponentially weighted moving average of Salary\n",
    "# The 'span' parameter controls the decay; a smaller span gives more weight to recent observations\n",
    "df['EWM_Salary'] = df['Salary'].ewm(span=2).mean()\n",
    "print(\"\\nDataFrame with Exponentially Weighted Moving Average Salary:\")\n",
    "print(df)\n"
   ]
  },
  {
   "cell_type": "code",
   "execution_count": 7,
   "id": "9fba00b9",
   "metadata": {},
   "outputs": [
    {
     "name": "stdout",
     "output_type": "stream",
     "text": [
      "   EmployeeID     Name Department\n",
      "0         101    Alice         HR\n",
      "1         102      Bob    Finance\n",
      "2         103  Charlie         IT\n",
      "3         104    David  Marketing\n",
      "   EmployeeID  Salary  JoiningYear\n",
      "0         102   60000         2015\n",
      "1         103   75000         2016\n",
      "2         104   58000         2017\n",
      "3         105   52000         2018\n",
      "Inner Join (Only matching EmployeeID):\n",
      "   EmployeeID     Name Department  Salary  JoiningYear\n",
      "0         102      Bob    Finance   60000         2015\n",
      "1         103  Charlie         IT   75000         2016\n",
      "2         104    David  Marketing   58000         2017\n"
     ]
    }
   ],
   "source": [
    "import pandas as pd\n",
    "df1 = pd.DataFrame({\n",
    "    'EmployeeID': [101, 102, 103, 104],\n",
    "    'Name': ['Alice', 'Bob', 'Charlie', 'David'],\n",
    "    'Department': ['HR', 'Finance', 'IT', 'Marketing']\n",
    "})\n",
    "print(df1)\n",
    "df2 = pd.DataFrame({\n",
    "    'EmployeeID': [102, 103, 104, 105],\n",
    "    'Salary': [60000, 75000, 58000, 52000],\n",
    "    'JoiningYear': [2015, 2016, 2017, 2018]\n",
    "})\n",
    "print(df2)\n",
    "# Merge DataFrames on 'EmployeeID' with inner join (default)\n",
    "result_inner = pd.merge(df1, df2, on='EmployeeID')\n",
    "print(\"Inner Join (Only matching EmployeeID):\")\n",
    "print(result_inner)\n"
   ]
  },
  {
   "cell_type": "code",
   "execution_count": 11,
   "id": "b01c1f68",
   "metadata": {},
   "outputs": [
    {
     "name": "stdout",
     "output_type": "stream",
     "text": [
      "   EmployeeID     Name Department\n",
      "0         101    Alice         HR\n",
      "1         102      Bob    Finance\n",
      "2         103  Charlie         IT\n",
      "3         104    David  Marketing\n",
      "   EmployeeID  Salary  JoiningYear\n",
      "0         102   60000         2015\n",
      "1         103   75000         2016\n",
      "2         104   58000         2017\n",
      "3         105   52000         2018\n",
      "Inner Join (Only matching EmployeeID):\n",
      "   EmployeeID     Name Department  Salary  JoiningYear\n",
      "0         102      Bob    Finance   60000         2015\n",
      "1         103  Charlie         IT   75000         2016\n",
      "2         104    David  Marketing   58000         2017\n",
      "left Join (Only matching EmployeeID):\n",
      "   EmployeeID     Name Department   Salary  JoiningYear\n",
      "0         101    Alice         HR      NaN          NaN\n",
      "1         102      Bob    Finance  60000.0       2015.0\n",
      "2         103  Charlie         IT  75000.0       2016.0\n",
      "3         104    David  Marketing  58000.0       2017.0\n",
      "right Join (Only matching EmployeeID):\n",
      "   EmployeeID     Name Department  Salary  JoiningYear\n",
      "0         102      Bob    Finance   60000         2015\n",
      "1         103  Charlie         IT   75000         2016\n",
      "2         104    David  Marketing   58000         2017\n",
      "3         105      NaN        NaN   52000         2018\n"
     ]
    }
   ],
   "source": [
    "import pandas as pd\n",
    "df1 = pd.DataFrame({\n",
    "    'EmployeeID': [101, 102, 103, 104],\n",
    "    'Name': ['Alice', 'Bob', 'Charlie', 'David'],\n",
    "    'Department': ['HR', 'Finance', 'IT', 'Marketing']\n",
    "})\n",
    "print(df1)\n",
    "df2 = pd.DataFrame({\n",
    "    'EmployeeID': [102, 103, 104, 105],\n",
    "    'Salary': [60000, 75000, 58000, 52000],\n",
    "    'JoiningYear': [2015, 2016, 2017, 2018]\n",
    "})\n",
    "print(df2)\n",
    "# Merge DataFrames on 'EmployeeID' with inner join (default)\n",
    "result_inner = pd.merge(df1, df2, on='EmployeeID')\n",
    "print(\"Inner Join (Only matching EmployeeID):\")\n",
    "print(result_inner)\n",
    "# Merge DataFrames on 'EmployeeID' with left join \n",
    "result_left = pd.merge(df1, df2, on='EmployeeID',how='left')\n",
    "print(\"left Join (Only matching EmployeeID):\")\n",
    "print(result_left)\n",
    "# Merge DataFrames on 'EmployeeID' with right join \n",
    "result_right = pd.merge(df1, df2, on='EmployeeID',how='right')\n",
    "print(\"right Join (Only matching EmployeeID):\")\n",
    "print(result_right)\n"
   ]
  },
  {
   "cell_type": "code",
   "execution_count": 12,
   "id": "a23eae10",
   "metadata": {},
   "outputs": [
    {
     "name": "stdout",
     "output_type": "stream",
     "text": [
      "\n",
      "Outer Join (All from both dfs):\n",
      "   EmployeeID     Name Department   Salary  JoiningYear\n",
      "0         101    Alice         HR      NaN          NaN\n",
      "1         102      Bob    Finance  60000.0       2015.0\n",
      "2         103  Charlie         IT  75000.0       2016.0\n",
      "3         104    David  Marketing  58000.0       2017.0\n",
      "4         105      NaN        NaN  52000.0       2018.0\n"
     ]
    }
   ],
   "source": [
    "# Merge DataFrames on 'EmployeeID' with outer join\n",
    "result_outer = pd.merge(df1, df2, on='EmployeeID', how='outer')\n",
    "print(\"\\nOuter Join (All from both dfs):\")\n",
    "print(result_outer)\n"
   ]
  },
  {
   "cell_type": "code",
   "execution_count": 18,
   "id": "86b6a172",
   "metadata": {},
   "outputs": [
    {
     "name": "stdout",
     "output_type": "stream",
     "text": [
      "\n",
      "         Name Department\n",
      "101    Alice         HR\n",
      "102      Bob    Finance\n",
      "103  Charlie         IT\n",
      "104    David  Marketing\n",
      "\n",
      "      Salary  JoiningYear\n",
      "102   60000         2015\n",
      "103   75000         2016\n",
      "104   58000         2017\n",
      "105   52000         2018\n",
      "\n",
      "Inner Join (Only matching indices):\n",
      "        Name Department  Salary  JoiningYear\n",
      "102      Bob    Finance   60000         2015\n",
      "103  Charlie         IT   75000         2016\n",
      "104    David  Marketing   58000         2017\n"
     ]
    }
   ],
   "source": [
    "import pandas as pd\n",
    "df1 = pd.DataFrame({\n",
    "    \t'Name': ['Alice', 'Bob', 'Charlie', 'David'],\n",
    "    \t'Department': ['HR', 'Finance', 'IT', 'Marketing']\n",
    "\t}, index=[101, 102, 103, 104])\n",
    "print('\\n',df1)\n",
    "df2 = pd.DataFrame({\n",
    "    \t'Salary': [60000, 75000, 58000, 52000],\n",
    "    \t'JoiningYear': [2015, 2016, 2017, 2018]\n",
    "\t}, index=[102, 103, 104, 105])\n",
    "print('\\n',df2)\n",
    "\n",
    "# Join df2 to df1 on their indices with inner join\n",
    "result_inner = df1.join(df2, how='inner')\n",
    "print(\"\\nInner Join (Only matching indices):\")\n",
    "print(result_inner)\n",
    "\n"
   ]
  },
  {
   "cell_type": "code",
   "execution_count": 19,
   "id": "7ac7bc5d",
   "metadata": {},
   "outputs": [
    {
     "name": "stdout",
     "output_type": "stream",
     "text": [
      "\n",
      "Left Join (All indices from df1 with matching from df2):\n",
      "        Name Department   Salary  JoiningYear\n",
      "101    Alice         HR      NaN          NaN\n",
      "102      Bob    Finance  60000.0       2015.0\n",
      "103  Charlie         IT  75000.0       2016.0\n",
      "104    David  Marketing  58000.0       2017.0\n",
      "\n",
      "Left Join (All indices from df2 with matching from df1):\n",
      "     Salary  JoiningYear     Name Department\n",
      "102   60000         2015      Bob    Finance\n",
      "103   75000         2016  Charlie         IT\n",
      "104   58000         2017    David  Marketing\n",
      "105   52000         2018      NaN        NaN\n",
      "\n",
      "right Join (All indices from df2 with matching from df1):\n",
      "        Name Department  Salary  JoiningYear\n",
      "102      Bob    Finance   60000         2015\n",
      "103  Charlie         IT   75000         2016\n",
      "104    David  Marketing   58000         2017\n",
      "105      NaN        NaN   52000         2018\n",
      "\n",
      "Outer Join (All indices from both dfs):\n",
      "        Name Department   Salary  JoiningYear\n",
      "101    Alice         HR      NaN          NaN\n",
      "102      Bob    Finance  60000.0       2015.0\n",
      "103  Charlie         IT  75000.0       2016.0\n",
      "104    David  Marketing  58000.0       2017.0\n",
      "105      NaN        NaN  52000.0       2018.0\n"
     ]
    }
   ],
   "source": [
    "# Join df2 to df1 on their indices with left join\n",
    "result_left = df1.join(df2, how='left')\n",
    "print(\"\\nLeft Join (All indices from df1 with matching from df2):\")\n",
    "print(result_left)\n",
    "result_left = df2.join(df1, how='left')\n",
    "print(\"\\nLeft Join (All indices from df2 with matching from df1):\")\n",
    "print(result_left)\n",
    "# Join df2 to df1 on their indices with right join\n",
    "result_right = df1.join(df2, how='right')\n",
    "print(\"\\nright Join (All indices from df2 with matching from df1):\")\n",
    "print(result_right)\n",
    "# Join df2 to df1 on their indices with outer join\n",
    "result_outer = df1.join(df2, how='outer')\n",
    "print(\"\\nOuter Join (All indices from both dfs):\")\n",
    "print(result_outer)"
   ]
  }
 ],
 "metadata": {
  "kernelspec": {
   "display_name": "Python 3",
   "language": "python",
   "name": "python3"
  },
  "language_info": {
   "codemirror_mode": {
    "name": "ipython",
    "version": 3
   },
   "file_extension": ".py",
   "mimetype": "text/x-python",
   "name": "python",
   "nbconvert_exporter": "python",
   "pygments_lexer": "ipython3",
   "version": "3.13.3"
  }
 },
 "nbformat": 4,
 "nbformat_minor": 5
}

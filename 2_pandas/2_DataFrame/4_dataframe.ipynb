{
 "cells": [
  {
   "cell_type": "code",
   "execution_count": 3,
   "id": "e5c1fb0f",
   "metadata": {},
   "outputs": [
    {
     "name": "stdout",
     "output_type": "stream",
     "text": [
      "      Name  Age  Salary\n",
      "0    Alice   25   50000\n",
      "1      Bob   30   60000\n",
      "2  Charlie   35   75000\n",
      "      Name  Age  Salary  Expanding_Mean_Salary\n",
      "0    Alice   25   50000           50000.000000\n",
      "1      Bob   30   60000           55000.000000\n",
      "2  Charlie   35   75000           61666.666667\n",
      "      Name  Age  Salary  Expanding_Mean_Salary  Exp_Mean_Salary\n",
      "0    Alice   25   50000           50000.000000              NaN\n",
      "1      Bob   30   60000           55000.000000     55000.000000\n",
      "2  Charlie   35   75000           61666.666667     61666.666667\n"
     ]
    }
   ],
   "source": [
    "import pandas as pd\n",
    "data = {\n",
    "    \t'Name': ['Alice', 'Bob', 'Charlie'],\n",
    " \t 'Age': [25, 30, 35],\n",
    "\t 'Salary': [50000, 60000, 75000]\n",
    "\t}\n",
    "df = pd.DataFrame(data)\n",
    "print(df)\n",
    "df['Expanding_Mean_Salary'] = df['Salary'].expanding().mean()\n",
    "print(df)\n",
    "df['Exp_Mean_Salary'] = df['Salary'].expanding(2).mean()\n",
    "print(df)"
   ]
  },
  {
   "cell_type": "code",
   "execution_count": 4,
   "id": "3df24a48",
   "metadata": {},
   "outputs": [
    {
     "name": "stdout",
     "output_type": "stream",
     "text": [
      "      Name  Age  Salary\n",
      "0    Alice   25   50000\n",
      "1      Bob   30   60000\n",
      "2  Charlie   35   75000\n",
      "\n",
      "DataFrame with Exponentially Weighted Moving Average Salary:\n",
      "      Name  Age  Salary    EWM_Salary\n",
      "0    Alice   25   50000  50000.000000\n",
      "1      Bob   30   60000  57500.000000\n",
      "2  Charlie   35   75000  69615.384615\n"
     ]
    }
   ],
   "source": [
    "import pandas as pd\n",
    "data = {\n",
    "    'Name': ['Alice', 'Bob', 'Charlie'],\n",
    "    'Age': [25, 30, 35],\n",
    "    'Salary': [50000, 60000, 75000]\n",
    "}\n",
    "df = pd.DataFrame(data)\n",
    "print(df)\n",
    "# Calculate exponentially weighted moving average of Salary\n",
    "# The 'span' parameter controls the decay; a smaller span gives more weight to recent observations\n",
    "df['EWM_Salary'] = df['Salary'].ewm(span=2).mean()\n",
    "print(\"\\nDataFrame with Exponentially Weighted Moving Average Salary:\")\n",
    "print(df)\n"
   ]
  },
  {
   "cell_type": "code",
   "execution_count": 7,
   "id": "9fba00b9",
   "metadata": {},
   "outputs": [
    {
     "name": "stdout",
     "output_type": "stream",
     "text": [
      "   EmployeeID     Name Department\n",
      "0         101    Alice         HR\n",
      "1         102      Bob    Finance\n",
      "2         103  Charlie         IT\n",
      "3         104    David  Marketing\n",
      "   EmployeeID  Salary  JoiningYear\n",
      "0         102   60000         2015\n",
      "1         103   75000         2016\n",
      "2         104   58000         2017\n",
      "3         105   52000         2018\n",
      "Inner Join (Only matching EmployeeID):\n",
      "   EmployeeID     Name Department  Salary  JoiningYear\n",
      "0         102      Bob    Finance   60000         2015\n",
      "1         103  Charlie         IT   75000         2016\n",
      "2         104    David  Marketing   58000         2017\n"
     ]
    }
   ],
   "source": [
    "import pandas as pd\n",
    "df1 = pd.DataFrame({\n",
    "    'EmployeeID': [101, 102, 103, 104],\n",
    "    'Name': ['Alice', 'Bob', 'Charlie', 'David'],\n",
    "    'Department': ['HR', 'Finance', 'IT', 'Marketing']\n",
    "})\n",
    "print(df1)\n",
    "df2 = pd.DataFrame({\n",
    "    'EmployeeID': [102, 103, 104, 105],\n",
    "    'Salary': [60000, 75000, 58000, 52000],\n",
    "    'JoiningYear': [2015, 2016, 2017, 2018]\n",
    "})\n",
    "print(df2)\n",
    "# Merge DataFrames on 'EmployeeID' with inner join (default)\n",
    "result_inner = pd.merge(df1, df2, on='EmployeeID')\n",
    "print(\"Inner Join (Only matching EmployeeID):\")\n",
    "print(result_inner)\n"
   ]
  },
  {
   "cell_type": "code",
   "execution_count": 11,
   "id": "b01c1f68",
   "metadata": {},
   "outputs": [
    {
     "name": "stdout",
     "output_type": "stream",
     "text": [
      "   EmployeeID     Name Department\n",
      "0         101    Alice         HR\n",
      "1         102      Bob    Finance\n",
      "2         103  Charlie         IT\n",
      "3         104    David  Marketing\n",
      "   EmployeeID  Salary  JoiningYear\n",
      "0         102   60000         2015\n",
      "1         103   75000         2016\n",
      "2         104   58000         2017\n",
      "3         105   52000         2018\n",
      "Inner Join (Only matching EmployeeID):\n",
      "   EmployeeID     Name Department  Salary  JoiningYear\n",
      "0         102      Bob    Finance   60000         2015\n",
      "1         103  Charlie         IT   75000         2016\n",
      "2         104    David  Marketing   58000         2017\n",
      "left Join (Only matching EmployeeID):\n",
      "   EmployeeID     Name Department   Salary  JoiningYear\n",
      "0         101    Alice         HR      NaN          NaN\n",
      "1         102      Bob    Finance  60000.0       2015.0\n",
      "2         103  Charlie         IT  75000.0       2016.0\n",
      "3         104    David  Marketing  58000.0       2017.0\n",
      "right Join (Only matching EmployeeID):\n",
      "   EmployeeID     Name Department  Salary  JoiningYear\n",
      "0         102      Bob    Finance   60000         2015\n",
      "1         103  Charlie         IT   75000         2016\n",
      "2         104    David  Marketing   58000         2017\n",
      "3         105      NaN        NaN   52000         2018\n"
     ]
    }
   ],
   "source": [
    "import pandas as pd\n",
    "df1 = pd.DataFrame({\n",
    "    'EmployeeID': [101, 102, 103, 104],\n",
    "    'Name': ['Alice', 'Bob', 'Charlie', 'David'],\n",
    "    'Department': ['HR', 'Finance', 'IT', 'Marketing']\n",
    "})\n",
    "print(df1)\n",
    "df2 = pd.DataFrame({\n",
    "    'EmployeeID': [102, 103, 104, 105],\n",
    "    'Salary': [60000, 75000, 58000, 52000],\n",
    "    'JoiningYear': [2015, 2016, 2017, 2018]\n",
    "})\n",
    "print(df2)\n",
    "# Merge DataFrames on 'EmployeeID' with inner join (default)\n",
    "result_inner = pd.merge(df1, df2, on='EmployeeID')\n",
    "print(\"Inner Join (Only matching EmployeeID):\")\n",
    "print(result_inner)\n",
    "# Merge DataFrames on 'EmployeeID' with left join \n",
    "result_left = pd.merge(df1, df2, on='EmployeeID',how='left')\n",
    "print(\"left Join (Only matching EmployeeID):\")\n",
    "print(result_left)\n",
    "# Merge DataFrames on 'EmployeeID' with right join \n",
    "result_right = pd.merge(df1, df2, on='EmployeeID',how='right')\n",
    "print(\"right Join (Only matching EmployeeID):\")\n",
    "print(result_right)\n"
   ]
  },
  {
   "cell_type": "code",
   "execution_count": 12,
   "id": "a23eae10",
   "metadata": {},
   "outputs": [
    {
     "name": "stdout",
     "output_type": "stream",
     "text": [
      "\n",
      "Outer Join (All from both dfs):\n",
      "   EmployeeID     Name Department   Salary  JoiningYear\n",
      "0         101    Alice         HR      NaN          NaN\n",
      "1         102      Bob    Finance  60000.0       2015.0\n",
      "2         103  Charlie         IT  75000.0       2016.0\n",
      "3         104    David  Marketing  58000.0       2017.0\n",
      "4         105      NaN        NaN  52000.0       2018.0\n"
     ]
    }
   ],
   "source": [
    "# Merge DataFrames on 'EmployeeID' with outer join\n",
    "result_outer = pd.merge(df1, df2, on='EmployeeID', how='outer')\n",
    "print(\"\\nOuter Join (All from both dfs):\")\n",
    "print(result_outer)\n"
   ]
  },
  {
   "cell_type": "code",
   "execution_count": 18,
   "id": "86b6a172",
   "metadata": {},
   "outputs": [
    {
     "name": "stdout",
     "output_type": "stream",
     "text": [
      "\n",
      "         Name Department\n",
      "101    Alice         HR\n",
      "102      Bob    Finance\n",
      "103  Charlie         IT\n",
      "104    David  Marketing\n",
      "\n",
      "      Salary  JoiningYear\n",
      "102   60000         2015\n",
      "103   75000         2016\n",
      "104   58000         2017\n",
      "105   52000         2018\n",
      "\n",
      "Inner Join (Only matching indices):\n",
      "        Name Department  Salary  JoiningYear\n",
      "102      Bob    Finance   60000         2015\n",
      "103  Charlie         IT   75000         2016\n",
      "104    David  Marketing   58000         2017\n"
     ]
    }
   ],
   "source": [
    "import pandas as pd\n",
    "df1 = pd.DataFrame({\n",
    "    \t'Name': ['Alice', 'Bob', 'Charlie', 'David'],\n",
    "    \t'Department': ['HR', 'Finance', 'IT', 'Marketing']\n",
    "\t}, index=[101, 102, 103, 104])\n",
    "print('\\n',df1)\n",
    "df2 = pd.DataFrame({\n",
    "    \t'Salary': [60000, 75000, 58000, 52000],\n",
    "    \t'JoiningYear': [2015, 2016, 2017, 2018]\n",
    "\t}, index=[102, 103, 104, 105])\n",
    "print('\\n',df2)\n",
    "\n",
    "# Join df2 to df1 on their indices with inner join\n",
    "result_inner = df1.join(df2, how='inner')\n",
    "print(\"\\nInner Join (Only matching indices):\")\n",
    "print(result_inner)\n",
    "\n"
   ]
  },
  {
   "cell_type": "code",
   "execution_count": 19,
   "id": "7ac7bc5d",
   "metadata": {},
   "outputs": [
    {
     "name": "stdout",
     "output_type": "stream",
     "text": [
      "\n",
      "Left Join (All indices from df1 with matching from df2):\n",
      "        Name Department   Salary  JoiningYear\n",
      "101    Alice         HR      NaN          NaN\n",
      "102      Bob    Finance  60000.0       2015.0\n",
      "103  Charlie         IT  75000.0       2016.0\n",
      "104    David  Marketing  58000.0       2017.0\n",
      "\n",
      "Left Join (All indices from df2 with matching from df1):\n",
      "     Salary  JoiningYear     Name Department\n",
      "102   60000         2015      Bob    Finance\n",
      "103   75000         2016  Charlie         IT\n",
      "104   58000         2017    David  Marketing\n",
      "105   52000         2018      NaN        NaN\n",
      "\n",
      "right Join (All indices from df2 with matching from df1):\n",
      "        Name Department  Salary  JoiningYear\n",
      "102      Bob    Finance   60000         2015\n",
      "103  Charlie         IT   75000         2016\n",
      "104    David  Marketing   58000         2017\n",
      "105      NaN        NaN   52000         2018\n",
      "\n",
      "Outer Join (All indices from both dfs):\n",
      "        Name Department   Salary  JoiningYear\n",
      "101    Alice         HR      NaN          NaN\n",
      "102      Bob    Finance  60000.0       2015.0\n",
      "103  Charlie         IT  75000.0       2016.0\n",
      "104    David  Marketing  58000.0       2017.0\n",
      "105      NaN        NaN  52000.0       2018.0\n"
     ]
    }
   ],
   "source": [
    "# Join df2 to df1 on their indices with left join\n",
    "result_left = df1.join(df2, how='left')\n",
    "print(\"\\nLeft Join (All indices from df1 with matching from df2):\")\n",
    "print(result_left)\n",
    "result_left = df2.join(df1, how='left')\n",
    "print(\"\\nLeft Join (All indices from df2 with matching from df1):\")\n",
    "print(result_left)\n",
    "# Join df2 to df1 on their indices with right join\n",
    "result_right = df1.join(df2, how='right')\n",
    "print(\"\\nright Join (All indices from df2 with matching from df1):\")\n",
    "print(result_right)\n",
    "# Join df2 to df1 on their indices with outer join\n",
    "result_outer = df1.join(df2, how='outer')\n",
    "print(\"\\nOuter Join (All indices from both dfs):\")\n",
    "print(result_outer)"
   ]
  },
  {
   "cell_type": "code",
   "execution_count": 5,
   "id": "78b62e62",
   "metadata": {},
   "outputs": [
    {
     "name": "stdout",
     "output_type": "stream",
     "text": [
      "   EmployeeID     Name\n",
      "0         101    Alice\n",
      "1         102      Bob\n",
      "2         103  Charlie\n",
      "   EmployeeID   Name\n",
      "0         104  David\n",
      "1         105    Eva\n",
      "   EmployeeID   Name\n",
      "0         106  Frank\n",
      "1         107  Grace\n",
      "Concatenated DataFrames along rows:\n",
      "   EmployeeID     Name\n",
      "0         101    Alice\n",
      "1         102      Bob\n",
      "2         103  Charlie\n",
      "0         104    David\n",
      "1         105      Eva\n",
      "0         106    Frank\n",
      "1         107    Grace\n",
      "\n",
      "Concatenated DataFrames along columns:\n",
      "   EmployeeID     Name Department\n",
      "0         101    Alice         HR\n",
      "1         102      Bob    Finance\n",
      "2         103  Charlie         IT\n",
      "3         104    David  Marketing\n",
      "4         105      Eva      Sales\n",
      "5         106    Frank    Support\n",
      "6         107    Grace        NaN\n"
     ]
    }
   ],
   "source": [
    "import pandas as pd\n",
    "df1 = pd.DataFrame({\n",
    "    \t'EmployeeID': [101, 102, 103], \n",
    "\t'Name': ['Alice', 'Bob', 'Charlie']   })\n",
    "df2 = pd.DataFrame({\n",
    "\t    'EmployeeID': [104, 105],\n",
    "\t    'Name': ['David', 'Eva']\n",
    "\t})\n",
    "df3 = pd.DataFrame({\n",
    "\t    'EmployeeID': [106, 107],\n",
    "\t    'Name': ['Frank', 'Grace']\n",
    "\t})\n",
    "print(df1)\n",
    "print(df2)\n",
    "print(df3)\n",
    "# Concatenate DataFrames along rows (axis=0)\n",
    "result_rows = pd.concat([df1, df2, df3], axis=0)\n",
    "print(\"Concatenated DataFrames along rows:\")\n",
    "print(result_rows)\n",
    "df4 = pd.DataFrame({\n",
    "\t'Department': ['HR', 'Finance', 'IT', \t'Marketing', 'Sales', 'Support']\n",
    "\t})\n",
    "result_columns = pd.concat( [result_rows.reset_index(drop=True), df4], axis=1)\n",
    "print(\"\\nConcatenated DataFrames along columns:\")\n",
    "print(result_columns)\n"
   ]
  },
  {
   "cell_type": "code",
   "execution_count": null,
   "id": "d7d87261",
   "metadata": {},
   "outputs": [],
   "source": [
    "df4 = pd.DataFrame({\n",
    "\t'Department': ['HR', 'Finance', 'IT', \t'Marketing', 'Sales', 'Support']\n",
    "\t})\n",
    "result_columns = pd.concat( [result_rows.reset_index(drop=True), df4], axis=1)\n",
    "print(\"\\nConcatenated DataFrames along columns:\")\n",
    "print(result_columns)\n"
   ]
  },
  {
   "cell_type": "code",
   "execution_count": 13,
   "id": "38fde4ef",
   "metadata": {},
   "outputs": [
    {
     "name": "stdout",
     "output_type": "stream",
     "text": [
      "Name           \n",
      "Alice    Age          25\n",
      "         Salary    50000\n",
      "Bob      Age          30\n",
      "         Salary    60000\n",
      "Charlie  Age          35\n",
      "         Salary    75000\n",
      "dtype: int64\n",
      "\n",
      "resetindex\n",
      "       Name level_1      0\n",
      "0    Alice     Age     25\n",
      "1    Alice  Salary  50000\n",
      "2      Bob     Age     30\n",
      "3      Bob  Salary  60000\n",
      "4  Charlie     Age     35\n",
      "5  Charlie  Salary  75000\n"
     ]
    }
   ],
   "source": [
    "import pandas as pd\n",
    "data = {\n",
    "    \t'Name': ['Alice', 'Bob', 'Charlie'],\n",
    " \t 'Age': [25, 30, 35],\n",
    "\t 'Salary': [50000, 60000, 75000]\n",
    "\t}\n",
    "df = pd.DataFrame(data)\n",
    "\n",
    "# Use the stack() function\n",
    "stacked_df = df.set_index('Name').stack()\n",
    "# Rename the columns for clarity\n",
    "stacked_df.columns = ['Name', 'Attribute', 'Value']\n",
    "print(stacked_df)\n",
    "print(\"\\nresetindex\\n\",stacked_df.reset_index())\n"
   ]
  },
  {
   "cell_type": "code",
   "execution_count": 7,
   "id": "88fc952a",
   "metadata": {},
   "outputs": [
    {
     "name": "stdout",
     "output_type": "stream",
     "text": [
      "      Name  Age  Salary\n",
      "0    Alice   25   50000\n",
      "1      Bob   30   60000\n",
      "2  Charlie   35   75000\n",
      "      Name Attribute  Value\n",
      "0    Alice       Age     25\n",
      "1    Alice    Salary  50000\n",
      "2      Bob       Age     30\n",
      "3      Bob    Salary  60000\n",
      "4  Charlie       Age     35\n",
      "5  Charlie    Salary  75000\n",
      "\n",
      "           Value       \n",
      "Attribute   Age Salary\n",
      "Name                  \n",
      "Alice        25  50000\n",
      "Bob          30  60000\n",
      "Charlie      35  75000\n",
      "\n",
      "       Name  Value  Value\n",
      "0    Alice     25  50000\n",
      "1      Bob     30  60000\n",
      "2  Charlie     35  75000\n"
     ]
    }
   ],
   "source": [
    "import pandas as pd\n",
    "data = {\n",
    "    'Name': ['Alice', 'Bob', 'Charlie'],\n",
    "    'Age': [25, 30, 35],\n",
    "    'Salary': [50000, 60000, 75000]\n",
    "\t}\n",
    "df = pd.DataFrame(data)\n",
    "print(df)\n",
    "# Stack the DataFrame\n",
    "stacked_df = df.set_index('Name').stack().reset_index()\n",
    "stacked_df.columns = ['Name', 'Attribute', 'Value']\n",
    "print(stacked_df)\n",
    "# unstack() to pivot back to wide format\n",
    "unstacked_df = stacked_df.set_index(['Name', 'Attribute']).unstack()\n",
    "print('\\n',unstacked_df)\n",
    "# Reset index to make it a regular DataFrame\n",
    "unstacked_df.columns = unstacked_df.columns.droplevel(1)  \n",
    "# Remove the top level of the column MultiIndex\n",
    "unstacked_df.reset_index(inplace=True)\n",
    "print('\\n',unstacked_df)\n"
   ]
  },
  {
   "cell_type": "code",
   "execution_count": 10,
   "id": "5e95f4ea",
   "metadata": {},
   "outputs": [
    {
     "data": {
      "application/vnd.microsoft.datawrangler.viewer.v0+json": {
       "columns": [
        {
         "name": "index",
         "rawType": "int64",
         "type": "integer"
        },
        {
         "name": "Name",
         "rawType": "object",
         "type": "string"
        },
        {
         "name": "Age",
         "rawType": "int64",
         "type": "integer"
        },
        {
         "name": "Salary",
         "rawType": "int64",
         "type": "integer"
        }
       ],
       "ref": "8e04b718-ae73-4036-8577-3d386310aa34",
       "rows": [
        [
         "0",
         "Alice",
         "25",
         "50000"
        ],
        [
         "1",
         "Bob",
         "30",
         "60000"
        ],
        [
         "2",
         "Charlie",
         "35",
         "75000"
        ]
       ],
       "shape": {
        "columns": 3,
        "rows": 3
       }
      },
      "text/html": [
       "<div>\n",
       "<style scoped>\n",
       "    .dataframe tbody tr th:only-of-type {\n",
       "        vertical-align: middle;\n",
       "    }\n",
       "\n",
       "    .dataframe tbody tr th {\n",
       "        vertical-align: top;\n",
       "    }\n",
       "\n",
       "    .dataframe thead th {\n",
       "        text-align: right;\n",
       "    }\n",
       "</style>\n",
       "<table border=\"1\" class=\"dataframe\">\n",
       "  <thead>\n",
       "    <tr style=\"text-align: right;\">\n",
       "      <th></th>\n",
       "      <th>Name</th>\n",
       "      <th>Age</th>\n",
       "      <th>Salary</th>\n",
       "    </tr>\n",
       "  </thead>\n",
       "  <tbody>\n",
       "    <tr>\n",
       "      <th>0</th>\n",
       "      <td>Alice</td>\n",
       "      <td>25</td>\n",
       "      <td>50000</td>\n",
       "    </tr>\n",
       "    <tr>\n",
       "      <th>1</th>\n",
       "      <td>Bob</td>\n",
       "      <td>30</td>\n",
       "      <td>60000</td>\n",
       "    </tr>\n",
       "    <tr>\n",
       "      <th>2</th>\n",
       "      <td>Charlie</td>\n",
       "      <td>35</td>\n",
       "      <td>75000</td>\n",
       "    </tr>\n",
       "  </tbody>\n",
       "</table>\n",
       "</div>"
      ],
      "text/plain": [
       "      Name  Age  Salary\n",
       "0    Alice   25   50000\n",
       "1      Bob   30   60000\n",
       "2  Charlie   35   75000"
      ]
     },
     "execution_count": 10,
     "metadata": {},
     "output_type": "execute_result"
    }
   ],
   "source": [
    "import pandas as pd\n",
    "data = {\n",
    "    \t'Name': ['Alice', 'Bob', 'Charlie'],\n",
    " \t 'Age': [25, 30, 35],\n",
    "\t 'Salary': [50000, 60000, 75000]\n",
    "\t}\n",
    "df = pd.DataFrame(data)\n",
    "df"
   ]
  },
  {
   "cell_type": "code",
   "execution_count": 11,
   "id": "2f8375ba",
   "metadata": {},
   "outputs": [
    {
     "data": {
      "application/vnd.microsoft.datawrangler.viewer.v0+json": {
       "columns": [
        {
         "name": "index",
         "rawType": "object",
         "type": "string"
        },
        {
         "name": "0",
         "rawType": "object",
         "type": "unknown"
        },
        {
         "name": "1",
         "rawType": "object",
         "type": "unknown"
        },
        {
         "name": "2",
         "rawType": "object",
         "type": "unknown"
        }
       ],
       "ref": "8a8372a6-8444-43f1-9522-0064b326caf7",
       "rows": [
        [
         "Name",
         "Alice",
         "Bob",
         "Charlie"
        ],
        [
         "Age",
         "25",
         "30",
         "35"
        ],
        [
         "Salary",
         "50000",
         "60000",
         "75000"
        ]
       ],
       "shape": {
        "columns": 3,
        "rows": 3
       }
      },
      "text/html": [
       "<div>\n",
       "<style scoped>\n",
       "    .dataframe tbody tr th:only-of-type {\n",
       "        vertical-align: middle;\n",
       "    }\n",
       "\n",
       "    .dataframe tbody tr th {\n",
       "        vertical-align: top;\n",
       "    }\n",
       "\n",
       "    .dataframe thead th {\n",
       "        text-align: right;\n",
       "    }\n",
       "</style>\n",
       "<table border=\"1\" class=\"dataframe\">\n",
       "  <thead>\n",
       "    <tr style=\"text-align: right;\">\n",
       "      <th></th>\n",
       "      <th>0</th>\n",
       "      <th>1</th>\n",
       "      <th>2</th>\n",
       "    </tr>\n",
       "  </thead>\n",
       "  <tbody>\n",
       "    <tr>\n",
       "      <th>Name</th>\n",
       "      <td>Alice</td>\n",
       "      <td>Bob</td>\n",
       "      <td>Charlie</td>\n",
       "    </tr>\n",
       "    <tr>\n",
       "      <th>Age</th>\n",
       "      <td>25</td>\n",
       "      <td>30</td>\n",
       "      <td>35</td>\n",
       "    </tr>\n",
       "    <tr>\n",
       "      <th>Salary</th>\n",
       "      <td>50000</td>\n",
       "      <td>60000</td>\n",
       "      <td>75000</td>\n",
       "    </tr>\n",
       "  </tbody>\n",
       "</table>\n",
       "</div>"
      ],
      "text/plain": [
       "            0      1        2\n",
       "Name    Alice    Bob  Charlie\n",
       "Age        25     30       35\n",
       "Salary  50000  60000    75000"
      ]
     },
     "execution_count": 11,
     "metadata": {},
     "output_type": "execute_result"
    }
   ],
   "source": [
    "df1=df.transpose(copy=True)\n",
    "df1"
   ]
  },
  {
   "cell_type": "code",
   "execution_count": 12,
   "id": "6a3242b6",
   "metadata": {},
   "outputs": [
    {
     "data": {
      "application/vnd.microsoft.datawrangler.viewer.v0+json": {
       "columns": [
        {
         "name": "index",
         "rawType": "int64",
         "type": "integer"
        },
        {
         "name": "Name",
         "rawType": "object",
         "type": "string"
        },
        {
         "name": "Age",
         "rawType": "object",
         "type": "unknown"
        },
        {
         "name": "Salary",
         "rawType": "object",
         "type": "unknown"
        }
       ],
       "ref": "f03fbe39-1cd0-44f4-8197-ce9ffa13ee47",
       "rows": [
        [
         "0",
         "Alice",
         "25",
         "50000"
        ],
        [
         "1",
         "Bob",
         "30",
         "60000"
        ],
        [
         "2",
         "Charlie",
         "35",
         "75000"
        ]
       ],
       "shape": {
        "columns": 3,
        "rows": 3
       }
      },
      "text/html": [
       "<div>\n",
       "<style scoped>\n",
       "    .dataframe tbody tr th:only-of-type {\n",
       "        vertical-align: middle;\n",
       "    }\n",
       "\n",
       "    .dataframe tbody tr th {\n",
       "        vertical-align: top;\n",
       "    }\n",
       "\n",
       "    .dataframe thead th {\n",
       "        text-align: right;\n",
       "    }\n",
       "</style>\n",
       "<table border=\"1\" class=\"dataframe\">\n",
       "  <thead>\n",
       "    <tr style=\"text-align: right;\">\n",
       "      <th></th>\n",
       "      <th>Name</th>\n",
       "      <th>Age</th>\n",
       "      <th>Salary</th>\n",
       "    </tr>\n",
       "  </thead>\n",
       "  <tbody>\n",
       "    <tr>\n",
       "      <th>0</th>\n",
       "      <td>Alice</td>\n",
       "      <td>25</td>\n",
       "      <td>50000</td>\n",
       "    </tr>\n",
       "    <tr>\n",
       "      <th>1</th>\n",
       "      <td>Bob</td>\n",
       "      <td>30</td>\n",
       "      <td>60000</td>\n",
       "    </tr>\n",
       "    <tr>\n",
       "      <th>2</th>\n",
       "      <td>Charlie</td>\n",
       "      <td>35</td>\n",
       "      <td>75000</td>\n",
       "    </tr>\n",
       "  </tbody>\n",
       "</table>\n",
       "</div>"
      ],
      "text/plain": [
       "      Name Age Salary\n",
       "0    Alice  25  50000\n",
       "1      Bob  30  60000\n",
       "2  Charlie  35  75000"
      ]
     },
     "execution_count": 12,
     "metadata": {},
     "output_type": "execute_result"
    }
   ],
   "source": [
    "df1.T"
   ]
  },
  {
   "cell_type": "code",
   "execution_count": 16,
   "id": "4ae78d62",
   "metadata": {},
   "outputs": [
    {
     "name": "stdout",
     "output_type": "stream",
     "text": [
      "      Name  Age              Hobbies\n",
      "0    Alice   25    [Reading, Hiking]\n",
      "1      Bob   30            [Cooking]\n",
      "2  Charlie   35  [Gaming, Traveling]\n",
      "\n",
      "       Name  Age    Hobbies\n",
      "0    Alice   25    Reading\n",
      "0    Alice   25     Hiking\n",
      "1      Bob   30    Cooking\n",
      "2  Charlie   35     Gaming\n",
      "2  Charlie   35  Traveling\n",
      "\n",
      "       Name  Age    Hobbies\n",
      "0    Alice   25    Reading\n",
      "1    Alice   25     Hiking\n",
      "2      Bob   30    Cooking\n",
      "3  Charlie   35     Gaming\n",
      "4  Charlie   35  Traveling\n"
     ]
    }
   ],
   "source": [
    "import pandas as pd\n",
    "data = {\n",
    "    'Name': ['Alice', 'Bob', 'Charlie'],  \n",
    "    'Age': [25, 30, 35],\n",
    "    'Hobbies': [['Reading', 'Hiking'], ['Cooking'], ['Gaming', 'Traveling']]\n",
    "}\n",
    "df = pd.DataFrame(data)\n",
    "print(df)\n",
    "exploded_df = df.explode('Hobbies')\n",
    "print('\\n',exploded_df)\n",
    "exploded_df = df.explode('Hobbies',ignore_index=True)\n",
    "print('\\n',exploded_df)\n"
   ]
  }
 ],
 "metadata": {
  "kernelspec": {
   "display_name": "Python 3",
   "language": "python",
   "name": "python3"
  },
  "language_info": {
   "codemirror_mode": {
    "name": "ipython",
    "version": 3
   },
   "file_extension": ".py",
   "mimetype": "text/x-python",
   "name": "python",
   "nbconvert_exporter": "python",
   "pygments_lexer": "ipython3",
   "version": "3.13.3"
  }
 },
 "nbformat": 4,
 "nbformat_minor": 5
}

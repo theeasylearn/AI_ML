{
 "cells": [
  {
   "cell_type": "code",
   "execution_count": 19,
   "id": "d1e90d61",
   "metadata": {},
   "outputs": [
    {
     "name": "stdout",
     "output_type": "stream",
     "text": [
      "      Name  Age  Salary\n",
      "0    Alice   25   50000\n",
      "1      Bob   30   60000\n",
      "2  Charlie   35   75000\n"
     ]
    }
   ],
   "source": [
    "import pandas as pd\n",
    "data = {\n",
    "    \t'Name': ['Alice', 'Bob', 'Charlie'],\n",
    "        'Age': [25, 30, 35],\n",
    "        'Salary': [50000, 60000, 75000]\n",
    "        }\n",
    "df = pd.DataFrame(data)\n",
    "print(df.head())"
   ]
  },
  {
   "cell_type": "code",
   "execution_count": 20,
   "id": "f1309824",
   "metadata": {},
   "outputs": [
    {
     "name": "stdout",
     "output_type": "stream",
     "text": [
      "      Name  Age  Salary\n",
      "0    Alice   25   50000\n",
      "1      Bob   30   60000\n",
      "2  Charlie   35   75000\n",
      "Resulting DataFrame after salary increase and filtering:\n",
      "      Name  Age   Salary\n",
      "0    Alice   25  45000.0\n",
      "1      Bob   30  54000.0\n",
      "2  Charlie   35  67500.0\n"
     ]
    }
   ],
   "source": [
    "print(df)\n",
    "# Define a function to calculate a salary increase\n",
    "def increase_salary(df, increase_percentage):\n",
    "    df['Salary'] = df['Salary'] * (1 - increase_percentage / 100)\n",
    "    return df\n",
    "# Define a function to filter employees by age\n",
    "def filter_by_age(df, min_age):\n",
    "    return df[df['Age'] >= min_age]\n",
    "# Use of df.pipe()  \n",
    "result = (\n",
    "\t        df.pipe(increase_salary, increase_percentage=10) # Increase salary by 10%\n",
    "            .pipe(filter_by_age, min_age=18)  \t# Filter employees aged 30 and above\n",
    "\n",
    "\t)\n",
    "print(\"Resulting DataFrame after salary increase and filtering:\")\n",
    "print(result)\n"
   ]
  },
  {
   "cell_type": "code",
   "execution_count": 21,
   "id": "dc80ad73",
   "metadata": {},
   "outputs": [
    {
     "name": "stdout",
     "output_type": "stream",
     "text": [
      "      Name  Age  Salary\n",
      "0    Alice   25   50000\n",
      "1      Bob   30   60000\n",
      "2  Charlie   35   75000\n",
      "DataFrame with Total Compensation:\n",
      "      Name  Age  Salary  Bonus  Total_Compensation\n",
      "0    Alice   25   50000   5000               55000\n",
      "1      Bob   30   60000   7000               67000\n",
      "2  Charlie   35   75000   8000               83000\n"
     ]
    }
   ],
   "source": [
    "import pandas as pd\n",
    "data = {\n",
    "\t'Name': ['Alice', 'Bob', 'Charlie'],  \n",
    "        'Age': [25, 30, 35],\n",
    "\t'Salary': [50000, 60000, 75000]    \n",
    "        }\n",
    "df = pd.DataFrame(data)\n",
    "print(df)\n",
    "\n",
    "df['Bonus'] = [5000, 7000, 8000]  # Adding a Bonus column\n",
    "# Using eval to calculate Total Compensation\n",
    "# Use df.eval() to create a new column for total compensation\n",
    "df['Total_Compensation'] = df.eval('Salary + Bonus')\n",
    "print(\"DataFrame with Total Compensation:\")\n",
    "print(df)\n"
   ]
  },
  {
   "cell_type": "code",
   "execution_count": 22,
   "id": "25bd7cc3",
   "metadata": {},
   "outputs": [
    {
     "name": "stdout",
     "output_type": "stream",
     "text": [
      "      Name  Age  Salary\n",
      "0    Alice   25   50000\n",
      "1      Bob   30   60000\n",
      "2  Charlie   35   75000\n",
      "\n",
      "Filtered DataFrame (where Salary > 55000):\n",
      "      Name  Age  Salary\n",
      "0        0    0       0\n",
      "1      Bob   30   60000\n",
      "2  Charlie   35   75000\n"
     ]
    }
   ],
   "source": [
    "import pandas as pd\n",
    "data = {\n",
    "    \t'Name': ['Alice', 'Bob', 'Charlie'],\n",
    "        'Age': [25, 30, 35],\n",
    "        'Salary': [50000, 60000, 75000]\n",
    "        }\n",
    "df = pd.DataFrame(data)\n",
    "print(df)\n",
    "# Use df.where() to filter the DataFrame based on a condition\n",
    "filtered_df = df.where(df['Salary'] > 55000, other=0, axis=0)\n",
    "print(\"\\nFiltered DataFrame (where Salary > 55000):\")\n",
    "print(filtered_df)\n"
   ]
  },
  {
   "cell_type": "code",
   "execution_count": 23,
   "id": "bc2ad4b0",
   "metadata": {},
   "outputs": [
    {
     "name": "stdout",
     "output_type": "stream",
     "text": [
      "      Name  Age  Salary  Bonus\n",
      "0    Alice   25   50000   2000\n",
      "1      Bob   30   60000   3000\n",
      "2  Charlie   35   75000   4000\n",
      "\n",
      "DataFrame after clipping Salary between 55000 and 65000:\n",
      "      Name  Age  Salary  Bonus\n",
      "0    Alice   25   55000   2000\n",
      "1      Bob   30   60000   3000\n",
      "2  Charlie   35   65000   4000\n"
     ]
    }
   ],
   "source": [
    "data = {\n",
    "        'Name': ['Alice', 'Bob', 'Charlie'], \n",
    "        'Age': [25, 30, 35],\n",
    "        'Salary': [50000, 60000, 75000], \n",
    "        'Bonus': [2000, 3000, 4000]  \n",
    "        }\n",
    "df = pd.DataFrame(data)\n",
    "print(df)\n",
    "# Use df.clip() to limit the Salary to a range\n",
    "clipped_df = df.copy() \n",
    "clipped_df['Salary'] = clipped_df['Salary'].clip(lower=55000, upper=65000)\n",
    "print(\"\\nDataFrame after clipping Salary between 55000 and 65000:\")\n",
    "print(clipped_df)\n"
   ]
  },
  {
   "cell_type": "code",
   "execution_count": 24,
   "id": "cbb4b04b",
   "metadata": {},
   "outputs": [
    {
     "name": "stdout",
     "output_type": "stream",
     "text": [
      "      Name  Age  Salary  Bonus\n",
      "0    Alice   25   50000   2000\n",
      "1      Bob   30   60000   3000\n",
      "2  Charlie   35   75000   4000\n",
      "\n",
      "DataFrame after clipping Salary and Bonus between 55000 and 65000:\n",
      "      Name  Age  Salary  Bonus\n",
      "0    Alice   25   55000  55000\n",
      "1      Bob   30   60000  55000\n",
      "2  Charlie   35   65000  55000\n"
     ]
    }
   ],
   "source": [
    "# Clip both Salary and Bonus columns\n",
    "clipped_multi_df = df.copy()\n",
    "print(df)\n",
    "clipped_multi_df[['Salary', 'Bonus']] = clipped_multi_df[['Salary', 'Bonus']].clip(lower=55000, upper=65000)\n",
    "print(\"\\nDataFrame after clipping Salary and Bonus between 55000 and 65000:\")\n",
    "print(clipped_multi_df)\n"
   ]
  },
  {
   "cell_type": "code",
   "execution_count": 25,
   "id": "f1e58b18",
   "metadata": {},
   "outputs": [
    {
     "name": "stdout",
     "output_type": "stream",
     "text": [
      "      Name  Age  Salary  Bonus\n",
      "0    Alice   25   50000   2000\n",
      "1      Bob   30   60000   3000\n",
      "2  Charlie   35   75000   4000\n",
      "\n",
      "DataFrame after clipping Salary and Bonus between 55000 and 65000:\n",
      "      Name  Age  Salary  Bonus\n",
      "0    Alice   25   55000   2000\n",
      "1      Bob   30   60000   3000\n",
      "2  Charlie   35   65000   3000\n"
     ]
    }
   ],
   "source": [
    "# Clip both Salary and Bonus columns\n",
    "clipped_multi_df = df.copy()\n",
    "print(df)\n",
    "clipped_multi_df[['Salary', 'Bonus']] = clipped_multi_df[['Salary', 'Bonus']].clip(lower=[55000,2000], upper=[65000,3000])\n",
    "print(\"\\nDataFrame after clipping Salary and Bonus between 55000 and 65000:\")\n",
    "print(clipped_multi_df)\n"
   ]
  },
  {
   "cell_type": "code",
   "execution_count": 26,
   "id": "77904993",
   "metadata": {},
   "outputs": [
    {
     "name": "stdout",
     "output_type": "stream",
     "text": [
      "      Name  Age   Salary\n",
      "0    Alice   25  50000.0\n",
      "1      Bob   30  60000.0\n",
      "2  Charlie   35  75000.0\n",
      "3    Alice   25  50000.0\n",
      "4      Bob   36      NaN\n"
     ]
    }
   ],
   "source": [
    "import pandas as pd\n",
    "import numpy as np\n",
    "data = {\n",
    "    'Name': ['Alice', 'Bob', 'Charlie', 'Alice', 'Bob'],\n",
    "    'Age': [25, 30, 35, 25, 36],\n",
    "    'Salary': [50000, 60000, 75000, 50000,np.nan]  \n",
    "}\n",
    "df = pd.DataFrame(data)\n",
    "print(df)\n"
   ]
  },
  {
   "cell_type": "code",
   "execution_count": 27,
   "id": "3ea648c7",
   "metadata": {},
   "outputs": [
    {
     "name": "stdout",
     "output_type": "stream",
     "text": [
      "Name      3\n",
      "Age       4\n",
      "Salary    3\n",
      "dtype: int64\n"
     ]
    }
   ],
   "source": [
    "print(df.nunique())"
   ]
  },
  {
   "cell_type": "code",
   "execution_count": 29,
   "id": "7ca7c244",
   "metadata": {},
   "outputs": [
    {
     "name": "stdout",
     "output_type": "stream",
     "text": [
      "Name      3\n",
      "Age       4\n",
      "Salary    4\n",
      "dtype: int64\n"
     ]
    }
   ],
   "source": [
    "print(df.nunique(dropna=False))"
   ]
  },
  {
   "cell_type": "code",
   "execution_count": null,
   "id": "f570d157",
   "metadata": {},
   "outputs": [
    {
     "name": "stdout",
     "output_type": "stream",
     "text": [
      "\n",
      "Number of unique values in each column:\n",
      "Name      3\n",
      "Age       4\n",
      "Salary    3\n",
      "dtype: int64\n"
     ]
    }
   ],
   "source": [
    "unique_counts = df.nunique()\n",
    "print(\"\\nNumber of unique values in each column:\")\n",
    "print(unique_counts)"
   ]
  }
 ],
 "metadata": {
  "kernelspec": {
   "display_name": "Python 3",
   "language": "python",
   "name": "python3"
  },
  "language_info": {
   "codemirror_mode": {
    "name": "ipython",
    "version": 3
   },
   "file_extension": ".py",
   "mimetype": "text/x-python",
   "name": "python",
   "nbconvert_exporter": "python",
   "pygments_lexer": "ipython3",
   "version": "3.13.3"
  }
 },
 "nbformat": 4,
 "nbformat_minor": 5
}

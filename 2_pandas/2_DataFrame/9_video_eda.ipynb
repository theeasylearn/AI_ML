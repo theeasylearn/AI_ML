{
 "cells": [
  {
   "cell_type": "markdown",
   "id": "38bab620",
   "metadata": {},
   "source": [
    "installing library"
   ]
  },
  {
   "cell_type": "code",
   "execution_count": 75,
   "id": "fef2fa96",
   "metadata": {},
   "outputs": [],
   "source": [
    "import pandas as pd\n",
    "import numpy as np"
   ]
  },
  {
   "cell_type": "markdown",
   "id": "1fa50f55",
   "metadata": {},
   "source": [
    "Loading of database"
   ]
  },
  {
   "cell_type": "code",
   "execution_count": 76,
   "id": "384ca17b",
   "metadata": {},
   "outputs": [
    {
     "name": "stdout",
     "output_type": "stream",
     "text": [
      "                          Name Platform    Year         Genre Publisher  \\\n",
      "Rank                                                                      \n",
      "1                   Wii Sports      Wii  2006.0        Sports  Nintendo   \n",
      "2            Super Mario Bros.      NES  1985.0      Platform  Nintendo   \n",
      "3               Mario Kart Wii      Wii  2008.0        Racing  Nintendo   \n",
      "4            Wii Sports Resort      Wii  2009.0        Sports  Nintendo   \n",
      "5     Pokemon Red/Pokemon Blue       GB  1996.0  Role-Playing  Nintendo   \n",
      "\n",
      "      NA_Sales  EU_Sales  JP_Sales  Other_Sales  Global_Sales  \n",
      "Rank                                                           \n",
      "1        41.49     29.02      3.77         8.46         82.74  \n",
      "2        29.08      3.58      6.81         0.77         40.24  \n",
      "3        15.85     12.88      3.79         3.31         35.82  \n",
      "4        15.75     11.01      3.28         2.96         33.00  \n",
      "5        11.27      8.89     10.22         1.00         31.37  \n"
     ]
    }
   ],
   "source": [
    "vgs = pd.read_csv(\"../../dataset/vgsales.csv\",index_col='Rank')\n",
    "print(vgs.head())"
   ]
  },
  {
   "cell_type": "code",
   "execution_count": 77,
   "id": "1a993cea",
   "metadata": {},
   "outputs": [
    {
     "name": "stdout",
     "output_type": "stream",
     "text": [
      "                                                   Name Platform    Year  \\\n",
      "Rank                                                                       \n",
      "16596                Woody Woodpecker in Crazy Castle 5      GBA  2002.0   \n",
      "16597                     Men in Black II: Alien Escape       GC  2003.0   \n",
      "16598  SCORE International Baja 1000: The Official Game      PS2  2008.0   \n",
      "16599                                        Know How 2       DS  2010.0   \n",
      "16600                                  Spirits & Spells      GBA  2003.0   \n",
      "\n",
      "          Genre   Publisher  NA_Sales  EU_Sales  JP_Sales  Other_Sales  \\\n",
      "Rank                                                                     \n",
      "16596  Platform       Kemco      0.01      0.00       0.0          0.0   \n",
      "16597   Shooter  Infogrames      0.01      0.00       0.0          0.0   \n",
      "16598    Racing  Activision      0.00      0.00       0.0          0.0   \n",
      "16599    Puzzle    7G//AMES      0.00      0.01       0.0          0.0   \n",
      "16600  Platform     Wanadoo      0.01      0.00       0.0          0.0   \n",
      "\n",
      "       Global_Sales  \n",
      "Rank                 \n",
      "16596          0.01  \n",
      "16597          0.01  \n",
      "16598          0.01  \n",
      "16599          0.01  \n",
      "16600          0.01  \n"
     ]
    }
   ],
   "source": [
    "print(vgs.tail())"
   ]
  },
  {
   "cell_type": "code",
   "execution_count": 78,
   "id": "836167a7",
   "metadata": {},
   "outputs": [
    {
     "name": "stdout",
     "output_type": "stream",
     "text": [
      "                                                Name Platform    Year  \\\n",
      "Rank                                                                    \n",
      "6609          Super Street Fighter II: Turbo Revival      GBA  2001.0   \n",
      "11817                    SpongeBob's Truth or Square     X360  2009.0   \n",
      "5355   LEGO Pirates of the Caribbean: The Video Game      PSP  2011.0   \n",
      "2426                2010 FIFA World Cup South Africa     X360  2010.0   \n",
      "393                                 FIFA Soccer 2003      PS2  2002.0   \n",
      "7195                         Rapala's Fishing Frenzy      Wii  2008.0   \n",
      "7302                                 Over G Fighters     X360  2006.0   \n",
      "8696                               Bust-A-Move Bash!      Wii  2007.0   \n",
      "11445                            Samurai Shodown Sen     X360  2009.0   \n",
      "2157   LEGO Pirates of the Caribbean: The Video Game       DS  2011.0   \n",
      "\n",
      "            Genre                   Publisher  NA_Sales  EU_Sales  JP_Sales  \\\n",
      "Rank                                                                          \n",
      "6609     Fighting                     Ubisoft      0.18      0.07      0.00   \n",
      "11817      Action                         THQ      0.03      0.04      0.00   \n",
      "5355       Action  Disney Interactive Studios      0.11      0.15      0.00   \n",
      "2426       Sports             Electronic Arts      0.32      0.43      0.02   \n",
      "393        Sports             Electronic Arts      0.46      2.28      0.05   \n",
      "7195       Sports                  Activision      0.20      0.00      0.00   \n",
      "7302   Simulation                     Ubisoft      0.19      0.01      0.00   \n",
      "8696       Puzzle                   505 Games      0.13      0.01      0.00   \n",
      "11445    Fighting           Rising Star Games      0.07      0.01      0.00   \n",
      "2157       Action  Disney Interactive Studios      0.37      0.49      0.00   \n",
      "\n",
      "       Other_Sales  Global_Sales  \n",
      "Rank                              \n",
      "6609          0.00          0.25  \n",
      "11817         0.00          0.07  \n",
      "5355          0.08          0.34  \n",
      "2426          0.09          0.86  \n",
      "393           0.61          3.40  \n",
      "7195          0.02          0.22  \n",
      "7302          0.02          0.22  \n",
      "8696          0.01          0.16  \n",
      "11445         0.01          0.08  \n",
      "2157          0.10          0.96  \n"
     ]
    }
   ],
   "source": [
    "print(vgs.sample(10))"
   ]
  },
  {
   "cell_type": "code",
   "execution_count": 79,
   "id": "0afe25af",
   "metadata": {},
   "outputs": [
    {
     "data": {
      "application/vnd.microsoft.datawrangler.viewer.v0+json": {
       "columns": [
        {
         "name": "Rank",
         "rawType": "int64",
         "type": "integer"
        },
        {
         "name": "Name",
         "rawType": "object",
         "type": "string"
        },
        {
         "name": "Platform",
         "rawType": "object",
         "type": "string"
        },
        {
         "name": "Year",
         "rawType": "float64",
         "type": "float"
        },
        {
         "name": "Genre",
         "rawType": "object",
         "type": "string"
        },
        {
         "name": "Publisher",
         "rawType": "object",
         "type": "string"
        },
        {
         "name": "NA_Sales",
         "rawType": "float64",
         "type": "float"
        },
        {
         "name": "EU_Sales",
         "rawType": "float64",
         "type": "float"
        },
        {
         "name": "JP_Sales",
         "rawType": "float64",
         "type": "float"
        },
        {
         "name": "Other_Sales",
         "rawType": "float64",
         "type": "float"
        },
        {
         "name": "Global_Sales",
         "rawType": "float64",
         "type": "float"
        }
       ],
       "ref": "db9c0d01-6118-4bf5-934e-3841c0e84aca",
       "rows": [
        [
         "1",
         "Wii Sports",
         "Wii",
         "2006.0",
         "Sports",
         "Nintendo",
         "41.49",
         "29.02",
         "3.77",
         "8.46",
         "82.74"
        ],
        [
         "2",
         "Super Mario Bros.",
         "NES",
         "1985.0",
         "Platform",
         "Nintendo",
         "29.08",
         "3.58",
         "6.81",
         "0.77",
         "40.24"
        ],
        [
         "3",
         "Mario Kart Wii",
         "Wii",
         "2008.0",
         "Racing",
         "Nintendo",
         "15.85",
         "12.88",
         "3.79",
         "3.31",
         "35.82"
        ],
        [
         "4",
         "Wii Sports Resort",
         "Wii",
         "2009.0",
         "Sports",
         "Nintendo",
         "15.75",
         "11.01",
         "3.28",
         "2.96",
         "33.0"
        ],
        [
         "5",
         "Pokemon Red/Pokemon Blue",
         "GB",
         "1996.0",
         "Role-Playing",
         "Nintendo",
         "11.27",
         "8.89",
         "10.22",
         "1.0",
         "31.37"
        ],
        [
         "6",
         "Tetris",
         "GB",
         "1989.0",
         "Puzzle",
         "Nintendo",
         "23.2",
         "2.26",
         "4.22",
         "0.58",
         "30.26"
        ],
        [
         "7",
         "New Super Mario Bros.",
         "DS",
         "2006.0",
         "Platform",
         "Nintendo",
         "11.38",
         "9.23",
         "6.5",
         "2.9",
         "30.01"
        ],
        [
         "8",
         "Wii Play",
         "Wii",
         "2006.0",
         "Misc",
         "Nintendo",
         "14.03",
         "9.2",
         "2.93",
         "2.85",
         "29.02"
        ],
        [
         "9",
         "New Super Mario Bros. Wii",
         "Wii",
         "2009.0",
         "Platform",
         "Nintendo",
         "14.59",
         "7.06",
         "4.7",
         "2.26",
         "28.62"
        ],
        [
         "10",
         "Duck Hunt",
         "NES",
         "1984.0",
         "Shooter",
         "Nintendo",
         "26.93",
         "0.63",
         "0.28",
         "0.47",
         "28.31"
        ]
       ],
       "shape": {
        "columns": 10,
        "rows": 10
       }
      },
      "text/html": [
       "<div>\n",
       "<style scoped>\n",
       "    .dataframe tbody tr th:only-of-type {\n",
       "        vertical-align: middle;\n",
       "    }\n",
       "\n",
       "    .dataframe tbody tr th {\n",
       "        vertical-align: top;\n",
       "    }\n",
       "\n",
       "    .dataframe thead th {\n",
       "        text-align: right;\n",
       "    }\n",
       "</style>\n",
       "<table border=\"1\" class=\"dataframe\">\n",
       "  <thead>\n",
       "    <tr style=\"text-align: right;\">\n",
       "      <th></th>\n",
       "      <th>Name</th>\n",
       "      <th>Platform</th>\n",
       "      <th>Year</th>\n",
       "      <th>Genre</th>\n",
       "      <th>Publisher</th>\n",
       "      <th>NA_Sales</th>\n",
       "      <th>EU_Sales</th>\n",
       "      <th>JP_Sales</th>\n",
       "      <th>Other_Sales</th>\n",
       "      <th>Global_Sales</th>\n",
       "    </tr>\n",
       "    <tr>\n",
       "      <th>Rank</th>\n",
       "      <th></th>\n",
       "      <th></th>\n",
       "      <th></th>\n",
       "      <th></th>\n",
       "      <th></th>\n",
       "      <th></th>\n",
       "      <th></th>\n",
       "      <th></th>\n",
       "      <th></th>\n",
       "      <th></th>\n",
       "    </tr>\n",
       "  </thead>\n",
       "  <tbody>\n",
       "    <tr>\n",
       "      <th>1</th>\n",
       "      <td>Wii Sports</td>\n",
       "      <td>Wii</td>\n",
       "      <td>2006.0</td>\n",
       "      <td>Sports</td>\n",
       "      <td>Nintendo</td>\n",
       "      <td>41.49</td>\n",
       "      <td>29.02</td>\n",
       "      <td>3.77</td>\n",
       "      <td>8.46</td>\n",
       "      <td>82.74</td>\n",
       "    </tr>\n",
       "    <tr>\n",
       "      <th>2</th>\n",
       "      <td>Super Mario Bros.</td>\n",
       "      <td>NES</td>\n",
       "      <td>1985.0</td>\n",
       "      <td>Platform</td>\n",
       "      <td>Nintendo</td>\n",
       "      <td>29.08</td>\n",
       "      <td>3.58</td>\n",
       "      <td>6.81</td>\n",
       "      <td>0.77</td>\n",
       "      <td>40.24</td>\n",
       "    </tr>\n",
       "    <tr>\n",
       "      <th>3</th>\n",
       "      <td>Mario Kart Wii</td>\n",
       "      <td>Wii</td>\n",
       "      <td>2008.0</td>\n",
       "      <td>Racing</td>\n",
       "      <td>Nintendo</td>\n",
       "      <td>15.85</td>\n",
       "      <td>12.88</td>\n",
       "      <td>3.79</td>\n",
       "      <td>3.31</td>\n",
       "      <td>35.82</td>\n",
       "    </tr>\n",
       "    <tr>\n",
       "      <th>4</th>\n",
       "      <td>Wii Sports Resort</td>\n",
       "      <td>Wii</td>\n",
       "      <td>2009.0</td>\n",
       "      <td>Sports</td>\n",
       "      <td>Nintendo</td>\n",
       "      <td>15.75</td>\n",
       "      <td>11.01</td>\n",
       "      <td>3.28</td>\n",
       "      <td>2.96</td>\n",
       "      <td>33.00</td>\n",
       "    </tr>\n",
       "    <tr>\n",
       "      <th>5</th>\n",
       "      <td>Pokemon Red/Pokemon Blue</td>\n",
       "      <td>GB</td>\n",
       "      <td>1996.0</td>\n",
       "      <td>Role-Playing</td>\n",
       "      <td>Nintendo</td>\n",
       "      <td>11.27</td>\n",
       "      <td>8.89</td>\n",
       "      <td>10.22</td>\n",
       "      <td>1.00</td>\n",
       "      <td>31.37</td>\n",
       "    </tr>\n",
       "    <tr>\n",
       "      <th>6</th>\n",
       "      <td>Tetris</td>\n",
       "      <td>GB</td>\n",
       "      <td>1989.0</td>\n",
       "      <td>Puzzle</td>\n",
       "      <td>Nintendo</td>\n",
       "      <td>23.20</td>\n",
       "      <td>2.26</td>\n",
       "      <td>4.22</td>\n",
       "      <td>0.58</td>\n",
       "      <td>30.26</td>\n",
       "    </tr>\n",
       "    <tr>\n",
       "      <th>7</th>\n",
       "      <td>New Super Mario Bros.</td>\n",
       "      <td>DS</td>\n",
       "      <td>2006.0</td>\n",
       "      <td>Platform</td>\n",
       "      <td>Nintendo</td>\n",
       "      <td>11.38</td>\n",
       "      <td>9.23</td>\n",
       "      <td>6.50</td>\n",
       "      <td>2.90</td>\n",
       "      <td>30.01</td>\n",
       "    </tr>\n",
       "    <tr>\n",
       "      <th>8</th>\n",
       "      <td>Wii Play</td>\n",
       "      <td>Wii</td>\n",
       "      <td>2006.0</td>\n",
       "      <td>Misc</td>\n",
       "      <td>Nintendo</td>\n",
       "      <td>14.03</td>\n",
       "      <td>9.20</td>\n",
       "      <td>2.93</td>\n",
       "      <td>2.85</td>\n",
       "      <td>29.02</td>\n",
       "    </tr>\n",
       "    <tr>\n",
       "      <th>9</th>\n",
       "      <td>New Super Mario Bros. Wii</td>\n",
       "      <td>Wii</td>\n",
       "      <td>2009.0</td>\n",
       "      <td>Platform</td>\n",
       "      <td>Nintendo</td>\n",
       "      <td>14.59</td>\n",
       "      <td>7.06</td>\n",
       "      <td>4.70</td>\n",
       "      <td>2.26</td>\n",
       "      <td>28.62</td>\n",
       "    </tr>\n",
       "    <tr>\n",
       "      <th>10</th>\n",
       "      <td>Duck Hunt</td>\n",
       "      <td>NES</td>\n",
       "      <td>1984.0</td>\n",
       "      <td>Shooter</td>\n",
       "      <td>Nintendo</td>\n",
       "      <td>26.93</td>\n",
       "      <td>0.63</td>\n",
       "      <td>0.28</td>\n",
       "      <td>0.47</td>\n",
       "      <td>28.31</td>\n",
       "    </tr>\n",
       "  </tbody>\n",
       "</table>\n",
       "</div>"
      ],
      "text/plain": [
       "                           Name Platform    Year         Genre Publisher  \\\n",
       "Rank                                                                       \n",
       "1                    Wii Sports      Wii  2006.0        Sports  Nintendo   \n",
       "2             Super Mario Bros.      NES  1985.0      Platform  Nintendo   \n",
       "3                Mario Kart Wii      Wii  2008.0        Racing  Nintendo   \n",
       "4             Wii Sports Resort      Wii  2009.0        Sports  Nintendo   \n",
       "5      Pokemon Red/Pokemon Blue       GB  1996.0  Role-Playing  Nintendo   \n",
       "6                        Tetris       GB  1989.0        Puzzle  Nintendo   \n",
       "7         New Super Mario Bros.       DS  2006.0      Platform  Nintendo   \n",
       "8                      Wii Play      Wii  2006.0          Misc  Nintendo   \n",
       "9     New Super Mario Bros. Wii      Wii  2009.0      Platform  Nintendo   \n",
       "10                    Duck Hunt      NES  1984.0       Shooter  Nintendo   \n",
       "\n",
       "      NA_Sales  EU_Sales  JP_Sales  Other_Sales  Global_Sales  \n",
       "Rank                                                           \n",
       "1        41.49     29.02      3.77         8.46         82.74  \n",
       "2        29.08      3.58      6.81         0.77         40.24  \n",
       "3        15.85     12.88      3.79         3.31         35.82  \n",
       "4        15.75     11.01      3.28         2.96         33.00  \n",
       "5        11.27      8.89     10.22         1.00         31.37  \n",
       "6        23.20      2.26      4.22         0.58         30.26  \n",
       "7        11.38      9.23      6.50         2.90         30.01  \n",
       "8        14.03      9.20      2.93         2.85         29.02  \n",
       "9        14.59      7.06      4.70         2.26         28.62  \n",
       "10       26.93      0.63      0.28         0.47         28.31  "
      ]
     },
     "execution_count": 79,
     "metadata": {},
     "output_type": "execute_result"
    }
   ],
   "source": [
    "vgs.sort_index(na_position='first',inplace=True)\n",
    "vgs.head(10)"
   ]
  },
  {
   "cell_type": "code",
   "execution_count": 80,
   "id": "ac44feb9",
   "metadata": {},
   "outputs": [
    {
     "data": {
      "text/plain": [
       "Index(['Name', 'Platform', 'Year', 'Genre', 'Publisher', 'NA_Sales',\n",
       "       'EU_Sales', 'JP_Sales', 'Other_Sales', 'Global_Sales'],\n",
       "      dtype='object')"
      ]
     },
     "execution_count": 80,
     "metadata": {},
     "output_type": "execute_result"
    }
   ],
   "source": [
    "vgs.columns"
   ]
  },
  {
   "cell_type": "code",
   "execution_count": 91,
   "id": "6fac420f",
   "metadata": {},
   "outputs": [
    {
     "name": "stdout",
     "output_type": "stream",
     "text": [
      "Name            11493\n",
      "Platform           31\n",
      "Year               39\n",
      "Genre              12\n",
      "Publisher         578\n",
      "NA_Sales          409\n",
      "EU_Sales          305\n",
      "JP_Sales          244\n",
      "Other_Sales       157\n",
      "Global_Sales      623\n",
      "dtype: int64\n"
     ]
    }
   ],
   "source": [
    "print(vgs.nunique(dropna=True))"
   ]
  },
  {
   "cell_type": "code",
   "execution_count": 81,
   "id": "f71c66dd",
   "metadata": {},
   "outputs": [
    {
     "data": {
      "text/plain": [
       "165980"
      ]
     },
     "execution_count": 81,
     "metadata": {},
     "output_type": "execute_result"
    }
   ],
   "source": [
    "vgs.size"
   ]
  },
  {
   "cell_type": "code",
   "execution_count": 82,
   "id": "05766a66",
   "metadata": {},
   "outputs": [
    {
     "data": {
      "text/plain": [
       "(16598, 10)"
      ]
     },
     "execution_count": 82,
     "metadata": {},
     "output_type": "execute_result"
    }
   ],
   "source": [
    "vgs.shape"
   ]
  },
  {
   "cell_type": "code",
   "execution_count": 83,
   "id": "098ce440",
   "metadata": {},
   "outputs": [
    {
     "name": "stdout",
     "output_type": "stream",
     "text": [
      "<class 'pandas.core.frame.DataFrame'>\n",
      "Index: 16598 entries, 1 to 16600\n",
      "Data columns (total 10 columns):\n",
      " #   Column        Non-Null Count  Dtype  \n",
      "---  ------        --------------  -----  \n",
      " 0   Name          16598 non-null  object \n",
      " 1   Platform      16598 non-null  object \n",
      " 2   Year          16327 non-null  float64\n",
      " 3   Genre         16598 non-null  object \n",
      " 4   Publisher     16540 non-null  object \n",
      " 5   NA_Sales      16598 non-null  float64\n",
      " 6   EU_Sales      16598 non-null  float64\n",
      " 7   JP_Sales      16598 non-null  float64\n",
      " 8   Other_Sales   16598 non-null  float64\n",
      " 9   Global_Sales  16598 non-null  float64\n",
      "dtypes: float64(6), object(4)\n",
      "memory usage: 1.4+ MB\n"
     ]
    }
   ],
   "source": [
    "vgs.info()"
   ]
  },
  {
   "cell_type": "code",
   "execution_count": 84,
   "id": "8e0b0abe",
   "metadata": {},
   "outputs": [
    {
     "name": "stdout",
     "output_type": "stream",
     "text": [
      "               Year      NA_Sales      EU_Sales      JP_Sales   Other_Sales  \\\n",
      "count  16327.000000  16598.000000  16598.000000  16598.000000  16598.000000   \n",
      "mean    2006.406443      0.264667      0.146652      0.077782      0.048063   \n",
      "std        5.828981      0.816683      0.505351      0.309291      0.188588   \n",
      "min     1980.000000      0.000000      0.000000      0.000000      0.000000   \n",
      "25%     2003.000000      0.000000      0.000000      0.000000      0.000000   \n",
      "50%     2007.000000      0.080000      0.020000      0.000000      0.010000   \n",
      "75%     2010.000000      0.240000      0.110000      0.040000      0.040000   \n",
      "max     2020.000000     41.490000     29.020000     10.220000     10.570000   \n",
      "\n",
      "       Global_Sales  \n",
      "count  16598.000000  \n",
      "mean       0.537441  \n",
      "std        1.555028  \n",
      "min        0.010000  \n",
      "25%        0.060000  \n",
      "50%        0.170000  \n",
      "75%        0.470000  \n",
      "max       82.740000  \n"
     ]
    }
   ],
   "source": [
    "print(vgs.describe())"
   ]
  },
  {
   "cell_type": "code",
   "execution_count": 85,
   "id": "3886870a",
   "metadata": {},
   "outputs": [
    {
     "data": {
      "application/vnd.microsoft.datawrangler.viewer.v0+json": {
       "columns": [
        {
         "name": "index",
         "rawType": "object",
         "type": "string"
        },
        {
         "name": "0",
         "rawType": "int64",
         "type": "integer"
        }
       ],
       "ref": "7bf69791-e61b-4576-bef1-1dc928447528",
       "rows": [
        [
         "Name",
         "11493"
        ],
        [
         "Platform",
         "31"
        ],
        [
         "Year",
         "39"
        ],
        [
         "Genre",
         "12"
        ],
        [
         "Publisher",
         "578"
        ],
        [
         "NA_Sales",
         "409"
        ],
        [
         "EU_Sales",
         "305"
        ],
        [
         "JP_Sales",
         "244"
        ],
        [
         "Other_Sales",
         "157"
        ],
        [
         "Global_Sales",
         "623"
        ]
       ],
       "shape": {
        "columns": 1,
        "rows": 10
       }
      },
      "text/plain": [
       "Name            11493\n",
       "Platform           31\n",
       "Year               39\n",
       "Genre              12\n",
       "Publisher         578\n",
       "NA_Sales          409\n",
       "EU_Sales          305\n",
       "JP_Sales          244\n",
       "Other_Sales       157\n",
       "Global_Sales      623\n",
       "dtype: int64"
      ]
     },
     "execution_count": 85,
     "metadata": {},
     "output_type": "execute_result"
    }
   ],
   "source": [
    "vgs.nunique(dropna=True)"
   ]
  },
  {
   "cell_type": "code",
   "execution_count": 86,
   "id": "a5a8f307",
   "metadata": {},
   "outputs": [],
   "source": [
    "vgs['Year'] = vgs['Year'].convert_dtypes(int)"
   ]
  },
  {
   "cell_type": "code",
   "execution_count": 87,
   "id": "786e2028",
   "metadata": {},
   "outputs": [
    {
     "name": "stdout",
     "output_type": "stream",
     "text": [
      "<class 'pandas.core.frame.DataFrame'>\n",
      "Index: 16598 entries, 1 to 16600\n",
      "Data columns (total 10 columns):\n",
      " #   Column        Non-Null Count  Dtype  \n",
      "---  ------        --------------  -----  \n",
      " 0   Name          16598 non-null  object \n",
      " 1   Platform      16598 non-null  object \n",
      " 2   Year          16327 non-null  Int64  \n",
      " 3   Genre         16598 non-null  object \n",
      " 4   Publisher     16540 non-null  object \n",
      " 5   NA_Sales      16598 non-null  float64\n",
      " 6   EU_Sales      16598 non-null  float64\n",
      " 7   JP_Sales      16598 non-null  float64\n",
      " 8   Other_Sales   16598 non-null  float64\n",
      " 9   Global_Sales  16598 non-null  float64\n",
      "dtypes: Int64(1), float64(5), object(4)\n",
      "memory usage: 1.4+ MB\n",
      "None\n"
     ]
    }
   ],
   "source": [
    "print(vgs.info())"
   ]
  },
  {
   "cell_type": "code",
   "execution_count": 88,
   "id": "c7a6b1b4",
   "metadata": {},
   "outputs": [
    {
     "name": "stdout",
     "output_type": "stream",
     "text": [
      "                                                   Name Platform  Year  \\\n",
      "Rank                                                                     \n",
      "1                                            Wii Sports      Wii  2006   \n",
      "2                                     Super Mario Bros.      NES  1985   \n",
      "3                                        Mario Kart Wii      Wii  2008   \n",
      "4                                     Wii Sports Resort      Wii  2009   \n",
      "5                              Pokemon Red/Pokemon Blue       GB  1996   \n",
      "...                                                 ...      ...   ...   \n",
      "16596                Woody Woodpecker in Crazy Castle 5      GBA  2002   \n",
      "16597                     Men in Black II: Alien Escape       GC  2003   \n",
      "16598  SCORE International Baja 1000: The Official Game      PS2  2008   \n",
      "16599                                        Know How 2       DS  2010   \n",
      "16600                                  Spirits & Spells      GBA  2003   \n",
      "\n",
      "              Genre   Publisher  NA_Sales  EU_Sales  JP_Sales  Other_Sales  \\\n",
      "Rank                                                                         \n",
      "1            Sports    Nintendo     41.49     29.02      3.77         8.46   \n",
      "2          Platform    Nintendo     29.08      3.58      6.81         0.77   \n",
      "3            Racing    Nintendo     15.85     12.88      3.79         3.31   \n",
      "4            Sports    Nintendo     15.75     11.01      3.28         2.96   \n",
      "5      Role-Playing    Nintendo     11.27      8.89     10.22         1.00   \n",
      "...             ...         ...       ...       ...       ...          ...   \n",
      "16596      Platform       Kemco      0.01      0.00      0.00         0.00   \n",
      "16597       Shooter  Infogrames      0.01      0.00      0.00         0.00   \n",
      "16598        Racing  Activision      0.00      0.00      0.00         0.00   \n",
      "16599        Puzzle    7G//AMES      0.00      0.01      0.00         0.00   \n",
      "16600      Platform     Wanadoo      0.01      0.00      0.00         0.00   \n",
      "\n",
      "       Global_Sales  \n",
      "Rank                 \n",
      "1             82.74  \n",
      "2             40.24  \n",
      "3             35.82  \n",
      "4             33.00  \n",
      "5             31.37  \n",
      "...             ...  \n",
      "16596          0.01  \n",
      "16597          0.01  \n",
      "16598          0.01  \n",
      "16599          0.01  \n",
      "16600          0.01  \n",
      "\n",
      "[16597 rows x 10 columns]\n"
     ]
    }
   ],
   "source": [
    "vgs.drop_duplicates(inplace=True)\n",
    "print(vgs)"
   ]
  },
  {
   "cell_type": "code",
   "execution_count": 89,
   "id": "68f03996",
   "metadata": {},
   "outputs": [
    {
     "data": {
      "text/plain": [
       "(16597, 10)"
      ]
     },
     "execution_count": 89,
     "metadata": {},
     "output_type": "execute_result"
    }
   ],
   "source": [
    "vgs.shape"
   ]
  },
  {
   "cell_type": "code",
   "execution_count": 90,
   "id": "8147bf48",
   "metadata": {},
   "outputs": [
    {
     "data": {
      "application/vnd.microsoft.datawrangler.viewer.v0+json": {
       "columns": [
        {
         "name": "Rank",
         "rawType": "int64",
         "type": "integer"
        },
        {
         "name": "Name",
         "rawType": "object",
         "type": "string"
        },
        {
         "name": "Platform",
         "rawType": "object",
         "type": "string"
        },
        {
         "name": "Year",
         "rawType": "Int64",
         "type": "integer"
        },
        {
         "name": "Genre",
         "rawType": "object",
         "type": "string"
        },
        {
         "name": "Publisher",
         "rawType": "object",
         "type": "unknown"
        },
        {
         "name": "NA_Sales",
         "rawType": "float64",
         "type": "float"
        },
        {
         "name": "EU_Sales",
         "rawType": "float64",
         "type": "float"
        },
        {
         "name": "JP_Sales",
         "rawType": "float64",
         "type": "float"
        },
        {
         "name": "Other_Sales",
         "rawType": "float64",
         "type": "float"
        },
        {
         "name": "Global_Sales",
         "rawType": "float64",
         "type": "float"
        }
       ],
       "ref": "5a5f956e-5c7b-47c6-81fb-ecfa511f77d5",
       "rows": [
        [
         "1",
         "Wii Sports",
         "Wii",
         "2006",
         "Sports",
         "Nintendo",
         "41.49",
         "29.02",
         "3.77",
         "8.46",
         "82.74"
        ],
        [
         "2",
         "Super Mario Bros.",
         "NES",
         "1985",
         "Platform",
         "Nintendo",
         "29.08",
         "3.58",
         "6.81",
         "0.77",
         "40.24"
        ],
        [
         "3",
         "Mario Kart Wii",
         "Wii",
         "2008",
         "Racing",
         "Nintendo",
         "15.85",
         "12.88",
         "3.79",
         "3.31",
         "35.82"
        ],
        [
         "4",
         "Wii Sports Resort",
         "Wii",
         "2009",
         "Sports",
         "Nintendo",
         "15.75",
         "11.01",
         "3.28",
         "2.96",
         "33.0"
        ],
        [
         "5",
         "Pokemon Red/Pokemon Blue",
         "GB",
         "1996",
         "Role-Playing",
         "Nintendo",
         "11.27",
         "8.89",
         "10.22",
         "1.0",
         "31.37"
        ],
        [
         "6",
         "Tetris",
         "GB",
         "1989",
         "Puzzle",
         "Nintendo",
         "23.2",
         "2.26",
         "4.22",
         "0.58",
         "30.26"
        ],
        [
         "7",
         "New Super Mario Bros.",
         "DS",
         "2006",
         "Platform",
         "Nintendo",
         "11.38",
         "9.23",
         "6.5",
         "2.9",
         "30.01"
        ],
        [
         "8",
         "Wii Play",
         "Wii",
         "2006",
         "Misc",
         "Nintendo",
         "14.03",
         "9.2",
         "2.93",
         "2.85",
         "29.02"
        ],
        [
         "9",
         "New Super Mario Bros. Wii",
         "Wii",
         "2009",
         "Platform",
         "Nintendo",
         "14.59",
         "7.06",
         "4.7",
         "2.26",
         "28.62"
        ],
        [
         "10",
         "Duck Hunt",
         "NES",
         "1984",
         "Shooter",
         "Nintendo",
         "26.93",
         "0.63",
         "0.28",
         "0.47",
         "28.31"
        ],
        [
         "11",
         "Nintendogs",
         "DS",
         "2005",
         "Simulation",
         "Nintendo",
         "9.07",
         "11.0",
         "1.93",
         "2.75",
         "24.76"
        ],
        [
         "12",
         "Mario Kart DS",
         "DS",
         "2005",
         "Racing",
         "Nintendo",
         "9.81",
         "7.57",
         "4.13",
         "1.92",
         "23.42"
        ],
        [
         "13",
         "Pokemon Gold/Pokemon Silver",
         "GB",
         "1999",
         "Role-Playing",
         "Nintendo",
         "9.0",
         "6.18",
         "7.2",
         "0.71",
         "23.1"
        ],
        [
         "14",
         "Wii Fit",
         "Wii",
         "2007",
         "Sports",
         "Nintendo",
         "8.94",
         "8.03",
         "3.6",
         "2.15",
         "22.72"
        ],
        [
         "15",
         "Wii Fit Plus",
         "Wii",
         "2009",
         "Sports",
         "Nintendo",
         "9.09",
         "8.59",
         "2.53",
         "1.79",
         "22.0"
        ],
        [
         "16",
         "Kinect Adventures!",
         "X360",
         "2010",
         "Misc",
         "Microsoft Game Studios",
         "14.97",
         "4.94",
         "0.24",
         "1.67",
         "21.82"
        ],
        [
         "17",
         "Grand Theft Auto V",
         "PS3",
         "2013",
         "Action",
         "Take-Two Interactive",
         "7.01",
         "9.27",
         "0.97",
         "4.14",
         "21.4"
        ],
        [
         "18",
         "Grand Theft Auto: San Andreas",
         "PS2",
         "2004",
         "Action",
         "Take-Two Interactive",
         "9.43",
         "0.4",
         "0.41",
         "10.57",
         "20.81"
        ],
        [
         "19",
         "Super Mario World",
         "SNES",
         "1990",
         "Platform",
         "Nintendo",
         "12.78",
         "3.75",
         "3.54",
         "0.55",
         "20.61"
        ],
        [
         "20",
         "Brain Age: Train Your Brain in Minutes a Day",
         "DS",
         "2005",
         "Misc",
         "Nintendo",
         "4.75",
         "9.26",
         "4.16",
         "2.05",
         "20.22"
        ],
        [
         "21",
         "Pokemon Diamond/Pokemon Pearl",
         "DS",
         "2006",
         "Role-Playing",
         "Nintendo",
         "6.42",
         "4.52",
         "6.04",
         "1.37",
         "18.36"
        ],
        [
         "22",
         "Super Mario Land",
         "GB",
         "1989",
         "Platform",
         "Nintendo",
         "10.83",
         "2.71",
         "4.18",
         "0.42",
         "18.14"
        ],
        [
         "23",
         "Super Mario Bros. 3",
         "NES",
         "1988",
         "Platform",
         "Nintendo",
         "9.54",
         "3.44",
         "3.84",
         "0.46",
         "17.28"
        ],
        [
         "24",
         "Grand Theft Auto V",
         "X360",
         "2013",
         "Action",
         "Take-Two Interactive",
         "9.63",
         "5.31",
         "0.06",
         "1.38",
         "16.38"
        ],
        [
         "25",
         "Grand Theft Auto: Vice City",
         "PS2",
         "2002",
         "Action",
         "Take-Two Interactive",
         "8.41",
         "5.49",
         "0.47",
         "1.78",
         "16.15"
        ],
        [
         "26",
         "Pokemon Ruby/Pokemon Sapphire",
         "GBA",
         "2002",
         "Role-Playing",
         "Nintendo",
         "6.06",
         "3.9",
         "5.38",
         "0.5",
         "15.85"
        ],
        [
         "27",
         "Pokemon Black/Pokemon White",
         "DS",
         "2010",
         "Role-Playing",
         "Nintendo",
         "5.57",
         "3.28",
         "5.65",
         "0.82",
         "15.32"
        ],
        [
         "28",
         "Brain Age 2: More Training in Minutes a Day",
         "DS",
         "2005",
         "Puzzle",
         "Nintendo",
         "3.44",
         "5.36",
         "5.32",
         "1.18",
         "15.3"
        ],
        [
         "29",
         "Gran Turismo 3: A-Spec",
         "PS2",
         "2001",
         "Racing",
         "Sony Computer Entertainment",
         "6.85",
         "5.09",
         "1.87",
         "1.16",
         "14.98"
        ],
        [
         "30",
         "Call of Duty: Modern Warfare 3",
         "X360",
         "2011",
         "Shooter",
         "Activision",
         "9.03",
         "4.28",
         "0.13",
         "1.32",
         "14.76"
        ],
        [
         "31",
         "Pokémon Yellow: Special Pikachu Edition",
         "GB",
         "1998",
         "Role-Playing",
         "Nintendo",
         "5.89",
         "5.04",
         "3.12",
         "0.59",
         "14.64"
        ],
        [
         "32",
         "Call of Duty: Black Ops",
         "X360",
         "2010",
         "Shooter",
         "Activision",
         "9.67",
         "3.73",
         "0.11",
         "1.13",
         "14.64"
        ],
        [
         "33",
         "Pokemon X/Pokemon Y",
         "3DS",
         "2013",
         "Role-Playing",
         "Nintendo",
         "5.17",
         "4.05",
         "4.34",
         "0.79",
         "14.35"
        ],
        [
         "34",
         "Call of Duty: Black Ops 3",
         "PS4",
         "2015",
         "Shooter",
         "Activision",
         "5.77",
         "5.81",
         "0.35",
         "2.31",
         "14.24"
        ],
        [
         "35",
         "Call of Duty: Black Ops II",
         "PS3",
         "2012",
         "Shooter",
         "Activision",
         "4.99",
         "5.88",
         "0.65",
         "2.52",
         "14.03"
        ],
        [
         "36",
         "Call of Duty: Black Ops II",
         "X360",
         "2012",
         "Shooter",
         "Activision",
         "8.25",
         "4.3",
         "0.07",
         "1.12",
         "13.73"
        ],
        [
         "37",
         "Call of Duty: Modern Warfare 2",
         "X360",
         "2009",
         "Shooter",
         "Activision",
         "8.52",
         "3.63",
         "0.08",
         "1.29",
         "13.51"
        ],
        [
         "38",
         "Call of Duty: Modern Warfare 3",
         "PS3",
         "2011",
         "Shooter",
         "Activision",
         "5.54",
         "5.82",
         "0.49",
         "1.62",
         "13.46"
        ],
        [
         "39",
         "Grand Theft Auto III",
         "PS2",
         "2001",
         "Action",
         "Take-Two Interactive",
         "6.99",
         "4.51",
         "0.3",
         "1.3",
         "13.1"
        ],
        [
         "40",
         "Super Smash Bros. Brawl",
         "Wii",
         "2008",
         "Fighting",
         "Nintendo",
         "6.75",
         "2.61",
         "2.66",
         "1.02",
         "13.04"
        ],
        [
         "41",
         "Call of Duty: Black Ops",
         "PS3",
         "2010",
         "Shooter",
         "Activision",
         "5.98",
         "4.44",
         "0.48",
         "1.83",
         "12.73"
        ],
        [
         "42",
         "Animal Crossing: Wild World",
         "DS",
         "2005",
         "Simulation",
         "Nintendo",
         "2.55",
         "3.52",
         "5.33",
         "0.88",
         "12.27"
        ],
        [
         "43",
         "Mario Kart 7",
         "3DS",
         "2011",
         "Racing",
         "Nintendo",
         "4.74",
         "3.91",
         "2.67",
         "0.89",
         "12.21"
        ],
        [
         "44",
         "Halo 3",
         "X360",
         "2007",
         "Shooter",
         "Microsoft Game Studios",
         "7.97",
         "2.83",
         "0.13",
         "1.21",
         "12.14"
        ],
        [
         "45",
         "Grand Theft Auto V",
         "PS4",
         "2014",
         "Action",
         "Take-Two Interactive",
         "3.8",
         "5.81",
         "0.36",
         "2.02",
         "11.98"
        ],
        [
         "46",
         "Pokemon HeartGold/Pokemon SoulSilver",
         "DS",
         "2009",
         "Action",
         "Nintendo",
         "4.4",
         "2.77",
         "3.96",
         "0.77",
         "11.9"
        ],
        [
         "47",
         "Super Mario 64",
         "N64",
         "1996",
         "Platform",
         "Nintendo",
         "6.91",
         "2.85",
         "1.91",
         "0.23",
         "11.89"
        ],
        [
         "48",
         "Gran Turismo 4",
         "PS2",
         "2004",
         "Racing",
         "Sony Computer Entertainment",
         "3.01",
         "0.01",
         "1.1",
         "7.53",
         "11.66"
        ],
        [
         "49",
         "Super Mario Galaxy",
         "Wii",
         "2007",
         "Platform",
         "Nintendo",
         "6.16",
         "3.4",
         "1.2",
         "0.76",
         "11.52"
        ],
        [
         "50",
         "Pokemon Omega Ruby/Pokemon Alpha Sapphire",
         "3DS",
         "2014",
         "Role-Playing",
         "Nintendo",
         "4.23",
         "3.37",
         "3.08",
         "0.65",
         "11.33"
        ]
       ],
       "shape": {
        "columns": 10,
        "rows": 16597
       }
      },
      "text/html": [
       "<div>\n",
       "<style scoped>\n",
       "    .dataframe tbody tr th:only-of-type {\n",
       "        vertical-align: middle;\n",
       "    }\n",
       "\n",
       "    .dataframe tbody tr th {\n",
       "        vertical-align: top;\n",
       "    }\n",
       "\n",
       "    .dataframe thead th {\n",
       "        text-align: right;\n",
       "    }\n",
       "</style>\n",
       "<table border=\"1\" class=\"dataframe\">\n",
       "  <thead>\n",
       "    <tr style=\"text-align: right;\">\n",
       "      <th></th>\n",
       "      <th>Name</th>\n",
       "      <th>Platform</th>\n",
       "      <th>Year</th>\n",
       "      <th>Genre</th>\n",
       "      <th>Publisher</th>\n",
       "      <th>NA_Sales</th>\n",
       "      <th>EU_Sales</th>\n",
       "      <th>JP_Sales</th>\n",
       "      <th>Other_Sales</th>\n",
       "      <th>Global_Sales</th>\n",
       "    </tr>\n",
       "    <tr>\n",
       "      <th>Rank</th>\n",
       "      <th></th>\n",
       "      <th></th>\n",
       "      <th></th>\n",
       "      <th></th>\n",
       "      <th></th>\n",
       "      <th></th>\n",
       "      <th></th>\n",
       "      <th></th>\n",
       "      <th></th>\n",
       "      <th></th>\n",
       "    </tr>\n",
       "  </thead>\n",
       "  <tbody>\n",
       "    <tr>\n",
       "      <th>1</th>\n",
       "      <td>Wii Sports</td>\n",
       "      <td>Wii</td>\n",
       "      <td>2006</td>\n",
       "      <td>Sports</td>\n",
       "      <td>Nintendo</td>\n",
       "      <td>41.49</td>\n",
       "      <td>29.02</td>\n",
       "      <td>3.77</td>\n",
       "      <td>8.46</td>\n",
       "      <td>82.74</td>\n",
       "    </tr>\n",
       "    <tr>\n",
       "      <th>2</th>\n",
       "      <td>Super Mario Bros.</td>\n",
       "      <td>NES</td>\n",
       "      <td>1985</td>\n",
       "      <td>Platform</td>\n",
       "      <td>Nintendo</td>\n",
       "      <td>29.08</td>\n",
       "      <td>3.58</td>\n",
       "      <td>6.81</td>\n",
       "      <td>0.77</td>\n",
       "      <td>40.24</td>\n",
       "    </tr>\n",
       "    <tr>\n",
       "      <th>3</th>\n",
       "      <td>Mario Kart Wii</td>\n",
       "      <td>Wii</td>\n",
       "      <td>2008</td>\n",
       "      <td>Racing</td>\n",
       "      <td>Nintendo</td>\n",
       "      <td>15.85</td>\n",
       "      <td>12.88</td>\n",
       "      <td>3.79</td>\n",
       "      <td>3.31</td>\n",
       "      <td>35.82</td>\n",
       "    </tr>\n",
       "    <tr>\n",
       "      <th>4</th>\n",
       "      <td>Wii Sports Resort</td>\n",
       "      <td>Wii</td>\n",
       "      <td>2009</td>\n",
       "      <td>Sports</td>\n",
       "      <td>Nintendo</td>\n",
       "      <td>15.75</td>\n",
       "      <td>11.01</td>\n",
       "      <td>3.28</td>\n",
       "      <td>2.96</td>\n",
       "      <td>33.00</td>\n",
       "    </tr>\n",
       "    <tr>\n",
       "      <th>5</th>\n",
       "      <td>Pokemon Red/Pokemon Blue</td>\n",
       "      <td>GB</td>\n",
       "      <td>1996</td>\n",
       "      <td>Role-Playing</td>\n",
       "      <td>Nintendo</td>\n",
       "      <td>11.27</td>\n",
       "      <td>8.89</td>\n",
       "      <td>10.22</td>\n",
       "      <td>1.00</td>\n",
       "      <td>31.37</td>\n",
       "    </tr>\n",
       "    <tr>\n",
       "      <th>...</th>\n",
       "      <td>...</td>\n",
       "      <td>...</td>\n",
       "      <td>...</td>\n",
       "      <td>...</td>\n",
       "      <td>...</td>\n",
       "      <td>...</td>\n",
       "      <td>...</td>\n",
       "      <td>...</td>\n",
       "      <td>...</td>\n",
       "      <td>...</td>\n",
       "    </tr>\n",
       "    <tr>\n",
       "      <th>16596</th>\n",
       "      <td>Woody Woodpecker in Crazy Castle 5</td>\n",
       "      <td>GBA</td>\n",
       "      <td>2002</td>\n",
       "      <td>Platform</td>\n",
       "      <td>Kemco</td>\n",
       "      <td>0.01</td>\n",
       "      <td>0.00</td>\n",
       "      <td>0.00</td>\n",
       "      <td>0.00</td>\n",
       "      <td>0.01</td>\n",
       "    </tr>\n",
       "    <tr>\n",
       "      <th>16597</th>\n",
       "      <td>Men in Black II: Alien Escape</td>\n",
       "      <td>GC</td>\n",
       "      <td>2003</td>\n",
       "      <td>Shooter</td>\n",
       "      <td>Infogrames</td>\n",
       "      <td>0.01</td>\n",
       "      <td>0.00</td>\n",
       "      <td>0.00</td>\n",
       "      <td>0.00</td>\n",
       "      <td>0.01</td>\n",
       "    </tr>\n",
       "    <tr>\n",
       "      <th>16598</th>\n",
       "      <td>SCORE International Baja 1000: The Official Game</td>\n",
       "      <td>PS2</td>\n",
       "      <td>2008</td>\n",
       "      <td>Racing</td>\n",
       "      <td>Activision</td>\n",
       "      <td>0.00</td>\n",
       "      <td>0.00</td>\n",
       "      <td>0.00</td>\n",
       "      <td>0.00</td>\n",
       "      <td>0.01</td>\n",
       "    </tr>\n",
       "    <tr>\n",
       "      <th>16599</th>\n",
       "      <td>Know How 2</td>\n",
       "      <td>DS</td>\n",
       "      <td>2010</td>\n",
       "      <td>Puzzle</td>\n",
       "      <td>7G//AMES</td>\n",
       "      <td>0.00</td>\n",
       "      <td>0.01</td>\n",
       "      <td>0.00</td>\n",
       "      <td>0.00</td>\n",
       "      <td>0.01</td>\n",
       "    </tr>\n",
       "    <tr>\n",
       "      <th>16600</th>\n",
       "      <td>Spirits &amp; Spells</td>\n",
       "      <td>GBA</td>\n",
       "      <td>2003</td>\n",
       "      <td>Platform</td>\n",
       "      <td>Wanadoo</td>\n",
       "      <td>0.01</td>\n",
       "      <td>0.00</td>\n",
       "      <td>0.00</td>\n",
       "      <td>0.00</td>\n",
       "      <td>0.01</td>\n",
       "    </tr>\n",
       "  </tbody>\n",
       "</table>\n",
       "<p>16597 rows × 10 columns</p>\n",
       "</div>"
      ],
      "text/plain": [
       "                                                   Name Platform  Year  \\\n",
       "Rank                                                                     \n",
       "1                                            Wii Sports      Wii  2006   \n",
       "2                                     Super Mario Bros.      NES  1985   \n",
       "3                                        Mario Kart Wii      Wii  2008   \n",
       "4                                     Wii Sports Resort      Wii  2009   \n",
       "5                              Pokemon Red/Pokemon Blue       GB  1996   \n",
       "...                                                 ...      ...   ...   \n",
       "16596                Woody Woodpecker in Crazy Castle 5      GBA  2002   \n",
       "16597                     Men in Black II: Alien Escape       GC  2003   \n",
       "16598  SCORE International Baja 1000: The Official Game      PS2  2008   \n",
       "16599                                        Know How 2       DS  2010   \n",
       "16600                                  Spirits & Spells      GBA  2003   \n",
       "\n",
       "              Genre   Publisher  NA_Sales  EU_Sales  JP_Sales  Other_Sales  \\\n",
       "Rank                                                                         \n",
       "1            Sports    Nintendo     41.49     29.02      3.77         8.46   \n",
       "2          Platform    Nintendo     29.08      3.58      6.81         0.77   \n",
       "3            Racing    Nintendo     15.85     12.88      3.79         3.31   \n",
       "4            Sports    Nintendo     15.75     11.01      3.28         2.96   \n",
       "5      Role-Playing    Nintendo     11.27      8.89     10.22         1.00   \n",
       "...             ...         ...       ...       ...       ...          ...   \n",
       "16596      Platform       Kemco      0.01      0.00      0.00         0.00   \n",
       "16597       Shooter  Infogrames      0.01      0.00      0.00         0.00   \n",
       "16598        Racing  Activision      0.00      0.00      0.00         0.00   \n",
       "16599        Puzzle    7G//AMES      0.00      0.01      0.00         0.00   \n",
       "16600      Platform     Wanadoo      0.01      0.00      0.00         0.00   \n",
       "\n",
       "       Global_Sales  \n",
       "Rank                 \n",
       "1             82.74  \n",
       "2             40.24  \n",
       "3             35.82  \n",
       "4             33.00  \n",
       "5             31.37  \n",
       "...             ...  \n",
       "16596          0.01  \n",
       "16597          0.01  \n",
       "16598          0.01  \n",
       "16599          0.01  \n",
       "16600          0.01  \n",
       "\n",
       "[16597 rows x 10 columns]"
      ]
     },
     "execution_count": 90,
     "metadata": {},
     "output_type": "execute_result"
    }
   ],
   "source": [
    "mask = vgs.notna()\n",
    "vgs[mask]"
   ]
  },
  {
   "cell_type": "code",
   "execution_count": null,
   "id": "48aea7fd",
   "metadata": {},
   "outputs": [],
   "source": []
  },
  {
   "cell_type": "code",
   "execution_count": null,
   "id": "8b9996a6",
   "metadata": {},
   "outputs": [],
   "source": []
  },
  {
   "cell_type": "code",
   "execution_count": null,
   "id": "b1a0ea90",
   "metadata": {},
   "outputs": [],
   "source": []
  },
  {
   "cell_type": "code",
   "execution_count": null,
   "id": "684c5d96",
   "metadata": {},
   "outputs": [],
   "source": []
  },
  {
   "cell_type": "code",
   "execution_count": null,
   "id": "20f36224",
   "metadata": {},
   "outputs": [],
   "source": []
  }
 ],
 "metadata": {
  "kernelspec": {
   "display_name": "Python 3",
   "language": "python",
   "name": "python3"
  },
  "language_info": {
   "codemirror_mode": {
    "name": "ipython",
    "version": 3
   },
   "file_extension": ".py",
   "mimetype": "text/x-python",
   "name": "python",
   "nbconvert_exporter": "python",
   "pygments_lexer": "ipython3",
   "version": "3.13.3"
  }
 },
 "nbformat": 4,
 "nbformat_minor": 5
}

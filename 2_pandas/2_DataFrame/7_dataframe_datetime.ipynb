{
 "cells": [
  {
   "cell_type": "code",
   "execution_count": 48,
   "id": "fb01b734",
   "metadata": {},
   "outputs": [
    {
     "name": "stdout",
     "output_type": "stream",
     "text": [
      "            Sales  Expenses\n",
      "2025-01-01    112       126\n",
      "2025-01-02    479        97\n",
      "2025-01-03    589       112\n",
      "2025-01-04    491       110\n",
      "2025-01-05    372       149\n",
      "2025-01-06    720       172\n",
      "2025-01-07    451       136\n",
      "2025-01-08    651       136\n",
      "2025-01-09    437        91\n",
      "2025-01-10    454       123\n"
     ]
    }
   ],
   "source": [
    "import pandas as pd\n",
    "import numpy as np\n",
    "date_range = pd.date_range(start='2025-01-01',end='2025-01-10',freq='D')\n",
    "d= {\n",
    "    'Sales': np.random.randint(100,900,len(date_range)),\n",
    "    'Expenses' : np.random.randint(90,200,len(date_range))\n",
    "}\n",
    "df = pd.DataFrame(d,date_range)\n",
    "print(df)"
   ]
  },
  {
   "cell_type": "code",
   "execution_count": 49,
   "id": "18bfc7a2",
   "metadata": {},
   "outputs": [
    {
     "name": "stdout",
     "output_type": "stream",
     "text": [
      "\n",
      " DataFrame with Sales and Expenses shifted by 1 day:\n",
      "            Sales  Expenses  Sales_Shifted  Expenses_Shifted\n",
      "2025-01-01    112       126          479.0               NaN\n",
      "2025-01-02    479        97          589.0             126.0\n",
      "2025-01-03    589       112          491.0              97.0\n",
      "2025-01-04    491       110          372.0             112.0\n",
      "2025-01-05    372       149          720.0             110.0\n",
      "2025-01-06    720       172          451.0             149.0\n",
      "2025-01-07    451       136          651.0             172.0\n",
      "2025-01-08    651       136          437.0             136.0\n",
      "2025-01-09    437        91          454.0             136.0\n",
      "2025-01-10    454       123            NaN              91.0\n"
     ]
    }
   ],
   "source": [
    "#  Shift Sales and Expenses by 1 day\n",
    "df['Sales_Shifted'] = df['Sales'].shift(-1)\n",
    "df['Expenses_Shifted'] = df['Expenses'].shift(1)\n",
    "print(\"\\n DataFrame with Sales and Expenses shifted by 1 day:\")\n",
    "print(df)\n"
   ]
  },
  {
   "cell_type": "code",
   "execution_count": 50,
   "id": "c31d8245",
   "metadata": {},
   "outputs": [
    {
     "name": "stdout",
     "output_type": "stream",
     "text": [
      "\n",
      " Daily change in Sales and Expenses:\n",
      "            Sales  Sales_Shifted  Sales_Change  Expenses  Expenses_Shifted  \\\n",
      "2025-01-01    112          479.0        -367.0       126               NaN   \n",
      "2025-01-02    479          589.0        -110.0        97             126.0   \n",
      "2025-01-03    589          491.0          98.0       112              97.0   \n",
      "2025-01-04    491          372.0         119.0       110             112.0   \n",
      "2025-01-05    372          720.0        -348.0       149             110.0   \n",
      "2025-01-06    720          451.0         269.0       172             149.0   \n",
      "2025-01-07    451          651.0        -200.0       136             172.0   \n",
      "2025-01-08    651          437.0         214.0       136             136.0   \n",
      "2025-01-09    437          454.0         -17.0        91             136.0   \n",
      "2025-01-10    454            NaN           NaN       123              91.0   \n",
      "\n",
      "            Expenses_Change  \n",
      "2025-01-01              NaN  \n",
      "2025-01-02            -29.0  \n",
      "2025-01-03             15.0  \n",
      "2025-01-04             -2.0  \n",
      "2025-01-05             39.0  \n",
      "2025-01-06             23.0  \n",
      "2025-01-07            -36.0  \n",
      "2025-01-08              0.0  \n",
      "2025-01-09            -45.0  \n",
      "2025-01-10             32.0  \n"
     ]
    }
   ],
   "source": [
    "# Calculate daily change in Sales and Expenses\n",
    "df['Sales_Change'] = df['Sales'] - df['Sales_Shifted']\n",
    "df['Expenses_Change'] = df['Expenses'] - df['Expenses_Shifted']\n",
    "print(\"\\n Daily change in Sales and Expenses:\")\n",
    "print(df[['Sales', 'Sales_Shifted', 'Sales_Change', 'Expenses', 'Expenses_Shifted', 'Expenses_Change']])\n"
   ]
  },
  {
   "cell_type": "code",
   "execution_count": 51,
   "id": "0166e864",
   "metadata": {},
   "outputs": [
    {
     "name": "stdout",
     "output_type": "stream",
     "text": [
      "\n",
      " DataFrame with Sales and Expenses shifted by 2 days:\n",
      "            Sales  Expenses  Sales_Shifted  Expenses_Shifted  Sales_Change  \\\n",
      "2025-01-01    112       126          479.0               NaN        -367.0   \n",
      "2025-01-02    479        97          589.0             126.0        -110.0   \n",
      "2025-01-03    589       112          491.0              97.0          98.0   \n",
      "2025-01-04    491       110          372.0             112.0         119.0   \n",
      "2025-01-05    372       149          720.0             110.0        -348.0   \n",
      "2025-01-06    720       172          451.0             149.0         269.0   \n",
      "2025-01-07    451       136          651.0             172.0        -200.0   \n",
      "2025-01-08    651       136          437.0             136.0         214.0   \n",
      "2025-01-09    437        91          454.0             136.0         -17.0   \n",
      "2025-01-10    454       123            NaN              91.0           NaN   \n",
      "\n",
      "            Expenses_Change  Sales_Shifted_2  Expenses_Shifted_2  \n",
      "2025-01-01              NaN            589.0                 NaN  \n",
      "2025-01-02            -29.0            491.0                 NaN  \n",
      "2025-01-03             15.0            372.0               126.0  \n",
      "2025-01-04             -2.0            720.0                97.0  \n",
      "2025-01-05             39.0            451.0               112.0  \n",
      "2025-01-06             23.0            651.0               110.0  \n",
      "2025-01-07            -36.0            437.0               149.0  \n",
      "2025-01-08              0.0            454.0               172.0  \n",
      "2025-01-09            -45.0              NaN               136.0  \n",
      "2025-01-10             32.0              NaN               136.0  \n"
     ]
    }
   ],
   "source": [
    "# Shift by multiple periods (e.g., 2 days)\n",
    "df['Sales_Shifted_2'] = df['Sales'].shift(-2)\n",
    "df['Expenses_Shifted_2'] = df['Expenses'].shift(2)\n",
    "print(\"\\n DataFrame with Sales and Expenses shifted by 2 days:\")\n",
    "print(df)\n"
   ]
  },
  {
   "cell_type": "code",
   "execution_count": 52,
   "id": "8abb9d1f",
   "metadata": {},
   "outputs": [
    {
     "name": "stdout",
     "output_type": "stream",
     "text": [
      "            Sales  Expenses\n",
      "2025-01-01    442       169\n",
      "2025-01-02    812       177\n",
      "2025-01-03    519       146\n",
      "2025-01-04    515       159\n",
      "2025-01-05    545       121\n",
      "...           ...       ...\n",
      "2025-03-06    683       138\n",
      "2025-03-07    394       127\n",
      "2025-03-08    737       183\n",
      "2025-03-09    405       135\n",
      "2025-03-10    329        96\n",
      "\n",
      "[69 rows x 2 columns]\n"
     ]
    }
   ],
   "source": [
    "import pandas as pd\n",
    "import numpy as np\n",
    "date_range = pd.date_range(start='2025-01-01',end='2025-03-10',freq='D')\n",
    "d= {\n",
    "    'Sales': np.random.randint(100,900,len(date_range)),\n",
    "    'Expenses' : np.random.randint(90,200,len(date_range))\n",
    "}\n",
    "df = pd.DataFrame(d,date_range)\n",
    "print(df)"
   ]
  },
  {
   "cell_type": "code",
   "execution_count": 53,
   "id": "56ee3651",
   "metadata": {},
   "outputs": [
    {
     "name": "stdout",
     "output_type": "stream",
     "text": [
      "\n",
      "DataFrame with Month period:\n",
      "            Sales  Expenses    Month\n",
      "2025-01-01    442       169  2025-01\n",
      "2025-01-02    812       177  2025-01\n",
      "2025-01-03    519       146  2025-01\n",
      "2025-01-04    515       159  2025-01\n",
      "2025-01-05    545       121  2025-01\n",
      "...           ...       ...      ...\n",
      "2025-03-06    683       138  2025-03\n",
      "2025-03-07    394       127  2025-03\n",
      "2025-03-08    737       183  2025-03\n",
      "2025-03-09    405       135  2025-03\n",
      "2025-03-10    329        96  2025-03\n",
      "\n",
      "[69 rows x 3 columns]\n"
     ]
    }
   ],
   "source": [
    "# Convert the index to a monthly period\n",
    "df['Month'] = df.index.to_period('M')\n",
    "print(\"\\nDataFrame with Month period:\")\n",
    "print(df)\n"
   ]
  },
  {
   "cell_type": "code",
   "execution_count": 54,
   "id": "394de147",
   "metadata": {},
   "outputs": [
    {
     "name": "stdout",
     "output_type": "stream",
     "text": [
      "\n",
      "DataFrame with Month converted back to timestamps:\n",
      "            Sales  Expenses    Month Month_Timestamp\n",
      "2025-01-01    442       169  2025-01      2025-01-01\n",
      "2025-01-02    812       177  2025-01      2025-01-01\n",
      "2025-01-03    519       146  2025-01      2025-01-01\n",
      "2025-01-04    515       159  2025-01      2025-01-01\n",
      "2025-01-05    545       121  2025-01      2025-01-01\n",
      "...           ...       ...      ...             ...\n",
      "2025-03-06    683       138  2025-03      2025-03-01\n",
      "2025-03-07    394       127  2025-03      2025-03-01\n",
      "2025-03-08    737       183  2025-03      2025-03-01\n",
      "2025-03-09    405       135  2025-03      2025-03-01\n",
      "2025-03-10    329        96  2025-03      2025-03-01\n",
      "\n",
      "[69 rows x 4 columns]\n"
     ]
    }
   ],
   "source": [
    "# Convert the Month period back to timestamps\n",
    "df['Month_Timestamp'] = df['Month'].dt.to_timestamp()\n",
    "print(\"\\nDataFrame with Month converted back to timestamps:\")\n",
    "print(df)\n",
    "\n"
   ]
  },
  {
   "cell_type": "code",
   "execution_count": 55,
   "id": "bf417da9",
   "metadata": {},
   "outputs": [
    {
     "name": "stdout",
     "output_type": "stream",
     "text": [
      "\n",
      "DataFrame with Month period:\n",
      "            Sales  Expenses    Month Month_Timestamp Quarter\n",
      "2025-01-01    442       169  2025-01      2025-01-01  2025Q1\n",
      "2025-01-02    812       177  2025-01      2025-01-01  2025Q1\n",
      "2025-01-03    519       146  2025-01      2025-01-01  2025Q1\n",
      "2025-01-04    515       159  2025-01      2025-01-01  2025Q1\n",
      "2025-01-05    545       121  2025-01      2025-01-01  2025Q1\n",
      "...           ...       ...      ...             ...     ...\n",
      "2025-03-06    683       138  2025-03      2025-03-01  2025Q1\n",
      "2025-03-07    394       127  2025-03      2025-03-01  2025Q1\n",
      "2025-03-08    737       183  2025-03      2025-03-01  2025Q1\n",
      "2025-03-09    405       135  2025-03      2025-03-01  2025Q1\n",
      "2025-03-10    329        96  2025-03      2025-03-01  2025Q1\n",
      "\n",
      "[69 rows x 5 columns]\n"
     ]
    }
   ],
   "source": [
    "# Convert the index to a monthly period\n",
    "df['Quarter'] = df.index.to_period('Q')\n",
    "print(\"\\nDataFrame with Month period:\")\n",
    "print(df)"
   ]
  },
  {
   "cell_type": "code",
   "execution_count": 56,
   "id": "715f3359",
   "metadata": {},
   "outputs": [
    {
     "name": "stdout",
     "output_type": "stream",
     "text": [
      "\n",
      "DataFrame with Quarter converted back to timestamps:\n",
      "            Sales  Expenses    Month Month_Timestamp Quarter Quarter_Timestamp\n",
      "2025-01-01    442       169  2025-01      2025-01-01  2025Q1        2025-01-01\n",
      "2025-01-02    812       177  2025-01      2025-01-01  2025Q1        2025-01-01\n",
      "2025-01-03    519       146  2025-01      2025-01-01  2025Q1        2025-01-01\n",
      "2025-01-04    515       159  2025-01      2025-01-01  2025Q1        2025-01-01\n",
      "2025-01-05    545       121  2025-01      2025-01-01  2025Q1        2025-01-01\n",
      "...           ...       ...      ...             ...     ...               ...\n",
      "2025-03-06    683       138  2025-03      2025-03-01  2025Q1        2025-01-01\n",
      "2025-03-07    394       127  2025-03      2025-03-01  2025Q1        2025-01-01\n",
      "2025-03-08    737       183  2025-03      2025-03-01  2025Q1        2025-01-01\n",
      "2025-03-09    405       135  2025-03      2025-03-01  2025Q1        2025-01-01\n",
      "2025-03-10    329        96  2025-03      2025-03-01  2025Q1        2025-01-01\n",
      "\n",
      "[69 rows x 6 columns]\n"
     ]
    }
   ],
   "source": [
    "# Convert the Quarter period back to timestamps\n",
    "df['Quarter_Timestamp'] = df['Quarter'].dt.to_timestamp()\n",
    "print(\"\\nDataFrame with Quarter converted back to timestamps:\")\n",
    "print(df)\n"
   ]
  },
  {
   "cell_type": "code",
   "execution_count": 57,
   "id": "83f3dc73",
   "metadata": {},
   "outputs": [
    {
     "name": "stdout",
     "output_type": "stream",
     "text": [
      "            Sales  Expenses\n",
      "2025-01-01    601       119\n",
      "2025-01-02    462       134\n",
      "2025-01-03    170       188\n",
      "2025-01-04    510       121\n",
      "2025-01-05    747       123\n",
      "...           ...       ...\n",
      "2025-03-06    295       132\n",
      "2025-03-07    516       184\n",
      "2025-03-08    702       159\n",
      "2025-03-09    428       175\n",
      "2025-03-10    249       158\n",
      "\n",
      "[69 rows x 2 columns]\n"
     ]
    }
   ],
   "source": [
    "import pandas as pd\n",
    "import numpy as np\n",
    "date_range = pd.date_range(start='2025-01-01',end='2025-03-10',freq='D')\n",
    "d= {\n",
    "    'Sales': np.random.randint(100,900,len(date_range)),\n",
    "    'Expenses' : np.random.randint(90,200,len(date_range))\n",
    "}\n",
    "df = pd.DataFrame(d,date_range)\n",
    "print(df)"
   ]
  },
  {
   "cell_type": "code",
   "execution_count": 58,
   "id": "061c0f14",
   "metadata": {},
   "outputs": [],
   "source": [
    "df['Year'] = df.index.year"
   ]
  },
  {
   "cell_type": "code",
   "execution_count": 59,
   "id": "98ac7ffa",
   "metadata": {},
   "outputs": [
    {
     "name": "stdout",
     "output_type": "stream",
     "text": [
      "            Sales  Expenses  Year  Month\n",
      "2025-01-01    601       119  2025      1\n",
      "2025-01-02    462       134  2025      1\n",
      "2025-01-03    170       188  2025      1\n",
      "2025-01-04    510       121  2025      1\n",
      "2025-01-05    747       123  2025      1\n",
      "...           ...       ...   ...    ...\n",
      "2025-03-06    295       132  2025      3\n",
      "2025-03-07    516       184  2025      3\n",
      "2025-03-08    702       159  2025      3\n",
      "2025-03-09    428       175  2025      3\n",
      "2025-03-10    249       158  2025      3\n",
      "\n",
      "[69 rows x 4 columns]\n"
     ]
    }
   ],
   "source": [
    "df['Month'] = df.index.month\n",
    "print(df)"
   ]
  }
 ],
 "metadata": {
  "kernelspec": {
   "display_name": "Python 3",
   "language": "python",
   "name": "python3"
  },
  "language_info": {
   "codemirror_mode": {
    "name": "ipython",
    "version": 3
   },
   "file_extension": ".py",
   "mimetype": "text/x-python",
   "name": "python",
   "nbconvert_exporter": "python",
   "pygments_lexer": "ipython3",
   "version": "3.13.3"
  }
 },
 "nbformat": 4,
 "nbformat_minor": 5
}

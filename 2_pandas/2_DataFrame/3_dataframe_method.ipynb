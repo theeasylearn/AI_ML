{
 "cells": [
  {
   "cell_type": "code",
   "execution_count": null,
   "id": "25266755",
   "metadata": {},
   "outputs": [
    {
     "name": "stdout",
     "output_type": "stream",
     "text": [
      "    Name  Age  Salary\n",
      "0  Alice   25   50000\n"
     ]
    }
   ],
   "source": [
    "import pandas as pd\n",
    "data = {\n",
    "    \t'Name': ['Alice', 'Bob', 'Charlie'],\n",
    "   \t    'Age': [25, 30, 35],\n",
    "\t    'Salary': [50000, 60000, 75000]\n",
    "\t}\n",
    "df = pd.DataFrame(data)\n",
    "print(df.head(1)) # default n= 5 "
   ]
  },
  {
   "cell_type": "code",
   "execution_count": 3,
   "id": "b6d2a6ed",
   "metadata": {},
   "outputs": [
    {
     "name": "stdout",
     "output_type": "stream",
     "text": [
      "      Name  Age  Salary\n",
      "2  Charlie   35   75000\n"
     ]
    }
   ],
   "source": [
    "import pandas as pd\n",
    "data = {\n",
    "    \t'Name': ['Alice', 'Bob', 'Charlie'],\n",
    "   \t    'Age': [25, 30, 35],\n",
    "\t    'Salary': [50000, 60000, 75000]\n",
    "\t}\n",
    "df = pd.DataFrame(data)\n",
    "print(df.tail(1))"
   ]
  },
  {
   "cell_type": "code",
   "execution_count": 4,
   "id": "39507fb9",
   "metadata": {},
   "outputs": [
    {
     "name": "stdout",
     "output_type": "stream",
     "text": [
      "<class 'pandas.core.frame.DataFrame'>\n"
     ]
    }
   ],
   "source": [
    "import pandas as pd\n",
    "data = {\n",
    "    \t'Name': ['Alice', 'Bob', 'Charlie'],\n",
    "   \t    'Age': [25, 30, 35],\n",
    "\t    'Salary': [50000, 60000, 75000]\n",
    "\t}\n",
    "df = pd.DataFrame(data)\n",
    "print(type(df))"
   ]
  },
  {
   "cell_type": "code",
   "execution_count": 5,
   "id": "1a1c7f10",
   "metadata": {},
   "outputs": [
    {
     "name": "stdout",
     "output_type": "stream",
     "text": [
      "        Age        Salary\n",
      "count   3.0      3.000000\n",
      "mean   30.0  61666.666667\n",
      "std     5.0  12583.057392\n",
      "min    25.0  50000.000000\n",
      "25%    27.5  55000.000000\n",
      "50%    30.0  60000.000000\n",
      "75%    32.5  67500.000000\n",
      "max    35.0  75000.000000\n"
     ]
    }
   ],
   "source": [
    "import pandas as pd\n",
    "data = {\n",
    "    \t'Name': ['Alice', 'Bob', 'Charlie'],\n",
    "   \t    'Age': [25, 30, 35],\n",
    "\t    'Salary': [50000, 60000, 75000]\n",
    "\t}\n",
    "df = pd.DataFrame(data)\n",
    "print(df.describe())"
   ]
  },
  {
   "cell_type": "code",
   "execution_count": null,
   "id": "56efe0c2",
   "metadata": {},
   "outputs": [],
   "source": [
    "import pandas as pd\n",
    "data = {\n",
    "    \t'Name': ['Alice', 'Bob', 'Charlie'],\n",
    "   \t    'Age': [25, 30, 35],\n",
    "\t    'Salary': [50000, 60000, 75000]\n",
    "\t}\n",
    "df = pd.DataFrame(data)\n",
    "print(df.info())"
   ]
  },
  {
   "cell_type": "code",
   "execution_count": 12,
   "id": "68789dfa",
   "metadata": {},
   "outputs": [
    {
     "name": "stdout",
     "output_type": "stream",
     "text": [
      "Age  Salary\n",
      "30   60000     2\n",
      "25   50000     1\n",
      "35   75000     1\n",
      "Name: count, dtype: int64\n",
      "      Name  Age  Salary\n",
      "0    Alice   25   50000\n",
      "1      Bob   30   60000\n",
      "2  Charlie   35   75000\n",
      "3      BOb   30   60000\n"
     ]
    }
   ],
   "source": [
    "import pandas as pd\n",
    "data = {\n",
    "    \t'Name': ['Alice', 'Bob', 'Charlie','BOb'],\n",
    "   \t    'Age': [25, 30, 35,30],\n",
    "\t    'Salary': [50000, 60000, 75000,60000]\n",
    "\t}\n",
    "df = pd.DataFrame(data)\n",
    "print(df.set_index('Name').value_counts())\n",
    "print(df)"
   ]
  },
  {
   "cell_type": "code",
   "execution_count": 17,
   "id": "cc97010a",
   "metadata": {},
   "outputs": [],
   "source": [
    "import pandas as pd\n",
    "data = {\n",
    "    \t'Name': ['Alice', 'Bob', 'Charlie','BOb'],\n",
    "   \t    'Age': [25, 30, 35,30],\n",
    "\t    'Salary': [50000, 60000, 75000,60000]\n",
    "\t}\n",
    "df = pd.DataFrame(data)\n",
    "df.to_csv('output.csv',index=False)"
   ]
  },
  {
   "cell_type": "code",
   "execution_count": 18,
   "id": "5e6c7d20",
   "metadata": {},
   "outputs": [
    {
     "name": "stdout",
     "output_type": "stream",
     "text": [
      "      Name  Age  Salary\n",
      "0    Alice   25   50000\n",
      "1      Bob   30   60000\n",
      "2  Charlie   35   75000\n",
      "3      BOb   30   60000\n"
     ]
    }
   ],
   "source": [
    "df = pd.read_csv('output.csv')\n",
    "print(df)"
   ]
  },
  {
   "cell_type": "code",
   "execution_count": 22,
   "id": "7279e1ce",
   "metadata": {},
   "outputs": [],
   "source": [
    "import pandas as pd\n",
    "data = {\n",
    "    \t'Name': ['Alice', 'Bob', 'Charlie','BOb'],\n",
    "   \t    'Age': [25, 30, 35,30],\n",
    "\t    'Salary': [50000, 60000, 75000,60000]\n",
    "\t}\n",
    "df = pd.DataFrame(data)\n",
    "df.to_excel('output.xlsx',index=False)"
   ]
  },
  {
   "cell_type": "code",
   "execution_count": 23,
   "id": "46c241d5",
   "metadata": {},
   "outputs": [
    {
     "name": "stdout",
     "output_type": "stream",
     "text": [
      "      Name  Age  Salary\n",
      "0    Alice   25   50000\n",
      "1      Bob   30   60000\n",
      "2  Charlie   35   75000\n",
      "3      BOb   30   60000\n"
     ]
    }
   ],
   "source": [
    "df = pd.read_excel('output.xlsx')\n",
    "print(df)"
   ]
  },
  {
   "cell_type": "code",
   "execution_count": 26,
   "id": "d29dc28c",
   "metadata": {},
   "outputs": [
    {
     "name": "stdout",
     "output_type": "stream",
     "text": [
      "   Salary     Name\n",
      "1   60000      Bob\n",
      "2   75000  Charlie\n"
     ]
    }
   ],
   "source": [
    "import pandas as pd\n",
    "data = {\n",
    "    \t'Name': ['Alice', 'Bob', 'Charlie'],\n",
    "   \t    'Age': [25, 30, 35],\n",
    "\t    'Salary': [50000, 60000, 75000]\n",
    "\t}\n",
    "df = pd.DataFrame(data)\n",
    "print(df.loc[df['Age']>=30,['Salary','Name']])"
   ]
  },
  {
   "cell_type": "code",
   "execution_count": 30,
   "id": "7097dd3d",
   "metadata": {},
   "outputs": [
    {
     "name": "stdout",
     "output_type": "stream",
     "text": [
      "    Name\n",
      "0  Alice\n",
      "1    Bob\n"
     ]
    }
   ],
   "source": [
    "import pandas as pd\n",
    "data = {\n",
    "    \t'Name': ['Alice', 'Bob', 'Charlie'],\n",
    "   \t    'Age': [25, 30, 35],\n",
    "\t    'Salary': [50000, 60000, 75000]\n",
    "\t}\n",
    "df = pd.DataFrame(data)\n",
    "print(df.iloc[0:2,0:1])"
   ]
  },
  {
   "cell_type": "code",
   "execution_count": 34,
   "id": "b4152428",
   "metadata": {},
   "outputs": [
    {
     "name": "stdout",
     "output_type": "stream",
     "text": [
      "25\n"
     ]
    }
   ],
   "source": [
    "import pandas as pd\n",
    "data = {\n",
    "    \t'Name': ['Alice', 'Bob', 'Charlie'],\n",
    "   \t    'Age': [25, 30, 35],\n",
    "\t    'Salary': [50000, 60000, 75000]\n",
    "\t}\n",
    "df = pd.DataFrame(data)\n",
    "print(df.at[0,'Age'])"
   ]
  },
  {
   "cell_type": "code",
   "execution_count": 36,
   "id": "a875d32d",
   "metadata": {},
   "outputs": [
    {
     "name": "stdout",
     "output_type": "stream",
     "text": [
      "      Name  Age  Salary\n",
      "0    Alice   25   50000\n",
      "1      Bob   30   60000\n",
      "2  Charlie   35   75000\n",
      "50000\n"
     ]
    }
   ],
   "source": [
    "import pandas as pd\n",
    "data = {\n",
    "    \t'Name': ['Alice', 'Bob', 'Charlie'],\n",
    "   \t    'Age': [25, 30, 35],\n",
    "\t    'Salary': [50000, 60000, 75000]\n",
    "\t}\n",
    "df = pd.DataFrame(data)\n",
    "print(df)\n",
    "print(df.iat[0,2])  # iat[row_index,column_index]"
   ]
  },
  {
   "cell_type": "code",
   "execution_count": 4,
   "id": "3bcf6e28",
   "metadata": {},
   "outputs": [
    {
     "name": "stdout",
     "output_type": "stream",
     "text": [
      "      Name  Age  Salary\n",
      "2  Charlie   35   75000\n"
     ]
    }
   ],
   "source": [
    "import pandas as pd\n",
    "data = {\n",
    "    \t'Name': ['Alice', 'Bob', 'Charlie'],\n",
    " \t 'Age': [25, 30, 35],\n",
    "\t 'Salary': [50000, 60000, 75000]\n",
    "\t}\n",
    "df = pd.DataFrame(data)\n",
    "print(df.query('Age>30 or Salary>80000'))"
   ]
  },
  {
   "cell_type": "code",
   "execution_count": null,
   "id": "1fb8026b",
   "metadata": {},
   "outputs": [],
   "source": []
  },
  {
   "cell_type": "code",
   "execution_count": 9,
   "id": "c6838627",
   "metadata": {},
   "outputs": [
    {
     "name": "stdout",
     "output_type": "stream",
     "text": [
      "      Name  Age  Salary\n",
      "0    Alice   25   50000\n",
      "1      Bob   30   60000\n",
      "2  Charlie   35   75000\n",
      "  Name  Age  Salary\n",
      "1  Bob   30   60000\n"
     ]
    }
   ],
   "source": [
    "import pandas as pd\n",
    "data = {\n",
    "    \t'Name': ['Alice', 'Bob', 'Charlie'],\n",
    " \t 'Age': [25, 30, 35],\n",
    "\t 'Salary': [50000, 60000, 75000]\n",
    "\t}\n",
    "df = pd.DataFrame(data)\n",
    "print(df)\n",
    "print(df.filter(items=[1], axis=0))\n"
   ]
  },
  {
   "cell_type": "code",
   "execution_count": 20,
   "id": "df280c06",
   "metadata": {},
   "outputs": [
    {
     "name": "stdout",
     "output_type": "stream",
     "text": [
      "      Name   Age  Salary\n",
      "0    Alice  25.0   50000\n",
      "1      Bob  30.0   60000\n",
      "2  Charlie   NaN   75000\n",
      "      Name   Age\n",
      "0    Alice  25.0\n",
      "1      Bob  30.0\n",
      "2  Charlie   NaN\n"
     ]
    }
   ],
   "source": [
    "import pandas as pd\n",
    "import numpy as np\n",
    "data = {\n",
    "    \t    'Name': ['Alice', 'Bob', 'Charlie'],\n",
    "   \t        'Age': [25, 30,np.nan],\n",
    "\t        'Salary': [50000, 60000, 75000]\n",
    "\t}\n",
    "df = pd.DataFrame(data)\n",
    "print(df)\n",
    "# df.info()\n",
    "print(df.select_dtypes(include=['object','float'],exclude=int))\n"
   ]
  },
  {
   "cell_type": "code",
   "execution_count": 30,
   "id": "ee01424e",
   "metadata": {},
   "outputs": [
    {
     "name": "stdout",
     "output_type": "stream",
     "text": [
      "      Name  Age  Salary\n",
      "0    Alice   25   50000\n",
      "1      Bob   30   60000\n",
      "2  Charlie   35   70000\n",
      "3    Alice   25   50000\n",
      "4      Bob   30   70000\n",
      "0     True\n",
      "1    False\n",
      "2    False\n",
      "3     True\n",
      "4    False\n",
      "dtype: bool\n"
     ]
    }
   ],
   "source": [
    "import pandas as pd\n",
    "data = {\n",
    "    \t'Name': ['Alice', 'Bob', 'Charlie', 'Alice', 'Bob'],\n",
    "    \t'Age': [25, 30, 35, 25, 30],\n",
    "    \t'Salary': [50000, 60000, 70000, 50000, 70000]\n",
    "} \n",
    "df = pd.DataFrame(data);print(df)\n",
    "print(df.duplicated( keep=False))\n"
   ]
  },
  {
   "cell_type": "code",
   "execution_count": 36,
   "id": "920e258b",
   "metadata": {},
   "outputs": [
    {
     "name": "stdout",
     "output_type": "stream",
     "text": [
      "      Name  Age  Salary\n",
      "0    Alice   25   50000\n",
      "1      Bob   30   60000\n",
      "2  Charlie   35   70000\n",
      "3    Alice   25   50000\n",
      "4      Bob   30   70000\n",
      "None\n",
      "      Name  Age  Salary\n",
      "0      Bob   30   60000\n",
      "1  Charlie   35   70000\n",
      "2      Bob   30   70000\n"
     ]
    }
   ],
   "source": [
    "import pandas as pd\n",
    "data = {\n",
    "    \t'Name': ['Alice', 'Bob', 'Charlie', 'Alice', 'Bob'],\n",
    "    \t'Age': [25, 30, 35, 25, 30],\n",
    "    \t'Salary': [50000, 60000, 70000, 50000, 70000]\n",
    "} \n",
    "df = pd.DataFrame(data)\n",
    "print(df)\n",
    "print(df.drop_duplicates( keep=False,ignore_index=True,inplace=True))\n",
    "print(df)"
   ]
  },
  {
   "cell_type": "code",
   "execution_count": 48,
   "id": "59985944",
   "metadata": {},
   "outputs": [
    {
     "name": "stdout",
     "output_type": "stream",
     "text": [
      "      Name  Age  Salary\n",
      "0    Alice   20   50000\n",
      "1      Bob   30   60000\n",
      "2  Charlie   35   70000\n",
      "3    Alice   25   50000\n",
      "4      Bob   30   70000\n",
      "      Name  Age  Salary\n",
      "0    Alice   20   50000\n",
      "1      Bob   30   60000\n",
      "2  Charlie   35   70000\n",
      "3    Alice   25   50000\n",
      "4      Bob   30   70000\n",
      "      Name  abc  Age  Salary\n",
      "0    Alice  xyz   20   50000\n",
      "1      Bob  xyz   30   60000\n",
      "2  Charlie  xyz   35   70000\n",
      "3    Alice  xyz   25   50000\n",
      "4      Bob  xyz   30   70000\n",
      "      Name  Age  Salary\n",
      "0    Alice   20   50000\n",
      "1      Bob   30   60000\n",
      "2  Charlie   35   70000\n",
      "3    Alice   25   50000\n",
      "4      Bob   30   70000\n"
     ]
    }
   ],
   "source": [
    "import pandas as pd\n",
    "data = {\n",
    "    \t'Name': ['Alice', 'Bob', 'Charlie', 'Alice', 'Bob'],\n",
    "    \t'Age': [20, 30, 35, 25, 30],\n",
    "    \t'Salary': [50000, 60000, 70000, 50000, 70000]\n",
    "} \n",
    "df = pd.DataFrame(data)\n",
    "print(df)\n",
    "df2 = df.copy(deep=True)\n",
    "print(df2)\n",
    "df2.insert(1,'abc','xyz')\n",
    "print(df2)\n",
    "print(df)"
   ]
  },
  {
   "cell_type": "code",
   "execution_count": 44,
   "id": "7403db1b",
   "metadata": {},
   "outputs": [
    {
     "name": "stdout",
     "output_type": "stream",
     "text": [
      "None\n"
     ]
    }
   ],
   "source": [
    "df2 = df.copy(deep=False)\n",
    "df2 = df2.insert(1,'abc','xyz')\n",
    "print(df2)"
   ]
  },
  {
   "cell_type": "code",
   "execution_count": 55,
   "id": "3cb5849a",
   "metadata": {},
   "outputs": [
    {
     "name": "stdout",
     "output_type": "stream",
     "text": [
      "      Name  Age  Salary\n",
      "0    Alice   20   50000\n",
      "1      Bob   30   60000\n",
      "2  Charlie   35   70000\n",
      "3    Alice   25   50000\n",
      "4      Bob   30   70000\n",
      "      Name  Age  Salary  num\n",
      "0    Alice   20   50000  123\n",
      "1      Bob   30   60000  123\n",
      "2  Charlie   35   70000  123\n",
      "3    Alice   25   50000  123\n",
      "4      Bob   30   70000  123\n"
     ]
    }
   ],
   "source": [
    "import pandas as pd\n",
    "data = {\n",
    "    \t'Name': ['Alice', 'Bob', 'Charlie', 'Alice', 'Bob'],\n",
    "    \t'Age': [20, 30, 35, 25, 30],\n",
    "    \t'Salary': [50000, 60000, 70000, 50000, 70000]\n",
    "} \n",
    "df = pd.DataFrame(data)\n",
    "print(df)\n",
    "print(df.assign(num=123))"
   ]
  },
  {
   "cell_type": "code",
   "execution_count": 57,
   "id": "3b6317d1",
   "metadata": {},
   "outputs": [
    {
     "name": "stdout",
     "output_type": "stream",
     "text": [
      "      Name  Age  Salary\n",
      "0    Alice   20   50000\n",
      "1      Bob   30   60000\n",
      "2  Charlie   35   70000\n",
      "3    Alice   25   50000\n",
      "4      Bob   30   70000\n",
      "      Name  num  Age  Salary\n",
      "0    Alice  123   20   50000\n",
      "1      Bob  123   30   60000\n",
      "2  Charlie  123   35   70000\n",
      "3    Alice  123   25   50000\n",
      "4      Bob  123   30   70000\n"
     ]
    }
   ],
   "source": [
    "import pandas as pd\n",
    "data = {\n",
    "    \t'Name': ['Alice', 'Bob', 'Charlie', 'Alice', 'Bob'],\n",
    "    \t'Age': [20, 30, 35, 25, 30],\n",
    "    \t'Salary': [50000, 60000, 70000, 50000, 70000]\n",
    "} \n",
    "df = pd.DataFrame(data)\n",
    "print(df)\n",
    "df.insert(1,'num',123,allow_duplicates=True)\n",
    "print(df)"
   ]
  },
  {
   "cell_type": "code",
   "execution_count": 1,
   "id": "98b256ca",
   "metadata": {},
   "outputs": [
    {
     "name": "stdout",
     "output_type": "stream",
     "text": [
      "      Name  Age  Salary\n",
      "0    Alice   20   50000\n",
      "1      Bob   30   60000\n",
      "2  Charlie   35   70000\n",
      "3    Alice   25   50000\n",
      "4      Bob   30   70000\n",
      "      Name  num  Age  Salary\n",
      "0    Alice  123   20   50000\n",
      "1      Bob  123   30   60000\n",
      "2  Charlie  123   35   70000\n",
      "3    Alice  123   25   50000\n",
      "4      Bob  123   30   70000\n",
      "0    20\n",
      "1    30\n",
      "2    35\n",
      "3    25\n",
      "4    30\n",
      "Name: Age, dtype: int64\n",
      "      Name  num  Salary\n",
      "0    Alice  123   50000\n",
      "1      Bob  123   60000\n",
      "2  Charlie  123   70000\n",
      "3    Alice  123   50000\n",
      "4      Bob  123   70000\n"
     ]
    }
   ],
   "source": [
    "import pandas as pd\n",
    "data = {\n",
    "    \t'Name': ['Alice', 'Bob', 'Charlie', 'Alice', 'Bob'],\n",
    "    \t'Age': [20, 30, 35, 25, 30],\n",
    "    \t'Salary': [50000, 60000, 70000, 50000, 70000]\n",
    "} \n",
    "df = pd.DataFrame(data)\n",
    "print(df)\n",
    "df.insert(1,'num',123,allow_duplicates=True)\n",
    "print(df)\n",
    "print(df.pop('Age'))\n",
    "print(df)\n"
   ]
  },
  {
   "cell_type": "code",
   "execution_count": 21,
   "id": "fc723184",
   "metadata": {},
   "outputs": [
    {
     "name": "stdout",
     "output_type": "stream",
     "text": [
      "      Name  Age  Salary\n",
      "0    Alice   20   50000\n",
      "1      Bob   30   60000\n",
      "2  Charlie   35   70000\n",
      "3    Alice   25   50000\n",
      "4      Bob   30   70000\n"
     ]
    }
   ],
   "source": [
    "import pandas as pd\n",
    "data = {\n",
    "    \t'Name': ['Alice', 'Bob', 'Charlie', 'Alice', 'Bob'],\n",
    "    \t'Age': [20, 30, 35, 25, 30],\n",
    "    \t'Salary': [50000, 60000, 70000, 50000, 70000]\n",
    "} \n",
    "df = pd.DataFrame(data)\n",
    "print(df)\n"
   ]
  },
  {
   "cell_type": "code",
   "execution_count": 17,
   "id": "80185993",
   "metadata": {},
   "outputs": [
    {
     "name": "stdout",
     "output_type": "stream",
     "text": [
      "After drop\n",
      "       Name  Age  Salary\n",
      "1      Bob   30   60000\n",
      "2  Charlie   35   70000\n",
      "3    Alice   25   50000\n",
      "4      Bob   30   70000\n"
     ]
    }
   ],
   "source": [
    "df.drop(0,axis=0,inplace= True)\n",
    "df.reindex()\n",
    "print(\"After drop\\n\",df)"
   ]
  },
  {
   "cell_type": "code",
   "execution_count": null,
   "id": "dee4304a",
   "metadata": {},
   "outputs": [
    {
     "name": "stdout",
     "output_type": "stream",
     "text": [
      "   Age  Salary\n",
      "0   20   50000\n",
      "1   30   60000\n",
      "2   35   70000\n",
      "3   25   50000\n",
      "4   30   70000\n"
     ]
    }
   ],
   "source": [
    "print(df.drop('Name',axis=1))"
   ]
  },
  {
   "cell_type": "code",
   "execution_count": 23,
   "id": "b2789557",
   "metadata": {},
   "outputs": [
    {
     "name": "stdout",
     "output_type": "stream",
     "text": [
      "      Name  Age  Salary\n",
      "0    Alice   20   50000\n",
      "1      Bob   30   60000\n",
      "2  Charlie   35   70000\n",
      "3    Alice   25   50000\n",
      "4      Bob   30   70000\n"
     ]
    }
   ],
   "source": [
    "print(df)"
   ]
  },
  {
   "cell_type": "code",
   "execution_count": 26,
   "id": "157a3285",
   "metadata": {},
   "outputs": [
    {
     "name": "stdout",
     "output_type": "stream",
     "text": [
      "      Name  Age  Salary\n",
      "0    Alice   20   50000\n",
      "1      Bob   30   60000\n",
      "2  Charlie   35   70000\n",
      "3    Alice   25   50000\n",
      "4      Bob   30   70000\n"
     ]
    }
   ],
   "source": [
    "import pandas as pd\n",
    "data = {\n",
    "    \t'Name': ['Alice', 'Bob', 'Charlie', 'Alice', 'Bob'],\n",
    "    \t'Age': [20, 30, 35, 25, 30],\n",
    "    \t'Salary': [50000, 60000, 70000, 50000, 70000]\n",
    "} \n",
    "df = pd.DataFrame(data)\n",
    "print(df)"
   ]
  },
  {
   "cell_type": "code",
   "execution_count": null,
   "id": "fb7c7be8",
   "metadata": {},
   "outputs": [
    {
     "name": "stdout",
     "output_type": "stream",
     "text": [
      "        Name  age  Salary\n",
      "age    Alice   20   50000\n",
      "1        Bob   30   60000\n",
      "2    Charlie   35   70000\n",
      "3      Alice   25   50000\n",
      "4        Bob   30   70000\n"
     ]
    }
   ],
   "source": [
    "df.rename(columns={'Age':'age'},inplace=True)\n",
    "print(df)\n",
    "# df.rename(index={0:'age'},inplace=True)  # do not try this thing because all index is int \n",
    "# print(df)"
   ]
  },
  {
   "cell_type": "code",
   "execution_count": null,
   "id": "e1c62a7e",
   "metadata": {},
   "outputs": [],
   "source": []
  },
  {
   "cell_type": "code",
   "execution_count": 29,
   "id": "5b4fab87",
   "metadata": {},
   "outputs": [
    {
     "name": "stdout",
     "output_type": "stream",
     "text": [
      "      Name  age  Salary\n",
      "0    Alice   20   50000\n",
      "1      Bob   30   60000\n",
      "2  Charlie   35   70000\n",
      "3    Alice   25   50000\n",
      "4      Bob   30   70000\n"
     ]
    }
   ],
   "source": [
    "print(df)"
   ]
  },
  {
   "cell_type": "code",
   "execution_count": 34,
   "id": "215471e4",
   "metadata": {},
   "outputs": [
    {
     "name": "stdout",
     "output_type": "stream",
     "text": [
      "      Name  Age  Salary\n",
      "0    Alice   20   50000\n",
      "1      Bob   30   60000\n",
      "2  Charlie   35   70000\n",
      "3    Alice   25   50000\n",
      "4      bob   30   75000\n",
      "      Name  Age  Salary\n",
      "0    Alice   20   50000\n",
      "1      Bob   10   60000\n",
      "2  Charlie   35   70000\n",
      "3    Alice   25   50000\n",
      "4      bob   10   75000\n"
     ]
    }
   ],
   "source": [
    "import pandas as pd\n",
    "data = {\n",
    "    \t'Name': ['Alice', 'Bob', 'Charlie', 'Alice', 'bob'],\n",
    "    \t'Age': [20, 30, 35, 25, 30],\n",
    "    \t'Salary': [50000, 60000, 70000, 50000, 75000]\n",
    "} \n",
    "df = pd.DataFrame(data)\n",
    "print(df)\n",
    "df.replace(30,10,inplace=True)\n",
    "print(df)"
   ]
  },
  {
   "cell_type": "code",
   "execution_count": null,
   "id": "05ec079e",
   "metadata": {},
   "outputs": [
    {
     "name": "stdout",
     "output_type": "stream",
     "text": [
      "      Name  Age  Salary\n",
      "0    Alice   20   50000\n",
      "1      Bob   30   60000\n",
      "2  Charlie   35   70000\n",
      "3    Alice   25   50000\n",
      "4      bob   30   75000\n",
      "      Name   Age   Salary\n",
      "1      Bob  30.0  60000.0\n",
      "2  Charlie  35.0  70000.0\n",
      "4      bob  30.0  75000.0\n"
     ]
    }
   ],
   "source": [
    "import pandas as pd\n",
    "data = {\n",
    "    \t'Name': ['Alice', 'Bob', 'Charlie', 'Alice', 'bob'],\n",
    "    \t'Age': [20, 30, 35, 25, 30],\n",
    "    \t'Salary': [50000, 60000, 70000, 50000, 75000]\n",
    "} \n",
    "df = pd.DataFrame(data)\n",
    "print(df)\n",
    "mask_df= df.mask(df['Age'] < 28,other='A')\n",
    "print(mask_df)\n"
   ]
  },
  {
   "cell_type": "code",
   "execution_count": 6,
   "id": "2dae2657",
   "metadata": {},
   "outputs": [
    {
     "name": "stdout",
     "output_type": "stream",
     "text": [
      "      Name   Age   Salary\n",
      "0    Alice  25.0  50000.0\n",
      "1      Bob  30.0  60000.0\n",
      "2  Charlie   0.0      NaN\n",
      "      Name   Age      Salary\n",
      "0    Alice  25.0  50000.0000\n",
      "1      Bob  30.0  60000.0000\n",
      "2  Charlie   0.0      0.0001\n"
     ]
    },
    {
     "name": "stderr",
     "output_type": "stream",
     "text": [
      "C:\\Users\\hello\\AppData\\Local\\Temp\\ipykernel_4696\\1350509830.py:9: FutureWarning: A value is trying to be set on a copy of a DataFrame or Series through chained assignment using an inplace method.\n",
      "The behavior will change in pandas 3.0. This inplace method will never work because the intermediate object on which we are setting values always behaves as a copy.\n",
      "\n",
      "For example, when doing 'df[col].method(value, inplace=True)', try using 'df.method({col: value}, inplace=True)' or df[col] = df[col].method(value) instead, to perform the operation inplace on the original object.\n",
      "\n",
      "\n",
      "  df['Age'].fillna(0,inplace=True)\n"
     ]
    }
   ],
   "source": [
    "import pandas as pd\n",
    "import numpy as np\n",
    "data = {\n",
    "    \t'Name': ['Alice', 'Bob', 'Charlie'],\n",
    " \t 'Age': [25, 30, np.nan],\n",
    "\t 'Salary': [50000, 60000,np.nan]\n",
    "\t}\n",
    "df = pd.DataFrame(data)\n",
    "df['Age'].fillna(0,inplace=True)\n",
    "print(df)\n",
    "df.fillna(0.0001,inplace=True)\n",
    "print(df)"
   ]
  },
  {
   "cell_type": "code",
   "execution_count": 12,
   "id": "e2209714",
   "metadata": {},
   "outputs": [
    {
     "name": "stdout",
     "output_type": "stream",
     "text": [
      "      Name   Age   Salary\n",
      "0    Alice  25.0  50000.0\n",
      "1      Bob  30.0      NaN\n",
      "2  Charlie   NaN  75000.0\n",
      "    Name   Age   Salary\n",
      "0  Alice  25.0  50000.0\n"
     ]
    }
   ],
   "source": [
    "import pandas as pd\n",
    "import numpy as np\n",
    "data = {\n",
    "    \t'Name': ['Alice', 'Bob', 'Charlie'],\n",
    " \t 'Age': [25, 30, np.nan],\n",
    "\t 'Salary': [50000, np.nan, 75000]\n",
    "\t}\n",
    "df = pd.DataFrame(data)\n",
    "print(df)\n",
    "df.dropna(axis=0,inplace=True)\n",
    "print(df)"
   ]
  },
  {
   "cell_type": "code",
   "execution_count": 28,
   "id": "0fd9156b",
   "metadata": {},
   "outputs": [
    {
     "name": "stdout",
     "output_type": "stream",
     "text": [
      "      Name  Age  Salary         City\n",
      "0    Alice   25   50000     New York\n",
      "1      Bob   30   60000      Chicago\n",
      "2  Charlie   35   75000  Los Angeles\n",
      "         Age  Salary         City\n",
      "Name                             \n",
      "Alice     25   50000     New York\n",
      "Bob       30   60000      Chicago\n",
      "Charlie   35   75000  Los Angeles\n",
      "Empty DataFrame\n",
      "Columns: [Age, Salary, City]\n",
      "Index: []\n"
     ]
    }
   ],
   "source": [
    "import pandas as pd\n",
    "data = {\n",
    "    \t'Name': ['Alice', 'Bob', 'Charlie'],\n",
    " \t'Age': [25, 30, 35],\n",
    "\t'Salary': [50000, 60000, 75000],\n",
    "  \t'City': ['New York', 'Chicago', 'Los Angeles']\t\n",
    "\t}\n",
    "df = pd.DataFrame(data)\n",
    "print(df)\n",
    "df=df.set_index('Name')\n",
    "print(df)\n",
    "df1=df.truncate(after='Age',axis=0)\n",
    "print(df1)"
   ]
  },
  {
   "cell_type": "code",
   "execution_count": 32,
   "id": "1e966b93",
   "metadata": {},
   "outputs": [
    {
     "name": "stdout",
     "output_type": "stream",
     "text": [
      "Name      object\n",
      "Age        int64\n",
      "Salary     int64\n",
      "City      object\n",
      "dtype: object\n",
      "Name      string[python]\n",
      "Age                Int64\n",
      "Salary             Int64\n",
      "City      string[python]\n",
      "dtype: object\n"
     ]
    }
   ],
   "source": [
    "import pandas as pd\n",
    "data = {\n",
    "    \t'Name': ['Alice', 'Bob', 'Charlie'],\n",
    " \t'Age': [25, 30, 35],\n",
    "\t'Salary': [50000, 60000, 75000],\n",
    "  \t'City': ['New York', 'Chicago', 'Los Angeles']\t\n",
    "\t}\n",
    "df = pd.DataFrame(data)\n",
    "print(df.dtypes)\n",
    "print(df.convert_dtypes().dtypes)"
   ]
  },
  {
   "cell_type": "code",
   "execution_count": 42,
   "id": "a8804a78",
   "metadata": {},
   "outputs": [
    {
     "name": "stdout",
     "output_type": "stream",
     "text": [
      "      Name   Age  Salary\n",
      "0    Alice  25.0   50000\n",
      "1      Bob  30.0   60000\n",
      "2  Charlie  35.0   70000\n",
      "3    Alice  25.0   60000\n",
      "4      Bob   NaN   70000\n",
      "      Name   Age  Salary\n",
      "4      Bob   NaN   70000\n",
      "0    Alice  25.0   50000\n",
      "3    Alice  25.0   60000\n",
      "1      Bob  30.0   60000\n",
      "2  Charlie  35.0   70000\n"
     ]
    }
   ],
   "source": [
    "import pandas as pd\n",
    "import numpy as np\n",
    "data = {\n",
    "   \t'Name': ['Alice', 'Bob', 'Charlie', 'Alice', 'Bob'],\n",
    "    \t'Age': [25, 30, 35, 25, np.nan],\n",
    "    \t'Salary': [50000, 60000, 70000, 60000, 70000]\n",
    "\t} \n",
    "df = pd.DataFrame(data)\n",
    "print(df)\n",
    "# print(df.sort_values('Age'))\n",
    "multiple_sort = df.sort_values(['Age','Salary'],na_position='first')\n",
    "print(multiple_sort)"
   ]
  },
  {
   "cell_type": "code",
   "execution_count": 45,
   "id": "c9f78841",
   "metadata": {},
   "outputs": [
    {
     "name": "stdout",
     "output_type": "stream",
     "text": [
      "      Name  Age  Salary\n",
      "0    Alice   25   50000\n",
      "1      Bob   30   60000\n",
      "2  Charlie   35   70000\n",
      "3    Alice   25   60000\n",
      "4      Bob   30   70000\n",
      "   Age     Name  Salary\n",
      "0   25    Alice   50000\n",
      "1   30      Bob   60000\n",
      "2   35  Charlie   70000\n",
      "3   25    Alice   60000\n",
      "4   30      Bob   70000\n",
      "         Age  Salary\n",
      "Name                \n",
      "Alice     25   50000\n",
      "Alice     25   60000\n",
      "Bob       30   60000\n",
      "Bob       30   70000\n",
      "Charlie   35   70000\n"
     ]
    }
   ],
   "source": [
    "import pandas as pd\n",
    "data = {\n",
    "    \t'Name': ['Alice', 'Bob', 'Charlie', 'Alice', 'Bob'],\n",
    "    \t'Age': [25, 30, 35, 25, 30],\n",
    "    \t'Salary': [50000, 60000, 70000, 60000, 70000]\n",
    "\t} \n",
    "df = pd.DataFrame(data)\n",
    "print(df)\n",
    "df.sort_index(axis=1,inplace=True)\n",
    "print(df)\n",
    "df.set_index('Name',inplace=True)\n",
    "df.sort_index(axis=0,inplace=True)\n",
    "print(df)"
   ]
  },
  {
   "cell_type": "code",
   "execution_count": null,
   "id": "320289b8",
   "metadata": {},
   "outputs": [],
   "source": []
  },
  {
   "cell_type": "code",
   "execution_count": null,
   "id": "3281cd8e",
   "metadata": {},
   "outputs": [],
   "source": []
  },
  {
   "cell_type": "code",
   "execution_count": null,
   "id": "375d3bac",
   "metadata": {},
   "outputs": [],
   "source": []
  },
  {
   "cell_type": "code",
   "execution_count": null,
   "id": "3e75583a",
   "metadata": {},
   "outputs": [],
   "source": []
  }
 ],
 "metadata": {
  "kernelspec": {
   "display_name": "Python 3",
   "language": "python",
   "name": "python3"
  },
  "language_info": {
   "codemirror_mode": {
    "name": "ipython",
    "version": 3
   },
   "file_extension": ".py",
   "mimetype": "text/x-python",
   "name": "python",
   "nbconvert_exporter": "python",
   "pygments_lexer": "ipython3",
   "version": "3.13.3"
  }
 },
 "nbformat": 4,
 "nbformat_minor": 5
}

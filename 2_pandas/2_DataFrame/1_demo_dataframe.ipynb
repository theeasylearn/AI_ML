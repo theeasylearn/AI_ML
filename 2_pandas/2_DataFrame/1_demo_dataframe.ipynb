{
 "cells": [
  {
   "cell_type": "code",
   "execution_count": 3,
   "id": "c1699237",
   "metadata": {},
   "outputs": [
    {
     "name": "stdout",
     "output_type": "stream",
     "text": [
      "Sample DataFrame:\n",
      "      Name  Age  Salary\n",
      "0    Alice   25   50000\n",
      "1      Bob   30   60000\n",
      "2  Charlie   35   75000\n"
     ]
    },
    {
     "data": {
      "application/vnd.microsoft.datawrangler.viewer.v0+json": {
       "columns": [
        {
         "name": "index",
         "rawType": "int64",
         "type": "integer"
        },
        {
         "name": "Name",
         "rawType": "object",
         "type": "string"
        },
        {
         "name": "Age",
         "rawType": "int64",
         "type": "integer"
        },
        {
         "name": "Salary",
         "rawType": "int64",
         "type": "integer"
        }
       ],
       "ref": "126fd129-dd88-4d13-b881-8fcb2746ab6d",
       "rows": [
        [
         "0",
         "Alice",
         "25",
         "50000"
        ],
        [
         "1",
         "Bob",
         "30",
         "60000"
        ],
        [
         "2",
         "Charlie",
         "35",
         "75000"
        ]
       ],
       "shape": {
        "columns": 3,
        "rows": 3
       }
      },
      "text/html": [
       "<div>\n",
       "<style scoped>\n",
       "    .dataframe tbody tr th:only-of-type {\n",
       "        vertical-align: middle;\n",
       "    }\n",
       "\n",
       "    .dataframe tbody tr th {\n",
       "        vertical-align: top;\n",
       "    }\n",
       "\n",
       "    .dataframe thead th {\n",
       "        text-align: right;\n",
       "    }\n",
       "</style>\n",
       "<table border=\"1\" class=\"dataframe\">\n",
       "  <thead>\n",
       "    <tr style=\"text-align: right;\">\n",
       "      <th></th>\n",
       "      <th>Name</th>\n",
       "      <th>Age</th>\n",
       "      <th>Salary</th>\n",
       "    </tr>\n",
       "  </thead>\n",
       "  <tbody>\n",
       "    <tr>\n",
       "      <th>0</th>\n",
       "      <td>Alice</td>\n",
       "      <td>25</td>\n",
       "      <td>50000</td>\n",
       "    </tr>\n",
       "    <tr>\n",
       "      <th>1</th>\n",
       "      <td>Bob</td>\n",
       "      <td>30</td>\n",
       "      <td>60000</td>\n",
       "    </tr>\n",
       "    <tr>\n",
       "      <th>2</th>\n",
       "      <td>Charlie</td>\n",
       "      <td>35</td>\n",
       "      <td>75000</td>\n",
       "    </tr>\n",
       "  </tbody>\n",
       "</table>\n",
       "</div>"
      ],
      "text/plain": [
       "      Name  Age  Salary\n",
       "0    Alice   25   50000\n",
       "1      Bob   30   60000\n",
       "2  Charlie   35   75000"
      ]
     },
     "execution_count": 3,
     "metadata": {},
     "output_type": "execute_result"
    }
   ],
   "source": [
    "import pandas as pd\n",
    "data = {\n",
    "    \t'Name': ['Alice', 'Bob', 'Charlie'],\n",
    "   \t    'Age': [25, 30, 35],\n",
    "\t    'Salary': [50000, 60000, 75000]\n",
    "\t    }\n",
    "df1 = pd.DataFrame(data)\n",
    "print(\"Sample DataFrame:\")\n",
    "print(df1)\n",
    "df1\n"
   ]
  },
  {
   "cell_type": "code",
   "execution_count": 2,
   "id": "42cfa680",
   "metadata": {},
   "outputs": [
    {
     "data": {
      "application/vnd.microsoft.datawrangler.viewer.v0+json": {
       "columns": [
        {
         "name": "index",
         "rawType": "int64",
         "type": "integer"
        },
        {
         "name": "Rank",
         "rawType": "int64",
         "type": "integer"
        },
        {
         "name": "Name",
         "rawType": "object",
         "type": "string"
        },
        {
         "name": "Platform",
         "rawType": "object",
         "type": "string"
        },
        {
         "name": "Year",
         "rawType": "int64",
         "type": "integer"
        },
        {
         "name": "Genre",
         "rawType": "object",
         "type": "string"
        },
        {
         "name": "Publisher",
         "rawType": "object",
         "type": "string"
        },
        {
         "name": "NA_Sales",
         "rawType": "float64",
         "type": "float"
        },
        {
         "name": "EU_Sales",
         "rawType": "float64",
         "type": "float"
        },
        {
         "name": "JP_Sales",
         "rawType": "float64",
         "type": "float"
        },
        {
         "name": "Other_Sales",
         "rawType": "float64",
         "type": "float"
        },
        {
         "name": "Global_Sales",
         "rawType": "float64",
         "type": "float"
        }
       ],
       "ref": "fa989e90-e8f2-471a-b93d-f4c29432abf0",
       "rows": [
        [
         "0",
         "259",
         "Asteroids",
         "2600",
         "1980",
         "Shooter",
         "Atari",
         "4.0",
         "0.26",
         "0.0",
         "0.05",
         "4.31"
        ],
        [
         "1",
         "545",
         "Missile Command",
         "2600",
         "1980",
         "Shooter",
         "Atari",
         "2.56",
         "0.17",
         "0.0",
         "0.03",
         "2.76"
        ],
        [
         "2",
         "1768",
         "Kaboom!",
         "2600",
         "1980",
         "Misc",
         "Activision",
         "1.07",
         "0.07",
         "0.0",
         "0.01",
         "1.15"
        ],
        [
         "3",
         "1971",
         "Defender",
         "2600",
         "1980",
         "Misc",
         "Atari",
         "0.99",
         "0.05",
         "0.0",
         "0.01",
         "1.05"
        ],
        [
         "4",
         "2671",
         "Boxing",
         "2600",
         "1980",
         "Fighting",
         "Activision",
         "0.72",
         "0.04",
         "0.0",
         "0.01",
         "0.77"
        ]
       ],
       "shape": {
        "columns": 11,
        "rows": 5
       }
      },
      "text/html": [
       "<div>\n",
       "<style scoped>\n",
       "    .dataframe tbody tr th:only-of-type {\n",
       "        vertical-align: middle;\n",
       "    }\n",
       "\n",
       "    .dataframe tbody tr th {\n",
       "        vertical-align: top;\n",
       "    }\n",
       "\n",
       "    .dataframe thead th {\n",
       "        text-align: right;\n",
       "    }\n",
       "</style>\n",
       "<table border=\"1\" class=\"dataframe\">\n",
       "  <thead>\n",
       "    <tr style=\"text-align: right;\">\n",
       "      <th></th>\n",
       "      <th>Rank</th>\n",
       "      <th>Name</th>\n",
       "      <th>Platform</th>\n",
       "      <th>Year</th>\n",
       "      <th>Genre</th>\n",
       "      <th>Publisher</th>\n",
       "      <th>NA_Sales</th>\n",
       "      <th>EU_Sales</th>\n",
       "      <th>JP_Sales</th>\n",
       "      <th>Other_Sales</th>\n",
       "      <th>Global_Sales</th>\n",
       "    </tr>\n",
       "  </thead>\n",
       "  <tbody>\n",
       "    <tr>\n",
       "      <th>0</th>\n",
       "      <td>259</td>\n",
       "      <td>Asteroids</td>\n",
       "      <td>2600</td>\n",
       "      <td>1980</td>\n",
       "      <td>Shooter</td>\n",
       "      <td>Atari</td>\n",
       "      <td>4.00</td>\n",
       "      <td>0.26</td>\n",
       "      <td>0.0</td>\n",
       "      <td>0.05</td>\n",
       "      <td>4.31</td>\n",
       "    </tr>\n",
       "    <tr>\n",
       "      <th>1</th>\n",
       "      <td>545</td>\n",
       "      <td>Missile Command</td>\n",
       "      <td>2600</td>\n",
       "      <td>1980</td>\n",
       "      <td>Shooter</td>\n",
       "      <td>Atari</td>\n",
       "      <td>2.56</td>\n",
       "      <td>0.17</td>\n",
       "      <td>0.0</td>\n",
       "      <td>0.03</td>\n",
       "      <td>2.76</td>\n",
       "    </tr>\n",
       "    <tr>\n",
       "      <th>2</th>\n",
       "      <td>1768</td>\n",
       "      <td>Kaboom!</td>\n",
       "      <td>2600</td>\n",
       "      <td>1980</td>\n",
       "      <td>Misc</td>\n",
       "      <td>Activision</td>\n",
       "      <td>1.07</td>\n",
       "      <td>0.07</td>\n",
       "      <td>0.0</td>\n",
       "      <td>0.01</td>\n",
       "      <td>1.15</td>\n",
       "    </tr>\n",
       "    <tr>\n",
       "      <th>3</th>\n",
       "      <td>1971</td>\n",
       "      <td>Defender</td>\n",
       "      <td>2600</td>\n",
       "      <td>1980</td>\n",
       "      <td>Misc</td>\n",
       "      <td>Atari</td>\n",
       "      <td>0.99</td>\n",
       "      <td>0.05</td>\n",
       "      <td>0.0</td>\n",
       "      <td>0.01</td>\n",
       "      <td>1.05</td>\n",
       "    </tr>\n",
       "    <tr>\n",
       "      <th>4</th>\n",
       "      <td>2671</td>\n",
       "      <td>Boxing</td>\n",
       "      <td>2600</td>\n",
       "      <td>1980</td>\n",
       "      <td>Fighting</td>\n",
       "      <td>Activision</td>\n",
       "      <td>0.72</td>\n",
       "      <td>0.04</td>\n",
       "      <td>0.0</td>\n",
       "      <td>0.01</td>\n",
       "      <td>0.77</td>\n",
       "    </tr>\n",
       "  </tbody>\n",
       "</table>\n",
       "</div>"
      ],
      "text/plain": [
       "   Rank             Name Platform  Year     Genre   Publisher  NA_Sales  \\\n",
       "0   259        Asteroids     2600  1980   Shooter       Atari      4.00   \n",
       "1   545  Missile Command     2600  1980   Shooter       Atari      2.56   \n",
       "2  1768          Kaboom!     2600  1980      Misc  Activision      1.07   \n",
       "3  1971         Defender     2600  1980      Misc       Atari      0.99   \n",
       "4  2671           Boxing     2600  1980  Fighting  Activision      0.72   \n",
       "\n",
       "   EU_Sales  JP_Sales  Other_Sales  Global_Sales  \n",
       "0      0.26       0.0         0.05          4.31  \n",
       "1      0.17       0.0         0.03          2.76  \n",
       "2      0.07       0.0         0.01          1.15  \n",
       "3      0.05       0.0         0.01          1.05  \n",
       "4      0.04       0.0         0.01          0.77  "
      ]
     },
     "execution_count": 2,
     "metadata": {},
     "output_type": "execute_result"
    }
   ],
   "source": [
    "import pandas as pd\n",
    "df = pd.read_csv('../../dataset/vgsales.csv')\n",
    "df.head()"
   ]
  },
  {
   "cell_type": "code",
   "execution_count": 5,
   "id": "be40b65b",
   "metadata": {},
   "outputs": [
    {
     "data": {
      "application/vnd.microsoft.datawrangler.viewer.v0+json": {
       "columns": [
        {
         "name": "(None, None, None, None, None)",
         "rawType": "object",
         "type": "unknown"
        },
        {
         "name": "a",
         "rawType": "object",
         "type": "string"
        },
        {
         "name": "b",
         "rawType": "object",
         "type": "string"
        },
        {
         "name": "c",
         "rawType": "object",
         "type": "string"
        },
        {
         "name": "d",
         "rawType": "object",
         "type": "string"
        },
        {
         "name": "e",
         "rawType": "object",
         "type": "string"
        },
        {
         "name": "f",
         "rawType": "object",
         "type": "string"
        }
       ],
       "ref": "b9f9192c-d149-4fdc-832a-ea100e75c880",
       "rows": [
        [
         "('Rank', 'Name', 'Platform', 'Year', 'Genre')",
         "Publisher",
         "NA_Sales",
         "EU_Sales",
         "JP_Sales",
         "Other_Sales",
         "Global_Sales"
        ],
        [
         "('259', 'Asteroids', '2600', '1980', 'Shooter')",
         "Atari",
         "4",
         "0.26",
         "0",
         "0.05",
         "4.31"
        ],
        [
         "('545', 'Missile Command', '2600', '1980', 'Shooter')",
         "Atari",
         "2.56",
         "0.17",
         "0",
         "0.03",
         "2.76"
        ],
        [
         "('1768', 'Kaboom!', '2600', '1980', 'Misc')",
         "Activision",
         "1.07",
         "0.07",
         "0",
         "0.01",
         "1.15"
        ],
        [
         "('1971', 'Defender', '2600', '1980', 'Misc')",
         "Atari",
         "0.99",
         "0.05",
         "0",
         "0.01",
         "1.05"
        ]
       ],
       "shape": {
        "columns": 6,
        "rows": 5
       }
      },
      "text/html": [
       "<div>\n",
       "<style scoped>\n",
       "    .dataframe tbody tr th:only-of-type {\n",
       "        vertical-align: middle;\n",
       "    }\n",
       "\n",
       "    .dataframe tbody tr th {\n",
       "        vertical-align: top;\n",
       "    }\n",
       "\n",
       "    .dataframe thead th {\n",
       "        text-align: right;\n",
       "    }\n",
       "</style>\n",
       "<table border=\"1\" class=\"dataframe\">\n",
       "  <thead>\n",
       "    <tr style=\"text-align: right;\">\n",
       "      <th></th>\n",
       "      <th></th>\n",
       "      <th></th>\n",
       "      <th></th>\n",
       "      <th></th>\n",
       "      <th>a</th>\n",
       "      <th>b</th>\n",
       "      <th>c</th>\n",
       "      <th>d</th>\n",
       "      <th>e</th>\n",
       "      <th>f</th>\n",
       "    </tr>\n",
       "  </thead>\n",
       "  <tbody>\n",
       "    <tr>\n",
       "      <th>Rank</th>\n",
       "      <th>Name</th>\n",
       "      <th>Platform</th>\n",
       "      <th>Year</th>\n",
       "      <th>Genre</th>\n",
       "      <td>Publisher</td>\n",
       "      <td>NA_Sales</td>\n",
       "      <td>EU_Sales</td>\n",
       "      <td>JP_Sales</td>\n",
       "      <td>Other_Sales</td>\n",
       "      <td>Global_Sales</td>\n",
       "    </tr>\n",
       "    <tr>\n",
       "      <th>259</th>\n",
       "      <th>Asteroids</th>\n",
       "      <th>2600</th>\n",
       "      <th>1980</th>\n",
       "      <th>Shooter</th>\n",
       "      <td>Atari</td>\n",
       "      <td>4</td>\n",
       "      <td>0.26</td>\n",
       "      <td>0</td>\n",
       "      <td>0.05</td>\n",
       "      <td>4.31</td>\n",
       "    </tr>\n",
       "    <tr>\n",
       "      <th>545</th>\n",
       "      <th>Missile Command</th>\n",
       "      <th>2600</th>\n",
       "      <th>1980</th>\n",
       "      <th>Shooter</th>\n",
       "      <td>Atari</td>\n",
       "      <td>2.56</td>\n",
       "      <td>0.17</td>\n",
       "      <td>0</td>\n",
       "      <td>0.03</td>\n",
       "      <td>2.76</td>\n",
       "    </tr>\n",
       "    <tr>\n",
       "      <th>1768</th>\n",
       "      <th>Kaboom!</th>\n",
       "      <th>2600</th>\n",
       "      <th>1980</th>\n",
       "      <th>Misc</th>\n",
       "      <td>Activision</td>\n",
       "      <td>1.07</td>\n",
       "      <td>0.07</td>\n",
       "      <td>0</td>\n",
       "      <td>0.01</td>\n",
       "      <td>1.15</td>\n",
       "    </tr>\n",
       "    <tr>\n",
       "      <th>1971</th>\n",
       "      <th>Defender</th>\n",
       "      <th>2600</th>\n",
       "      <th>1980</th>\n",
       "      <th>Misc</th>\n",
       "      <td>Atari</td>\n",
       "      <td>0.99</td>\n",
       "      <td>0.05</td>\n",
       "      <td>0</td>\n",
       "      <td>0.01</td>\n",
       "      <td>1.05</td>\n",
       "    </tr>\n",
       "  </tbody>\n",
       "</table>\n",
       "</div>"
      ],
      "text/plain": [
       "                                                     a         b         c  \\\n",
       "Rank Name            Platform Year Genre     Publisher  NA_Sales  EU_Sales   \n",
       "259  Asteroids       2600     1980 Shooter       Atari         4      0.26   \n",
       "545  Missile Command 2600     1980 Shooter       Atari      2.56      0.17   \n",
       "1768 Kaboom!         2600     1980 Misc     Activision      1.07      0.07   \n",
       "1971 Defender        2600     1980 Misc          Atari      0.99      0.05   \n",
       "\n",
       "                                                   d            e  \\\n",
       "Rank Name            Platform Year Genre    JP_Sales  Other_Sales   \n",
       "259  Asteroids       2600     1980 Shooter         0         0.05   \n",
       "545  Missile Command 2600     1980 Shooter         0         0.03   \n",
       "1768 Kaboom!         2600     1980 Misc            0         0.01   \n",
       "1971 Defender        2600     1980 Misc            0         0.01   \n",
       "\n",
       "                                                       f  \n",
       "Rank Name            Platform Year Genre    Global_Sales  \n",
       "259  Asteroids       2600     1980 Shooter          4.31  \n",
       "545  Missile Command 2600     1980 Shooter          2.76  \n",
       "1768 Kaboom!         2600     1980 Misc             1.15  \n",
       "1971 Defender        2600     1980 Misc             1.05  "
      ]
     },
     "execution_count": 5,
     "metadata": {},
     "output_type": "execute_result"
    }
   ],
   "source": [
    "df = pd.read_csv('../../dataset/vgsales.csv',header=None,names=['a','b','c','d','e','f'])\n",
    "df.head()"
   ]
  },
  {
   "cell_type": "code",
   "execution_count": 9,
   "id": "b80014fe",
   "metadata": {},
   "outputs": [
    {
     "name": "stdout",
     "output_type": "stream",
     "text": [
      "                     Platform  Year     Genre   Publisher  NA_Sales  EU_Sales  \\\n",
      "Rank Name                                                                       \n",
      "259  Asteroids           2600  1980   Shooter       Atari      4.00      0.26   \n",
      "545  Missile Command     2600  1980   Shooter       Atari      2.56      0.17   \n",
      "1768 Kaboom!             2600  1980      Misc  Activision      1.07      0.07   \n",
      "1971 Defender            2600  1980      Misc       Atari      0.99      0.05   \n",
      "2671 Boxing              2600  1980  Fighting  Activision      0.72      0.04   \n",
      "\n",
      "                      JP_Sales  Other_Sales  Global_Sales  \n",
      "Rank Name                                                  \n",
      "259  Asteroids             0.0         0.05          4.31  \n",
      "545  Missile Command       0.0         0.03          2.76  \n",
      "1768 Kaboom!               0.0         0.01          1.15  \n",
      "1971 Defender              0.0         0.01          1.05  \n",
      "2671 Boxing                0.0         0.01          0.77  \n"
     ]
    }
   ],
   "source": [
    "df = pd.read_csv('../../dataset/vgsales.csv',index_col=['Rank','Name'])\n",
    "print(df.head())"
   ]
  },
  {
   "cell_type": "code",
   "execution_count": 13,
   "id": "210282b6",
   "metadata": {},
   "outputs": [
    {
     "name": "stdout",
     "output_type": "stream",
     "text": [
      "                 Name  JP_Sales  Other_Sales  Global_Sales\n",
      "Rank                                                      \n",
      "259         Asteroids       0.0         0.05          4.31\n",
      "545   Missile Command       0.0         0.03          2.76\n",
      "1768          Kaboom!       0.0         0.01          1.15\n",
      "1971         Defender       0.0         0.01          1.05\n",
      "2671           Boxing       0.0         0.01          0.77\n"
     ]
    }
   ],
   "source": [
    "df = pd.read_csv('../../dataset/vgsales.csv', index_col='Rank', usecols=['Rank','Name','Global_Sales','Other_Sales','JP_Sales'])\n",
    "print(df.head())"
   ]
  }
 ],
 "metadata": {
  "kernelspec": {
   "display_name": "Python 3",
   "language": "python",
   "name": "python3"
  },
  "language_info": {
   "codemirror_mode": {
    "name": "ipython",
    "version": 3
   },
   "file_extension": ".py",
   "mimetype": "text/x-python",
   "name": "python",
   "nbconvert_exporter": "python",
   "pygments_lexer": "ipython3",
   "version": "3.13.3"
  }
 },
 "nbformat": 4,
 "nbformat_minor": 5
}

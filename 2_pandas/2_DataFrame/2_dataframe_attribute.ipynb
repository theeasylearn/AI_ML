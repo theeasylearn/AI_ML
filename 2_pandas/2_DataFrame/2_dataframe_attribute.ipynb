{
 "cells": [
  {
   "cell_type": "code",
   "execution_count": null,
   "id": "6a58ffd9",
   "metadata": {},
   "outputs": [
    {
     "name": "stdout",
     "output_type": "stream",
     "text": [
      "RangeIndex(start=0, stop=3, step=1)\n"
     ]
    }
   ],
   "source": [
    "import pandas as pd\n",
    "data = {\n",
    "    \t'Name': ['Alice', 'Bob', 'Charlie'],\n",
    "   \t    'Age': [25, 30, 35],\n",
    "\t    'Salary': [50000, 60000, 75000]\n",
    "\t}\n",
    "df = pd.DataFrame(data)\n",
    "print(df.index)"
   ]
  },
  {
   "cell_type": "code",
   "execution_count": 4,
   "id": "1046010c",
   "metadata": {},
   "outputs": [
    {
     "name": "stdout",
     "output_type": "stream",
     "text": [
      "[['Alice' 25 50000]\n",
      " ['Bob' 30 60000]\n",
      " ['Charlie' 35 75000]]\n"
     ]
    }
   ],
   "source": [
    "import pandas as pd\n",
    "data = {\n",
    "    \t'Name': ['Alice', 'Bob', 'Charlie'],\n",
    "   \t    'Age': [25, 30, 35],\n",
    "\t    'Salary': [50000, 60000, 75000]\n",
    "\t}\n",
    "df = pd.DataFrame(data)\n",
    "print(df.values)"
   ]
  },
  {
   "cell_type": "code",
   "execution_count": 5,
   "id": "810f769e",
   "metadata": {},
   "outputs": [
    {
     "name": "stdout",
     "output_type": "stream",
     "text": [
      "Name      object\n",
      "Age        int64\n",
      "Salary     int64\n",
      "dtype: object\n"
     ]
    }
   ],
   "source": [
    "import pandas as pd\n",
    "data = {\n",
    "    \t'Name': ['Alice', 'Bob', 'Charlie'],\n",
    "   \t    'Age': [25, 30, 35],\n",
    "\t    'Salary': [50000, 60000, 75000]\n",
    "\t}\n",
    "df = pd.DataFrame(data)\n",
    "print(df.dtypes)"
   ]
  },
  {
   "cell_type": "code",
   "execution_count": 6,
   "id": "23686cb0",
   "metadata": {},
   "outputs": [
    {
     "name": "stdout",
     "output_type": "stream",
     "text": [
      "Index(['Name', 'Age', 'Salary'], dtype='object')\n"
     ]
    }
   ],
   "source": [
    "import pandas as pd\n",
    "data = {\n",
    "    \t'Name': ['Alice', 'Bob', 'Charlie'],\n",
    "   \t    'Age': [25, 30, 35],\n",
    "\t    'Salary': [50000, 60000, 75000]\n",
    "\t}\n",
    "df = pd.DataFrame(data)\n",
    "print(df.columns)"
   ]
  },
  {
   "cell_type": "code",
   "execution_count": 7,
   "id": "40fb00f1",
   "metadata": {},
   "outputs": [
    {
     "name": "stdout",
     "output_type": "stream",
     "text": [
      "2\n"
     ]
    }
   ],
   "source": [
    "import pandas as pd\n",
    "data = {\n",
    "    \t'Name': ['Alice', 'Bob', 'Charlie'],\n",
    "   \t    'Age': [25, 30, 35],\n",
    "\t    'Salary': [50000, 60000, 75000]\n",
    "\t}\n",
    "df = pd.DataFrame(data)\n",
    "print(df.ndim)"
   ]
  },
  {
   "cell_type": "code",
   "execution_count": 8,
   "id": "22fa205b",
   "metadata": {},
   "outputs": [
    {
     "name": "stdout",
     "output_type": "stream",
     "text": [
      "(3, 3)\n"
     ]
    }
   ],
   "source": [
    "import pandas as pd\n",
    "data = {\n",
    "    \t'Name': ['Alice', 'Bob', 'Charlie'],\n",
    "   \t    'Age': [25, 30, 35],\n",
    "\t    'Salary': [50000, 60000, 75000]\n",
    "\t}\n",
    "df = pd.DataFrame(data)\n",
    "print(df.shape)"
   ]
  },
  {
   "cell_type": "code",
   "execution_count": 9,
   "id": "a4ad8a12",
   "metadata": {},
   "outputs": [
    {
     "name": "stdout",
     "output_type": "stream",
     "text": [
      "            0      1        2\n",
      "Name    Alice    Bob  Charlie\n",
      "Age        25     30       35\n",
      "Salary  50000  60000    75000\n"
     ]
    }
   ],
   "source": [
    "import pandas as pd\n",
    "data = {\n",
    "    \t'Name': ['Alice', 'Bob', 'Charlie'],\n",
    "   \t    'Age': [25, 30, 35],\n",
    "\t    'Salary': [50000, 60000, 75000]\n",
    "\t}\n",
    "df = pd.DataFrame(data)\n",
    "print(df.T)"
   ]
  },
  {
   "cell_type": "code",
   "execution_count": 10,
   "id": "f42cae16",
   "metadata": {},
   "outputs": [
    {
     "name": "stdout",
     "output_type": "stream",
     "text": [
      "9\n"
     ]
    }
   ],
   "source": [
    "import pandas as pd\n",
    "data = {\n",
    "    \t'Name': ['Alice', 'Bob', 'Charlie'],\n",
    "   \t    'Age': [25, 30, 35],\n",
    "\t    'Salary': [50000, 60000, 75000]\n",
    "\t}\n",
    "df = pd.DataFrame(data)\n",
    "print(df.size)"
   ]
  },
  {
   "cell_type": "code",
   "execution_count": 12,
   "id": "f045f2f4",
   "metadata": {},
   "outputs": [
    {
     "name": "stdout",
     "output_type": "stream",
     "text": [
      "False\n",
      "True\n"
     ]
    }
   ],
   "source": [
    "import pandas as pd\n",
    "data = {\n",
    "    \t'Name': ['Alice', 'Bob', 'Charlie'],\n",
    "   \t    'Age': [25, 30, 35],\n",
    "\t    'Salary': [50000, 60000, 75000]\n",
    "\t}\n",
    "df = pd.DataFrame(data)\n",
    "print(df.empty)\n",
    "edf = pd.DataFrame()\n",
    "print(edf.empty)"
   ]
  },
  {
   "cell_type": "code",
   "execution_count": 13,
   "id": "4d9857aa",
   "metadata": {},
   "outputs": [
    {
     "name": "stdout",
     "output_type": "stream",
     "text": [
      "[RangeIndex(start=0, stop=3, step=1), Index(['Name', 'Age', 'Salary'], dtype='object')]\n"
     ]
    }
   ],
   "source": [
    "import pandas as pd\n",
    "data = {\n",
    "    \t'Name': ['Alice', 'Bob', 'Charlie'],\n",
    "   \t    'Age': [25, 30, 35],\n",
    "\t    'Salary': [50000, 60000, 75000]\n",
    "\t}\n",
    "df = pd.DataFrame(data)\n",
    "print(df.axes)"
   ]
  }
 ],
 "metadata": {
  "kernelspec": {
   "display_name": "Python 3",
   "language": "python",
   "name": "python3"
  },
  "language_info": {
   "codemirror_mode": {
    "name": "ipython",
    "version": 3
   },
   "file_extension": ".py",
   "mimetype": "text/x-python",
   "name": "python",
   "nbconvert_exporter": "python",
   "pygments_lexer": "ipython3",
   "version": "3.13.3"
  }
 },
 "nbformat": 4,
 "nbformat_minor": 5
}
